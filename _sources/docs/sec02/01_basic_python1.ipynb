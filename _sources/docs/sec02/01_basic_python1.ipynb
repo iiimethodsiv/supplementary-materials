{
 "cells": [
  {
   "attachments": {},
   "cell_type": "markdown",
   "metadata": {
    "id": "SrEVN-Wi1jzh"
   },
   "source": [
    "# 変数・算術演算"
   ]
  },
  {
   "attachments": {},
   "cell_type": "markdown",
   "metadata": {
    "id": "JrmZnGOd1jzl"
   },
   "source": [
    "## 変数\n",
    "\n",
    "変数（variable）はデータを格納する名前がついた入れ物です。\n",
    "\n",
    "自由に変数を定義することができます。\n",
    "\n",
    "例えば、`a`という変数に、`1`というデータを<strong>代入</strong>します。\n"
   ]
  },
  {
   "cell_type": "code",
   "execution_count": null,
   "metadata": {
    "id": "_1MURLb-1jzm"
   },
   "outputs": [],
   "source": [
    "a = 10"
   ]
  },
  {
   "cell_type": "markdown",
   "metadata": {
    "id": "KE1mq3qR1jzn"
   },
   "source": [
    "Pythonでは `=` は「左辺の変数に、右辺の値を代入する」という意味になります。"
   ]
  },
  {
   "attachments": {},
   "cell_type": "markdown",
   "metadata": {
    "id": "jk7wj-jQ1jzn"
   },
   "source": [
    "Python には予め多くの関数が定義されています（組み込み関数：built-in function）。\n",
    "\n",
    "`print()` がその例です。"
   ]
  },
  {
   "cell_type": "code",
   "execution_count": null,
   "metadata": {
    "id": "1Ye07EvD1jzo",
    "outputId": "29134ac5-d87b-486e-d913-2eca6517ed64"
   },
   "outputs": [
    {
     "name": "stdout",
     "output_type": "stream",
     "text": [
      "10\n"
     ]
    }
   ],
   "source": [
    "print(a)"
   ]
  },
  {
   "cell_type": "markdown",
   "metadata": {
    "id": "FvzT5C331jzp"
   },
   "source": [
    "代入する値は数値である必要はありません。"
   ]
  },
  {
   "cell_type": "code",
   "execution_count": null,
   "metadata": {
    "id": "P1nqrO9J1jzp"
   },
   "outputs": [],
   "source": [
    "b = 'Hello'"
   ]
  },
  {
   "cell_type": "code",
   "execution_count": null,
   "metadata": {
    "id": "F0l8ldlI1jzq",
    "outputId": "daef64e3-e2ba-4c95-972f-81356de0f938"
   },
   "outputs": [
    {
     "name": "stdout",
     "output_type": "stream",
     "text": [
      "Hello\n"
     ]
    }
   ],
   "source": [
    "print(b)"
   ]
  },
  {
   "cell_type": "markdown",
   "metadata": {
    "id": "aUI5hYcn1jzq"
   },
   "source": [
    "変数の名前はなるべく分かりやすいものしましょう。"
   ]
  },
  {
   "cell_type": "code",
   "execution_count": null,
   "metadata": {
    "id": "p-OWG_9h1jzr"
   },
   "outputs": [],
   "source": [
    "n = 10\n",
    "greeting = 'Hello'"
   ]
  },
  {
   "attachments": {},
   "cell_type": "markdown",
   "metadata": {},
   "source": [
    "```{warning} \n",
    "コードを書くとき、全てのスペースは<b>半角</b>です。全角スペースが入っているとエラーとなります。\n",
    "コードを書く際には、キーボードの設定が日本語入力ではなくて英語入力になっていることを確認してください。\n",
    "`Markdown`に書く際やコメントアウトしている場合は全角スペースも使うことができます。\n",
    "```"
   ]
  },
  {
   "attachments": {},
   "cell_type": "markdown",
   "metadata": {
    "id": "892Cm6vq1jzr"
   },
   "source": [
    "## データの型\n",
    "\n",
    "主なデータの型は以下の3つです。\n",
    "\n",
    "`str`: 文字列\n",
    "\n",
    "`int`: 整数\n",
    "\n",
    "`float`:　実数"
   ]
  },
  {
   "cell_type": "code",
   "execution_count": null,
   "metadata": {
    "id": "FH82ZstD1jzs"
   },
   "outputs": [],
   "source": [
    "a = 1\n",
    "b = 0.5\n",
    "c = 'Hi'"
   ]
  },
  {
   "cell_type": "markdown",
   "metadata": {
    "id": "deLtr9vY1jzs"
   },
   "source": [
    "型の確認方法には `type()` を用います。"
   ]
  },
  {
   "cell_type": "code",
   "execution_count": null,
   "metadata": {
    "id": "Iz3K9eCi1jzt",
    "outputId": "77f233f5-2986-41bc-f072-21869270df99"
   },
   "outputs": [
    {
     "data": {
      "text/plain": [
       "int"
      ]
     },
     "execution_count": 9,
     "metadata": {},
     "output_type": "execute_result"
    }
   ],
   "source": [
    "type(a)"
   ]
  },
  {
   "cell_type": "code",
   "execution_count": null,
   "metadata": {
    "id": "fUA87et21jzt",
    "outputId": "e1e3f884-659c-4113-937f-c4e2a97cef4a"
   },
   "outputs": [
    {
     "data": {
      "text/plain": [
       "float"
      ]
     },
     "execution_count": 10,
     "metadata": {},
     "output_type": "execute_result"
    }
   ],
   "source": [
    "type(b)"
   ]
  },
  {
   "cell_type": "code",
   "execution_count": null,
   "metadata": {
    "id": "xpS9JPWz1jzt",
    "outputId": "b2bffd20-6389-4457-a3d9-b99a7cff6cd4"
   },
   "outputs": [
    {
     "data": {
      "text/plain": [
       "str"
      ]
     },
     "execution_count": 11,
     "metadata": {},
     "output_type": "execute_result"
    }
   ],
   "source": [
    "type(c)"
   ]
  },
  {
   "cell_type": "markdown",
   "metadata": {
    "id": "f3DtFFd51jzu"
   },
   "source": [
    "型を変更するには、それぞれ `str()`、`int()`、`float()` を用います。"
   ]
  },
  {
   "cell_type": "code",
   "execution_count": null,
   "metadata": {
    "id": "uFECLl5z1jzu",
    "outputId": "84adf470-ceec-4c87-e151-6db23a709652"
   },
   "outputs": [
    {
     "name": "stdout",
     "output_type": "stream",
     "text": [
      "9\n"
     ]
    },
    {
     "data": {
      "text/plain": [
       "int"
      ]
     },
     "execution_count": 113,
     "metadata": {},
     "output_type": "execute_result"
    }
   ],
   "source": [
    "d = 9\n",
    "print(d)\n",
    "type(d)"
   ]
  },
  {
   "cell_type": "code",
   "execution_count": null,
   "metadata": {
    "id": "-l5BiQAx1jzu",
    "outputId": "907e4967-2a25-4984-f21f-73f92d3bf3d9"
   },
   "outputs": [
    {
     "name": "stdout",
     "output_type": "stream",
     "text": [
      "9.0\n"
     ]
    }
   ],
   "source": [
    "# int から floatへの変更\n",
    "d = float(d)\n",
    "print(d)"
   ]
  },
  {
   "cell_type": "code",
   "execution_count": null,
   "metadata": {
    "id": "qE78jd841jzu",
    "outputId": "f60e5364-5ed1-4062-83bf-f34163247825"
   },
   "outputs": [
    {
     "data": {
      "text/plain": [
       "float"
      ]
     },
     "execution_count": 115,
     "metadata": {},
     "output_type": "execute_result"
    }
   ],
   "source": [
    "type(d)"
   ]
  },
  {
   "cell_type": "code",
   "execution_count": null,
   "metadata": {
    "id": "IfJieE4I1jzv",
    "outputId": "6f399d87-c0b6-4d56-d2e7-2d42696c8b81"
   },
   "outputs": [
    {
     "name": "stdout",
     "output_type": "stream",
     "text": [
      "9.0\n"
     ]
    }
   ],
   "source": [
    "# float から　str へ変更\n",
    "d = str(d)\n",
    "print(d)"
   ]
  },
  {
   "cell_type": "code",
   "execution_count": null,
   "metadata": {
    "id": "lELKTQA01jzv",
    "outputId": "343d1c6c-85a1-4aa3-bccd-e853a9432c07"
   },
   "outputs": [
    {
     "data": {
      "text/plain": [
       "str"
      ]
     },
     "execution_count": 117,
     "metadata": {},
     "output_type": "execute_result"
    }
   ],
   "source": [
    "type(d)"
   ]
  },
  {
   "attachments": {},
   "cell_type": "markdown",
   "metadata": {
    "id": "Q1GX19XZ1jzv"
   },
   "source": [
    "## 算術演算\n",
    "\n",
    "主なデータの型は以下の3つです。\n",
    "\n",
    "加算\t`+`\n",
    "\n",
    "減算\t`-`\n",
    "\n",
    "乗算\t`*`\n",
    "\n",
    "除算\t`/`\n",
    "\n",
    "切捨て除算\t`//`\n",
    "\n",
    "累乗\t`**`\n",
    "\n",
    "剰余\t`%`"
   ]
  },
  {
   "cell_type": "code",
   "execution_count": null,
   "metadata": {
    "id": "XjCG0QFx1jzw",
    "outputId": "24f1a812-1f79-4340-f2e8-84454e158640"
   },
   "outputs": [
    {
     "data": {
      "text/plain": [
       "2"
      ]
     },
     "execution_count": 23,
     "metadata": {},
     "output_type": "execute_result"
    }
   ],
   "source": [
    "1 + 1"
   ]
  },
  {
   "cell_type": "code",
   "execution_count": null,
   "metadata": {
    "id": "HN7mhhjR1jzw",
    "outputId": "c878a931-06cf-4eb0-ab2d-93efd8530886"
   },
   "outputs": [
    {
     "data": {
      "text/plain": [
       "7"
      ]
     },
     "execution_count": 24,
     "metadata": {},
     "output_type": "execute_result"
    }
   ],
   "source": [
    "10 - 3"
   ]
  },
  {
   "cell_type": "code",
   "execution_count": null,
   "metadata": {
    "id": "c1eKh24d1jzw",
    "outputId": "3cb7629c-35cf-47a0-d9ef-e9183fbd358d"
   },
   "outputs": [
    {
     "data": {
      "text/plain": [
       "1.3"
      ]
     },
     "execution_count": 25,
     "metadata": {},
     "output_type": "execute_result"
    }
   ],
   "source": [
    "1.3 * 1"
   ]
  },
  {
   "cell_type": "code",
   "execution_count": null,
   "metadata": {
    "id": "bOXktnp21jzw",
    "outputId": "e8a68c5e-6353-4f93-a278-b2597414543b"
   },
   "outputs": [
    {
     "data": {
      "text/plain": [
       "3.0303030303030303"
      ]
     },
     "execution_count": 26,
     "metadata": {},
     "output_type": "execute_result"
    }
   ],
   "source": [
    "10 / 3.3"
   ]
  },
  {
   "cell_type": "code",
   "execution_count": null,
   "metadata": {
    "id": "71HxrswM1jzw",
    "outputId": "3621762e-07c9-4767-a2e7-cb9346f2a26f"
   },
   "outputs": [
    {
     "data": {
      "text/plain": [
       "1"
      ]
     },
     "execution_count": 27,
     "metadata": {},
     "output_type": "execute_result"
    }
   ],
   "source": [
    "25**5"
   ]
  },
  {
   "cell_type": "code",
   "execution_count": null,
   "metadata": {
    "id": "NJQP0SL-1jzx",
    "outputId": "e49816e1-c3c8-4cba-8133-036a18126787"
   },
   "outputs": [
    {
     "data": {
      "text/plain": [
       "3"
      ]
     },
     "execution_count": 28,
     "metadata": {},
     "output_type": "execute_result"
    }
   ],
   "source": [
    "10 // 3"
   ]
  },
  {
   "cell_type": "code",
   "execution_count": null,
   "metadata": {
    "id": "pcgjk35L1jzx",
    "outputId": "43c0b516-3988-47ba-8b3d-d6653f1986ea"
   },
   "outputs": [
    {
     "data": {
      "text/plain": [
       "1"
      ]
     },
     "execution_count": 29,
     "metadata": {},
     "output_type": "execute_result"
    }
   ],
   "source": [
    "10 % 3"
   ]
  },
  {
   "cell_type": "markdown",
   "metadata": {
    "id": "awUd74qw1jzx"
   },
   "source": [
    "注意：型が違う者同士の演算ではエラーになる場合があります。"
   ]
  },
  {
   "cell_type": "code",
   "execution_count": null,
   "metadata": {
    "id": "rLjIjaa41jzx",
    "outputId": "52bf889f-2378-4dd1-8b25-98f963154977"
   },
   "outputs": [
    {
     "data": {
      "text/plain": [
       "1.5"
      ]
     },
     "execution_count": 30,
     "metadata": {},
     "output_type": "execute_result"
    }
   ],
   "source": [
    "a + b"
   ]
  },
  {
   "cell_type": "code",
   "execution_count": null,
   "metadata": {
    "id": "d9DrJoYd1jzx",
    "outputId": "4d333b45-2744-493f-9572-077da61fa850"
   },
   "outputs": [
    {
     "ename": "TypeError",
     "evalue": "unsupported operand type(s) for +: 'int' and 'str'",
     "output_type": "error",
     "traceback": [
      "\u001b[0;31m---------------------------------------------------------------------------\u001b[0m",
      "\u001b[0;31mTypeError\u001b[0m                                 Traceback (most recent call last)",
      "\u001b[0;32m<ipython-input-31-e81e582b6fa9>\u001b[0m in \u001b[0;36m<module>\u001b[0;34m()\u001b[0m\n\u001b[0;32m----> 1\u001b[0;31m \u001b[0ma\u001b[0m \u001b[0;34m+\u001b[0m \u001b[0mc\u001b[0m\u001b[0;34m\u001b[0m\u001b[0;34m\u001b[0m\u001b[0m\n\u001b[0m",
      "\u001b[0;31mTypeError\u001b[0m: unsupported operand type(s) for +: 'int' and 'str'"
     ]
    }
   ],
   "source": [
    "a + c"
   ]
  },
  {
   "cell_type": "code",
   "execution_count": null,
   "metadata": {
    "id": "qPeucLP_1jzy",
    "outputId": "12ccdce8-c924-4d77-a620-cdd71f98208e"
   },
   "outputs": [
    {
     "data": {
      "text/plain": [
       "'HiHi'"
      ]
     },
     "execution_count": 32,
     "metadata": {},
     "output_type": "execute_result"
    }
   ],
   "source": [
    "c * 2"
   ]
  },
  {
   "cell_type": "markdown",
   "metadata": {
    "id": "nKbv87ot1jzy"
   },
   "source": [
    "演算と代入を同時に行うために `+=`, `-=`, `*=` などがよく使われます。\n",
    "\n",
    "`a + 1 = a` は `a += 1` と同じです。"
   ]
  },
  {
   "cell_type": "code",
   "execution_count": null,
   "metadata": {
    "id": "x3OY-EQv1jzy",
    "outputId": "7109f364-b520-48f2-a29c-45871b9f311d"
   },
   "outputs": [
    {
     "name": "stdout",
     "output_type": "stream",
     "text": [
      "2\n"
     ]
    }
   ],
   "source": [
    "a += 1\n",
    "print(a)"
   ]
  },
  {
   "attachments": {},
   "cell_type": "markdown",
   "metadata": {
    "id": "57vUwvxD1jzy"
   },
   "source": [
    "\n",
    "<a id= 'comparison'></a>\n",
    "\n",
    "### 1.4 比較演算子\n",
    "\n",
    "小なり    `<`\n",
    "\n",
    "大なり    `>`\n",
    "\n",
    "以下      `<=`\n",
    "\n",
    "以上      `>=`\n",
    "\n",
    "等しい    `==`\n",
    "\n",
    "等しくない `!=`"
   ]
  },
  {
   "cell_type": "code",
   "execution_count": null,
   "metadata": {
    "id": "B5P00FHR1jzy",
    "outputId": "00625ef5-c4ec-4c34-fc74-d99ea72feb2c"
   },
   "outputs": [
    {
     "data": {
      "text/plain": [
       "True"
      ]
     },
     "execution_count": 34,
     "metadata": {},
     "output_type": "execute_result"
    }
   ],
   "source": [
    "10 < 11"
   ]
  },
  {
   "cell_type": "code",
   "execution_count": null,
   "metadata": {
    "id": "M37GvO691jzy",
    "outputId": "b5f7a17d-13ef-4354-abc6-a27131502b59"
   },
   "outputs": [
    {
     "data": {
      "text/plain": [
       "False"
      ]
     },
     "execution_count": 35,
     "metadata": {},
     "output_type": "execute_result"
    }
   ],
   "source": [
    "0 > 10"
   ]
  },
  {
   "cell_type": "code",
   "execution_count": null,
   "metadata": {
    "id": "iBqFD7DE1jzz",
    "outputId": "a92b4172-b686-43bd-b9e2-39ac7fc85176"
   },
   "outputs": [
    {
     "data": {
      "text/plain": [
       "True"
      ]
     },
     "execution_count": 36,
     "metadata": {},
     "output_type": "execute_result"
    }
   ],
   "source": [
    "10 <= 10 "
   ]
  },
  {
   "cell_type": "code",
   "execution_count": null,
   "metadata": {
    "id": "WoQN8tyw1jzz",
    "outputId": "a4a0586b-4ecd-4231-eebb-4d633115356e"
   },
   "outputs": [
    {
     "data": {
      "text/plain": [
       "False"
      ]
     },
     "execution_count": 37,
     "metadata": {},
     "output_type": "execute_result"
    }
   ],
   "source": [
    "3 >= 9"
   ]
  },
  {
   "cell_type": "code",
   "execution_count": null,
   "metadata": {
    "id": "aH8qkD3S1jzz",
    "outputId": "aa6c5fa5-6a84-4475-96f6-f6c1f4ab426f"
   },
   "outputs": [
    {
     "data": {
      "text/plain": [
       "True"
      ]
     },
     "execution_count": 38,
     "metadata": {},
     "output_type": "execute_result"
    }
   ],
   "source": [
    "10 == 10.00"
   ]
  },
  {
   "cell_type": "code",
   "execution_count": null,
   "metadata": {
    "id": "lCFQKSGN1jzz",
    "outputId": "260089d6-0f83-4b2d-aa82-deda15428d8f"
   },
   "outputs": [
    {
     "data": {
      "text/plain": [
       "True"
      ]
     },
     "execution_count": 39,
     "metadata": {},
     "output_type": "execute_result"
    }
   ],
   "source": [
    "c == 'Hi'"
   ]
  },
  {
   "cell_type": "code",
   "execution_count": null,
   "metadata": {},
   "outputs": [],
   "source": [
    "c == 'HI'"
   ]
  },
  {
   "cell_type": "code",
   "execution_count": null,
   "metadata": {
    "id": "uYuVFv4V1jzz",
    "outputId": "3c2fcfff-a5b8-40f9-c5da-0c2bf5aa8504"
   },
   "outputs": [
    {
     "data": {
      "text/plain": [
       "True"
      ]
     },
     "execution_count": 40,
     "metadata": {},
     "output_type": "execute_result"
    }
   ],
   "source": [
    "c != 'HI'"
   ]
  },
  {
   "cell_type": "code",
   "execution_count": null,
   "metadata": {
    "id": "wSoaJ6Fi1jzz",
    "outputId": "6c596f12-e351-42b3-db21-bb6f95d68d6f"
   },
   "outputs": [
    {
     "data": {
      "text/plain": [
       "False"
      ]
     },
     "execution_count": 41,
     "metadata": {},
     "output_type": "execute_result"
    }
   ],
   "source": [
    "type(a) != int"
   ]
  }
 ],
 "metadata": {
  "colab": {
   "name": "Day1_1_Python.ipynb",
   "provenance": []
  },
  "kernelspec": {
   "display_name": "Python 3 (ipykernel)",
   "language": "python",
   "name": "python3"
  },
  "language_info": {
   "codemirror_mode": {
    "name": "ipython",
    "version": 3
   },
   "file_extension": ".py",
   "mimetype": "text/x-python",
   "name": "python",
   "nbconvert_exporter": "python",
   "pygments_lexer": "ipython3",
   "version": "3.10.9"
  }
 },
 "nbformat": 4,
 "nbformat_minor": 4
}
