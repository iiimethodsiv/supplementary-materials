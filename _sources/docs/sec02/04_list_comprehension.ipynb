{
 "cells": [
  {
   "attachments": {},
   "cell_type": "markdown",
   "metadata": {},
   "source": [
    "# set型・リスト内包表記"
   ]
  },
  {
   "attachments": {},
   "cell_type": "markdown",
   "metadata": {},
   "source": [
    "## set型\n",
    "\n",
    "リストから重複を取り除くためにset型（重複を許さない）を使うことができます。"
   ]
  },
  {
   "cell_type": "code",
   "execution_count": 91,
   "metadata": {},
   "outputs": [],
   "source": [
    "u = [0, 0, 0, 1, 1, 3, 4, 10, 10]"
   ]
  },
  {
   "cell_type": "code",
   "execution_count": 92,
   "metadata": {},
   "outputs": [
    {
     "data": {
      "text/plain": [
       "{0, 1, 3, 4, 10}"
      ]
     },
     "execution_count": 92,
     "metadata": {},
     "output_type": "execute_result"
    }
   ],
   "source": [
    "set(u)"
   ]
  },
  {
   "cell_type": "code",
   "execution_count": 93,
   "metadata": {},
   "outputs": [
    {
     "data": {
      "text/plain": [
       "[0, 1, 3, 4, 10]"
      ]
     },
     "execution_count": 93,
     "metadata": {},
     "output_type": "execute_result"
    }
   ],
   "source": [
    "list(set(u)) #セット型からリスト型に戻します"
   ]
  },
  {
   "attachments": {},
   "cell_type": "markdown",
   "metadata": {},
   "source": [
    "## リスト内包表記 (List comprehension)"
   ]
  },
  {
   "attachments": {},
   "cell_type": "markdown",
   "metadata": {},
   "source": [
    "forループを各代わりにリスト内包表記(list comprehension)を使うことができます。処理速度が速くなる場合が多いです。\n",
    "\n",
    "forループで以下のようなコードを実行しましょう。"
   ]
  },
  {
   "cell_type": "code",
   "execution_count": 102,
   "metadata": {},
   "outputs": [
    {
     "name": "stdout",
     "output_type": "stream",
     "text": [
      "CPU times: user 4 µs, sys: 1e+03 ns, total: 5 µs\n",
      "Wall time: 7.87 µs\n",
      "100000\n"
     ]
    }
   ],
   "source": [
    "%%time \n",
    "original = range(100000)\n",
    "double = []\n",
    "\n",
    "for i in original:\n",
    "    result = i * 2\n",
    "    double.append(result) #appendはリストに要素を追加します\n",
    "\n",
    "print(len(double))"
   ]
  },
  {
   "attachments": {},
   "cell_type": "markdown",
   "metadata": {},
   "source": [
    "```{note}\n",
    "`%%time`はJupyter Notebookのマジックコマンドと呼ばれるもののひとつです。cellの処理時間を計測することができます。\n",
    "また、`%time`とすると、その行の処理時間を計測できます。\n",
    "\n",
    "`%lsmagic`で使用できるマジックコマンドの一覧を確認できます。\n",
    "詳細は[IPythonのドキュメント](https://ipython.readthedocs.io/en/stable/interactive/magics.html)をご確認ください。\n",
    "```"
   ]
  },
  {
   "cell_type": "markdown",
   "metadata": {},
   "source": [
    "上のcellを実行するのにかかった時間が表示されるはずです。\n",
    "\n",
    "次に上のcellと同じ処理をリスト内包表記で書いてみましょう。"
   ]
  },
  {
   "cell_type": "code",
   "execution_count": 103,
   "metadata": {},
   "outputs": [
    {
     "name": "stdout",
     "output_type": "stream",
     "text": [
      "CPU times: user 1e+03 ns, sys: 0 ns, total: 1e+03 ns\n",
      "Wall time: 4.05 µs\n",
      "100000\n"
     ]
    }
   ],
   "source": [
    "%%time\n",
    "double = [i * 2 for i in original]\n",
    "print(len(double))"
   ]
  },
  {
   "cell_type": "markdown",
   "metadata": {},
   "source": [
    "実行する環境によって異なりますが、場合によってはリスト内包表記の方が実行時間が短くなっているかもしれません。"
   ]
  }
 ],
 "metadata": {
  "kernelspec": {
   "display_name": "Python 3",
   "language": "python",
   "name": "python3"
  },
  "language_info": {
   "codemirror_mode": {
    "name": "ipython",
    "version": 3
   },
   "file_extension": ".py",
   "mimetype": "text/x-python",
   "name": "python",
   "nbconvert_exporter": "python",
   "pygments_lexer": "ipython3",
   "version": "3.7.6"
  }
 },
 "nbformat": 4,
 "nbformat_minor": 2
}
