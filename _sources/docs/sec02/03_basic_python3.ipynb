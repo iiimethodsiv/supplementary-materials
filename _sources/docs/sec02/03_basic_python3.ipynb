{
 "cells": [
  {
   "attachments": {},
   "cell_type": "markdown",
   "metadata": {},
   "source": [
    "# 関数\n",
    "\n",
    "## 関数の定義\n",
    "\n",
    "関数は0個以上の引数(argument)を受け取って値を返します。\n",
    "\n",
    "関数も制御構文と同じくヘッダーとブロック部分に分けられます。"
   ]
  },
  {
   "cell_type": "code",
   "execution_count": 22,
   "metadata": {},
   "outputs": [],
   "source": [
    "def new_fanction(i):   #ヘッダー\n",
    "    y = i ** i         #以下ブロック\n",
    "    return y"
   ]
  },
  {
   "attachments": {},
   "cell_type": "markdown",
   "metadata": {},
   "source": [
    "`new_fanction`という名前の関数を上で定義しました。\n",
    "**ブロックはインデント（行の先頭にスペースを入れて字下げを行うこと）で一つのブロックと認識されます。**\n",
    "\n",
    "上で作った`new_fanction`では、\n",
    "\n",
    "1. `new_fanction`は$i$という一つの引数を受け取って (ヘッダー部分)\n",
    "\n",
    "2.  $i**i$ を計算して$y$に代入して、（２行目）\n",
    "\n",
    "3. $y$の値を返します。（３行目）\n",
    "\n",
    "4. 作成した関数を実行するためには、下のcellのように実行が必要です。"
   ]
  },
  {
   "cell_type": "code",
   "execution_count": 23,
   "metadata": {},
   "outputs": [
    {
     "data": {
      "text/plain": [
       "823543"
      ]
     },
     "execution_count": 23,
     "metadata": {},
     "output_type": "execute_result"
    }
   ],
   "source": [
    "new_fanction(7)"
   ]
  },
  {
   "cell_type": "code",
   "execution_count": 24,
   "metadata": {},
   "outputs": [
    {
     "data": {
      "text/plain": [
       "1"
      ]
     },
     "execution_count": 24,
     "metadata": {},
     "output_type": "execute_result"
    }
   ],
   "source": [
    "new_fanction(0)"
   ]
  },
  {
   "cell_type": "code",
   "execution_count": 25,
   "metadata": {},
   "outputs": [
    {
     "data": {
      "text/plain": [
       "4"
      ]
     },
     "execution_count": 25,
     "metadata": {},
     "output_type": "execute_result"
    }
   ],
   "source": [
    "new_fanction(2)"
   ]
  },
  {
   "attachments": {},
   "cell_type": "markdown",
   "metadata": {},
   "source": [
    "関数はひとつ以上の引数を受け取ることも可能です。"
   ]
  },
  {
   "cell_type": "code",
   "execution_count": 26,
   "metadata": {},
   "outputs": [],
   "source": [
    "def greeting(weather, name):\n",
    "    if weather == 'sunny':\n",
    "        print('今日は天気がいいですね、' + name + 'さん。')\n",
    "    elif weather == 'rainny':\n",
    "        print('早く雨が上がるといいですね、' + name + 'さん。')\n",
    "    else:\n",
    "        print('こんにちは、'+ name + 'さん。')"
   ]
  },
  {
   "cell_type": "markdown",
   "metadata": {},
   "source": [
    "上のgreeting関数のようにreturn（返り値）がない場合もあります。"
   ]
  },
  {
   "cell_type": "code",
   "execution_count": 27,
   "metadata": {
    "scrolled": true
   },
   "outputs": [
    {
     "name": "stdout",
     "output_type": "stream",
     "text": [
      "今日は天気がいいですね、佐藤さん。\n"
     ]
    }
   ],
   "source": [
    "greeting('sunny', '佐藤')"
   ]
  },
  {
   "cell_type": "code",
   "execution_count": 28,
   "metadata": {},
   "outputs": [
    {
     "name": "stdout",
     "output_type": "stream",
     "text": [
      "早く雨が上がるといいですね、佐藤さん。\n"
     ]
    }
   ],
   "source": [
    "greeting('rainny', '佐藤')"
   ]
  },
  {
   "cell_type": "code",
   "execution_count": 29,
   "metadata": {},
   "outputs": [
    {
     "name": "stdout",
     "output_type": "stream",
     "text": [
      "こんにちは、佐藤さん。\n"
     ]
    }
   ],
   "source": [
    "greeting('cloudy', '佐藤')"
   ]
  },
  {
   "attachments": {},
   "cell_type": "markdown",
   "metadata": {},
   "source": [
    "## 関数の返り値（戻り値）と引数\n",
    "\n",
    "\n",
    "<strong>関数に返り値（戻り値）がある場合は（returnがある場合）、それを代入することも出来ます。</strong>\n"
   ]
  },
  {
   "cell_type": "code",
   "execution_count": 39,
   "metadata": {},
   "outputs": [],
   "source": [
    "def greeting_return(name):\n",
    "    text = 'Good morning, ' + name\n",
    "    return text # returnを使うことでこの関数は値を返しています。（返り値）"
   ]
  },
  {
   "cell_type": "markdown",
   "metadata": {},
   "source": [
    "上の関数では返り値textを返しています。\n",
    "この場合関数を実行することで値を返しています。"
   ]
  },
  {
   "cell_type": "code",
   "execution_count": 40,
   "metadata": {},
   "outputs": [],
   "source": [
    "result = greeting_return('Max')"
   ]
  },
  {
   "cell_type": "code",
   "execution_count": 41,
   "metadata": {},
   "outputs": [
    {
     "name": "stdout",
     "output_type": "stream",
     "text": [
      "Good morning,　Max\n"
     ]
    }
   ],
   "source": [
    "print(result)"
   ]
  },
  {
   "cell_type": "markdown",
   "metadata": {},
   "source": [
    "返り値は代入することができます。返り値がない場合は関数から値を受け取ることができません。"
   ]
  },
  {
   "cell_type": "code",
   "execution_count": 42,
   "metadata": {},
   "outputs": [],
   "source": [
    "def greeting_withoutreturn(name):\n",
    "    text = 'Good morning, ' + name\n",
    "    print(text) # この関数はtextをprintしますが、返り値はありません。"
   ]
  },
  {
   "cell_type": "code",
   "execution_count": 43,
   "metadata": {},
   "outputs": [
    {
     "name": "stdout",
     "output_type": "stream",
     "text": [
      "Good morning,　Max\n"
     ]
    }
   ],
   "source": [
    "result2 = greeting_withoutreturn('Max')"
   ]
  },
  {
   "cell_type": "code",
   "execution_count": 44,
   "metadata": {},
   "outputs": [
    {
     "name": "stdout",
     "output_type": "stream",
     "text": [
      "None\n"
     ]
    }
   ],
   "source": [
    "print(result2)"
   ]
  },
  {
   "attachments": {},
   "cell_type": "markdown",
   "metadata": {},
   "source": [
    "<strong>関数は0個以上の引数を与えることが出来ます。（引数はない場合もあります。）</strong>"
   ]
  },
  {
   "cell_type": "code",
   "execution_count": 45,
   "metadata": {},
   "outputs": [],
   "source": [
    "def count_ten(): # ()のなかに引数の指定がない\n",
    "    for i in range(1,11):\n",
    "        print(i) "
   ]
  },
  {
   "cell_type": "code",
   "execution_count": 46,
   "metadata": {},
   "outputs": [
    {
     "name": "stdout",
     "output_type": "stream",
     "text": [
      "1\n",
      "2\n",
      "3\n",
      "4\n",
      "5\n",
      "6\n",
      "7\n",
      "8\n",
      "9\n",
      "10\n"
     ]
    }
   ],
   "source": [
    "count_ten()"
   ]
  },
  {
   "cell_type": "markdown",
   "metadata": {},
   "source": [
    "このcount_ten関数では実行するたびに1から10までをprintする関数で引数はありません。\n",
    "\n",
    "このような関数に引数を与えるとエラーになります。"
   ]
  },
  {
   "cell_type": "code",
   "execution_count": 47,
   "metadata": {},
   "outputs": [
    {
     "ename": "TypeError",
     "evalue": "count_ten() takes 0 positional arguments but 1 was given",
     "output_type": "error",
     "traceback": [
      "\u001b[0;31m---------------------------------------------------------------------------\u001b[0m",
      "\u001b[0;31mTypeError\u001b[0m                                 Traceback (most recent call last)",
      "\u001b[0;32m<ipython-input-47-174ca22c2d03>\u001b[0m in \u001b[0;36m<module>\u001b[0;34m\u001b[0m\n\u001b[0;32m----> 1\u001b[0;31m \u001b[0mcount_ten\u001b[0m\u001b[0;34m(\u001b[0m\u001b[0;36m10\u001b[0m\u001b[0;34m)\u001b[0m\u001b[0;34m\u001b[0m\u001b[0;34m\u001b[0m\u001b[0m\n\u001b[0m",
      "\u001b[0;31mTypeError\u001b[0m: count_ten() takes 0 positional arguments but 1 was given"
     ]
    }
   ],
   "source": [
    "count_ten(10)"
   ]
  },
  {
   "attachments": {},
   "cell_type": "markdown",
   "metadata": {},
   "source": [
    "## globalとlocal変数\n",
    "\n",
    "関数内で代入された変数は、どれもlocal変数として扱われます。<br>\n",
    "つまり、関数内のlocalな変数で関数が呼び出された時のみ実行され、関数が終了すると消滅します。"
   ]
  },
  {
   "cell_type": "code",
   "execution_count": null,
   "metadata": {},
   "outputs": [],
   "source": [
    "def add_list():\n",
    "    res = [] #まず空のリストresを作ります。\n",
    "    for i in [1, 2, 3]:\n",
    "        res.append(i) #　appendはリストの末尾に要素を追加します。ここでは1,2,3を順にresに追加します。\n",
    "    print(res)"
   ]
  },
  {
   "cell_type": "code",
   "execution_count": null,
   "metadata": {},
   "outputs": [
    {
     "name": "stdout",
     "output_type": "stream",
     "text": [
      "[1, 2, 3]\n"
     ]
    }
   ],
   "source": [
    "add_list()"
   ]
  },
  {
   "cell_type": "markdown",
   "metadata": {},
   "source": [
    "実行するとresがprintされました。"
   ]
  },
  {
   "cell_type": "markdown",
   "metadata": {},
   "source": [
    "ここで、関数内で生成されたresはlocal変数なので、関数の外で呼び出すことはできません。"
   ]
  },
  {
   "cell_type": "code",
   "execution_count": null,
   "metadata": {},
   "outputs": [
    {
     "ename": "NameError",
     "evalue": "name 'res' is not defined",
     "output_type": "error",
     "traceback": [
      "\u001b[0;31m---------------------------------------------------------------------------\u001b[0m\n",
      "\u001b[0;31mNameError\u001b[0m                                 Traceback (most recent call last)\n",
      "\u001b[0;32m<ipython-input-3-c08785e04264>\u001b[0m in \u001b[0;36m<module>\u001b[0;34m\u001b[0m\n",
      "\u001b[0;32m----> 1\u001b[0;31m \u001b[0mres\u001b[0m\u001b[0;34m\u001b[0m\u001b[0;34m\u001b[0m\u001b[0m\n",
      "\u001b[0m\n",
      "\u001b[0;31mNameError\u001b[0m: name 'res' is not defined"
     ]
    }
   ],
   "source": [
    "res"
   ]
  },
  {
   "cell_type": "markdown",
   "metadata": {},
   "source": [
    "上のcellを実行してもエラーとなります。\n",
    "\n",
    "関数の外で呼び出したい場合はreturnで返して代入すると良いでしょう（この場合は関数の外で代入されてglobal変数となります）。"
   ]
  },
  {
   "cell_type": "code",
   "execution_count": null,
   "metadata": {},
   "outputs": [],
   "source": [
    "def return_add_list():\n",
    "    res = [] #まず空のリストresを作ります。\n",
    "    for i in [1, 2, 3]:\n",
    "        res.append(i) #　appendはリストの末尾に要素を追加します。ここでは1,2,3を順にresに追加します。\n",
    "    return res # 今度はreturnでresを返します"
   ]
  },
  {
   "cell_type": "code",
   "execution_count": null,
   "metadata": {},
   "outputs": [],
   "source": [
    "#関数の外で関数return_add_listをresへ代入します。これによりresは関数の外でも使えるようになります。\n",
    "res = return_add_list()"
   ]
  },
  {
   "cell_type": "code",
   "execution_count": null,
   "metadata": {},
   "outputs": [
    {
     "data": {
      "text/plain": [
       "[1, 2, 3]"
      ]
     },
     "metadata": {},
     "output_type": "display_data"
    }
   ],
   "source": [
    "res"
   ]
  }
 ],
 "metadata": {
  "kernelspec": {
   "display_name": "Python 3",
   "language": "python",
   "name": "python3"
  },
  "language_info": {
   "codemirror_mode": {
    "name": "ipython",
    "version": 3
   },
   "file_extension": ".py",
   "mimetype": "text/x-python",
   "name": "python",
   "nbconvert_exporter": "python",
   "pygments_lexer": "ipython3",
   "version": "3.7.6"
  }
 },
 "nbformat": 4,
 "nbformat_minor": 4
}
