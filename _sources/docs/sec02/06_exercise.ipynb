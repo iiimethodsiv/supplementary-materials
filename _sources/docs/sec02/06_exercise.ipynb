{
 "cells": [
  {
   "attachments": {},
   "cell_type": "markdown",
   "metadata": {},
   "source": [
    "# 課題"
   ]
  },
  {
   "attachments": {},
   "cell_type": "markdown",
   "metadata": {},
   "source": [
    "\n",
    "## 課題1. \n",
    "以下の質問に対する答えを記入してください。"
   ]
  },
  {
   "attachments": {},
   "cell_type": "markdown",
   "metadata": {},
   "source": [
    "### \n",
    "1.1 主なPythonのデータの型を３つあげてください"
   ]
  },
  {
   "cell_type": "code",
   "execution_count": null,
   "metadata": {},
   "outputs": [],
   "source": [
    "# Please write your answer here"
   ]
  },
  {
   "attachments": {},
   "cell_type": "markdown",
   "metadata": {},
   "source": [
    "### 課題1.2\n",
    "\n",
    "データの型の確認方法を下に示してください"
   ]
  },
  {
   "cell_type": "code",
   "execution_count": null,
   "metadata": {},
   "outputs": [],
   "source": [
    "# Please write your answer here"
   ]
  },
  {
   "attachments": {},
   "cell_type": "markdown",
   "metadata": {},
   "source": [
    "### 課題1.3 \n",
    "\n",
    "次のリストtestから'a','b','c'のみを抽出して`ans`へ代入してください。\n",
    "test = [1, 2, 3, 'a','b','c','def','ghi']"
   ]
  },
  {
   "cell_type": "code",
   "execution_count": null,
   "metadata": {},
   "outputs": [],
   "source": [
    "test = [1, 2, 3, 'a','b','c','def','ghi']\n",
    "\n",
    "ans = ..."
   ]
  },
  {
   "cell_type": "markdown",
   "metadata": {},
   "source": [
    "上のセルに回答を記入し、次のセルを実行して回答を確認してください。"
   ]
  },
  {
   "cell_type": "code",
   "execution_count": null,
   "metadata": {},
   "outputs": [],
   "source": [
    "print(ans==['a','b','c'])"
   ]
  },
  {
   "attachments": {},
   "cell_type": "markdown",
   "metadata": {},
   "source": [
    "### 課題1.4 \n",
    "\n",
    "`Introduction`という名前の関数を定義してください。関数`Introduction`は一つの引数（name）を受け取り、「こんにちは、○○さん」という挨拶文を返り値（戻り値）としてreturnを使って返すようにしてください。○○にnameが入ります。"
   ]
  },
  {
   "cell_type": "code",
   "execution_count": null,
   "metadata": {},
   "outputs": [],
   "source": [
    "def Introduction(name):\n",
    "    \n",
    "    return #YOUR ANSWER"
   ]
  },
  {
   "cell_type": "markdown",
   "metadata": {},
   "source": [
    "上のセルに回答を記入し、次のセルを実行して回答を確認してください。"
   ]
  },
  {
   "cell_type": "code",
   "execution_count": null,
   "metadata": {},
   "outputs": [],
   "source": [
    "print(Introduction('佐藤')=='こんにちは、佐藤さん')\n",
    "print(Introduction('00')=='こんにちは、00さん')\n",
    "print(Introduction('apple')=='こんにちは、appleさん')"
   ]
  },
  {
   "attachments": {},
   "cell_type": "markdown",
   "metadata": {},
   "source": [
    "### 課題1.5 \n",
    "\n",
    "`Max`という名前の関数を定義してください。関数`Max`は一つの引数としてリストiを受け取り、iの中の最大値を返り値（戻り値）としてreturnを使って返します。例えば、i = [1, 2, 3, 4, 5]の場合5を返します。なお、listの最大値を返すにはmax([list])を使うことができます。"
   ]
  },
  {
   "cell_type": "code",
   "execution_count": null,
   "metadata": {},
   "outputs": [],
   "source": [
    "def Max(i):\n",
    "    \n",
    "    return #YOUR ANSWER"
   ]
  },
  {
   "cell_type": "markdown",
   "metadata": {},
   "source": [
    "上のセルに回答を記入し、次のセルを実行して回答を確認してください。"
   ]
  },
  {
   "cell_type": "code",
   "execution_count": null,
   "metadata": {},
   "outputs": [],
   "source": [
    "print(Max([1, 1000, 10, 30, 5])==1000)\n",
    "print(Max([10,50, 49999,10000000])==10000000)"
   ]
  },
  {
   "attachments": {},
   "cell_type": "markdown",
   "metadata": {},
   "source": [
    "## 課題2"
   ]
  },
  {
   "attachments": {},
   "cell_type": "markdown",
   "metadata": {},
   "source": [
    "### 課題2.1\n",
    "\n",
    "[FizzBazz](https://en.wikipedia.org/wiki/Fizz_buzz)問題を解く関数を定義してください。一つの整数を引数として受け取り、3の倍数であった場合は'Fizz'を、5の倍数であった場合は'Buzz'、3と5両方で割り切れる場合は、'FizzBuzz'を返り値（戻り値）としてreturnを使って返します。それ以外の値はその値をそのままint型で返します。"
   ]
  },
  {
   "cell_type": "code",
   "execution_count": null,
   "metadata": {},
   "outputs": [],
   "source": [
    "def fizzbuzz(i):\n",
    "    \n",
    "    return #YOUR ANSWER"
   ]
  },
  {
   "cell_type": "markdown",
   "metadata": {},
   "source": [
    "上のセルに回答を記入し、次のセルを実行して回答を確認してください。"
   ]
  },
  {
   "cell_type": "code",
   "execution_count": null,
   "metadata": {},
   "outputs": [],
   "source": [
    "print(fizzbuzz(3)==\"Fizz\")\n",
    "print(fizzbuzz(5)==\"Buzz\")\n",
    "print(fizzbuzz(15)==\"FizzBuzz\")\n",
    "print(fizzbuzz(225)==\"FizzBuzz\")\n",
    "print(fizzbuzz(13)==13)\n",
    "print(fizzbuzz(2)==2)"
   ]
  },
  {
   "cell_type": "code",
   "execution_count": null,
   "metadata": {},
   "outputs": [],
   "source": []
  }
 ],
 "metadata": {
  "kernelspec": {
   "display_name": "Python 3",
   "language": "python",
   "name": "python3"
  },
  "language_info": {
   "codemirror_mode": {
    "name": "ipython",
    "version": 3
   },
   "file_extension": ".py",
   "mimetype": "text/x-python",
   "name": "python",
   "nbconvert_exporter": "python",
   "pygments_lexer": "ipython3",
   "version": "3.7.6"
  }
 },
 "nbformat": 4,
 "nbformat_minor": 2
}
