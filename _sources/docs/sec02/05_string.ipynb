{
 "cells": [
  {
   "attachments": {},
   "cell_type": "markdown",
   "metadata": {},
   "source": [
    "# 文字列を扱うときの注意点\n"
   ]
  },
  {
   "attachments": {},
   "cell_type": "markdown",
   "metadata": {},
   "source": [
    "## クオーテーションマーク"
   ]
  },
  {
   "cell_type": "markdown",
   "metadata": {},
   "source": [
    "クオーテーションマークは`' '`と`\" \"`の両方が使えますが、どちらかに揃えましょう。\n",
    "\n",
    "また、クオーテーションマークのなかにクオーテーションマークを使う場合は、異なる組み合わせを使いましょう。\n",
    "\n",
    "文章内に`'`が使われている場合は`\"`にしましょう。"
   ]
  },
  {
   "cell_type": "code",
   "execution_count": 1,
   "metadata": {},
   "outputs": [
    {
     "name": "stdout",
     "output_type": "stream",
     "text": [
      "I am happy.\n"
     ]
    }
   ],
   "source": [
    "text1 = 'I am happy.'\n",
    "print(text1)"
   ]
  },
  {
   "cell_type": "code",
   "execution_count": 4,
   "metadata": {},
   "outputs": [
    {
     "name": "stdout",
     "output_type": "stream",
     "text": [
      "He said \"I am happy.\".\n"
     ]
    }
   ],
   "source": [
    "text2 = 'He said \"I am happy.\".'\n",
    "print(text2)"
   ]
  },
  {
   "cell_type": "code",
   "execution_count": 5,
   "metadata": {
    "scrolled": true
   },
   "outputs": [
    {
     "name": "stdout",
     "output_type": "stream",
     "text": [
      "I'm happy.\n"
     ]
    }
   ],
   "source": [
    "#エラーになります\n",
    "text3 = 'I'm happy.'\n",
    "print(text3)"
   ]
  },
  {
   "cell_type": "code",
   "execution_count": 109,
   "metadata": {},
   "outputs": [
    {
     "name": "stdout",
     "output_type": "stream",
     "text": [
      "I'm happy.\n"
     ]
    }
   ],
   "source": [
    "text4 = \"I'm happy.\"\n",
    "print(text4)"
   ]
  }
 ],
 "metadata": {
  "kernelspec": {
   "display_name": "Python 3",
   "language": "python",
   "name": "python3"
  },
  "language_info": {
   "codemirror_mode": {
    "name": "ipython",
    "version": 3
   },
   "file_extension": ".py",
   "mimetype": "text/x-python",
   "name": "python",
   "nbconvert_exporter": "python",
   "pygments_lexer": "ipython3",
   "version": "3.7.6"
  }
 },
 "nbformat": 4,
 "nbformat_minor": 2
}
