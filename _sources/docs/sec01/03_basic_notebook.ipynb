{
 "cells": [
  {
   "attachments": {},
   "cell_type": "markdown",
   "metadata": {},
   "source": [
    "# Notebookの基本的な使い方\n"
   ]
  },
  {
   "attachments": {},
   "cell_type": "markdown",
   "metadata": {},
   "source": [
    "## Notebookの開き方・保存方法\n",
    "\n",
    "`````{tab-set}\n",
    "````{tab-item} 既存Notebookの開き方\n",
    "ダッシュボード（Jupyter Notebookを起動した時に最初に表示される画面）の左側のパネルから、開きたいファイルを選びます。\n",
    "```{image} ../../assets/img/jupyterlab_panel.png\n",
    ":alt: jupyter lab top page screenshot\n",
    ":class: bg-primary mb-1 \n",
    ":width: 80%\n",
    ":align: center\n",
    "```\n",
    "````\n",
    "\n",
    "````{tab-item} 新規Notebookの開き方\n",
    "- ダッシュボードでNotebookを保存したいディレクトリを選び、ディレクトリのページの右上にある`New`のプルダウンから`Python3`を選択します。\n",
    "    - Jupyter Notebookで作成したファイルは拡張子に`.ipynb`がつきます。\n",
    "    - `Untitled`がタイトル名につくノートブックが作られます。\n",
    "        - タイトルはクリックして変更してください。\n",
    "\n",
    "```{image} ../../assets/img/jupyterlab_top.png\n",
    ":alt: jupyter lab top page screenshot\n",
    ":width: 80%\n",
    ":align: center\n",
    "```\n",
    "```{image} ../../assets/img/jupyterlab_rename.png\n",
    ":alt: jupyter lab top page screenshot\n",
    ":class: bg-primary mb-1 \n",
    ":width: 80%\n",
    ":align: center\n",
    "```\n",
    "````\n",
    "\n",
    "````{tab-item} Notebookの保存\n",
    " - Notebook上部のツールバーの左側にある保存マークボタンをクリックします。\n",
    "- もしくは`command-s` `Ctrl-s`で保存します。\n",
    "- もしくは左上の`File`-->`Save Notebook`で保存します。\n",
    "- 最後に保存してからの経過時間がNotebookのタイトル名の右横に表示されます。\n",
    "```{image} ../../assets/img/jupyterlab_savefile.png\n",
    ":alt: jupyter lab top page screenshot\n",
    ":class: bg-primary mb-1 \n",
    ":width: 80%\n",
    ":align: center\n",
    "```\n",
    "````\n",
    "`````"
   ]
  },
  {
   "attachments": {},
   "cell_type": "markdown",
   "metadata": {},
   "source": [
    "## Cellのタイプ\n",
    "\n",
    "`Markdown`と`Code`の2種類を（主に）使います。 <br><br>\n",
    "\n",
    "* `Markdown`はテキストを入力するためのcellです。\n",
    "* `Code`はPythonのcodeを入力するためのcellです。\n",
    "\n",
    "```{note}  \n",
    "MarkdownモードとCodeモードの変更\n",
    "- Notebookの上部にあるツールバーで、`Markdown`もしくは`Code`を選択します。\n",
    "- もしくは、`esc`で「編集モード(cellに入力できる)」から「コマンドモード（cellを選択状態）」からになります。\n",
    "- また、コマンドモード（選択中のcellの周りが青色になります）で、`M` で`Markdown`、`y`で`code`モードにそれぞれ変更できます。\n",
    "- コマンドモードから編集モードに戻るには`enter`もしくは`return`をタイプします。もしくはcellをクリックします。\n",
    "```"
   ]
  },
  {
   "attachments": {},
   "cell_type": "markdown",
   "metadata": {},
   "source": [
    "\n",
    "## Cellの実行\n",
    "\n",
    "`Shift-Enter`でcellを実行します。\n",
    "\n",
    "```{note}\n",
    "他の実行方法\n",
    "- `Alt-Enter` or `optin-enter` でcellを実行しcellの下に新しいcellを一つ挿入します\n",
    "- `Ctrl-enter` でcellを実行し、実行したcellにコマンドモードで留まります。\n",
    "```"
   ]
  },
  {
   "attachments": {},
   "cell_type": "markdown",
   "metadata": {},
   "source": [
    "\n",
    "```{warning}\n",
    "注意点\n",
    "codeタイプのcellは、cellの横に表示されている数字がcellを実行した番号です。\n",
    "\n",
    "    In [1]:\n",
    "\n",
    "上の場合は1番目に実行されたcellということを示します。\n",
    "数字が表示されたということはそのcellが実行されたということです。\n",
    "\n",
    "    In [*]:\n",
    "\n",
    "となっている間はまだcellを実行中ということを示します。\n",
    "cellの実行を停止したい場合はNotebook上部ツールバーの■をクリックしてください。\n",
    "`KeyboardInterrupt: `というメッセージが表示されます。\n",
    "```"
   ]
  },
  {
   "attachments": {},
   "cell_type": "markdown",
   "metadata": {},
   "source": [
    "## コメントアウト\n",
    "\n",
    "コメントはプログラムを書くうえで非常に重要です。プログラムの意図や説明を（自分を含む）読み手に伝えるためには、コメントを書く習慣をつけるようにしましょう。ポイントとしては、「どのような目的でコードを書いたか」を端的に記述すると良いでしょう。\n",
    "\n",
    "### コメントの書き方\n",
    "\n",
    "行単位のコメントは行の先頭に`#`をつけます。`#`以降は無視して実行されます。\n",
    "\n",
    "例えば、次のコードでは1行目は無視されます。\n",
    "```python\n",
    "# Hello, world!を表示する\n",
    "print(\"Hello, world!\")\n",
    "```\n",
    "\n",
    "複数行単位のコメントはクオーテーションマークを3つの間に書くことができます。\n",
    "```python\n",
    "'''ここは無視されます。\n",
    "この行は無視されます。\n",
    "この行も無視されます。\n",
    "'''\n",
    "```"
   ]
  },
  {
   "attachments": {},
   "cell_type": "markdown",
   "metadata": {},
   "source": [
    "<!-- <a id= 'error'></a> -->\n",
    "\n",
    "## エラーが出たら\n",
    "\n",
    "エラーはつきものです。どんなにPythonに慣れたとしても、エラーを避けることはできません。ですので、エラーとは仲良くなりましょう！\n",
    "\n",
    "```{note} エラーの対処方法\n",
    "\n",
    "1. エラーメッセージは下から読みましょう：長いエラーメッセージでも下までスクロールダウンして最後の行を読みましょう。一般的に一番下に何が起きたのかに関するヒントがあることが多いです。\n",
    "\n",
    "2.  下の行から`上へ`読み進めると、どのようにしてエラーが発生したのかをトレースすることができます。\n",
    "\n",
    "3. もしエラーメッセージを読んでもわからない場合は、最後の行をコピーしてGoolgeなどで検索してみましょう。Stackoverflowというサイトで直接検索しても良いでしょう。\n",
    "\n",
    "4. 検索はなるべく英語で行いましょう。英語の方が日本語より共有されている情報量が多いので、解決策に辿り着きやすいです。Googleの言語設定を変えると、検索結果の表示順などが変わリマス。例えば、どうやってJupyter Notebookをシャットダウンするか忘れた時は「how to close jupyter notebooks」などと検索してみてください。\n",
    "```"
   ]
  }
 ],
 "metadata": {
  "kernelspec": {
   "display_name": "Python 3 (ipykernel)",
   "language": "python",
   "name": "python3"
  },
  "language_info": {
   "codemirror_mode": {
    "name": "ipython",
    "version": 3
   },
   "file_extension": ".py",
   "mimetype": "text/x-python",
   "name": "python",
   "nbconvert_exporter": "python",
   "pygments_lexer": "ipython3",
   "version": "3.8.16"
  }
 },
 "nbformat": 4,
 "nbformat_minor": 4
}
