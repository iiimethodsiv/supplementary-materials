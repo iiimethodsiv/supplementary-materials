{
 "cells": [
  {
   "attachments": {},
   "cell_type": "markdown",
   "id": "40d908a9-8808-4c02-847c-313e4cfdb57a",
   "metadata": {},
   "source": [
    "# 重回帰分析\n",
    "\n",
    "単回帰分析では説明変数が1つですが、重回帰分析では説明変数は2つ以上になります。\n",
    "\n",
    "$y_i=\\beta_0+\\sum_{j=1}^k\\beta_jx_{ij}+u_i$\n",
    "\n",
    "* $i = 1, 2, ... n$: 観測値のインデックス\n",
    "* $j = 1, 2, ... k$: 説明変数のインデックス\n",
    "\n",
    "回帰分析と同じく`statsmodels`を用いて推定を行います。推定結果の見方に大きな変わりはありません。\n",
    "\n"
   ]
  },
  {
   "cell_type": "code",
   "execution_count": 1,
   "id": "4c82c7ec-8572-454f-b045-3a6114dd519e",
   "metadata": {},
   "outputs": [],
   "source": [
    "import numpy as np\n",
    "import pandas as pd\n",
    "import statsmodels.api as sm\n",
    "import matplotlib.pyplot as plt"
   ]
  },
  {
   "attachments": {},
   "cell_type": "markdown",
   "id": "268083f3-4128-4431-ae70-76ac6638b9a0",
   "metadata": {},
   "source": [
    "ここでは、`bwght`というデータセットを用いて重回帰分析を行います。\n",
    "\n",
    "妊娠中の喫煙が乳幼児の健康に与える影響を調べたデータで、など14個の変数に関する1388個の観測値を持つデータです。\n",
    "\n",
    "データの説明の説明は[こちら](https://search.r-project.org/CRAN/refmans/wooldridge/html/bwght.html)を確認してください。\n"
   ]
  },
  {
   "attachments": {},
   "cell_type": "markdown",
   "id": "536dcee6-b0e6-4328-9a1f-61fb438dbafb",
   "metadata": {},
   "source": [
    "まずデータをダウンロードします。"
   ]
  },
  {
   "cell_type": "code",
   "execution_count": 64,
   "id": "9b24b29e-010d-4dae-93c0-7d0a7a18c210",
   "metadata": {},
   "outputs": [
    {
     "data": {
      "text/html": [
       "<div>\n",
       "<style scoped>\n",
       "    .dataframe tbody tr th:only-of-type {\n",
       "        vertical-align: middle;\n",
       "    }\n",
       "\n",
       "    .dataframe tbody tr th {\n",
       "        vertical-align: top;\n",
       "    }\n",
       "\n",
       "    .dataframe thead th {\n",
       "        text-align: right;\n",
       "    }\n",
       "</style>\n",
       "<table border=\"1\" class=\"dataframe\">\n",
       "  <thead>\n",
       "    <tr style=\"text-align: right;\">\n",
       "      <th></th>\n",
       "      <th>faminc</th>\n",
       "      <th>cigtax</th>\n",
       "      <th>cigprice</th>\n",
       "      <th>bwght</th>\n",
       "      <th>fatheduc</th>\n",
       "      <th>motheduc</th>\n",
       "      <th>parity</th>\n",
       "      <th>male</th>\n",
       "      <th>white</th>\n",
       "      <th>cigs</th>\n",
       "      <th>lbwght</th>\n",
       "      <th>bwghtlbs</th>\n",
       "      <th>packs</th>\n",
       "      <th>lfaminc</th>\n",
       "    </tr>\n",
       "  </thead>\n",
       "  <tbody>\n",
       "    <tr>\n",
       "      <th>0</th>\n",
       "      <td>13.5</td>\n",
       "      <td>16.5</td>\n",
       "      <td>122.300003</td>\n",
       "      <td>109</td>\n",
       "      <td>12.0</td>\n",
       "      <td>12.0</td>\n",
       "      <td>1</td>\n",
       "      <td>1</td>\n",
       "      <td>1</td>\n",
       "      <td>0</td>\n",
       "      <td>4.691348</td>\n",
       "      <td>6.8125</td>\n",
       "      <td>0.0</td>\n",
       "      <td>2.602690</td>\n",
       "    </tr>\n",
       "    <tr>\n",
       "      <th>1</th>\n",
       "      <td>7.5</td>\n",
       "      <td>16.5</td>\n",
       "      <td>122.300003</td>\n",
       "      <td>133</td>\n",
       "      <td>6.0</td>\n",
       "      <td>12.0</td>\n",
       "      <td>2</td>\n",
       "      <td>1</td>\n",
       "      <td>0</td>\n",
       "      <td>0</td>\n",
       "      <td>4.890349</td>\n",
       "      <td>8.3125</td>\n",
       "      <td>0.0</td>\n",
       "      <td>2.014903</td>\n",
       "    </tr>\n",
       "  </tbody>\n",
       "</table>\n",
       "</div>"
      ],
      "text/plain": [
       "   faminc  cigtax    cigprice  bwght  fatheduc  motheduc  parity  male  white  \\\n",
       "0    13.5    16.5  122.300003    109      12.0      12.0       1     1      1   \n",
       "1     7.5    16.5  122.300003    133       6.0      12.0       2     1      0   \n",
       "\n",
       "   cigs    lbwght  bwghtlbs  packs   lfaminc  \n",
       "0     0  4.691348    6.8125    0.0  2.602690  \n",
       "1     0  4.890349    8.3125    0.0  2.014903  "
      ]
     },
     "execution_count": 64,
     "metadata": {},
     "output_type": "execute_result"
    }
   ],
   "source": [
    "data = sm.datasets.get_rdataset('bwght','wooldridge').data\n",
    "data.head(2)"
   ]
  },
  {
   "attachments": {},
   "cell_type": "markdown",
   "id": "390ccd84-109b-4df9-9d21-f8b4bed78777",
   "metadata": {},
   "source": [
    "\n",
    "乳幼児の健康を測る指標の一つである出生体重(`bwght`)と、出生体重に影響を与える可能性のある妊娠中の喫煙（`ciga`）やそれ以外の要因に関する変数があります。例えば、一般的に父親の所得（`faminc`）が高いと、より良い出産前ケアにアクセスでき、母親の栄養状態も良くなります。\n",
    "\n",
    "このことを確認するために、次の重回帰分析を行います。\n",
    "\n",
    "$$bwght=\\beta_0+\\beta_1 cigs + \\beta_2 faminc + u$$\n"
   ]
  },
  {
   "attachments": {},
   "cell_type": "markdown",
   "id": "29eaceb3-dd77-4c59-9e9d-c0ae4e0ac14e",
   "metadata": {},
   "source": [
    "出生体重`bwght`を被説明変数、妊娠中の喫煙`cigs`と父親の学歴：`fatheduc`を説明変数して重回帰分析を実行してみましょう。"
   ]
  },
  {
   "attachments": {},
   "cell_type": "markdown",
   "id": "2e0d20e3-5979-4b6d-bcc8-809da5639007",
   "metadata": {},
   "source": [
    "データの基本統計量と変数間の相関を確認します。"
   ]
  },
  {
   "cell_type": "code",
   "execution_count": 73,
   "id": "d91300ea-e067-4de4-86e5-0c3df3575b3d",
   "metadata": {},
   "outputs": [
    {
     "data": {
      "text/plain": [
       "(1388, 14)"
      ]
     },
     "execution_count": 73,
     "metadata": {},
     "output_type": "execute_result"
    }
   ],
   "source": [
    "data.shape"
   ]
  },
  {
   "cell_type": "code",
   "execution_count": 88,
   "id": "3d4a8cf5-d142-4395-b1f8-479e231a274d",
   "metadata": {},
   "outputs": [
    {
     "data": {
      "text/html": [
       "<div>\n",
       "<style scoped>\n",
       "    .dataframe tbody tr th:only-of-type {\n",
       "        vertical-align: middle;\n",
       "    }\n",
       "\n",
       "    .dataframe tbody tr th {\n",
       "        vertical-align: top;\n",
       "    }\n",
       "\n",
       "    .dataframe thead th {\n",
       "        text-align: right;\n",
       "    }\n",
       "</style>\n",
       "<table border=\"1\" class=\"dataframe\">\n",
       "  <thead>\n",
       "    <tr style=\"text-align: right;\">\n",
       "      <th></th>\n",
       "      <th>bwght</th>\n",
       "      <th>cigs</th>\n",
       "      <th>fatheduc</th>\n",
       "    </tr>\n",
       "  </thead>\n",
       "  <tbody>\n",
       "    <tr>\n",
       "      <th>bwght</th>\n",
       "      <td>1.000000</td>\n",
       "      <td>-0.164372</td>\n",
       "      <td>0.084030</td>\n",
       "    </tr>\n",
       "    <tr>\n",
       "      <th>cigs</th>\n",
       "      <td>-0.164372</td>\n",
       "      <td>1.000000</td>\n",
       "      <td>-0.179244</td>\n",
       "    </tr>\n",
       "    <tr>\n",
       "      <th>fatheduc</th>\n",
       "      <td>0.084030</td>\n",
       "      <td>-0.179244</td>\n",
       "      <td>1.000000</td>\n",
       "    </tr>\n",
       "  </tbody>\n",
       "</table>\n",
       "</div>"
      ],
      "text/plain": [
       "             bwght      cigs  fatheduc\n",
       "bwght     1.000000 -0.164372  0.084030\n",
       "cigs     -0.164372  1.000000 -0.179244\n",
       "fatheduc  0.084030 -0.179244  1.000000"
      ]
     },
     "execution_count": 88,
     "metadata": {},
     "output_type": "execute_result"
    }
   ],
   "source": [
    "data[['bwght','cigs','fatheduc']].corr()"
   ]
  },
  {
   "cell_type": "code",
   "execution_count": 72,
   "id": "19a3283e-673d-4f5a-a64d-75d9132cb630",
   "metadata": {},
   "outputs": [
    {
     "data": {
      "text/html": [
       "<div>\n",
       "<style scoped>\n",
       "    .dataframe tbody tr th:only-of-type {\n",
       "        vertical-align: middle;\n",
       "    }\n",
       "\n",
       "    .dataframe tbody tr th {\n",
       "        vertical-align: top;\n",
       "    }\n",
       "\n",
       "    .dataframe thead th {\n",
       "        text-align: right;\n",
       "    }\n",
       "</style>\n",
       "<table border=\"1\" class=\"dataframe\">\n",
       "  <thead>\n",
       "    <tr style=\"text-align: right;\">\n",
       "      <th></th>\n",
       "      <th>bwght</th>\n",
       "      <th>cigs</th>\n",
       "      <th>fatheduc</th>\n",
       "    </tr>\n",
       "  </thead>\n",
       "  <tbody>\n",
       "    <tr>\n",
       "      <th>count</th>\n",
       "      <td>1388.000000</td>\n",
       "      <td>1388.000000</td>\n",
       "      <td>1192.000000</td>\n",
       "    </tr>\n",
       "    <tr>\n",
       "      <th>mean</th>\n",
       "      <td>118.699568</td>\n",
       "      <td>2.087176</td>\n",
       "      <td>13.186242</td>\n",
       "    </tr>\n",
       "    <tr>\n",
       "      <th>std</th>\n",
       "      <td>20.353964</td>\n",
       "      <td>5.972688</td>\n",
       "      <td>2.745985</td>\n",
       "    </tr>\n",
       "    <tr>\n",
       "      <th>min</th>\n",
       "      <td>23.000000</td>\n",
       "      <td>0.000000</td>\n",
       "      <td>1.000000</td>\n",
       "    </tr>\n",
       "    <tr>\n",
       "      <th>25%</th>\n",
       "      <td>107.000000</td>\n",
       "      <td>0.000000</td>\n",
       "      <td>12.000000</td>\n",
       "    </tr>\n",
       "    <tr>\n",
       "      <th>50%</th>\n",
       "      <td>120.000000</td>\n",
       "      <td>0.000000</td>\n",
       "      <td>12.000000</td>\n",
       "    </tr>\n",
       "    <tr>\n",
       "      <th>75%</th>\n",
       "      <td>132.000000</td>\n",
       "      <td>0.000000</td>\n",
       "      <td>16.000000</td>\n",
       "    </tr>\n",
       "    <tr>\n",
       "      <th>max</th>\n",
       "      <td>271.000000</td>\n",
       "      <td>50.000000</td>\n",
       "      <td>18.000000</td>\n",
       "    </tr>\n",
       "  </tbody>\n",
       "</table>\n",
       "</div>"
      ],
      "text/plain": [
       "             bwght         cigs     fatheduc\n",
       "count  1388.000000  1388.000000  1192.000000\n",
       "mean    118.699568     2.087176    13.186242\n",
       "std      20.353964     5.972688     2.745985\n",
       "min      23.000000     0.000000     1.000000\n",
       "25%     107.000000     0.000000    12.000000\n",
       "50%     120.000000     0.000000    12.000000\n",
       "75%     132.000000     0.000000    16.000000\n",
       "max     271.000000    50.000000    18.000000"
      ]
     },
     "execution_count": 72,
     "metadata": {},
     "output_type": "execute_result"
    }
   ],
   "source": [
    "data[['bwght', 'cigs', 'fatheduc']].describe()"
   ]
  },
  {
   "attachments": {},
   "cell_type": "markdown",
   "id": "f8366f3c-339a-4764-bc78-a2b8a8872744",
   "metadata": {},
   "source": [
    "`fatheduc`変数は欠損値が196行であることがわかります。\n",
    "\n",
    "ここでは、欠損値のある行は分析から除外することにします。"
   ]
  },
  {
   "cell_type": "code",
   "execution_count": 86,
   "id": "6f80f11c-4abb-4dc8-bbfb-8b1ed53dd45e",
   "metadata": {},
   "outputs": [],
   "source": [
    "data = data.dropna(subset=['fatheduc'])\n",
    "data = data.reset_index(drop=True)"
   ]
  },
  {
   "cell_type": "code",
   "execution_count": 87,
   "id": "5dde19fe-3ae9-43e4-a919-6822e43a745a",
   "metadata": {},
   "outputs": [
    {
     "name": "stdout",
     "output_type": "stream",
     "text": [
      "                            OLS Regression Results                            \n",
      "==============================================================================\n",
      "Dep. Variable:                  bwght   R-squared:                       0.030\n",
      "Model:                            OLS   Adj. R-squared:                  0.028\n",
      "Method:                 Least Squares   F-statistic:                     18.45\n",
      "Date:                Wed, 12 Apr 2023   Prob (F-statistic):           1.29e-08\n",
      "Time:                        17:09:10   Log-Likelihood:                -5251.7\n",
      "No. Observations:                1192   AIC:                         1.051e+04\n",
      "Df Residuals:                    1189   BIC:                         1.052e+04\n",
      "Df Model:                           2                                         \n",
      "Covariance Type:            nonrobust                                         \n",
      "==============================================================================\n",
      "                 coef    std err          t      P>|t|      [0.025      0.975]\n",
      "------------------------------------------------------------------------------\n",
      "Intercept    115.0958      2.906     39.612      0.000     109.395     120.796\n",
      "cigs          -0.5815      0.109     -5.314      0.000      -0.796      -0.367\n",
      "fatheduc       0.4134      0.213      1.942      0.052      -0.004       0.831\n",
      "==============================================================================\n",
      "Omnibus:                      119.845   Durbin-Watson:                   1.943\n",
      "Prob(Omnibus):                  0.000   Jarque-Bera (JB):              815.149\n",
      "Skew:                          -0.128   Prob(JB):                    9.83e-178\n",
      "Kurtosis:                       7.043   Cond. No.                         69.0\n",
      "==============================================================================\n",
      "\n",
      "Notes:\n",
      "[1] Standard Errors assume that the covariance matrix of the errors is correctly specified.\n"
     ]
    }
   ],
   "source": [
    "mmod = sm.OLS.from_formula('bwght ~ cigs + fatheduc', data= data)\n",
    "mres = mmod.fit()\n",
    "print(mres.summary())"
   ]
  },
  {
   "attachments": {},
   "cell_type": "markdown",
   "id": "3d409c0e-0723-4ac3-81a8-ec1064cd16fd",
   "metadata": {},
   "source": [
    "なお`statsmodels`の`from_formula`を用いる場合は定数項（$\\beta_0$）は自動で挿入されます。\n",
    "定数項をモデルに入れない場合は、式に`-1`を加えます。\n",
    "\n",
    "```{warning}\n",
    "`statsmodels`の他の関数や、`statsmodels`以外の他のパッケージを利用する場合は定数項の扱いが異なりますので、パッケージのドキュメントを確認してから使うようにしましょう。\n",
    "\n",
    "例えば`statsmodels.api.OLS`を用いる場合は明示的に定数項を追加する必要があります。\n",
    "```\n",
    "\n",
    "以下、`statsmodels.api.OLS`関数を用いて同じ重回帰分析を行います。"
   ]
  },
  {
   "cell_type": "code",
   "execution_count": 111,
   "id": "105d9897-9218-422d-80a9-bb406695a336",
   "metadata": {},
   "outputs": [
    {
     "name": "stdout",
     "output_type": "stream",
     "text": [
      "                            OLS Regression Results                            \n",
      "==============================================================================\n",
      "Dep. Variable:                  bwght   R-squared:                       0.030\n",
      "Model:                            OLS   Adj. R-squared:                  0.028\n",
      "Method:                 Least Squares   F-statistic:                     18.45\n",
      "Date:                Wed, 12 Apr 2023   Prob (F-statistic):           1.29e-08\n",
      "Time:                        19:01:02   Log-Likelihood:                -5251.7\n",
      "No. Observations:                1192   AIC:                         1.051e+04\n",
      "Df Residuals:                    1189   BIC:                         1.052e+04\n",
      "Df Model:                           2                                         \n",
      "Covariance Type:            nonrobust                                         \n",
      "==============================================================================\n",
      "                 coef    std err          t      P>|t|      [0.025      0.975]\n",
      "------------------------------------------------------------------------------\n",
      "const        115.0958      2.906     39.612      0.000     109.395     120.796\n",
      "cigs          -0.5815      0.109     -5.314      0.000      -0.796      -0.367\n",
      "fatheduc       0.4134      0.213      1.942      0.052      -0.004       0.831\n",
      "==============================================================================\n",
      "Omnibus:                      119.845   Durbin-Watson:                   1.943\n",
      "Prob(Omnibus):                  0.000   Jarque-Bera (JB):              815.149\n",
      "Skew:                          -0.128   Prob(JB):                    9.83e-178\n",
      "Kurtosis:                       7.043   Cond. No.                         69.0\n",
      "==============================================================================\n",
      "\n",
      "Notes:\n",
      "[1] Standard Errors assume that the covariance matrix of the errors is correctly specified.\n"
     ]
    }
   ],
   "source": [
    "# 被説明変数\n",
    "y = data['bwght']\n",
    "# 説明変数\n",
    "X = data[['cigs','fatheduc']]\n",
    "# 定数項を追加\n",
    "X = sm.add_constant(X)\n",
    "model = sm.OLS(y,X)\n",
    "results = model.fit()\n",
    "print(results.summary())"
   ]
  },
  {
   "attachments": {},
   "cell_type": "markdown",
   "id": "5c607084-b741-446c-95b6-6e722148113e",
   "metadata": {},
   "source": [
    "`sm.OLS.from_formula`と同じ結果が得られることを確認しましょう。"
   ]
  },
  {
   "attachments": {},
   "cell_type": "markdown",
   "id": "572f82f1-4c4a-492b-a609-07af799e0517",
   "metadata": {},
   "source": [
    "## B.L.U.E.\n",
    "最小二乗法では次の仮定が成り立っていることが前提となります。\n",
    "\n",
    "* 母集団におけるモデル(真のモデル)が次式で表される（母集団モデルが線型）\n",
    "\n",
    "$$Y=\\beta_0+\\beta_1x_1+\\beta_2x_2+u$$　\n",
    "\n",
    "\n",
    "* 母集団から標本サイズ$n$が無作為に抽出される${(x_i,y_i)}$(ただし$i=1,...,n$)（Random Sampling, 無作為抽出）\n",
    "    * この仮定により、$ Corr(u_i,u_j|x)=0, i \\neq j$ となる（誤差項同士で関係性がない）\n",
    "    \n",
    "    \n",
    "* $E[U|X]=0$（説明変数と誤差項は平均独立）\n",
    "    * 誤差項の条件付き期待値は0\n",
    "    \n",
    "* 説明変数Xに変動がある（全ての観測値が同じではない）\n",
    "\n",
    "* 誤差項の分散は均一（homoskedasticity）\n",
    "    * 説明変数は誤差項の分散に影響を与えない\n",
    "\n",
    "    $$Var(u|X)=\\sigma^2$$\n",
    "\n",
    "これらの仮定をガウス=マルコフ仮定と呼びます。仮定が満たされていれば、最小二乗推定量は最良線形不偏推定量`BLUE`（`Best`, `Liner`, `Unbiased`, `Estimator`）となります"
   ]
  },
  {
   "attachments": {},
   "cell_type": "markdown",
   "id": "88b838ae-0475-45fe-afef-9e618d642e33",
   "metadata": {},
   "source": [
    "```{note}\n",
    "複数の説明変数を用いる重回帰分析では説明変数間の相関関係が非常に強いと<strong>多重共線性(Multicollinearity)</strong>という問題が生じるため注意が必要です。多重共線性の問題が生じると、本来は統計的に優位であるはずの要因が有意でなくなってしまったり、本来の推定値の符号が逆になってしまったりします。\n",
    "\n",
    "多重共線性の確認方法としてはvariance inflation factors (VIF)があります。\n",
    "\n",
    "statsmodelsでも算出できます。VIFの値が大きい場合（例えば10以上の場合）は多重共線性が存在している可能性があるので対処すべきです。\n",
    "\n",
    "```\n",
    "\n",
    "多重共線性の問題が生じていないかもVIFで確認しましょう。"
   ]
  },
  {
   "attachments": {},
   "cell_type": "markdown",
   "id": "9fc47b92-2e95-412c-bb8e-60e064ec4a29",
   "metadata": {},
   "source": [
    "VIFを`statsmodels`を用いて確認します。\n",
    "\n",
    "各説明変数について、VIFを計算し、dataframeに保存します。"
   ]
  },
  {
   "cell_type": "code",
   "execution_count": 112,
   "id": "8e9d263f-7a89-4c94-904f-14bc420b8ab3",
   "metadata": {},
   "outputs": [
    {
     "data": {
      "text/html": [
       "<div>\n",
       "<style scoped>\n",
       "    .dataframe tbody tr th:only-of-type {\n",
       "        vertical-align: middle;\n",
       "    }\n",
       "\n",
       "    .dataframe tbody tr th {\n",
       "        vertical-align: top;\n",
       "    }\n",
       "\n",
       "    .dataframe thead th {\n",
       "        text-align: right;\n",
       "    }\n",
       "</style>\n",
       "<table border=\"1\" class=\"dataframe\">\n",
       "  <thead>\n",
       "    <tr style=\"text-align: right;\">\n",
       "      <th></th>\n",
       "      <th>feature</th>\n",
       "      <th>VIF</th>\n",
       "    </tr>\n",
       "  </thead>\n",
       "  <tbody>\n",
       "    <tr>\n",
       "      <th>0</th>\n",
       "      <td>const</td>\n",
       "      <td>25.547012</td>\n",
       "    </tr>\n",
       "    <tr>\n",
       "      <th>1</th>\n",
       "      <td>cigs</td>\n",
       "      <td>1.033195</td>\n",
       "    </tr>\n",
       "    <tr>\n",
       "      <th>2</th>\n",
       "      <td>fatheduc</td>\n",
       "      <td>1.033195</td>\n",
       "    </tr>\n",
       "  </tbody>\n",
       "</table>\n",
       "</div>"
      ],
      "text/plain": [
       "    feature        VIF\n",
       "0     const  25.547012\n",
       "1      cigs   1.033195\n",
       "2  fatheduc   1.033195"
      ]
     },
     "execution_count": 112,
     "metadata": {},
     "output_type": "execute_result"
    }
   ],
   "source": [
    "from statsmodels.stats.outliers_influence import variance_inflation_factor\n",
    "\n",
    "vif_data = pd.DataFrame()\n",
    "vif_data['feature'] = X.columns\n",
    "vif_data['VIF'] = [variance_inflation_factor(X.values, i) for i in range(X.shape[1])]\n",
    "vif_data"
   ]
  },
  {
   "attachments": {},
   "cell_type": "markdown",
   "id": "4395eb39-80bf-4f73-a901-35e0d1e57864",
   "metadata": {},
   "source": [
    "## 残差プロット\n",
    "\n",
    "予測値に対して残差をプロットして、残差の等分散性(Heteroscedasticity)や独立性を確認します。\n",
    "\n",
    "* 予測値の区間で残差が0を中心に均一に散らばっていれば良いですが、\n",
    "* 区間によってばらつきが違う場合や明らかな傾向がある場合は等分散性や独立性が成り立っていない可能性があります"
   ]
  },
  {
   "cell_type": "code",
   "execution_count": 124,
   "id": "be90c9ef-8b93-44f2-81ce-1fee5db36597",
   "metadata": {},
   "outputs": [
    {
     "data": {
      "image/png": "[encoded data removed]",
      "text/plain": [
       "<Figure size 400x300 with 1 Axes>"
      ]
     },
     "metadata": {},
     "output_type": "display_data"
    }
   ],
   "source": [
    "y_pred = results.predict()\n",
    "residuals = results.resid\n",
    "\n",
    "fig, ax = plt.subplots(figsize=(4,3))\n",
    "ax.axhline(0, color = 'red')\n",
    "ax.scatter(y_pred, residuals, facecolor='none', edgecolor='blue', s=10)\n",
    "ax.set_ylabel('Residuals')\n",
    "ax.set_xlabel('Predicted values')\n",
    "plt.show()"
   ]
  },
  {
   "attachments": {},
   "cell_type": "markdown",
   "id": "00ac68a1-c77f-4d0c-a17f-e56de57a9ff8",
   "metadata": {},
   "source": [
    "## 不均一分散(Heteroscedasticity)\n",
    "\n",
    "線型回帰の主な前提の一つとしてデータの等分散性がありました。\n",
    "残差プロットを使ってプロットすることで確認しましょう。\n",
    "\n",
    "もしも、残差プロットから明らかな偏りなどがみて取れる場合は、検定を行うことも有用です。\n",
    "\n",
    "不均一分散の有無を検定する方法として`Breusch-Pagan検定`が一般的に使われます。\n",
    "`statsmldels`のパッケージには`het_breushpagan`という関数があります。\n",
    "\n",
    "関数のドキュメントは[こちら](https://www.statsmodels.org/dev/generated/statsmodels.stats.diagnostic.het_breuschpagan.html)。\n",
    "\n",
    "Breusch-Pagan検定では、以下の帰無仮説と対立仮説を用います：\n",
    "\n",
    "* 帰無仮説（H0）： 帰無仮説（H0）：等分散性が存在する。\n",
    "* 対立仮説：（Ha）： 帰無仮説（H0）：等分散が存在しない（すなわち、不均一分散が存在する）。"
   ]
  },
  {
   "cell_type": "code",
   "execution_count": 129,
   "id": "7e630d8d-d8ce-4b16-9ba9-5501718a77bc",
   "metadata": {},
   "outputs": [
    {
     "name": "stdout",
     "output_type": "stream",
     "text": [
      "0.8119188474785499 0.6663372043484885\n"
     ]
    }
   ],
   "source": [
    "import statsmodels.stats.diagnostic as smd\n",
    "lm, lm_pval, _, _ = smd.het_breuschpagan(results.resid, results.model.exog)\n",
    "print(lm, lm_pval)"
   ]
  },
  {
   "attachments": {},
   "cell_type": "markdown",
   "id": "9648d448-a3de-41fa-9e37-7be15acb2c1d",
   "metadata": {},
   "source": [
    "この例の場合では、検定のラグランジュ乗数統計量は0.81で、対応するp値は0.66です。\n",
    "\n",
    "よって、帰無仮説を棄却することはできず、回帰モデルに不均一分散が存在すると言える十分な証拠はないと判断します。"
   ]
  },
  {
   "attachments": {},
   "cell_type": "markdown",
   "id": "ceb2dede-967e-49c5-8764-caa522fdc7b1",
   "metadata": {},
   "source": [
    "### 分散が不均一な場合\n",
    "\n",
    "不均一分散の場合は、必要な変数が欠けていないかなどそもそもの関数形の見直しや、対数変換など変数の変換、一般か線形モデルなどを使用することで対応することもできます。\n",
    "また、statsmodelsのオプションとして`cov_type='HC0'`を用いると、ホワイトの分散不均一のための推定を行います。"
   ]
  },
  {
   "cell_type": "code",
   "execution_count": 133,
   "id": "e4917f3c-6fd6-48f3-ba2d-42a52425f035",
   "metadata": {},
   "outputs": [
    {
     "name": "stdout",
     "output_type": "stream",
     "text": [
      "                            OLS Regression Results                            \n",
      "==============================================================================\n",
      "Dep. Variable:                  bwght   R-squared:                       0.030\n",
      "Model:                            OLS   Adj. R-squared:                  0.028\n",
      "Method:                 Least Squares   F-statistic:                     20.87\n",
      "Date:                Wed, 12 Apr 2023   Prob (F-statistic):           1.23e-09\n",
      "Time:                        19:50:55   Log-Likelihood:                -5251.7\n",
      "No. Observations:                1192   AIC:                         1.051e+04\n",
      "Df Residuals:                    1189   BIC:                         1.052e+04\n",
      "Df Model:                           2                                         \n",
      "Covariance Type:                  HC0                                         \n",
      "==============================================================================\n",
      "                 coef    std err          z      P>|z|      [0.025      0.975]\n",
      "------------------------------------------------------------------------------\n",
      "const        115.0958      2.671     43.095      0.000     109.861     120.330\n",
      "cigs          -0.5815      0.103     -5.621      0.000      -0.784      -0.379\n",
      "fatheduc       0.4134      0.197      2.101      0.036       0.028       0.799\n",
      "==============================================================================\n",
      "Omnibus:                      119.845   Durbin-Watson:                   1.943\n",
      "Prob(Omnibus):                  0.000   Jarque-Bera (JB):              815.149\n",
      "Skew:                          -0.128   Prob(JB):                    9.83e-178\n",
      "Kurtosis:                       7.043   Cond. No.                         69.0\n",
      "==============================================================================\n",
      "\n",
      "Notes:\n",
      "[1] Standard Errors are heteroscedasticity robust (HC0)\n"
     ]
    }
   ],
   "source": [
    "mres_new_white = model.fit(cov_type='HC0')\n",
    "print(mres_new_white.summary())"
   ]
  }
 ],
 "metadata": {
  "kernelspec": {
   "display_name": "Python 3 (ipykernel)",
   "language": "python",
   "name": "python3"
  },
  "language_info": {
   "codemirror_mode": {
    "name": "ipython",
    "version": 3
   },
   "file_extension": ".py",
   "mimetype": "text/x-python",
   "name": "python",
   "nbconvert_exporter": "python",
   "pygments_lexer": "ipython3",
   "version": "3.8.16"
  }
 },
 "nbformat": 4,
 "nbformat_minor": 5
}
