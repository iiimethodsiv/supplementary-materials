{
 "cells": [
  {
   "attachments": {},
   "cell_type": "markdown",
   "id": "aa5ed150-c487-4697-b8cf-d7a89fafe745",
   "metadata": {},
   "source": [
    "#  回帰分析\n"
   ]
  },
  {
   "attachments": {},
   "cell_type": "markdown",
   "id": "d73b8b34-7416-4cf0-9d4e-13a5259fff07",
   "metadata": {},
   "source": [
    "\n",
    "## 単回帰分析\n",
    "\n",
    "ここではまず、説明変数が１つの単回帰（Simple Regression）を考えます。\n",
    "\n",
    "$y_i = \\beta_0+\\beta_1x_i+\\epsilon_i$\n",
    "\n",
    "\n",
    "* $y_i$： 被説明変数（explained variable）, 従属変数（dependent variable）,アウトカム（outcome variable）など\n",
    "\n",
    "* $x_i$： 説明変数（explanatory variable）, 独立変数（independent variable）など\n",
    "\n",
    "* $\\epsilon_i$： 誤差項（erros, error terms) 平均はゼロと仮定\n",
    "\n",
    "* $i$： 観測値のインデックス\n",
    "\n",
    "* $\\beta_0$：定数項、切片パラメター\n",
    "\n",
    "* $\\beta_1$：係数パラメター、傾きパラメター"
   ]
  },
  {
   "attachments": {},
   "cell_type": "markdown",
   "id": "19e8e080-95f3-499f-8ec1-7298b829ad4c",
   "metadata": {},
   "source": [
    "最小二乗法推定法（Ordinary Least Squares; OLS）やモーメント法、最尤法などで推定できます。\n",
    "\n",
    "最小二乗法の場合は、\n",
    "\n",
    "$\\sum_{i=1}^{n}(y_i-\\beta_0-\\beta_1x_i)^2$ を最小化する$\\beta_0$, $\\beta_1$を求めます"
   ]
  },
  {
   "attachments": {},
   "cell_type": "markdown",
   "id": "ab86b3da-7435-4e0d-9a06-d84410c835e9",
   "metadata": {},
   "source": [
    "推定した係数$\\beta_1$は被説明変数$y_i$に対する説明変数$x_i$の影響度合いを表す<strong>限界効果</strong>、あるいは説明変数が１単位変化した場合の被説明変数の変化（$\\frac{\\delta y_i}{\\delta x_i}$）と解釈することができます。"
   ]
  },
  {
   "attachments": {},
   "cell_type": "markdown",
   "id": "c08f99a2-f086-4464-842d-724b36403080",
   "metadata": {},
   "source": [
    "\n",
    "\n",
    "ここでは`statsmodels` を用いて単回帰分析を行います。\n",
    "\n",
    "`statsmodels`は線形回帰、一般化線形モデル、制限付き従属変数モデル、ARIMA、VARモデルなどをカバーするパッケージです。\n"
   ]
  },
  {
   "cell_type": "code",
   "execution_count": 2,
   "id": "75f0d4ed-6a37-42fc-92eb-431249ad332d",
   "metadata": {},
   "outputs": [],
   "source": [
    "import numpy as np\n",
    "import pandas as pd\n",
    "import statsmodels.api as sm\n",
    "import matplotlib.pyplot as plt"
   ]
  },
  {
   "attachments": {},
   "cell_type": "markdown",
   "id": "7775cbd7-ac46-4c43-a91c-5145573d2a9f",
   "metadata": {},
   "source": [
    "回帰分析で用いるデータを読み込みます。\n",
    "\n",
    "ここでは、`statsmodels`に付属する`statecrime`というデータセットの1つで、1996年`American National Elections Study`のデータを用いて回帰分析を行います。"
   ]
  },
  {
   "cell_type": "code",
   "execution_count": 18,
   "id": "6eda48b5-9d42-4f0f-9273-719ff44d925c",
   "metadata": {},
   "outputs": [],
   "source": [
    "data = sm.datasets.statecrime.load_pandas().data"
   ]
  },
  {
   "cell_type": "code",
   "execution_count": 19,
   "id": "73638e8b-8435-4103-b1b7-107530831332",
   "metadata": {},
   "outputs": [
    {
     "data": {
      "text/html": [
       "<div>\n",
       "<style scoped>\n",
       "    .dataframe tbody tr th:only-of-type {\n",
       "        vertical-align: middle;\n",
       "    }\n",
       "\n",
       "    .dataframe tbody tr th {\n",
       "        vertical-align: top;\n",
       "    }\n",
       "\n",
       "    .dataframe thead th {\n",
       "        text-align: right;\n",
       "    }\n",
       "</style>\n",
       "<table border=\"1\" class=\"dataframe\">\n",
       "  <thead>\n",
       "    <tr style=\"text-align: right;\">\n",
       "      <th></th>\n",
       "      <th>violent</th>\n",
       "      <th>murder</th>\n",
       "      <th>hs_grad</th>\n",
       "      <th>poverty</th>\n",
       "      <th>single</th>\n",
       "      <th>white</th>\n",
       "      <th>urban</th>\n",
       "    </tr>\n",
       "    <tr>\n",
       "      <th>state</th>\n",
       "      <th></th>\n",
       "      <th></th>\n",
       "      <th></th>\n",
       "      <th></th>\n",
       "      <th></th>\n",
       "      <th></th>\n",
       "      <th></th>\n",
       "    </tr>\n",
       "  </thead>\n",
       "  <tbody>\n",
       "    <tr>\n",
       "      <th>Alabama</th>\n",
       "      <td>459.9</td>\n",
       "      <td>7.1</td>\n",
       "      <td>82.1</td>\n",
       "      <td>17.5</td>\n",
       "      <td>29.0</td>\n",
       "      <td>70.0</td>\n",
       "      <td>48.65</td>\n",
       "    </tr>\n",
       "    <tr>\n",
       "      <th>Alaska</th>\n",
       "      <td>632.6</td>\n",
       "      <td>3.2</td>\n",
       "      <td>91.4</td>\n",
       "      <td>9.0</td>\n",
       "      <td>25.5</td>\n",
       "      <td>68.3</td>\n",
       "      <td>44.46</td>\n",
       "    </tr>\n",
       "  </tbody>\n",
       "</table>\n",
       "</div>"
      ],
      "text/plain": [
       "         violent  murder  hs_grad  poverty  single  white  urban\n",
       "state                                                           \n",
       "Alabama    459.9     7.1     82.1     17.5    29.0   70.0  48.65\n",
       "Alaska     632.6     3.2     91.4      9.0    25.5   68.3  44.46"
      ]
     },
     "execution_count": 19,
     "metadata": {},
     "output_type": "execute_result"
    }
   ],
   "source": [
    "# dataの最初の2行を表示\n",
    "data.head(2)"
   ]
  },
  {
   "attachments": {},
   "cell_type": "markdown",
   "id": "dffb10b0-bca2-45f2-9dd5-a407a9ecda86",
   "metadata": {},
   "source": [
    "このデータは以下のデータを格納しています\n",
    "\n",
    "* state: 州の名前\n",
    "* violent: 暴力犯罪発生率／人口10万人。殺人を含む\n",
    "* murder: 殺人事件の発生率／人口10万人\n",
    "* hs_grad: 高等学校以上を卒業した人口の割合\n",
    "* poverty: 貧困線以下の人口の割合\n",
    "* white: 白人のみの人口の割合\n",
    "* single: 片親のいる家族世帯の割合\n",
    "* urban: 市街化区域に住む人口の割合"
   ]
  },
  {
   "attachments": {},
   "cell_type": "markdown",
   "id": "a62577b5-6536-402c-87a7-67545f137d70",
   "metadata": {},
   "source": [
    "`murder` 殺人事件の発生率を被説明変数($y_i$)、`poverty`貧困人口の割合を説明変数($x_i$)とした単回帰分析を行います。"
   ]
  },
  {
   "cell_type": "code",
   "execution_count": 43,
   "id": "73536dcd-63a1-499a-aa60-a1d602e8d4d8",
   "metadata": {},
   "outputs": [
    {
     "name": "stdout",
     "output_type": "stream",
     "text": [
      "                            OLS Regression Results                            \n",
      "==============================================================================\n",
      "Dep. Variable:                 murder   R-squared:                       0.294\n",
      "Model:                            OLS   Adj. R-squared:                  0.279\n",
      "Method:                 Least Squares   F-statistic:                     20.36\n",
      "Date:                Wed, 05 Apr 2023   Prob (F-statistic):           4.03e-05\n",
      "Time:                        20:13:27   Log-Likelihood:                -128.98\n",
      "No. Observations:                  51   AIC:                             262.0\n",
      "Df Residuals:                      49   BIC:                             265.8\n",
      "Df Model:                           1                                         \n",
      "Covariance Type:            nonrobust                                         \n",
      "==============================================================================\n",
      "                 coef    std err          t      P>|t|      [0.025      0.975]\n",
      "------------------------------------------------------------------------------\n",
      "Intercept     -3.8989      1.998     -1.952      0.057      -7.913       0.115\n",
      "poverty        0.6351      0.141      4.512      0.000       0.352       0.918\n",
      "==============================================================================\n",
      "Omnibus:                       63.810   Durbin-Watson:                   2.087\n",
      "Prob(Omnibus):                  0.000   Jarque-Bera (JB):              533.355\n",
      "Skew:                           3.237   Prob(JB):                    1.53e-116\n",
      "Kurtosis:                      17.459   Cond. No.                         65.7\n",
      "==============================================================================\n",
      "\n",
      "Notes:\n",
      "[1] Standard Errors assume that the covariance matrix of the errors is correctly specified.\n"
     ]
    }
   ],
   "source": [
    "mod = sm.OLS.from_formula('murder ~ poverty', data = data)\n",
    "res = mod.fit()\n",
    "print(res.summary())"
   ]
  },
  {
   "attachments": {},
   "cell_type": "markdown",
   "id": "4e34392d-4e11-4654-a312-33d382f2d97b",
   "metadata": {},
   "source": [
    "** その他の結果の表の読み方は[このページ](https://www.statsmodels.org/stable/generated/statsmodels.regression.linear_model.RegressionResults.html)を参照してください。"
   ]
  },
  {
   "attachments": {},
   "cell_type": "markdown",
   "id": "ad3ed119-7158-4711-ad3e-cfeb13a938f9",
   "metadata": {},
   "source": [
    "$\\beta_0$の推計値は`intercept`行、`coef`列の値`-3.8989`です。\n",
    "$\\beta_1$の推計値は`poverty`行、`coef`列の値`0.6351`です。\n",
    "すなわち、$\\beta_1$は貧困人口の割合が1ポイント高い場合、殺人事件発生率は何ポイント変化するかを示しています。\n",
    "今回の単回帰分析推定結果からは貧困人口の割合が1ポイント高い場合、殺人事件発生率は約0.6ポイント高いことを示しています。"
   ]
  },
  {
   "attachments": {},
   "cell_type": "markdown",
   "id": "85e47f3d-66a1-43b1-92c5-9683bbfd8a00",
   "metadata": {},
   "source": [
    "また、回帰モデルの当てはまりの良さは自由度調整済決定係数`Adj. R-squared`で確認できます。\n",
    "0から1までの間の値で、値が大きいほど回帰直線がデータをうまく説明できている（フィットしている）ことになります。"
   ]
  },
  {
   "attachments": {},
   "cell_type": "markdown",
   "id": "a49111b9-83ed-4490-91d2-2fb1228fc3d8",
   "metadata": {},
   "source": [
    "回帰分析の結果を図で確認します。\n",
    "\n",
    "$\\hat{y}$予測値を取得し、その上で回帰直線を示します。"
   ]
  },
  {
   "cell_type": "code",
   "execution_count": 50,
   "id": "dbc61246-6fe7-489a-9387-3da874da3e1f",
   "metadata": {},
   "outputs": [
    {
     "data": {
      "image/png": "[encoded data removed]",
      "text/plain": [
       "<Figure size 640x480 with 1 Axes>"
      ]
     },
     "metadata": {},
     "output_type": "display_data"
    }
   ],
   "source": [
    "y = data['murder']\n",
    "x = data['poverty']\n",
    "y_hat = res.fittedvalues\n",
    "plt.scatter(x=x, y=y, color = 'grey', alpha= .5)\n",
    "plt.plot(x, y_hat, color = 'red')\n",
    "plt.xlabel('Poverty')\n",
    "plt.ylabel('Murder')\n",
    "plt.show()"
   ]
  },
  {
   "attachments": {},
   "cell_type": "markdown",
   "id": "cd6b659a-3cc5-49bd-888d-d3300ec82ee7",
   "metadata": {},
   "source": [
    "最小二乗法のイメージを図で掴んでみます。"
   ]
  },
  {
   "cell_type": "code",
   "execution_count": 58,
   "id": "d28b5408-ec6a-4443-aee8-4b1de42382ff",
   "metadata": {},
   "outputs": [
    {
     "data": {
      "image/png": "[encoded data removed]",
      "text/plain": [
       "<Figure size 640x480 with 1 Axes>"
      ]
     },
     "metadata": {},
     "output_type": "display_data"
    }
   ],
   "source": [
    "for i in range(len(y)):\n",
    "    dot_fitted_values = [x[i], x[i]]\n",
    "    dot_org_values = [y[i], y_hat[i]]\n",
    "    plt.plot(dot_fitted_values, dot_org_values, linestyle='--', \n",
    "             color='grey',alpha=0.5)\n",
    "plt.scatter(x=x, y=y, color = 'grey', alpha= .5)\n",
    "plt.plot(x, y_hat, color = 'red')\n",
    "plt.xlabel('Poverty')\n",
    "plt.ylabel('Murder')\n",
    "plt.title(r'$\\hat Y = {:.2f}+{:.2f}X$'.format(res.params[0], res.params[1]))\n",
    "plt.show()"
   ]
  },
  {
   "attachments": {},
   "cell_type": "markdown",
   "id": "92d091d8-4477-40ea-a608-1ae9e3cbbf91",
   "metadata": {},
   "source": [
    "上の図で灰色のプロットは観測値で、赤い実線は推定した回帰線です。\n",
    "\n",
    "灰色の波線は$y_i$と$\\hat{y_i}$の差、残差(residual)$\\epsilon_i$を示します。\n",
    "\n",
    "$$\\epsilon_i = Y_i - \\hat{Y-i} = Y_i - \\hat{\\beta_1} - \\hat{\\beta_2}X_i$$\n",
    "\n",
    "最小二乗法ではRSS(residual sum of squares)$RSS=\\sum_{i=1}^n\\epsilon_i^2$を最小化する$\\beta_1$と$\\beta_2$を推定します。"
   ]
  },
  {
   "attachments": {},
   "cell_type": "markdown",
   "id": "1d7a9c5e-2c77-4846-bfc4-5538fb7caeef",
   "metadata": {},
   "source": []
  }
 ],
 "metadata": {
  "kernelspec": {
   "display_name": "Python 3 (ipykernel)",
   "language": "python",
   "name": "python3"
  },
  "language_info": {
   "codemirror_mode": {
    "name": "ipython",
    "version": 3
   },
   "file_extension": ".py",
   "mimetype": "text/x-python",
   "name": "python",
   "nbconvert_exporter": "python",
   "pygments_lexer": "ipython3",
   "version": "3.8.16"
  }
 },
 "nbformat": 4,
 "nbformat_minor": 5
}
