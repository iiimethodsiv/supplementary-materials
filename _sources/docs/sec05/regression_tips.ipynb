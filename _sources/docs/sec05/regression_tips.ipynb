{
 "cells": [
  {
   "attachments": {},
   "cell_type": "markdown",
   "id": "9abcfe67-1ec3-42a8-8c26-d2ed224b5617",
   "metadata": {},
   "source": [
    "# 非線形・交差項・二乗項\n",
    "\n",
    "線型モデルは制約的に感じられるかもしれませんが，二乗や自然対数`ln(x)`の変換を行うことで， xの非線形の効果を捉えることも可能です\n",
    "\n",
    "## 自然対数を用いた非線形モデルの推定\n",
    "\n",
    "変数の自然対数をとって推定に用いることもよく行われます。\n",
    "\n",
    "例えば、コブダグラス型の生産関数は通常、労働$L$と資本$K$を用いてアウトプット$Y$が算出されるテクノロジーとして$Y=L^aK^b$と、定式化されます。この場合、このまま生産関数を推定しようとすると非線形モデルとなりますが、両辺とも自然対数をとって$LnY=alnL+blnK$と変換することで線型モデルとして扱うことができます。\n",
    "\n",
    "また、自然対数をとると被説明変数や説明変数の単位（円、千円、時間、分など ）によらず単位の異なるデータを用いた推定結果の比較や弾性値（弾力性）の推定が容易になります。両辺が自然対数をとった$lnY=\\beta_0+\\beta_1 ln X+ u$という式ではパラメータ$\\beta_1$は説明変数Xが1％変化した時に被説明変数yが何％変化すると解釈することができます。"
   ]
  },
  {
   "attachments": {},
   "cell_type": "markdown",
   "id": "9bfabe89-31c0-4035-8381-472d0d94b114",
   "metadata": {},
   "source": [
    "傾きパラメータの解釈\n",
    "| 被説明変数 | 説明変数 |解釈                                          | \n",
    "| ---------- | -------- | :-------------------------------------------- | \n",
    "| $Y$          | $X$        | $X$が１単位増えた時$Y$が$\\beta_1$単位増える         | \n",
    "| $lnY$       | $X$        | $X$が１単位増えた時$Y$が$100 \\times \\beta_1$%増える | \n",
    "| $Y$          | $lnX$     | $X$が1%増えた時$Y$が$\\beta_1 / 100$ 単位増える      | \n",
    "| $lnY$       | $lnX$     | $X$が1%増えた時$Y$が$\\beta_1$%増える      | "
   ]
  },
  {
   "attachments": {},
   "cell_type": "markdown",
   "id": "25e1361f-e81f-472b-86cc-d41aa1e65bc0",
   "metadata": {},
   "source": [
    "## ダミー変数（Dummy variable）\n",
    "性別や年齢層、職業カテゴリなどの連続値以外の質的データやカテゴリデータを用いて、その差が被説明変数に与える影響を調べたい際には、0または1の値を取る<strong>ダミー変数</strong>を用います。\n",
    "\n",
    "例えば、高校卒業をしているかしていないかが賃金水準に与える影響を調べたい際には、高校を卒業していれば`1`それ以外は`0`を持つダミー変数を用います。ダミー変数はこれまでに扱った連続値と同様にモデルの中に入れて推定を行うことができます。\n",
    "\n",
    "ダミー変数を用いる際には基準カテゴリが必要となります。例えば、卒業高校に関するカテゴリ変数で、公立高校卒業、私立高校卒業、高等専門学校卒業、それ以外（高校卒業未満を含む）という4つのカテゴリを持つ変数をモデルに入れる場合、公立高校卒業者だけ1をとるダミー、私立高校卒業者だけ1をとるダミー、高等専門学校卒業者だけ1をとるダミー、それ以外（高校卒業未満を含む）だけ1をとるダミーの4つのダミーを作ることが可能ですが、実際には1つの分類を<strong>基準カテゴリ（ベース）</strong>と設定して、そのベースを除いたダミー変数のみをモデルに入れます。つまり、カテゴリの数-1このダミー変数をモデルに入れます。これは多重共線性の問題を避けるためです。\n"
   ]
  },
  {
   "attachments": {},
   "cell_type": "markdown",
   "id": "e116d9ae",
   "metadata": {},
   "source": [
    "例として、賃金に勤務年数が与える影響を考えます。\n",
    "IT企業での賃金の関するデータを用いて、学歴（E）が賃金(S)に与える影響を見ていきます。\n",
    "学歴(E)は 1=学部卒, 2=修士卒, 3=博士卒の値を格納していますが、ここでは、簡単のため、学歴（E）を学部卒なら0、修士卒以上なら1とする2値の新しいダミー変数をつくって進めます。"
   ]
  },
  {
   "cell_type": "code",
   "execution_count": null,
   "id": "92b08b01",
   "metadata": {},
   "outputs": [],
   "source": [
    "from urllib.request import urlopen\n",
    "import numpy as np\n",
    "from statsmodels.formula.api import ols\n",
    "import pandas as pd"
   ]
  },
  {
   "attachments": {},
   "cell_type": "markdown",
   "id": "eac40672",
   "metadata": {},
   "source": [
    "> 本項の説明は、次のページのデータを用いています。一部説明も参考にしています。https://web.stanford.edu/class/stats191/"
   ]
  },
  {
   "cell_type": "code",
   "execution_count": null,
   "id": "4e44f23b",
   "metadata": {},
   "outputs": [],
   "source": [
    "url = 'http://stats191.stanford.edu/data/salary.table'\n",
    "fh = urlopen(url)\n",
    "salary_df = pd.read_table(fh, dtype={'S':int, 'X':int, 'E':int, 'M':int})\n",
    "salary_df.head(2)"
   ]
  },
  {
   "cell_type": "code",
   "execution_count": null,
   "id": "4018cd91",
   "metadata": {},
   "outputs": [],
   "source": [
    "# 学部卒なら0、修士卒以上なら1を持つダミー変数EHを作る\n",
    "salary_df.loc[:,'EH'] = salary_df['E'].replace({1:0, 2:1, 3:1})\n",
    "# 基本統計量を確認\n",
    "salary_df['EH'].describe()"
   ]
  },
  {
   "attachments": {},
   "cell_type": "markdown",
   "id": "cf58f2cf",
   "metadata": {},
   "source": [
    "以下の単回帰式を求めます。\n",
    "\n",
    "$$S_i=\\beta_0+\\beta_1EH_{i1}+\\epsilon_i$$\n",
    "\n",
    "### statsmodelsを用いたダミー変数の生成\n",
    "`statsmodels`では、`C()`でカテゴリー変数から自動的にダミー変数に割り当てます。また、`Treatment()`を指定することで基準カテゴリ（ベース）を指定することができます。"
   ]
  },
  {
   "cell_type": "code",
   "execution_count": null,
   "id": "a13ed15a",
   "metadata": {},
   "outputs": [],
   "source": [
    "simple_formula = 'S ~ C(EH, Treatment(0))'\n",
    "# Treatmentはデフォルトでは最も若い値が基準カテゴリとなるため、\n",
    "# ここでは、以下の式でも同じ結果が得られます。\n",
    "# simple_formula = 'S ~ C(EH)'としても同じ結果になります。\n",
    "simple_res = ols(simple_formula, data = salary_df).fit()\n",
    "print(simple_res.summary())"
   ]
  },
  {
   "attachments": {},
   "cell_type": "markdown",
   "id": "3fda3a22",
   "metadata": {},
   "source": [
    "上で得られた結果の中で、`C(EH, Treatment(0))[T.1]`の`coef`を確認します。\n",
    "`EH=1`（修士卒以上）の従業員は基準カテゴリである学部卒の従業員に比べて、賃金は$3347.5000平均で高いことがわかります（ただし、この分析では他の要因を考慮していないので留意が必要です）。"
   ]
  },
  {
   "attachments": {},
   "cell_type": "markdown",
   "id": "a2848315",
   "metadata": {},
   "source": [
    "### pandasを用いたダミー変数の生成\n",
    "次に参考までに、`C()`を用いないで、ダミー変数を先に`pandas`などで生成してから式に入れる方法でも実行してみましょう。\n",
    "\n",
    "ここでは、`pandas`の`pd.get_dummies()`を用いてダミー変数をテーブルデータに新たな変数として追加してから式に渡す方法を紹介します。\n",
    "3つの値（1=学部卒, 2=修士卒, 3=博士卒）を持つ`E`からダミー変数を作ります。"
   ]
  },
  {
   "cell_type": "code",
   "execution_count": null,
   "id": "7b429ef9",
   "metadata": {},
   "outputs": [],
   "source": [
    "dummies = pd.get_dummies(salary_df['E'], prefix='E', prefix_sep='')\n",
    "salary_df = salary_df.join(dummies)\n",
    "# 最初の２行を表示\n",
    "salary_df.head(2)"
   ]
  },
  {
   "cell_type": "code",
   "execution_count": null,
   "id": "fe7517e3",
   "metadata": {},
   "outputs": [],
   "source": [
    "# ダミー変数はカテゴリーの数-1の変数を式に入れ、入れなかった変数を基準カテゴリとします\n",
    "simple_formula = 'S ~ E2 + E3'\n",
    "simple_res = ols(simple_formula, data = salary_df).fit()\n",
    "print(simple_res.summary())"
   ]
  },
  {
   "attachments": {},
   "cell_type": "markdown",
   "id": "acbab977",
   "metadata": {},
   "source": [
    "\n",
    "## 交差項（Interaction term）\n",
    "\n",
    "ある変数が別の変数の値によって異なる影響を与えることを確認する際等に交差項を使います。\n",
    "\n",
    "例えば、上の分析の例では、学歴が修士卒以上の従業員と学部卒の従業員の間で、マネージャーであることが賃金に与える影響の違いを捉えることができます。\n",
    "\n",
    "\n",
    "上の例と同じ賃金に関するデータを用いて、交差項を見ていきます\n",
    "賃金(S)と、学歴(EH, 0=学部卒, 1=修士/博士卒)、マネージャーかどうか（M, 1=management, 0= not management）の関係性を見ていきます。"
   ]
  },
  {
   "attachments": {},
   "cell_type": "markdown",
   "id": "e1c5b4d6",
   "metadata": {},
   "source": [
    "\n",
    "まず、交差項を用いた分析をする前に、交差項を用いない以下の通常の重回帰分析を考えます。\n",
    "\n",
    "$$S_i=\\beta_0+\\beta_1EH_{i1}+\\beta_2M_{i1}+\\epsilon_i$$\n",
    "\n",
    "上の式で、$EH_i1$は修士・博士卒（EH＝1）であれば1それ以外であれば0を取るダミー変数です。\n"
   ]
  },
  {
   "cell_type": "code",
   "execution_count": null,
   "id": "3d29e75b",
   "metadata": {},
   "outputs": [],
   "source": [
    "formula = 'S ~ C(M, Treatment(0)) + C(EH, Treatment(0))'\n",
    "# formula = 'S ~ C(M) + C(EH)' と書いてもここでは同じ結果が得られます。\n",
    "lm = ols(formula, salary_df).fit()\n",
    "print(lm.summary())"
   ]
  },
  {
   "attachments": {},
   "cell_type": "markdown",
   "id": "9ce680ca",
   "metadata": {},
   "source": [
    "上の例のように交差項がない場合は、変数（マネージャーであること）のカテゴリー間の平均値の差は、他の変数（上の例の場合学歴）に関係なく同じであると仮定しています。\n",
    "\n",
    "交差項を用いる場合は、変数カテゴリー（上の例ではマネージャであること）の平均値の差がが他の変数（上の例の場合は学部卒か修士・博士卒か）によって異なることを確認することができます。\n",
    "\n",
    "交差項の係数の解釈では、交差項に入れた２つの変数に当てはまらい場合の平均値に比べて、追加で平均値に差をで与えると考えることができます。"
   ]
  },
  {
   "attachments": {},
   "cell_type": "markdown",
   "id": "6a0d783c",
   "metadata": {},
   "source": [
    "\n",
    "次に、学歴($EH$)とマネージャーかどうかのダミー変数($M$)の交差項を考えます。\n",
    "\n",
    "$$S_i=\\beta_0+\\beta_1EH_{i1}+\\beta_2{M_i1}+\\beta_3EH_{i1}M_{i1}+\\epsilon_i$$\n",
    "\n",
    "ここでは、2つのサブモデルを考えることができます。\n",
    "\n",
    "* マネージャーでない場合($M=0$): $S_i=\\beta_0+\\beta_1{EH_{i1}}+\\epsilon_i$\n",
    "* マネージャーである場合($M=1$): $S_i=(\\beta_0+\\beta_2)+(\\beta_1+\\beta_3){EH_{i1}}+\\epsilon_i$\n",
    "\n",
    "パラメーターや係数の解釈例としては、以下のようになります。\n",
    "* $\\beta_0$：学部卒（$EH=0$）でマネージャではない場合（$M=0$）の平均賃金\n",
    "* $\\beta_1$：マネージャでない場合に（$M=0$）、修士・博士卒（$EH=1$）が賃金に与える効果\n",
    "* $(\\beta_0+\\beta_2)$：学部卒の場合（$EH=0$）の場合のマネージャーであること際の（$M=1$）平均賃金\n",
    "* $(\\beta_1+\\beta_3)$：マネージャーである場合（$M=1$）で修士・博士卒である場合（$EH=1$）の平均賃金\n",
    "\n",
    "`statsmodels`では`:`を用いて交差項を表現できます。`C(M):C(EH)`で$\\beta_3EH_{i1}M_{i1}$をつくります。"
   ]
  },
  {
   "cell_type": "code",
   "execution_count": null,
   "id": "fb45f4e7",
   "metadata": {},
   "outputs": [],
   "source": [
    "interaction_formula = \"S ~ C(EH) + C(M) + C(EH):C(M)\"\n",
    "interaction_ols= ols(interaction_formula, data=salary_df)\n",
    "interaction_res = interaction_ols.fit()\n",
    "print(interaction_res.summary())"
   ]
  },
  {
   "attachments": {},
   "cell_type": "markdown",
   "id": "1026c2de",
   "metadata": {},
   "source": [
    "得られた結果のうち交差項`C(M)[T.1]:C(EH)[T.1]`の係数`coef`と、そのt値・p値を確認します。\n",
    "`coef`は7321.7634で、t値が十分に大きい（p値も十分に小さい）値であることから、マネージャーであることが賃金に与える影響は学歴（修士号・博士号の有無）によって効果が異なることが確認できます。\n",
    "\n",
    "解釈としては、学部卒・非マネージャー職より、修士・博士号取得者は、マネージャになると平均で$7322高い賃金を得ている。\n"
   ]
  },
  {
   "attachments": {},
   "cell_type": "markdown",
   "id": "cbcc7686",
   "metadata": {},
   "source": [
    "## 二乗項（Quadratic term）\n",
    "\n",
    "賃金の上昇は若い時は経験年数が1年伸びると大きいものの、歳をとるにつれて伸びが緩やかになっていく場合もあるかもしれません。こうした変化を考慮するための１つの方法として、高次項を含む重回帰分析モデルを考えることができます。\n",
    "\n",
    "$$S_i=\\beta_0+\\beta_1X+\\beta_2X^2+\\beta_3EH_{1i}+\\beta_5EH_{1i}M_{i}+\\beta_6M_{i}+\\epsilon_i$$\n",
    "\n",
    "statsmodels.from_formulaで二乗を回帰式に入れる場合は`I()`を直接fomula内に書くことができます。\n"
   ]
  },
  {
   "cell_type": "code",
   "execution_count": null,
   "id": "5cb7accc",
   "metadata": {},
   "outputs": [],
   "source": [
    "quadr_formula = \"S ~ X + I(X**2) + C(EH) + C(M) + C(EH):C(M)\"\n",
    "quadr_ols= ols(quadr_formula, data=salary_df)\n",
    "quadr_res = quadr_ols.fit()\n",
    "print(quadr_res.summary())"
   ]
  },
  {
   "attachments": {},
   "cell_type": "markdown",
   "id": "b379446f",
   "metadata": {},
   "source": [
    "得られた結果のうち`I(X ** 2)`が経験年数の二乗項の係数です。t値が小さくp値も大きいので、経験年数が二条項としての効果があるとは言えない（経験年数が増えるほど経験年数が浅い人に比べて、経験年数1年増加に対する効果は小さくなるとは言えない）と解釈できます。\n"
   ]
  }
 ],
 "metadata": {
  "kernelspec": {
   "display_name": "Python 3 (ipykernel)",
   "language": "python",
   "name": "python3"
  },
  "language_info": {
   "codemirror_mode": {
    "name": "ipython",
    "version": 3
   },
   "file_extension": ".py",
   "mimetype": "text/x-python",
   "name": "python",
   "nbconvert_exporter": "python",
   "pygments_lexer": "ipython3",
   "version": "3.8.16"
  }
 },
 "nbformat": 4,
 "nbformat_minor": 5
}
