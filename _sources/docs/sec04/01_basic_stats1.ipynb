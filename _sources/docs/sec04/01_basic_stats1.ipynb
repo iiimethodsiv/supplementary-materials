{
 "cells": [
  {
   "attachments": {},
   "cell_type": "markdown",
   "metadata": {},
   "source": [
    "# 平均値・中央値・最頻値\n",
    "\n",
    "データを代表する値を抽出するために、平均値や中央値、最頻値などが用いられます。\n",
    "\n"
   ]
  },
  {
   "attachments": {},
   "cell_type": "markdown",
   "metadata": {},
   "source": [
    "\n",
    "ここからは、次のcellでつくる `pandas`の`DataFrame`に格納したテーブルデータを用いて平均値、中央値、最頻値を求めます。"
   ]
  },
  {
   "cell_type": "code",
   "execution_count": 28,
   "metadata": {},
   "outputs": [
    {
     "data": {
      "text/html": [
       "<div>\n",
       "<style scoped>\n",
       "    .dataframe tbody tr th:only-of-type {\n",
       "        vertical-align: middle;\n",
       "    }\n",
       "\n",
       "    .dataframe tbody tr th {\n",
       "        vertical-align: top;\n",
       "    }\n",
       "\n",
       "    .dataframe thead th {\n",
       "        text-align: right;\n",
       "    }\n",
       "</style>\n",
       "<table border=\"1\" class=\"dataframe\">\n",
       "  <thead>\n",
       "    <tr style=\"text-align: right;\">\n",
       "      <th></th>\n",
       "      <th>price</th>\n",
       "      <th>item_name</th>\n",
       "      <th>number</th>\n",
       "      <th>created_at</th>\n",
       "    </tr>\n",
       "  </thead>\n",
       "  <tbody>\n",
       "    <tr>\n",
       "      <th>0</th>\n",
       "      <td>100</td>\n",
       "      <td>pen</td>\n",
       "      <td>5</td>\n",
       "      <td>2018-06-01 00:00:00</td>\n",
       "    </tr>\n",
       "    <tr>\n",
       "      <th>1</th>\n",
       "      <td>400</td>\n",
       "      <td>bread</td>\n",
       "      <td>4</td>\n",
       "      <td>2018-06-27 03:00:00</td>\n",
       "    </tr>\n",
       "    <tr>\n",
       "      <th>2</th>\n",
       "      <td>300</td>\n",
       "      <td>brad</td>\n",
       "      <td>1</td>\n",
       "      <td>2018-07-23 06:00:00</td>\n",
       "    </tr>\n",
       "    <tr>\n",
       "      <th>3</th>\n",
       "      <td>1000</td>\n",
       "      <td>shirt</td>\n",
       "      <td>0</td>\n",
       "      <td>2018-08-18 09:00:00</td>\n",
       "    </tr>\n",
       "    <tr>\n",
       "      <th>4</th>\n",
       "      <td>500</td>\n",
       "      <td>milk</td>\n",
       "      <td>4</td>\n",
       "      <td>2018-09-13 12:00:00</td>\n",
       "    </tr>\n",
       "    <tr>\n",
       "      <th>5</th>\n",
       "      <td>1000</td>\n",
       "      <td>T-shirt</td>\n",
       "      <td>200</td>\n",
       "      <td>2018-10-09 15:00:00</td>\n",
       "    </tr>\n",
       "    <tr>\n",
       "      <th>6</th>\n",
       "      <td>400</td>\n",
       "      <td>apple</td>\n",
       "      <td>7</td>\n",
       "      <td>2018-11-04 18:00:00</td>\n",
       "    </tr>\n",
       "    <tr>\n",
       "      <th>7</th>\n",
       "      <td>400</td>\n",
       "      <td>pen</td>\n",
       "      <td>4</td>\n",
       "      <td>2018-11-30 21:00:00</td>\n",
       "    </tr>\n",
       "    <tr>\n",
       "      <th>8</th>\n",
       "      <td>240</td>\n",
       "      <td>banana</td>\n",
       "      <td>20</td>\n",
       "      <td>2018-12-27 00:00:00</td>\n",
       "    </tr>\n",
       "    <tr>\n",
       "      <th>9</th>\n",
       "      <td>3000</td>\n",
       "      <td>T-shirt</td>\n",
       "      <td>100</td>\n",
       "      <td>2019-01-22 03:00:00</td>\n",
       "    </tr>\n",
       "    <tr>\n",
       "      <th>10</th>\n",
       "      <td>800</td>\n",
       "      <td>bread</td>\n",
       "      <td>1</td>\n",
       "      <td>2019-02-17 06:00:00</td>\n",
       "    </tr>\n",
       "    <tr>\n",
       "      <th>11</th>\n",
       "      <td>2400</td>\n",
       "      <td>shirt</td>\n",
       "      <td>4</td>\n",
       "      <td>2019-03-15 09:00:00</td>\n",
       "    </tr>\n",
       "  </tbody>\n",
       "</table>\n",
       "</div>"
      ],
      "text/plain": [
       "    price item_name  number          created_at\n",
       "0     100       pen       5 2018-06-01 00:00:00\n",
       "1     400     bread       4 2018-06-27 03:00:00\n",
       "2     300      brad       1 2018-07-23 06:00:00\n",
       "3    1000     shirt       0 2018-08-18 09:00:00\n",
       "4     500      milk       4 2018-09-13 12:00:00\n",
       "5    1000   T-shirt     200 2018-10-09 15:00:00\n",
       "6     400     apple       7 2018-11-04 18:00:00\n",
       "7     400       pen       4 2018-11-30 21:00:00\n",
       "8     240    banana      20 2018-12-27 00:00:00\n",
       "9    3000   T-shirt     100 2019-01-22 03:00:00\n",
       "10    800     bread       1 2019-02-17 06:00:00\n",
       "11   2400     shirt       4 2019-03-15 09:00:00"
      ]
     },
     "execution_count": 28,
     "metadata": {},
     "output_type": "execute_result"
    }
   ],
   "source": [
    "import pandas as pd \n",
    "import numpy as np"
   ]
  },
  {
   "cell_type": "code",
   "execution_count": null,
   "metadata": {},
   "outputs": [],
   "source": [
    "df = pd.DataFrame({'price':[100, 400, 300, 1000 , 500, 1000, 400, 400, 240, 3000, 800, 2400],\n",
    "                   'item_name':['pen', 'bread', 'brad', 'shirt', 'milk', 'T-shirt', 'apple', \n",
    "                           'pen', 'banana','T-shirt','bread', 'shirt'],\n",
    "                   'number': [5, 4, 1, 0, 4, 200, 7, 4, 20, 100, 1, 4],\n",
    "                   'created_at': pd.date_range('20180601', periods=12, freq= '627H') })\n",
    "df.head(2)"
   ]
  },
  {
   "cell_type": "code",
   "execution_count": 29,
   "metadata": {},
   "outputs": [
    {
     "data": {
      "text/plain": [
       "price                  int64\n",
       "item_name             object\n",
       "number                 int64\n",
       "created_at    datetime64[ns]\n",
       "dtype: object"
      ]
     },
     "execution_count": 29,
     "metadata": {},
     "output_type": "execute_result"
    }
   ],
   "source": [
    "df.dtypes"
   ]
  },
  {
   "attachments": {},
   "cell_type": "markdown",
   "metadata": {},
   "source": [
    "## 平均値（mean）\n",
    "\n",
    "$$\\frac{1}{N}\\sum_ix_i$$\n",
    "\n",
    "\n",
    "---\n",
    "\n",
    "`mean()`は`int` もしくは `float` の型をもつ `Series` へ適用できます。\n",
    "\n",
    "dfの `price` 列の平均値を計算します。"
   ]
  },
  {
   "cell_type": "code",
   "execution_count": 30,
   "metadata": {},
   "outputs": [
    {
     "data": {
      "text/plain": [
       "878.3333333333334"
      ]
     },
     "execution_count": 30,
     "metadata": {},
     "output_type": "execute_result"
    }
   ],
   "source": [
    "df['price'].mean()"
   ]
  },
  {
   "cell_type": "code",
   "execution_count": 31,
   "metadata": {},
   "outputs": [
    {
     "data": {
      "text/plain": [
       "29.166666666666668"
      ]
     },
     "execution_count": 31,
     "metadata": {},
     "output_type": "execute_result"
    }
   ],
   "source": [
    "df['number'].mean()"
   ]
  },
  {
   "cell_type": "markdown",
   "metadata": {},
   "source": [
    "`int` 型である`item_name`には適用できないので次のcellはエラーになります。次のmedian()も同様に数値データ以外には適用できません。"
   ]
  },
  {
   "cell_type": "code",
   "execution_count": null,
   "metadata": {
    "scrolled": true
   },
   "outputs": [],
   "source": [
    "df['item_name'].mean()"
   ]
  },
  {
   "attachments": {},
   "cell_type": "markdown",
   "metadata": {},
   "source": [
    "## 中央値（median）\n",
    "\n",
    "データを大きさの順に並べたときに全体の中央にある値。つまり最大を取るデータと最小を取るデータのちょうど中間の位置にあるデータ。\n",
    "\n",
    "`median()`を使ってdfの `price` 列の中央値を計算します。"
   ]
  },
  {
   "cell_type": "code",
   "execution_count": 33,
   "metadata": {},
   "outputs": [
    {
     "data": {
      "text/plain": [
       "450.0"
      ]
     },
     "execution_count": 33,
     "metadata": {},
     "output_type": "execute_result"
    }
   ],
   "source": [
    "df['price'].median()"
   ]
  },
  {
   "attachments": {},
   "cell_type": "markdown",
   "metadata": {},
   "source": [
    "## 最頻値（mode）\n",
    "\n",
    "出現回数が最も多い値.\n",
    "\n",
    "`mode()`dfの `price` 列の中央値を計算します。\n",
    "[ドキュメント](https://pandas.pydata.org/pandas-docs/stable/reference/api/pandas.DataFrame.mode.html)も参照してください。"
   ]
  },
  {
   "cell_type": "code",
   "execution_count": 34,
   "metadata": {
    "scrolled": true
   },
   "outputs": [
    {
     "data": {
      "text/plain": [
       "0    400\n",
       "dtype: int64"
      ]
     },
     "execution_count": 34,
     "metadata": {},
     "output_type": "execute_result"
    }
   ],
   "source": [
    "df['price'].mode()"
   ]
  },
  {
   "cell_type": "code",
   "execution_count": 35,
   "metadata": {},
   "outputs": [
    {
     "data": {
      "text/plain": [
       "pandas.core.series.Series"
      ]
     },
     "execution_count": 35,
     "metadata": {},
     "output_type": "execute_result"
    }
   ],
   "source": [
    "type(df['price'].mode())"
   ]
  },
  {
   "cell_type": "markdown",
   "metadata": {},
   "source": [
    "最頻値の値のみを抽出したい場合は、上のDataFrameの値を抽出してください。"
   ]
  },
  {
   "cell_type": "code",
   "execution_count": 36,
   "metadata": {},
   "outputs": [
    {
     "name": "stdout",
     "output_type": "stream",
     "text": [
      "400 \n",
      " <class 'numpy.int64'>\n"
     ]
    }
   ],
   "source": [
    "mode_value = df['price'].mode().iloc[0]\n",
    "\n",
    "print(mode_value, '\\n', type(mode_value))"
   ]
  },
  {
   "attachments": {},
   "cell_type": "markdown",
   "metadata": {},
   "source": [
    "平均値（mean）、中央値（median）、最頻値（mode）の抽出は複数の列にも適用できます。\n",
    "\n",
    "その場合は、データの型が `int` もしくは `float` の列の結果を返します。"
   ]
  },
  {
   "cell_type": "code",
   "execution_count": 58,
   "metadata": {},
   "outputs": [
    {
     "name": "stdout",
     "output_type": "stream",
     "text": [
      "price     878.333333\n",
      "number     29.166667\n",
      "dtype: float64\n"
     ]
    }
   ],
   "source": [
    "multiple_means = df[['price','number']].mean()\n",
    "print(multiple_means)"
   ]
  },
  {
   "cell_type": "code",
   "execution_count": 60,
   "metadata": {},
   "outputs": [
    {
     "name": "stdout",
     "output_type": "stream",
     "text": [
      "price     450.0\n",
      "number      4.0\n",
      "dtype: float64\n"
     ]
    }
   ],
   "source": [
    "multiple_medians = df[['price','number']].median()\n",
    "print(multiple_medians)"
   ]
  },
  {
   "cell_type": "code",
   "execution_count": 61,
   "metadata": {},
   "outputs": [
    {
     "data": {
      "text/html": [
       "<div>\n",
       "<style scoped>\n",
       "    .dataframe tbody tr th:only-of-type {\n",
       "        vertical-align: middle;\n",
       "    }\n",
       "\n",
       "    .dataframe tbody tr th {\n",
       "        vertical-align: top;\n",
       "    }\n",
       "\n",
       "    .dataframe thead th {\n",
       "        text-align: right;\n",
       "    }\n",
       "</style>\n",
       "<table border=\"1\" class=\"dataframe\">\n",
       "  <thead>\n",
       "    <tr style=\"text-align: right;\">\n",
       "      <th></th>\n",
       "      <th>price</th>\n",
       "      <th>number</th>\n",
       "    </tr>\n",
       "  </thead>\n",
       "  <tbody>\n",
       "    <tr>\n",
       "      <th>0</th>\n",
       "      <td>400</td>\n",
       "      <td>4</td>\n",
       "    </tr>\n",
       "  </tbody>\n",
       "</table>\n",
       "</div>"
      ],
      "text/plain": [
       "   price  number\n",
       "0    400       4"
      ]
     },
     "metadata": {},
     "output_type": "display_data"
    }
   ],
   "source": [
    "multiple_modes = df[['price','number']].mode()\n",
    "display(multiple_modes)"
   ]
  },
  {
   "cell_type": "markdown",
   "metadata": {},
   "source": [
    "上のcellで作った `multiple_modes`のうち `price`の最頻値のみを抽出したい場合は、DataFrame `multiple_modes` の要素を指定します。"
   ]
  },
  {
   "cell_type": "code",
   "execution_count": 62,
   "metadata": {},
   "outputs": [
    {
     "name": "stdout",
     "output_type": "stream",
     "text": [
      "4\n"
     ]
    }
   ],
   "source": [
    "num_mode = multiple_modes.loc[0,'number']\n",
    "print(num_mode)"
   ]
  }
 ],
 "metadata": {
  "kernelspec": {
   "display_name": "Python 3",
   "language": "python",
   "name": "python3"
  },
  "language_info": {
   "codemirror_mode": {
    "name": "ipython",
    "version": 3
   },
   "file_extension": ".py",
   "mimetype": "text/x-python",
   "name": "python",
   "nbconvert_exporter": "python",
   "pygments_lexer": "ipython3",
   "version": "3.7.6"
  }
 },
 "nbformat": 4,
 "nbformat_minor": 2
}
