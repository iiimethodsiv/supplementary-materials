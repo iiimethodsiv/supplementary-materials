{
 "cells": [
  {
   "attachments": {},
   "cell_type": "markdown",
   "metadata": {},
   "source": [
    "# 課題"
   ]
  },
  {
   "attachments": {},
   "cell_type": "markdown",
   "metadata": {},
   "source": [
    "## 課題1\n",
    "次のDataFrame `df` はある電化製品店のパソコンコーナーの受注情報の一部です。\n",
    "\n",
    "| column  |  description  |\n",
    "|---------|------------------------------|\n",
    "|  id     | 顧客番号 |\n",
    "|  name   | 顧客名 |\n",
    "|  date   | 来店日 |\n",
    "|  laptop | 購入または修理に持ち込んだパソコンの種類 |\n",
    "|  fix    | 修理受注であればTrue、購入であればFalse |\n"
   ]
  },
  {
   "cell_type": "code",
   "execution_count": null,
   "metadata": {},
   "outputs": [],
   "source": [
    "import numpy as np\n",
    "import pandas as pd\n",
    "\n",
    "def make_df():\n",
    "    df = pd.DataFrame({'id':[100, 100, 101, 101, 101, 102, 103, 104, 104, 105],\n",
    "                      'name': ['Max', 'Max', 'Bob', 'Bob', 'Bob', 'Alice', 'Chris','Emma', 'William','Jacob'],\n",
    "                       'gender':['m', 'm', 'm', 'm', 'm', 'f', np.nan, 'f', 'm', 'm'],\n",
    "                       'date':['2019/3/4','2019/2/5','2018/10/3','2017/12/6','2016/9/3','2019/7/4','2017/1/1','2019/5/3','2018/2/18', '2015/12/30'],\n",
    "                      'laptop':['mac','mac','windows','windows','mac', 'mac', 'windows', 'windows', 'mac', 'others'],\n",
    "                      'fix': [True, False, True, False, False, False, False, True, True, True],\n",
    "                      'price': [10000, 230000, 5400, 15000, 300000, 240000, 180000, 150000, 100000, 3000]})\n",
    "    return df"
   ]
  },
  {
   "cell_type": "code",
   "execution_count": null,
   "metadata": {},
   "outputs": [],
   "source": [
    "make_df()"
   ]
  },
  {
   "cell_type": "markdown",
   "metadata": {},
   "source": [
    "`df`に関して以下の問いに答えてください。"
   ]
  },
  {
   "attachments": {},
   "cell_type": "markdown",
   "metadata": {},
   "source": [
    "### 課題1.0（回答例）\n",
    "このDataFrame(df)は何行ありますか？\n",
    "\n",
    "一つのint型の値を返します。"
   ]
  },
  {
   "cell_type": "code",
   "execution_count": null,
   "metadata": {},
   "outputs": [],
   "source": [
    "# 課題の回答は関数（引数無し）の中に全て書いてください。\n",
    "def answer_zero():\n",
    "    #　どのようなフォーマットで回答すべきか問題文に従ってください。\n",
    "    df = make_df()\n",
    "    ans = df.shape[0]\n",
    "    return int(ans)\n",
    "\n",
    "# 回答を確認するためには、次のような１行で回答を記入した関数を呼び出すことで確認できます。\n",
    "answer_zero()"
   ]
  },
  {
   "cell_type": "markdown",
   "metadata": {},
   "source": [
    "次のcellを実行して回答を確認してください。"
   ]
  },
  {
   "cell_type": "code",
   "execution_count": null,
   "metadata": {},
   "outputs": [],
   "source": [
    "print(answer_zero()==10)"
   ]
  },
  {
   "attachments": {},
   "cell_type": "markdown",
   "metadata": {},
   "source": [
    "### 課題1.1\n",
    "DataFrame(df)の`price`列の平均値、中央値を求めてください。\n",
    "\n",
    "1つのlistを返し、listの0番目の要素にfloat型の平均値を、1番目の要素にfloat型の中央値を与えてください。"
   ]
  },
  {
   "cell_type": "code",
   "execution_count": null,
   "metadata": {},
   "outputs": [],
   "source": [
    "def answer_one():\n",
    "    df = make_df()\n",
    "    ...\n",
    "    \n",
    "    return \"YOUR ANSWER\""
   ]
  },
  {
   "cell_type": "code",
   "execution_count": null,
   "metadata": {},
   "outputs": [],
   "source": [
    "answer_one()"
   ]
  },
  {
   "cell_type": "markdown",
   "metadata": {},
   "source": [
    "次のセルを実行して回答を確認してください"
   ]
  },
  {
   "cell_type": "code",
   "execution_count": null,
   "metadata": {
    "scrolled": true
   },
   "outputs": [],
   "source": [
    "import datetime\n",
    "print(round(answer_one()[0],0) == 123340)\n",
    "print(round(answer_one()[1],0) == 125000)"
   ]
  },
  {
   "attachments": {},
   "cell_type": "markdown",
   "metadata": {},
   "source": [
    "### 課題1.2\n",
    "`df`のなかで最も受注回数が多い顧客は誰ですか？`name`列の最頻値を求めてください。\n",
    "\n",
    "1つのstr型の値を返します。"
   ]
  },
  {
   "cell_type": "code",
   "execution_count": null,
   "metadata": {},
   "outputs": [],
   "source": [
    "def answer_two():\n",
    "    df = make_df()\n",
    "    ...\n",
    "    return \"YOUR ANSWER\""
   ]
  },
  {
   "cell_type": "code",
   "execution_count": null,
   "metadata": {},
   "outputs": [],
   "source": [
    "answer_two()"
   ]
  },
  {
   "cell_type": "markdown",
   "metadata": {},
   "source": [
    "次のセルを実行して回答を確認してください"
   ]
  },
  {
   "cell_type": "code",
   "execution_count": null,
   "metadata": {
    "scrolled": true
   },
   "outputs": [],
   "source": [
    "print(answer_two() == 'Bob')"
   ]
  },
  {
   "attachments": {},
   "cell_type": "markdown",
   "metadata": {},
   "source": [
    "### 課題1.3\n",
    "`df`の`price`列の頻度分布図（Histogram）を描いてください。bin数などは自由に設定しても良いとします。\n",
    "\n",
    "回答は1つの頻度分布図（Histogram）を示します。"
   ]
  },
  {
   "cell_type": "code",
   "execution_count": null,
   "metadata": {},
   "outputs": [],
   "source": [
    "import matplotlib.pyplot as plt\n",
    "%matplotlib inline\n",
    "\n",
    "def answer_three():\n",
    "    df = make_df()\n",
    "    \n",
    "    ...\n",
    "    \n",
    "    plt.show()\n",
    "    "
   ]
  },
  {
   "cell_type": "code",
   "execution_count": null,
   "metadata": {
    "scrolled": true
   },
   "outputs": [],
   "source": [
    "answer_three()"
   ]
  },
  {
   "cell_type": "markdown",
   "metadata": {},
   "source": [
    "次のセルを実行して回答を表示させてください。"
   ]
  },
  {
   "attachments": {},
   "cell_type": "markdown",
   "metadata": {},
   "source": [
    "### 課題1.4\n",
    "`df`の`price`列の四方位範囲を示す箱ひげ図を描いてください。\n",
    "\n",
    "回答は1つの箱ひげ図を示します。"
   ]
  },
  {
   "cell_type": "code",
   "execution_count": null,
   "metadata": {},
   "outputs": [],
   "source": [
    "def answer_four():\n",
    "    df = make_df()\n",
    "    \n",
    "    ...\n",
    "    \n",
    "    plt.show()\n",
    "    "
   ]
  },
  {
   "cell_type": "markdown",
   "metadata": {},
   "source": [
    "次のセルを実行して回答を表示させてください。"
   ]
  },
  {
   "cell_type": "code",
   "execution_count": null,
   "metadata": {
    "scrolled": false
   },
   "outputs": [],
   "source": [
    "answer_four()"
   ]
  },
  {
   "attachments": {},
   "cell_type": "markdown",
   "metadata": {},
   "source": [
    "### 課題1.5\n",
    "課題1.4に関連して、`df`のうち`laptop`列の種類別の`price`の四分位範囲を示す箱ひげ図を描いてください。\n",
    "\n",
    "回答は箱ひげ図を示します。。"
   ]
  },
  {
   "cell_type": "code",
   "execution_count": null,
   "metadata": {},
   "outputs": [],
   "source": [
    "def answer_five():\n",
    "    df = make_df()\n",
    "    \n",
    "    ...\n",
    "    \n",
    "    \n",
    "    plt.show()\n"
   ]
  },
  {
   "cell_type": "markdown",
   "metadata": {},
   "source": [
    "次のcellを実行して回答を確認してください。"
   ]
  },
  {
   "cell_type": "code",
   "execution_count": null,
   "metadata": {},
   "outputs": [],
   "source": [
    "answer_five()"
   ]
  },
  {
   "attachments": {},
   "cell_type": "markdown",
   "metadata": {},
   "source": [
    "\n",
    "### 課題1.6\n",
    "平均値を求める関数を自分で作ってください（mean()は使わずに）。\n",
    "引数として数値計算可能な１つのSeriesを受け取ります。"
   ]
  },
  {
   "cell_type": "code",
   "execution_count": null,
   "metadata": {},
   "outputs": [],
   "source": [
    "def answer_six(series):\n",
    "    \n",
    "    ...\n",
    "    \n",
    "    \n",
    "    return \"YOUR ANSWER\""
   ]
  },
  {
   "cell_type": "markdown",
   "metadata": {},
   "source": [
    "次のcellを実行して回答を確認してください。"
   ]
  },
  {
   "cell_type": "code",
   "execution_count": null,
   "metadata": {
    "scrolled": true
   },
   "outputs": [],
   "source": [
    "test_series = pd.Series([10,20, 3, 1,5,40, 39,89])\n",
    "print(answer_six(test_series) == test_series.mean())"
   ]
  },
  {
   "attachments": {},
   "cell_type": "markdown",
   "metadata": {},
   "source": [
    "### 課題1.7\n",
    "分散を求める関数を自分で作ってください（var()やvariance()などは使わずに）。 引数として数値計算可能な１つのSeriesを受け取ります。\n",
    "ここでの分散は$ s^2 = \\frac{\\sum_i(x_i-\\bar{X})^2}{n} $とします。\n",
    "\n"
   ]
  },
  {
   "cell_type": "code",
   "execution_count": null,
   "metadata": {},
   "outputs": [],
   "source": [
    "def answer_seven(series):\n",
    "    mean = answer_six(series)\n",
    "    \n",
    "    ...\n",
    "    \n",
    "    return \"YOUR ANSWER\""
   ]
  },
  {
   "cell_type": "markdown",
   "metadata": {},
   "source": [
    "次のcellを実行して回答を表示させてください"
   ]
  },
  {
   "cell_type": "code",
   "execution_count": null,
   "metadata": {
    "scrolled": true
   },
   "outputs": [],
   "source": [
    "print(answer_seven(test_series) == np.var(test_series))"
   ]
  }
 ],
 "metadata": {
  "kernelspec": {
   "display_name": "Python 3",
   "language": "python",
   "name": "python3"
  },
  "language_info": {
   "codemirror_mode": {
    "name": "ipython",
    "version": 3
   },
   "file_extension": ".py",
   "mimetype": "text/x-python",
   "name": "python",
   "nbconvert_exporter": "python",
   "pygments_lexer": "ipython3",
   "version": "3.7.6"
  }
 },
 "nbformat": 4,
 "nbformat_minor": 2
}
