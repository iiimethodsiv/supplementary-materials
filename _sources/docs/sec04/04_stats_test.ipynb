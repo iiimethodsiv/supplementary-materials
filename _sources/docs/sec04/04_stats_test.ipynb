{
 "cells": [
  {
   "cell_type": "markdown",
   "id": "427469ec-0a40-481f-919c-a275f854ac64",
   "metadata": {},
   "source": [
    "# 仮説検定"
   ]
  },
  {
   "attachments": {},
   "cell_type": "markdown",
   "id": "27e416e7-5c01-4152-b96e-90c94def56d9",
   "metadata": {},
   "source": [
    "## 統計的仮設検定の基本的な考え方\n",
    "\n",
    "統計の仮説検定ではある仮説（例：2グループが同じ母集団から得られたものかどうか）が真であるかどうかを客観的に判断できようにする手段です。\n",
    "\n",
    "```{note}\n",
    "1. 仮設の設定\n",
    "    - 主張したい仮説ではなくてその主張を否定する **帰無仮説(H0)** を設定します。\n",
    "    -　例えば、「サンプルの集合の間に違いはない」というものです。 **対立仮説(H1)** は、標本間に差があるというものです。\n",
    "    - 帰無仮説を **棄却** できるかどうかを確認することで対立仮説を採用するかどうかを判断します。\n",
    "\n",
    "2. 帰無仮説が正しいとういう前提で得られた標本が実現する確率を計算する（真偽を検証するための統計量を決め、 統計量を計算する）\n",
    "\n",
    "3. 帰無仮説のもとで観測されたデータが実現する確率（有意性のための基準値（p値）、たとえば5%）が低い場合は、まれにしか起こり得ないことが起こったと考え帰無仮説が正しくないと判断して（帰無仮説を棄却）、対立仮説を採用します。\n",
    "```\n",
    "\n",
    "````{note}\n",
    "帰無仮説と対立仮説\n",
    "\n",
    "対立仮説を採用する前に、強力な証拠が必要であるという懐疑論的な立場に立ちます。\n",
    "\n",
    "* 帰無仮説は懐疑的な視点、あるいは検証すべき主張を表すことが多いです。または「差がない」という視点を表します。\n",
    "* 対立仮説は検討中の主張を表します。\n",
    "    \n",
    "```{note}\n",
    "なぜ二重否定なのでしょうか？\n",
    "* 多くの統計学的な説明では二重否定が使われます。例えば、帰無仮説を棄却できなかったという表現などです。\n",
    "* 二重否定はある見方を否定しない一方で、正しいとも言わないことを伝えるために使用されます。\n",
    "```\n",
    "\n",
    "````"
   ]
  },
  {
   "cell_type": "code",
   "execution_count": 42,
   "id": "256ff2d4-c318-4c0e-8fb5-b64156c0f627",
   "metadata": {},
   "outputs": [],
   "source": [
    "import pandas as pd\n",
    "import numpy as np\n",
    "import matplotlib.pyplot as plt\n",
    "import statsmodels.api as sm\n",
    "import scipy\n",
    "%matplotlib inline"
   ]
  },
  {
   "attachments": {},
   "cell_type": "markdown",
   "id": "827627f7-1fbc-4588-8cdf-9e1788f7840e",
   "metadata": {},
   "source": [
    "### 燃費はオートマ車とマニュアル車で差があるのか？\n",
    "\n",
    "2つのグループ間の差異を検定します。\n",
    "例えば、あるツールを使っているグループの方が使っていないグループよりも作業効率が良いかどうか、ある医療行為を受けた患者グループは対象グループよりも良い結果が得られたかどうかなどを確認することができます。\n",
    "\n",
    "ここでは自動車のデザインや性能に関連して燃費がどのように異なるかを、1974年に発行されたMotor Trend誌に基づくデータセット`mtcars`を用いて見ていきます。\n",
    "\n",
    "データの詳細は[こちら](https://www.rdocumentation.org/packages/datasets/versions/3.6.2/topics/mtcars)のドキュメントを参照してください\n",
    "\n",
    "\n",
    "燃費`mpg`(Miles/(US) gallon)がオートマ車とマニュアル車（`am`列、0 = オートマ車, 1 = マニュアル車）でどのように異なるかを見ましょう。"
   ]
  },
  {
   "cell_type": "code",
   "execution_count": 18,
   "id": "cb9bd6a9-1049-4c27-be1d-627febfd2897",
   "metadata": {},
   "outputs": [
    {
     "data": {
      "text/html": [
       "<div>\n",
       "<style scoped>\n",
       "    .dataframe tbody tr th:only-of-type {\n",
       "        vertical-align: middle;\n",
       "    }\n",
       "\n",
       "    .dataframe tbody tr th {\n",
       "        vertical-align: top;\n",
       "    }\n",
       "\n",
       "    .dataframe thead th {\n",
       "        text-align: right;\n",
       "    }\n",
       "</style>\n",
       "<table border=\"1\" class=\"dataframe\">\n",
       "  <thead>\n",
       "    <tr style=\"text-align: right;\">\n",
       "      <th></th>\n",
       "      <th>mpg</th>\n",
       "      <th>cyl</th>\n",
       "      <th>disp</th>\n",
       "      <th>hp</th>\n",
       "      <th>drat</th>\n",
       "      <th>wt</th>\n",
       "      <th>qsec</th>\n",
       "      <th>vs</th>\n",
       "      <th>am</th>\n",
       "      <th>gear</th>\n",
       "      <th>carb</th>\n",
       "    </tr>\n",
       "  </thead>\n",
       "  <tbody>\n",
       "    <tr>\n",
       "      <th>Mazda RX4</th>\n",
       "      <td>21.0</td>\n",
       "      <td>6</td>\n",
       "      <td>160.0</td>\n",
       "      <td>110</td>\n",
       "      <td>3.9</td>\n",
       "      <td>2.620</td>\n",
       "      <td>16.46</td>\n",
       "      <td>0</td>\n",
       "      <td>1</td>\n",
       "      <td>4</td>\n",
       "      <td>4</td>\n",
       "    </tr>\n",
       "    <tr>\n",
       "      <th>Mazda RX4 Wag</th>\n",
       "      <td>21.0</td>\n",
       "      <td>6</td>\n",
       "      <td>160.0</td>\n",
       "      <td>110</td>\n",
       "      <td>3.9</td>\n",
       "      <td>2.875</td>\n",
       "      <td>17.02</td>\n",
       "      <td>0</td>\n",
       "      <td>1</td>\n",
       "      <td>4</td>\n",
       "      <td>4</td>\n",
       "    </tr>\n",
       "  </tbody>\n",
       "</table>\n",
       "</div>"
      ],
      "text/plain": [
       "                mpg  cyl   disp   hp  drat     wt   qsec  vs  am  gear  carb\n",
       "Mazda RX4      21.0    6  160.0  110   3.9  2.620  16.46   0   1     4     4\n",
       "Mazda RX4 Wag  21.0    6  160.0  110   3.9  2.875  17.02   0   1     4     4"
      ]
     },
     "execution_count": 18,
     "metadata": {},
     "output_type": "execute_result"
    }
   ],
   "source": [
    "mtcars = sm.datasets.get_rdataset(\"mtcars\").data\n",
    "mtcars.head(2)"
   ]
  },
  {
   "cell_type": "code",
   "execution_count": 19,
   "id": "e6b1d54c-a221-4b37-8dd2-bbba6b71732c",
   "metadata": {},
   "outputs": [
    {
     "data": {
      "text/html": [
       "<div>\n",
       "<style scoped>\n",
       "    .dataframe tbody tr th:only-of-type {\n",
       "        vertical-align: middle;\n",
       "    }\n",
       "\n",
       "    .dataframe tbody tr th {\n",
       "        vertical-align: top;\n",
       "    }\n",
       "\n",
       "    .dataframe thead th {\n",
       "        text-align: right;\n",
       "    }\n",
       "</style>\n",
       "<table border=\"1\" class=\"dataframe\">\n",
       "  <thead>\n",
       "    <tr style=\"text-align: right;\">\n",
       "      <th></th>\n",
       "      <th>mpg</th>\n",
       "      <th>cyl</th>\n",
       "      <th>disp</th>\n",
       "      <th>hp</th>\n",
       "      <th>drat</th>\n",
       "      <th>wt</th>\n",
       "      <th>qsec</th>\n",
       "      <th>vs</th>\n",
       "      <th>am</th>\n",
       "      <th>gear</th>\n",
       "      <th>carb</th>\n",
       "    </tr>\n",
       "  </thead>\n",
       "  <tbody>\n",
       "    <tr>\n",
       "      <th>count</th>\n",
       "      <td>32.000000</td>\n",
       "      <td>32.000000</td>\n",
       "      <td>32.000000</td>\n",
       "      <td>32.000000</td>\n",
       "      <td>32.000000</td>\n",
       "      <td>32.000000</td>\n",
       "      <td>32.000000</td>\n",
       "      <td>32.000000</td>\n",
       "      <td>32.000000</td>\n",
       "      <td>32.000000</td>\n",
       "      <td>32.0000</td>\n",
       "    </tr>\n",
       "    <tr>\n",
       "      <th>mean</th>\n",
       "      <td>20.090625</td>\n",
       "      <td>6.187500</td>\n",
       "      <td>230.721875</td>\n",
       "      <td>146.687500</td>\n",
       "      <td>3.596563</td>\n",
       "      <td>3.217250</td>\n",
       "      <td>17.848750</td>\n",
       "      <td>0.437500</td>\n",
       "      <td>0.406250</td>\n",
       "      <td>3.687500</td>\n",
       "      <td>2.8125</td>\n",
       "    </tr>\n",
       "    <tr>\n",
       "      <th>std</th>\n",
       "      <td>6.026948</td>\n",
       "      <td>1.785922</td>\n",
       "      <td>123.938694</td>\n",
       "      <td>68.562868</td>\n",
       "      <td>0.534679</td>\n",
       "      <td>0.978457</td>\n",
       "      <td>1.786943</td>\n",
       "      <td>0.504016</td>\n",
       "      <td>0.498991</td>\n",
       "      <td>0.737804</td>\n",
       "      <td>1.6152</td>\n",
       "    </tr>\n",
       "    <tr>\n",
       "      <th>min</th>\n",
       "      <td>10.400000</td>\n",
       "      <td>4.000000</td>\n",
       "      <td>71.100000</td>\n",
       "      <td>52.000000</td>\n",
       "      <td>2.760000</td>\n",
       "      <td>1.513000</td>\n",
       "      <td>14.500000</td>\n",
       "      <td>0.000000</td>\n",
       "      <td>0.000000</td>\n",
       "      <td>3.000000</td>\n",
       "      <td>1.0000</td>\n",
       "    </tr>\n",
       "    <tr>\n",
       "      <th>25%</th>\n",
       "      <td>15.425000</td>\n",
       "      <td>4.000000</td>\n",
       "      <td>120.825000</td>\n",
       "      <td>96.500000</td>\n",
       "      <td>3.080000</td>\n",
       "      <td>2.581250</td>\n",
       "      <td>16.892500</td>\n",
       "      <td>0.000000</td>\n",
       "      <td>0.000000</td>\n",
       "      <td>3.000000</td>\n",
       "      <td>2.0000</td>\n",
       "    </tr>\n",
       "    <tr>\n",
       "      <th>50%</th>\n",
       "      <td>19.200000</td>\n",
       "      <td>6.000000</td>\n",
       "      <td>196.300000</td>\n",
       "      <td>123.000000</td>\n",
       "      <td>3.695000</td>\n",
       "      <td>3.325000</td>\n",
       "      <td>17.710000</td>\n",
       "      <td>0.000000</td>\n",
       "      <td>0.000000</td>\n",
       "      <td>4.000000</td>\n",
       "      <td>2.0000</td>\n",
       "    </tr>\n",
       "    <tr>\n",
       "      <th>75%</th>\n",
       "      <td>22.800000</td>\n",
       "      <td>8.000000</td>\n",
       "      <td>326.000000</td>\n",
       "      <td>180.000000</td>\n",
       "      <td>3.920000</td>\n",
       "      <td>3.610000</td>\n",
       "      <td>18.900000</td>\n",
       "      <td>1.000000</td>\n",
       "      <td>1.000000</td>\n",
       "      <td>4.000000</td>\n",
       "      <td>4.0000</td>\n",
       "    </tr>\n",
       "    <tr>\n",
       "      <th>max</th>\n",
       "      <td>33.900000</td>\n",
       "      <td>8.000000</td>\n",
       "      <td>472.000000</td>\n",
       "      <td>335.000000</td>\n",
       "      <td>4.930000</td>\n",
       "      <td>5.424000</td>\n",
       "      <td>22.900000</td>\n",
       "      <td>1.000000</td>\n",
       "      <td>1.000000</td>\n",
       "      <td>5.000000</td>\n",
       "      <td>8.0000</td>\n",
       "    </tr>\n",
       "  </tbody>\n",
       "</table>\n",
       "</div>"
      ],
      "text/plain": [
       "             mpg        cyl        disp          hp       drat         wt  \\\n",
       "count  32.000000  32.000000   32.000000   32.000000  32.000000  32.000000   \n",
       "mean   20.090625   6.187500  230.721875  146.687500   3.596563   3.217250   \n",
       "std     6.026948   1.785922  123.938694   68.562868   0.534679   0.978457   \n",
       "min    10.400000   4.000000   71.100000   52.000000   2.760000   1.513000   \n",
       "25%    15.425000   4.000000  120.825000   96.500000   3.080000   2.581250   \n",
       "50%    19.200000   6.000000  196.300000  123.000000   3.695000   3.325000   \n",
       "75%    22.800000   8.000000  326.000000  180.000000   3.920000   3.610000   \n",
       "max    33.900000   8.000000  472.000000  335.000000   4.930000   5.424000   \n",
       "\n",
       "            qsec         vs         am       gear     carb  \n",
       "count  32.000000  32.000000  32.000000  32.000000  32.0000  \n",
       "mean   17.848750   0.437500   0.406250   3.687500   2.8125  \n",
       "std     1.786943   0.504016   0.498991   0.737804   1.6152  \n",
       "min    14.500000   0.000000   0.000000   3.000000   1.0000  \n",
       "25%    16.892500   0.000000   0.000000   3.000000   2.0000  \n",
       "50%    17.710000   0.000000   0.000000   4.000000   2.0000  \n",
       "75%    18.900000   1.000000   1.000000   4.000000   4.0000  \n",
       "max    22.900000   1.000000   1.000000   5.000000   8.0000  "
      ]
     },
     "execution_count": 19,
     "metadata": {},
     "output_type": "execute_result"
    }
   ],
   "source": [
    "mtcars.describe()"
   ]
  },
  {
   "cell_type": "markdown",
   "id": "ee03ec0b-ed2a-4a6d-bdf9-c8cbed1b38d3",
   "metadata": {},
   "source": [
    "ボックスプロットを用いてオートマ車とマニュアル車で燃費がどのように異なるかを可視化します"
   ]
  },
  {
   "cell_type": "code",
   "execution_count": 40,
   "id": "4af5cad9-6f51-43d2-8d05-37dd3b7db542",
   "metadata": {},
   "outputs": [
    {
     "data": {
      "image/png": "[encoded data removed]",
      "text/plain": [
       "<Figure size 300x300 with 1 Axes>"
      ]
     },
     "metadata": {},
     "output_type": "display_data"
    }
   ],
   "source": [
    "fig, ax = plt.subplots(figsize=(3, 3))\n",
    "mtcars.boxplot(by='am', column = ['mpg'], showmeans=True, ax = ax, fontsize = 10)\n",
    "plt.tight_layout()\n",
    "plt.show()"
   ]
  },
  {
   "cell_type": "markdown",
   "id": "4846c196-c1ae-4b0e-9f39-cdf71e59ea11",
   "metadata": {},
   "source": [
    "上図x軸の0,1はそれぞれ列`am`でもつ値を示しています。0の場合はオートマ車、1の場合はマニュアル車です。\n",
    "y軸はマイル/ガロンで燃費を示します。\n",
    "\n",
    "この図から、マニュアル車の方がオートマ車よりも１ガロンあたりの走行距離が長く燃費がが全体としては燃費が良いという仮説を立てることができます。\n",
    "\n",
    "しかし、このような違いは偶然おきた可能性もあります。例えば、たまたま燃費の悪いオートマ車と燃費の良いオートマ車のグループを選んでしまった可能性もあるかもしれません。そこで、この差がたまたま起きたものなのかどうかを確認するために統計的検定を行うことができます。つまり、得られた標本データから母集団においても差があるのかを確認します。\n",
    "\n",
    "2グループの平均値を単純に比べることもできますが、標本のばらつきを考えると、少なくとも平均値の差のカットオフ値を決める必要があります。平均値の差が小さければ、サンプリングによるランダム性で説明できます。つまり、2グループの差は、2グループの平均値の差がサンプリングによるものだけであった場合に得られる典型的な値と比較する必要があります。"
   ]
  },
  {
   "cell_type": "markdown",
   "id": "bb3ed756-bb89-410d-b8d5-055ccae92553",
   "metadata": {},
   "source": [
    "## 例：平均に差があるように感じるのは偶然か？必然か？\n",
    "\n",
    "ここでは、2つの標本が異なる平均値を持っているかどうかを比較するためにt検定(t-test)を実行します。\n",
    "\n",
    "この検定はPythonのこの平均値の差は統計的に有意なものなのかを確認しましょう。\n",
    "Pythonの`SciPi`の関数`ttest_ind`で実行することができます。"
   ]
  },
  {
   "cell_type": "code",
   "execution_count": 47,
   "id": "9f02485c-81cc-410d-a1ff-2076b901439c",
   "metadata": {},
   "outputs": [
    {
     "data": {
      "text/plain": [
       "Ttest_indResult(statistic=3.767123145144923, pvalue=0.0013736383330710345)"
      ]
     },
     "execution_count": 47,
     "metadata": {},
     "output_type": "execute_result"
    }
   ],
   "source": [
    "auto_mpg = mtcars.loc[mtcars['am']==1, 'mpg'].values\n",
    "manual_mpg = mtcars.loc[mtcars['am']==0, 'mpg'].values\n",
    "\n",
    "scipy.stats.ttest_ind(a = auto_mpg, b = manual_mpg, \n",
    "                      equal_var = False, alternative = 'two-sided')"
   ]
  },
  {
   "cell_type": "markdown",
   "id": "629aef94-17e2-4370-84c5-eada322e8596",
   "metadata": {},
   "source": [
    "`ttest_inde`では`equal_var = True`がデフォルトで等分散（2グループの分散が等しいとみなせる場合）であることが求められるスチューデントのt検定（Student's T-test）が用いられます。不等分散（2グループの分散が等しいとみなせない場合）の場合は`equal_var = False`として、ウェルチのt検定（Welch t-test）を実行できます。\n",
    "\n",
    "等分散かどうかはF検定をして確認することができますが、最初からウェルチのt検定をしても良いでしょう。\n",
    "\n",
    "上の結果の場合、ウェルチのt検定の実行結果としてt test statisticsは3.76でp-valueは0.0013が得られました。このことからたまたまでは起こり得ないことが起きた、つまり2つのグループの間に差はあるということが得られました。"
   ]
  },
  {
   "cell_type": "markdown",
   "id": "6c79fdc4-8680-472e-92c5-b051a3538d3f",
   "metadata": {},
   "source": [
    "```{note}\n",
    "一般にt検定は母集団と標本が正規分布に従うことを前提としていますが2つの分布が同じ方向に適度に偏っている場合に正規性からの逸脱を許容できることが示されています。これは、中心極限定理によるもので、標本サイズが十分に大きければ母集団の分布に関わらず標本の平均値は正規分布になるというものです。\n",
    "```\n",
    "\n",
    "```{note}\n",
    "なお、今回のデータでは用いませんが、対応のあるt検定は`scipy.stats.ttest_rel()`で実行できます。\n",
    "```"
   ]
  }
 ],
 "metadata": {
  "kernelspec": {
   "display_name": "Python 3 (ipykernel)",
   "language": "python",
   "name": "python3"
  },
  "language_info": {
   "codemirror_mode": {
    "name": "ipython",
    "version": 3
   },
   "file_extension": ".py",
   "mimetype": "text/x-python",
   "name": "python",
   "nbconvert_exporter": "python",
   "pygments_lexer": "ipython3",
   "version": "3.8.16"
  }
 },
 "nbformat": 4,
 "nbformat_minor": 5
}
