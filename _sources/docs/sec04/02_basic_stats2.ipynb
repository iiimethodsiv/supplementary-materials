{
 "cells": [
  {
   "attachments": {},
   "cell_type": "markdown",
   "metadata": {},
   "source": [
    "# 頻度分布・偏差・分散\n",
    "\n",
    "全体の様子、ばらつきの広がり具合など全体をながめわたすための考え方です。\n",
    "\n"
   ]
  },
  {
   "attachments": {},
   "cell_type": "markdown",
   "metadata": {},
   "source": [
    "\n",
    "ここからはつぎのcellでつくる `df_new` を使って、頻度分布、四方位範囲、分散、標準偏差についてPythonで確認します。"
   ]
  },
  {
   "cell_type": "code",
   "execution_count": 41,
   "metadata": {
    "scrolled": true
   },
   "outputs": [
    {
     "data": {
      "text/html": [
       "<div>\n",
       "<style scoped>\n",
       "    .dataframe tbody tr th:only-of-type {\n",
       "        vertical-align: middle;\n",
       "    }\n",
       "\n",
       "    .dataframe tbody tr th {\n",
       "        vertical-align: top;\n",
       "    }\n",
       "\n",
       "    .dataframe thead th {\n",
       "        text-align: right;\n",
       "    }\n",
       "</style>\n",
       "<table border=\"1\" class=\"dataframe\">\n",
       "  <thead>\n",
       "    <tr style=\"text-align: right;\">\n",
       "      <th></th>\n",
       "      <th>cc</th>\n",
       "      <th>item</th>\n",
       "    </tr>\n",
       "  </thead>\n",
       "  <tbody>\n",
       "    <tr>\n",
       "      <th>0</th>\n",
       "      <td>86.792061</td>\n",
       "      <td>juice</td>\n",
       "    </tr>\n",
       "    <tr>\n",
       "      <th>1</th>\n",
       "      <td>57.611254</td>\n",
       "      <td>milk</td>\n",
       "    </tr>\n",
       "    <tr>\n",
       "      <th>2</th>\n",
       "      <td>79.516464</td>\n",
       "      <td>juice</td>\n",
       "    </tr>\n",
       "    <tr>\n",
       "      <th>3</th>\n",
       "      <td>78.421239</td>\n",
       "      <td>wine</td>\n",
       "    </tr>\n",
       "    <tr>\n",
       "      <th>4</th>\n",
       "      <td>139.893782</td>\n",
       "      <td>water</td>\n",
       "    </tr>\n",
       "    <tr>\n",
       "      <th>...</th>\n",
       "      <td>...</td>\n",
       "      <td>...</td>\n",
       "    </tr>\n",
       "    <tr>\n",
       "      <th>195</th>\n",
       "      <td>99.158341</td>\n",
       "      <td>juice</td>\n",
       "    </tr>\n",
       "    <tr>\n",
       "      <th>196</th>\n",
       "      <td>52.403940</td>\n",
       "      <td>juice</td>\n",
       "    </tr>\n",
       "    <tr>\n",
       "      <th>197</th>\n",
       "      <td>91.260503</td>\n",
       "      <td>milk</td>\n",
       "    </tr>\n",
       "    <tr>\n",
       "      <th>198</th>\n",
       "      <td>130.337001</td>\n",
       "      <td>milk</td>\n",
       "    </tr>\n",
       "    <tr>\n",
       "      <th>199</th>\n",
       "      <td>105.008055</td>\n",
       "      <td>milk</td>\n",
       "    </tr>\n",
       "  </tbody>\n",
       "</table>\n",
       "<p>200 rows × 2 columns</p>\n",
       "</div>"
      ],
      "text/plain": [
       "             cc   item\n",
       "0     86.792061  juice\n",
       "1     57.611254   milk\n",
       "2     79.516464  juice\n",
       "3     78.421239   wine\n",
       "4    139.893782  water\n",
       "..          ...    ...\n",
       "195   99.158341  juice\n",
       "196   52.403940  juice\n",
       "197   91.260503   milk\n",
       "198  130.337001   milk\n",
       "199  105.008055   milk\n",
       "\n",
       "[200 rows x 2 columns]"
      ]
     },
     "execution_count": 41,
     "metadata": {},
     "output_type": "execute_result"
    }
   ],
   "source": [
    "import random\n",
    "import matplotlib.pyplot as plt\n",
    "import pandas as pd\n",
    "import seaborn as sns\n",
    "%matplotlib inline"
   ]
  },
  {
   "cell_type": "code",
   "execution_count": null,
   "metadata": {},
   "outputs": [],
   "source": [
    "\n",
    "df_new = pd.DataFrame({'cc':[random.normalvariate(100,25) for x in range(200)],\n",
    "                      'item':[['water','wine','oil','juice','milk'][random.randrange(5)] for x in range(200)]})\n",
    "df_new.sample(3)"
   ]
  },
  {
   "cell_type": "code",
   "execution_count": 42,
   "metadata": {},
   "outputs": [
    {
     "data": {
      "text/plain": [
       "cc      float64\n",
       "item     object\n",
       "dtype: object"
      ]
     },
     "execution_count": 42,
     "metadata": {},
     "output_type": "execute_result"
    }
   ],
   "source": [
    "df_new.dtypes"
   ]
  },
  {
   "cell_type": "code",
   "execution_count": 43,
   "metadata": {},
   "outputs": [
    {
     "name": "stdout",
     "output_type": "stream",
     "text": [
      "<class 'pandas.core.frame.DataFrame'>\n",
      "RangeIndex: 200 entries, 0 to 199\n",
      "Data columns (total 2 columns):\n",
      " #   Column  Non-Null Count  Dtype  \n",
      "---  ------  --------------  -----  \n",
      " 0   cc      200 non-null    float64\n",
      " 1   item    200 non-null    object \n",
      "dtypes: float64(1), object(1)\n",
      "memory usage: 3.2+ KB\n"
     ]
    }
   ],
   "source": [
    "df_new.info()"
   ]
  },
  {
   "attachments": {},
   "cell_type": "markdown",
   "metadata": {},
   "source": [
    "<a id = 'histogram'></a>\n",
    "\n",
    "## 頻度分布（histogram）\n",
    "\n",
    "   それぞれの値の起こる頻度（回数）を数えたものです。\n",
    "\n",
    "\n",
    "`plt.hist()`を使って頻度分布（Histogram）を描写します。[ドキュメント](https://matplotlib.org/3.1.0/api/_as_gen/matplotlib.pyplot.hist.html)"
   ]
  },
  {
   "cell_type": "code",
   "execution_count": 44,
   "metadata": {},
   "outputs": [
    {
     "data": {
      "image/png": "[encoded data removed]",
      "text/plain": [
       "<Figure size 432x288 with 1 Axes>"
      ]
     },
     "metadata": {
      "needs_background": "light"
     },
     "output_type": "display_data"
    }
   ],
   "source": [
    "plt.hist(df_new['cc'], bins=30, color = 'purple', alpha = 0.5)\n",
    "plt.title('Histogram of cc')\n",
    "plt.xlabel('cc')\n",
    "plt.ylabel('Frequency')\n",
    "plt.show()"
   ]
  },
  {
   "attachments": {},
   "cell_type": "markdown",
   "metadata": {},
   "source": [
    "\n",
    "## 四分位範囲\n",
    "\n",
    "   データの散らばり方を直感的、視覚的に表そうとするもの。データ全体を大きさの順に並べて四等分してみせます。<br>\n",
    "   大きさの順で小さい方から1/4のところの値を第一四分位数、2/4のところの値を第二四分位数、3/4のところを第三四分位数と呼びます。第二四分位数はちょうど中央値に一致します。<br>\n",
    "    箱ひげ図を用いて描くことが多いです。\n",
    "        \n",
    "\n",
    "\n",
    "matplotlibのboxplotを用いて `df_new` の `cc`　列について箱ひげ図を描きます。"
   ]
  },
  {
   "cell_type": "code",
   "execution_count": 45,
   "metadata": {},
   "outputs": [
    {
     "data": {
      "image/png": "[encoded data removed]",
      "text/plain": [
       "<Figure size 360x360 with 1 Axes>"
      ]
     },
     "metadata": {
      "needs_background": "light"
     },
     "output_type": "display_data"
    }
   ],
   "source": [
    "plt.figure(figsize=(5,5))\n",
    "plt.boxplot(df_new['cc'],showmeans=True)\n",
    "plt.title('BoxPlot of cc')\n",
    "plt.grid() #　グリッド線を描きます\n",
    "plt.ylabel('cc')\n",
    "plt.show()"
   ]
  },
  {
   "cell_type": "markdown",
   "metadata": {},
   "source": [
    "小さい方から、箱の下辺が第一四分位数、オレンジの水平線が第二四分位数、箱の上辺が第三四分位数を示しています。<br>\n",
    "ここでは、逆T字とT字の水平線はそれぞれウィンカの終わりの位置を示しています。\n",
    "\n",
    "ウィンカの上限はとはここでは、\n",
    "\n",
    "$$Q3 + whis*IQR$$\n",
    "\n",
    "$$IQR = 第三四分位数(Q3) - 第一四分位数(Q1)$$\n",
    "\n",
    "$$whis = 1.5(default値で変更可能)$$ \n",
    "\n",
    "下限は、$Q1 - whis*IQR$となります。\n",
    "このウィンカを超えると*外れ値*としてプロットされます。\n"
   ]
  },
  {
   "cell_type": "markdown",
   "metadata": {},
   "source": [
    "---\n",
    "続いて、`df_new` の `item`　別の箱ひげ図を描いてみましょう。"
   ]
  },
  {
   "cell_type": "code",
   "execution_count": 48,
   "metadata": {},
   "outputs": [
    {
     "name": "stderr",
     "output_type": "stream",
     "text": [
      "/Users/yuyashibu/opt/anaconda3/lib/python3.7/site-packages/numpy/core/_asarray.py:83: VisibleDeprecationWarning: Creating an ndarray from ragged nested sequences (which is a list-or-tuple of lists-or-tuples-or ndarrays with different lengths or shapes) is deprecated. If you meant to do this, you must specify 'dtype=object' when creating the ndarray\n",
      "  return array(a, dtype, copy=False, order=order)\n"
     ]
    },
    {
     "data": {
      "image/png": "[encoded data removed]",
      "text/plain": [
       "<Figure size 936x504 with 1 Axes>"
      ]
     },
     "metadata": {
      "needs_background": "light"
     },
     "output_type": "display_data"
    }
   ],
   "source": [
    "plt.figure(figsize=(13,7))\n",
    "\n",
    "data = [df_new.loc[df_new['item'].isin([x]),'cc'] for x in df_new['item'].unique()]\n",
    "\n",
    "plt.boxplot(data, \n",
    "            labels = list(df_new['item'].unique()),\n",
    "            showmeans=True)\n",
    "plt.title('BoxPlot of cc', size=18)\n",
    "plt.grid() \n",
    "plt.ylabel('cc',size=15)\n",
    "plt.xlabel('item',size=15)\n",
    "plt.yticks(size=10)\n",
    "plt.xticks(size=10)\n",
    "plt.show()"
   ]
  },
  {
   "attachments": {},
   "cell_type": "markdown",
   "metadata": {},
   "source": [
    "## 参考 Stripplot"
   ]
  },
  {
   "cell_type": "markdown",
   "metadata": {},
   "source": [
    "上の例のように箱ひげ図はデータの散らばり方を直感的に捉え上で有用です。<br>\n",
    "しかし、それぞれのデータがどのような値を持っているかを把握することができないのが難点です。<br>\n",
    "seabornのstripplotを使って簡単に確認する方法があるので、紹介します。"
   ]
  },
  {
   "cell_type": "code",
   "execution_count": 69,
   "metadata": {},
   "outputs": [
    {
     "data": {
      "image/png": "[encoded data removed]",
      "text/plain": [
       "<Figure size 936x504 with 1 Axes>"
      ]
     },
     "metadata": {
      "needs_background": "light"
     },
     "output_type": "display_data"
    }
   ],
   "source": [
    "palette = [plt.get_cmap('plasma')(i*0.3) for i in range(len(df_new['item'].unique()))]\n",
    "\n",
    "plt.figure(figsize=(13,7))\n",
    "sns.boxplot(x='item', y='cc', data=df_new, \n",
    "            palette = palette)\n",
    "sns.stripplot(x='item', y='cc', data=df_new, jitter=True, color = 'black', alpha = 0.8)\n",
    "plt.xlabel('item',fontsize=15)\n",
    "plt.ylabel('cc',fontsize=15)\n",
    "plt.yticks(fontsize=10)\n",
    "plt.xticks(fontsize=10)\n",
    "plt.title('BoxPlot of items in df_new', fontsize=15)\n",
    "plt.grid()\n",
    "plt.show()"
   ]
  },
  {
   "attachments": {},
   "cell_type": "markdown",
   "metadata": {},
   "source": [
    "## 分散・標準偏差\n",
    "\n",
    "### 分散（variance）\n",
    "   データの散らばり具合を示す指標の１つ。１つ１つのデータ$x_i$と平均$\\bar{X}$ の差をの二乗の和をデータの個数で割った値です。\n",
    "   個々のデータが平均値からどれだけ離れているのかの距離$(x_i-\\bar{X})^2$を二乗して合計し、データの個数で割ることで標準化した値です。\n",
    "\n",
    "$$ s^2 = \\frac{\\sum_i(x_i-\\bar{X})^2}{n} $$\n",
    "\n",
    "\n",
    "### 標準偏差 （standard deviation）\n",
    "\n",
    "   分散の平方根です\n",
    "    \n",
    "$$ \\sigma = \\sqrt{\\frac{\\sum_i(x_i-\\bar{X})^2}{n}} $$\n",
    "<br><br>\n",
    "分散および標準偏差を`n`ではなく `n-1` で割って求める不偏分散(標本から母集団の分散の推定) などもあります。詳しくは統計関連の文献をご確認ください。\n"
   ]
  },
  {
   "cell_type": "markdown",
   "metadata": {},
   "source": [
    "---\n",
    "ここから`def_new`を用いて分散と標準偏差を求めましょう。\n",
    "\n",
    "`df_new`の`cc`列の分散と標準偏差を求めます。"
   ]
  },
  {
   "cell_type": "code",
   "execution_count": 50,
   "metadata": {},
   "outputs": [
    {
     "data": {
      "text/plain": [
       "660.0270390696879"
      ]
     },
     "execution_count": 50,
     "metadata": {},
     "output_type": "execute_result"
    }
   ],
   "source": [
    "df_new['cc'].var()"
   ]
  },
  {
   "cell_type": "markdown",
   "metadata": {},
   "source": [
    "この`var`は`n-1`で割った不偏分散を求めています。`n`で割った分散を求めるには、`var(ddof=0)`とします。　\n",
    "\n",
    "`var()` の[公式ドキュメント](https://pandas.pydata.org/pandas-docs/stable/reference/api/pandas.DataFrame.var.html)も参照してください。\n"
   ]
  },
  {
   "cell_type": "code",
   "execution_count": 51,
   "metadata": {},
   "outputs": [
    {
     "data": {
      "text/plain": [
       "656.7269038743394"
      ]
     },
     "execution_count": 51,
     "metadata": {},
     "output_type": "execute_result"
    }
   ],
   "source": [
    "df_new['cc'].var(ddof=0)"
   ]
  },
  {
   "cell_type": "markdown",
   "metadata": {},
   "source": [
    "`df_new`の`cc`列の標準偏差を求めます。`pandas` の`std`ではdefault で`n-1`で割ったものとなっています。"
   ]
  },
  {
   "cell_type": "code",
   "execution_count": 52,
   "metadata": {},
   "outputs": [
    {
     "data": {
      "text/plain": [
       "25.690991399120588"
      ]
     },
     "execution_count": 52,
     "metadata": {},
     "output_type": "execute_result"
    }
   ],
   "source": [
    "df_new['cc'].std()"
   ]
  },
  {
   "cell_type": "markdown",
   "metadata": {},
   "source": [
    "`n`で割った分散を求めるには、`std(ddof=0)`とします。　"
   ]
  },
  {
   "cell_type": "code",
   "execution_count": 53,
   "metadata": {},
   "outputs": [
    {
     "data": {
      "text/plain": [
       "25.626683434934368"
      ]
     },
     "execution_count": 53,
     "metadata": {},
     "output_type": "execute_result"
    }
   ],
   "source": [
    "df_new['cc'].std(ddof=0)"
   ]
  },
  {
   "attachments": {},
   "cell_type": "markdown",
   "metadata": {},
   "source": [
    "\n",
    "## まとめ\n",
    "\n",
    "ここでは、与えられたデータがどのようなものであるのかを概観するためのいくつかの方法について紹介しました。<br>\n",
    "`pandas`では`describe()`を使って基本的な統計量を一変に得ることができます。<br>\n",
    "なお、学術論文においては、標本数（`n`）、平均（`mean`）、標準偏差（`std`）、最小値（`min`）、最大値（`max`）を最低限の記述統計量として掲載することが基本となっています。"
   ]
  },
  {
   "cell_type": "code",
   "execution_count": 54,
   "metadata": {},
   "outputs": [
    {
     "data": {
      "text/html": [
       "<div>\n",
       "<style scoped>\n",
       "    .dataframe tbody tr th:only-of-type {\n",
       "        vertical-align: middle;\n",
       "    }\n",
       "\n",
       "    .dataframe tbody tr th {\n",
       "        vertical-align: top;\n",
       "    }\n",
       "\n",
       "    .dataframe thead tr th {\n",
       "        text-align: left;\n",
       "    }\n",
       "\n",
       "    .dataframe thead tr:last-of-type th {\n",
       "        text-align: right;\n",
       "    }\n",
       "</style>\n",
       "<table border=\"1\" class=\"dataframe\">\n",
       "  <thead>\n",
       "    <tr>\n",
       "      <th></th>\n",
       "      <th colspan=\"8\" halign=\"left\">cc</th>\n",
       "    </tr>\n",
       "    <tr>\n",
       "      <th></th>\n",
       "      <th>count</th>\n",
       "      <th>mean</th>\n",
       "      <th>std</th>\n",
       "      <th>min</th>\n",
       "      <th>25%</th>\n",
       "      <th>50%</th>\n",
       "      <th>75%</th>\n",
       "      <th>max</th>\n",
       "    </tr>\n",
       "    <tr>\n",
       "      <th>item</th>\n",
       "      <th></th>\n",
       "      <th></th>\n",
       "      <th></th>\n",
       "      <th></th>\n",
       "      <th></th>\n",
       "      <th></th>\n",
       "      <th></th>\n",
       "      <th></th>\n",
       "    </tr>\n",
       "  </thead>\n",
       "  <tbody>\n",
       "    <tr>\n",
       "      <th>juice</th>\n",
       "      <td>39.0</td>\n",
       "      <td>102.636279</td>\n",
       "      <td>25.190025</td>\n",
       "      <td>52.403940</td>\n",
       "      <td>84.200926</td>\n",
       "      <td>103.970790</td>\n",
       "      <td>116.298434</td>\n",
       "      <td>161.980076</td>\n",
       "    </tr>\n",
       "    <tr>\n",
       "      <th>milk</th>\n",
       "      <td>44.0</td>\n",
       "      <td>96.697190</td>\n",
       "      <td>24.983203</td>\n",
       "      <td>40.001549</td>\n",
       "      <td>84.380797</td>\n",
       "      <td>98.710193</td>\n",
       "      <td>112.433929</td>\n",
       "      <td>154.249114</td>\n",
       "    </tr>\n",
       "    <tr>\n",
       "      <th>oil</th>\n",
       "      <td>39.0</td>\n",
       "      <td>98.491611</td>\n",
       "      <td>22.189736</td>\n",
       "      <td>57.774797</td>\n",
       "      <td>82.052927</td>\n",
       "      <td>94.404108</td>\n",
       "      <td>110.658467</td>\n",
       "      <td>154.363890</td>\n",
       "    </tr>\n",
       "    <tr>\n",
       "      <th>water</th>\n",
       "      <td>42.0</td>\n",
       "      <td>106.913536</td>\n",
       "      <td>26.854830</td>\n",
       "      <td>40.758461</td>\n",
       "      <td>94.903507</td>\n",
       "      <td>111.320487</td>\n",
       "      <td>126.533637</td>\n",
       "      <td>145.381507</td>\n",
       "    </tr>\n",
       "    <tr>\n",
       "      <th>wine</th>\n",
       "      <td>36.0</td>\n",
       "      <td>95.362387</td>\n",
       "      <td>28.533656</td>\n",
       "      <td>46.903268</td>\n",
       "      <td>71.752731</td>\n",
       "      <td>95.908448</td>\n",
       "      <td>114.362140</td>\n",
       "      <td>150.830733</td>\n",
       "    </tr>\n",
       "  </tbody>\n",
       "</table>\n",
       "</div>"
      ],
      "text/plain": [
       "         cc                                                           \\\n",
       "      count        mean        std        min        25%         50%   \n",
       "item                                                                   \n",
       "juice  39.0  102.636279  25.190025  52.403940  84.200926  103.970790   \n",
       "milk   44.0   96.697190  24.983203  40.001549  84.380797   98.710193   \n",
       "oil    39.0   98.491611  22.189736  57.774797  82.052927   94.404108   \n",
       "water  42.0  106.913536  26.854830  40.758461  94.903507  111.320487   \n",
       "wine   36.0   95.362387  28.533656  46.903268  71.752731   95.908448   \n",
       "\n",
       "                               \n",
       "              75%         max  \n",
       "item                           \n",
       "juice  116.298434  161.980076  \n",
       "milk   112.433929  154.249114  \n",
       "oil    110.658467  154.363890  \n",
       "water  126.533637  145.381507  \n",
       "wine   114.362140  150.830733  "
      ]
     },
     "execution_count": 54,
     "metadata": {},
     "output_type": "execute_result"
    }
   ],
   "source": [
    "df_new.groupby(['item']).describe()"
   ]
  },
  {
   "cell_type": "code",
   "execution_count": 55,
   "metadata": {},
   "outputs": [
    {
     "data": {
      "text/html": [
       "<div>\n",
       "<style scoped>\n",
       "    .dataframe tbody tr th:only-of-type {\n",
       "        vertical-align: middle;\n",
       "    }\n",
       "\n",
       "    .dataframe tbody tr th {\n",
       "        vertical-align: top;\n",
       "    }\n",
       "\n",
       "    .dataframe thead th {\n",
       "        text-align: right;\n",
       "    }\n",
       "</style>\n",
       "<table border=\"1\" class=\"dataframe\">\n",
       "  <thead>\n",
       "    <tr style=\"text-align: right;\">\n",
       "      <th></th>\n",
       "      <th>cc</th>\n",
       "    </tr>\n",
       "  </thead>\n",
       "  <tbody>\n",
       "    <tr>\n",
       "      <th>count</th>\n",
       "      <td>200.000000</td>\n",
       "    </tr>\n",
       "    <tr>\n",
       "      <th>mean</th>\n",
       "      <td>100.110392</td>\n",
       "    </tr>\n",
       "    <tr>\n",
       "      <th>std</th>\n",
       "      <td>25.690991</td>\n",
       "    </tr>\n",
       "    <tr>\n",
       "      <th>min</th>\n",
       "      <td>40.001549</td>\n",
       "    </tr>\n",
       "    <tr>\n",
       "      <th>25%</th>\n",
       "      <td>82.908855</td>\n",
       "    </tr>\n",
       "    <tr>\n",
       "      <th>50%</th>\n",
       "      <td>101.453652</td>\n",
       "    </tr>\n",
       "    <tr>\n",
       "      <th>75%</th>\n",
       "      <td>116.694766</td>\n",
       "    </tr>\n",
       "    <tr>\n",
       "      <th>max</th>\n",
       "      <td>161.980076</td>\n",
       "    </tr>\n",
       "  </tbody>\n",
       "</table>\n",
       "</div>"
      ],
      "text/plain": [
       "               cc\n",
       "count  200.000000\n",
       "mean   100.110392\n",
       "std     25.690991\n",
       "min     40.001549\n",
       "25%     82.908855\n",
       "50%    101.453652\n",
       "75%    116.694766\n",
       "max    161.980076"
      ]
     },
     "execution_count": 55,
     "metadata": {},
     "output_type": "execute_result"
    }
   ],
   "source": [
    "df_new.describe()"
   ]
  }
 ],
 "metadata": {
  "kernelspec": {
   "display_name": "Python 3",
   "language": "python",
   "name": "python3"
  },
  "language_info": {
   "codemirror_mode": {
    "name": "ipython",
    "version": 3
   },
   "file_extension": ".py",
   "mimetype": "text/x-python",
   "name": "python",
   "nbconvert_exporter": "python",
   "pygments_lexer": "ipython3",
   "version": "3.7.6"
  }
 },
 "nbformat": 4,
 "nbformat_minor": 2
}
