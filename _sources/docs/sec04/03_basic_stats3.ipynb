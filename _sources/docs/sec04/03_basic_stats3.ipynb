{
 "cells": [
  {
   "attachments": {},
   "cell_type": "markdown",
   "metadata": {},
   "source": [
    "# 基本統計量の確認方法\n"
   ]
  },
  {
   "attachments": {},
   "cell_type": "markdown",
   "metadata": {},
   "source": [
    "\n",
    "pandas以外でも平均値・中央値・最頻値・偏差・分散を確認してみましょう"
   ]
  },
  {
   "attachments": {},
   "cell_type": "markdown",
   "metadata": {},
   "source": [
    "ここでは、`numpy`と`statistics`、`scipy`を紹介します。"
   ]
  },
  {
   "cell_type": "code",
   "execution_count": null,
   "metadata": {},
   "outputs": [],
   "source": [
    "from statistics import mean, median, mode, stdev, variance\n",
    "import numpy as np\n",
    "from scipy import stats"
   ]
  },
  {
   "cell_type": "markdown",
   "metadata": {},
   "source": [
    "まずは`statistics`を用いて求めます。"
   ]
  },
  {
   "cell_type": "code",
   "execution_count": 56,
   "metadata": {
    "scrolled": true
   },
   "outputs": [
    {
     "name": "stdout",
     "output_type": "stream",
     "text": [
      "new_list\n",
      "mean  : 75.88888888888889\n",
      "median: 15\n",
      "mode  : 15\n",
      "var   : 26671.611111111106\n",
      "std   : 163.31445469128292\n"
     ]
    }
   ],
   "source": [
    "new_list = [1, 3, 5, 8, 15, 15, 16, 120, 500] #list\n",
    "\n",
    "\n",
    "print('new_list')\n",
    "print('mean\\t:', mean(new_list))\n",
    "print('median:', median(new_list))\n",
    "print('mode\\t:', mode(new_list))\n",
    "print('var\\t:', variance(new_list)) # statisticsのvarとstdはdefaultで`n-1`で割っています\n",
    "print('std\\t:', stdev(new_list))"
   ]
  },
  {
   "cell_type": "markdown",
   "metadata": {},
   "source": [
    "次に`numpy`などを用いて求めます。"
   ]
  },
  {
   "cell_type": "code",
   "execution_count": 57,
   "metadata": {},
   "outputs": [
    {
     "name": "stdout",
     "output_type": "stream",
     "text": [
      "mean              : 75.88888888888889\n",
      "median            : 15.0\n",
      "mode              : ModeResult(mode=array([15]), count=array([2]))\n",
      "var               : 23708.098765432096\n",
      "std               : 153.97434450398578\n"
     ]
    }
   ],
   "source": [
    "print('mean\\t:', np.mean(new_list)) \n",
    "print('median\\t:', np.median(new_list))\n",
    "print('mode\\t:', stats.mode(new_list))\n",
    "print('var\\t:', np.var(new_list)) # numpyのvarとstdは`n`で割っています 上のcellの結果と比べてみてください。\n",
    "print('std\\t:', np.std(new_list))"
   ]
  }
 ],
 "metadata": {
  "kernelspec": {
   "display_name": "Python 3",
   "language": "python",
   "name": "python3"
  },
  "language_info": {
   "codemirror_mode": {
    "name": "ipython",
    "version": 3
   },
   "file_extension": ".py",
   "mimetype": "text/x-python",
   "name": "python",
   "nbconvert_exporter": "python",
   "pygments_lexer": "ipython3",
   "version": "3.7.6"
  }
 },
 "nbformat": 4,
 "nbformat_minor": 2
}
