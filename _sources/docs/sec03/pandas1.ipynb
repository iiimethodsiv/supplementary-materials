{
 "cells": [
  {
   "attachments": {},
   "cell_type": "markdown",
   "metadata": {
    "id": "pGX0ynKY2Izu"
   },
   "source": [
    "# pandas 1\n",
    "\n",
    "pandasはリッチなデータ構造と関数を提供します。DataFrameと呼ばれる二次元の表形式で分析を容易にします。そのほか、リレーショナルデータベース（SQLなど）の柔軟なデータ操作能力を持ち合わせます。\n",
    "もともと金融データ分析アプリケーションとしてのツールとして設計されたこともあり、時系列データも扱いやすいです。"
   ]
  },
  {
   "attachments": {},
   "cell_type": "markdown",
   "metadata": {},
   "source": [
    "## pandasの基本的な使い方\n",
    "\n",
    "- DataFrame : 多次元、行と列がある。（いわゆる表形式）\n",
    "- Series　: 1次元。一つの行もしくは列のみ。\n",
    "\n",
    "<img src=\"https://www.yuyashibuya.com/files/studygroup/pandas.png\" width =800px >\n"
   ]
  },
  {
   "cell_type": "code",
   "execution_count": null,
   "metadata": {},
   "outputs": [],
   "source": [
    "import pandas as pd #pandasはpdとしてimportすることが慣例となっています。\n",
    "import numpy as np"
   ]
  },
  {
   "attachments": {},
   "cell_type": "markdown",
   "metadata": {},
   "source": [
    "テーブルデータをつくってみましょう。\n",
    "\n",
    "まずは、1列ずつデータをpd.Seriesで作ります。"
   ]
  },
  {
   "cell_type": "code",
   "execution_count": null,
   "metadata": {},
   "outputs": [
    {
     "ename": "NameError",
     "evalue": "ignored",
     "output_type": "error",
     "traceback": [
      "\u001b[0;31m---------------------------------------------------------------------------\u001b[0m\n",
      "\u001b[0;31mNameError\u001b[0m                                 Traceback (most recent call last)\n",
      "\u001b[0;32m<ipython-input-2-6077e69629e0>\u001b[0m in \u001b[0;36m<module>\u001b[0;34m()\u001b[0m\n",
      "\u001b[0;32m----> 1\u001b[0;31m \u001b[0mprice\u001b[0m \u001b[0;34m=\u001b[0m \u001b[0;34m[\u001b[0m\u001b[0;36m100\u001b[0m\u001b[0;34m,\u001b[0m \u001b[0;36m40\u001b[0m\u001b[0;34m,\u001b[0m \u001b[0;36m300\u001b[0m\u001b[0;34m,\u001b[0m \u001b[0mnp\u001b[0m\u001b[0;34m.\u001b[0m\u001b[0mnan\u001b[0m \u001b[0;34m,\u001b[0m \u001b[0;36m500\u001b[0m\u001b[0;34m,\u001b[0m \u001b[0;36m1000\u001b[0m\u001b[0;34m,\u001b[0m \u001b[0;36m300\u001b[0m\u001b[0;34m,\u001b[0m \u001b[0;36m400\u001b[0m\u001b[0;34m,\u001b[0m \u001b[0;36m240\u001b[0m\u001b[0;34m,\u001b[0m \u001b[0;36m3000\u001b[0m\u001b[0;34m]\u001b[0m\u001b[0;34m\u001b[0m\u001b[0;34m\u001b[0m\u001b[0m\n",
      "\u001b[0m\u001b[1;32m      2\u001b[0m \u001b[0mprint\u001b[0m\u001b[0;34m(\u001b[0m\u001b[0mprice\u001b[0m\u001b[0;34m)\u001b[0m\u001b[0;34m\u001b[0m\u001b[0;34m\u001b[0m\u001b[0m\n",
      "\n",
      "\u001b[0;31mNameError\u001b[0m: name 'np' is not defined"
     ]
    }
   ],
   "source": [
    "price = pd.Series([100, 40, 300, np.nan , 500, 1000, 300, 400, 240, 3000])\n",
    "print(price)"
   ]
  },
  {
   "cell_type": "code",
   "execution_count": null,
   "metadata": {},
   "outputs": [],
   "source": [
    "num = pd.Series([5, 2, 1, 0, 4, 200, 7, 19, 20, 100])"
   ]
  },
  {
   "cell_type": "code",
   "execution_count": null,
   "metadata": {},
   "outputs": [],
   "source": [
    "datetimes = pd.date_range('20180601', periods=10, freq= '627H')\n",
    "print(datetimes)"
   ]
  },
  {
   "cell_type": "markdown",
   "metadata": {},
   "source": [
    "列データを組み合わせてデータフレームを作ります"
   ]
  },
  {
   "cell_type": "code",
   "execution_count": null,
   "metadata": {},
   "outputs": [],
   "source": [
    "df = pd.DataFrame({'price':price, 'num': num, 'datetime': datetimes })\n",
    "df"
   ]
  },
  {
   "attachments": {},
   "cell_type": "markdown",
   "metadata": {},
   "source": [
    "上のやり方のように１列ずつ作ってもOKですが、次のcellのようにまとめて作ることもできます。"
   ]
  },
  {
   "cell_type": "code",
   "execution_count": null,
   "metadata": {},
   "outputs": [
    {
     "data": {
      "text/html": [
       "<div>\n",
       "<style scoped>\n",
       "    .dataframe tbody tr th:only-of-type {\n",
       "        vertical-align: middle;\n",
       "    }\n",
       "\n",
       "    .dataframe tbody tr th {\n",
       "        vertical-align: top;\n",
       "    }\n",
       "\n",
       "    .dataframe thead th {\n",
       "        text-align: right;\n",
       "    }\n",
       "</style>\n",
       "<table border=\"1\" class=\"dataframe\">\n",
       "  <thead>\n",
       "    <tr style=\"text-align: right;\">\n",
       "      <th></th>\n",
       "      <th>price</th>\n",
       "      <th>num</th>\n",
       "      <th>datetime</th>\n",
       "    </tr>\n",
       "  </thead>\n",
       "  <tbody>\n",
       "    <tr>\n",
       "      <th>0</th>\n",
       "      <td>100.0</td>\n",
       "      <td>5</td>\n",
       "      <td>2018-06-01 00:00:00</td>\n",
       "    </tr>\n",
       "    <tr>\n",
       "      <th>1</th>\n",
       "      <td>40.0</td>\n",
       "      <td>2</td>\n",
       "      <td>2018-06-27 03:00:00</td>\n",
       "    </tr>\n",
       "    <tr>\n",
       "      <th>2</th>\n",
       "      <td>300.0</td>\n",
       "      <td>1</td>\n",
       "      <td>2018-07-23 06:00:00</td>\n",
       "    </tr>\n",
       "    <tr>\n",
       "      <th>3</th>\n",
       "      <td>NaN</td>\n",
       "      <td>0</td>\n",
       "      <td>2018-08-18 09:00:00</td>\n",
       "    </tr>\n",
       "    <tr>\n",
       "      <th>4</th>\n",
       "      <td>500.0</td>\n",
       "      <td>4</td>\n",
       "      <td>2018-09-13 12:00:00</td>\n",
       "    </tr>\n",
       "    <tr>\n",
       "      <th>5</th>\n",
       "      <td>1000.0</td>\n",
       "      <td>200</td>\n",
       "      <td>2018-10-09 15:00:00</td>\n",
       "    </tr>\n",
       "    <tr>\n",
       "      <th>6</th>\n",
       "      <td>300.0</td>\n",
       "      <td>7</td>\n",
       "      <td>2018-11-04 18:00:00</td>\n",
       "    </tr>\n",
       "    <tr>\n",
       "      <th>7</th>\n",
       "      <td>400.0</td>\n",
       "      <td>19</td>\n",
       "      <td>2018-11-30 21:00:00</td>\n",
       "    </tr>\n",
       "    <tr>\n",
       "      <th>8</th>\n",
       "      <td>240.0</td>\n",
       "      <td>20</td>\n",
       "      <td>2018-12-27 00:00:00</td>\n",
       "    </tr>\n",
       "    <tr>\n",
       "      <th>9</th>\n",
       "      <td>3000.0</td>\n",
       "      <td>100</td>\n",
       "      <td>2019-01-22 03:00:00</td>\n",
       "    </tr>\n",
       "  </tbody>\n",
       "</table>\n",
       "</div>"
      ],
      "text/plain": [
       "    price  num            datetime\n",
       "0   100.0    5 2018-06-01 00:00:00\n",
       "1    40.0    2 2018-06-27 03:00:00\n",
       "2   300.0    1 2018-07-23 06:00:00\n",
       "3     NaN    0 2018-08-18 09:00:00\n",
       "4   500.0    4 2018-09-13 12:00:00\n",
       "5  1000.0  200 2018-10-09 15:00:00\n",
       "6   300.0    7 2018-11-04 18:00:00\n",
       "7   400.0   19 2018-11-30 21:00:00\n",
       "8   240.0   20 2018-12-27 00:00:00\n",
       "9  3000.0  100 2019-01-22 03:00:00"
      ]
     },
     "metadata": {},
     "output_type": "display_data"
    }
   ],
   "source": [
    "df = pd.DataFrame({'price':[100, 40, 300, np.nan , 500, 1000, 300, 400, 240, 3000], \n",
    "                   'num': [5, 2, 1, 0, 4, 200, 7, 19, 20, 100],\n",
    "                   'datetime': pd.date_range('20180601', periods=10, freq= '627H') })\n",
    "df"
   ]
  },
  {
   "attachments": {},
   "cell_type": "markdown",
   "metadata": {},
   "source": [
    "dfのタイプを確認します。"
   ]
  },
  {
   "cell_type": "code",
   "execution_count": null,
   "metadata": {},
   "outputs": [
    {
     "data": {
      "text/plain": [
       "pandas.core.frame.DataFrame"
      ]
     },
     "metadata": {},
     "output_type": "display_data"
    }
   ],
   "source": [
    "type(df)"
   ]
  },
  {
   "attachments": {},
   "cell_type": "markdown",
   "metadata": {},
   "source": [
    "`price`列の型も確認してみましょう"
   ]
  },
  {
   "cell_type": "code",
   "execution_count": null,
   "metadata": {},
   "outputs": [
    {
     "data": {
      "text/plain": [
       "pandas.core.series.Series"
      ]
     },
     "metadata": {},
     "output_type": "display_data"
    }
   ],
   "source": [
    "type(df['price'])"
   ]
  },
  {
   "cell_type": "markdown",
   "metadata": {},
   "source": [
    "２つ以上の列（もしくは行）を選択すると`Series`ではなく`DataFrame`となります。"
   ]
  },
  {
   "cell_type": "code",
   "execution_count": null,
   "metadata": {},
   "outputs": [
    {
     "data": {
      "text/plain": [
       "pandas.core.frame.DataFrame"
      ]
     },
     "metadata": {},
     "output_type": "display_data"
    }
   ],
   "source": [
    "type(df[['price','num']])"
   ]
  },
  {
   "cell_type": "markdown",
   "metadata": {},
   "source": [
    "１つの行もSeriesです。"
   ]
  },
  {
   "cell_type": "code",
   "execution_count": null,
   "metadata": {},
   "outputs": [
    {
     "data": {
      "text/plain": [
       "price                       100\n",
       "num                           5\n",
       "datetime    2018-06-01 00:00:00\n",
       "Name: 0, dtype: object"
      ]
     },
     "metadata": {},
     "output_type": "display_data"
    }
   ],
   "source": [
    "df.iloc[0]"
   ]
  },
  {
   "cell_type": "code",
   "execution_count": null,
   "metadata": {},
   "outputs": [
    {
     "data": {
      "text/plain": [
       "pandas.core.series.Series"
      ]
     },
     "metadata": {},
     "output_type": "display_data"
    }
   ],
   "source": [
    "type(df.iloc[0])"
   ]
  },
  {
   "attachments": {},
   "cell_type": "markdown",
   "metadata": {},
   "source": [
    "`dtypes`で列ごとのタイプを一括して確認できます"
   ]
  },
  {
   "cell_type": "code",
   "execution_count": null,
   "metadata": {
    "executionInfo": {
     "elapsed": 16,
     "status": "aborted",
     "timestamp": 1656663646865,
     "user": {
      "displayName": "Yuya Shibuya",
      "userId": "13278923316285788453"
     },
     "user_tz": -540
    },
    "id": "AtF3cAg_2Izv"
   },
   "outputs": [],
   "source": [
    "df.dtypes"
   ]
  },
  {
   "attachments": {},
   "cell_type": "markdown",
   "metadata": {},
   "source": [
    "`head`で行数を指定することで、DataFrameの最初の3行を表示できます"
   ]
  },
  {
   "cell_type": "code",
   "execution_count": null,
   "metadata": {
    "executionInfo": {
     "elapsed": 17,
     "status": "aborted",
     "timestamp": 1656663646866,
     "user": {
      "displayName": "Yuya Shibuya",
      "userId": "13278923316285788453"
     },
     "user_tz": -540
    },
    "id": "S9fCtnJa2Izv"
   },
   "outputs": [],
   "source": [
    "df.head(3)"
   ]
  },
  {
   "attachments": {},
   "cell_type": "markdown",
   "metadata": {},
   "source": [
    "DataFrameのランダムな3行を表示するには`sample`を用います"
   ]
  },
  {
   "cell_type": "code",
   "execution_count": null,
   "metadata": {
    "executionInfo": {
     "elapsed": 16,
     "status": "aborted",
     "timestamp": 1656663646866,
     "user": {
      "displayName": "Yuya Shibuya",
      "userId": "13278923316285788453"
     },
     "user_tz": -540
    },
    "id": "cGzpHvNn2Izv"
   },
   "outputs": [],
   "source": [
    "df.sample(3)"
   ]
  },
  {
   "attachments": {},
   "cell_type": "markdown",
   "metadata": {},
   "source": [
    "DataFrameの最後の3行を`tail`を用いて表示できます"
   ]
  },
  {
   "cell_type": "code",
   "execution_count": null,
   "metadata": {
    "executionInfo": {
     "elapsed": 16,
     "status": "aborted",
     "timestamp": 1656663646866,
     "user": {
      "displayName": "Yuya Shibuya",
      "userId": "13278923316285788453"
     },
     "user_tz": -540
    },
    "id": "ut2Mwxn82Izv"
   },
   "outputs": [],
   "source": [
    "df.tail(3)"
   ]
  },
  {
   "attachments": {},
   "cell_type": "markdown",
   "metadata": {},
   "source": [
    "DataFrameのIndexを確認します"
   ]
  },
  {
   "cell_type": "code",
   "execution_count": null,
   "metadata": {
    "executionInfo": {
     "elapsed": 17,
     "status": "aborted",
     "timestamp": 1656663646867,
     "user": {
      "displayName": "Yuya Shibuya",
      "userId": "13278923316285788453"
     },
     "user_tz": -540
    },
    "id": "UVzE5ojc2Izv"
   },
   "outputs": [],
   "source": [
    "df.index"
   ]
  },
  {
   "attachments": {},
   "cell_type": "markdown",
   "metadata": {},
   "source": [
    "DataFrameのcolumnsを確認します"
   ]
  },
  {
   "cell_type": "code",
   "execution_count": null,
   "metadata": {
    "executionInfo": {
     "elapsed": 17,
     "status": "aborted",
     "timestamp": 1656663646867,
     "user": {
      "displayName": "Yuya Shibuya",
      "userId": "13278923316285788453"
     },
     "user_tz": -540
    },
    "id": "IJkND8RA2Izw"
   },
   "outputs": [],
   "source": [
    "df.columns"
   ]
  },
  {
   "attachments": {},
   "cell_type": "markdown",
   "metadata": {},
   "source": [
    "列の抽出は次のように列名を指定することできます"
   ]
  },
  {
   "cell_type": "code",
   "execution_count": null,
   "metadata": {
    "executionInfo": {
     "elapsed": 17,
     "status": "aborted",
     "timestamp": 1656663646867,
     "user": {
      "displayName": "Yuya Shibuya",
      "userId": "13278923316285788453"
     },
     "user_tz": -540
    },
    "id": "Wu-S6MRm2Izw"
   },
   "outputs": [],
   "source": [
    "df['price']"
   ]
  },
  {
   "attachments": {},
   "cell_type": "markdown",
   "metadata": {},
   "source": [
    "複数列の抽出の抽出もできます"
   ]
  },
  {
   "cell_type": "code",
   "execution_count": null,
   "metadata": {
    "executionInfo": {
     "elapsed": 18,
     "status": "aborted",
     "timestamp": 1656663646868,
     "user": {
      "displayName": "Yuya Shibuya",
      "userId": "13278923316285788453"
     },
     "user_tz": -540
    },
    "id": "Al6KXybe2Izw"
   },
   "outputs": [],
   "source": [
    "df[['price','datetime']]"
   ]
  },
  {
   "attachments": {},
   "cell_type": "markdown",
   "metadata": {},
   "source": [
    "特定の列をindexにすることもできます"
   ]
  },
  {
   "cell_type": "code",
   "execution_count": null,
   "metadata": {
    "executionInfo": {
     "elapsed": 17,
     "status": "aborted",
     "timestamp": 1656663646868,
     "user": {
      "displayName": "Yuya Shibuya",
      "userId": "13278923316285788453"
     },
     "user_tz": -540
    },
    "id": "HeuZBv7t2Izw"
   },
   "outputs": [],
   "source": [
    "df = df.set_index(['datetime'])\n",
    "df"
   ]
  },
  {
   "cell_type": "code",
   "execution_count": null,
   "metadata": {
    "executionInfo": {
     "elapsed": 17,
     "status": "aborted",
     "timestamp": 1656663646868,
     "user": {
      "displayName": "Yuya Shibuya",
      "userId": "13278923316285788453"
     },
     "user_tz": -540
    },
    "id": "g2GQ1n072Izw"
   },
   "outputs": [],
   "source": [
    "print(df.index[0]) # indexの0番目の値を確認\n",
    "print(df.index[-1]) # indexの末尾の値を確認"
   ]
  },
  {
   "attachments": {},
   "cell_type": "markdown",
   "metadata": {},
   "source": [
    "indexをresetして0から振り直すには`reset_index`が使えます。"
   ]
  },
  {
   "cell_type": "code",
   "execution_count": null,
   "metadata": {
    "executionInfo": {
     "elapsed": 17,
     "status": "aborted",
     "timestamp": 1656663646868,
     "user": {
      "displayName": "Yuya Shibuya",
      "userId": "13278923316285788453"
     },
     "user_tz": -540
    },
    "id": "yPJd92Ak2Izx"
   },
   "outputs": [],
   "source": [
    "df = df.reset_index()\n",
    "df.head(2)"
   ]
  },
  {
   "attachments": {},
   "cell_type": "markdown",
   "metadata": {},
   "source": [
    "indexには複数の列を指定することも可能です。（Multiindex）"
   ]
  },
  {
   "cell_type": "code",
   "execution_count": null,
   "metadata": {
    "executionInfo": {
     "elapsed": 17,
     "status": "aborted",
     "timestamp": 1656663646869,
     "user": {
      "displayName": "Yuya Shibuya",
      "userId": "13278923316285788453"
     },
     "user_tz": -540
    },
    "id": "crDrA99x2Izx"
   },
   "outputs": [],
   "source": [
    "df = df.set_index(['datetime','num'])\n",
    "df"
   ]
  },
  {
   "cell_type": "code",
   "execution_count": null,
   "metadata": {
    "executionInfo": {
     "elapsed": 17,
     "status": "aborted",
     "timestamp": 1656663646869,
     "user": {
      "displayName": "Yuya Shibuya",
      "userId": "13278923316285788453"
     },
     "user_tz": -540
    },
    "id": "pfQ9L1PM2Izx"
   },
   "outputs": [],
   "source": [
    "#　indexをresetするには`reset_index`を使います。\n",
    "df = df.reset_index()\n",
    "df"
   ]
  }
 ],
 "metadata": {
  "colab": {
   "name": "Day2_0_Libraries.ipynb",
   "provenance": []
  },
  "kernelspec": {
   "display_name": "Python 3 (ipykernel)",
   "language": "python",
   "name": "python3"
  },
  "language_info": {
   "codemirror_mode": {
    "name": "ipython",
    "version": 3
   },
   "file_extension": ".py",
   "mimetype": "text/x-python",
   "name": "python",
   "nbconvert_exporter": "python",
   "pygments_lexer": "ipython3",
   "version": "3.10.9"
  }
 },
 "nbformat": 4,
 "nbformat_minor": 4
}
