{
 "cells": [
  {
   "attachments": {},
   "cell_type": "markdown",
   "metadata": {},
   "source": [
    "# 課題"
   ]
  },
  {
   "attachments": {},
   "cell_type": "markdown",
   "metadata": {},
   "source": [
    "\n",
    "## 課題1. \n",
    "Section3の内容のうち習得に自信がない部分について、自分でこのNotebookでコードを書いて実行してください。"
   ]
  },
  {
   "cell_type": "code",
   "execution_count": null,
   "metadata": {},
   "outputs": [],
   "source": [
    "..."
   ]
  },
  {
   "attachments": {},
   "cell_type": "markdown",
   "metadata": {},
   "source": [
    "\n",
    "## 課題2. \n",
    "次のDataFrame `df` はある電化製品店のパソコンコーナーの受注情報の一部です。\n",
    "\n",
    "| column  |  description  |\n",
    "|---------|------------------------------|\n",
    "|  id     | 顧客番号 |\n",
    "|  name   | 顧客名 |\n",
    "|  date   | 来店日 |\n",
    "|  laptop | 購入または修理に持ち込んだパソコンの種類 |\n",
    "|  fix    | 修理受注であればTrue、購入であればFalse |\n"
   ]
  },
  {
   "cell_type": "code",
   "execution_count": null,
   "metadata": {},
   "outputs": [],
   "source": [
    "import numpy as np\n",
    "import pandas as pd\n",
    "\n",
    "def make_df():\n",
    "    df = pd.DataFrame({'id':[100, 100, 101, 101, 101, 102, 103, 104, 104, 105],\n",
    "                      'name': ['Max', 'Max', 'Bob', 'Bob', 'Bob', 'Alice', 'Chris','Emma', 'William','Jacob'],\n",
    "                       'gender':['m', 'm', 'm', 'm', 'm', 'f', np.nan, 'f', 'm', 'm'],\n",
    "                       'date':['2019/3/4','2019/2/5','2018/10/3','2017/12/6','2016/9/3','2019/7/4','2017/1/1','2019/5/3','2018/2/18', '2015/12/30'],\n",
    "                      'laptop':['mac','mac','windows','windows','mac', 'mac', 'windows', 'windows', 'mac', 'others'],\n",
    "                      'fix': [True, False, True, False, False, False, False, True, True, True],\n",
    "                      'price': [10000, 230000, 5400, 15000, 300000, 240000, 180000, 150000, 100000, 3000]})\n",
    "    return df"
   ]
  },
  {
   "cell_type": "code",
   "execution_count": null,
   "metadata": {},
   "outputs": [],
   "source": [
    "make_df()"
   ]
  },
  {
   "cell_type": "markdown",
   "metadata": {},
   "source": [
    "`df`に関して以下の問いに答えてください。"
   ]
  },
  {
   "attachments": {},
   "cell_type": "markdown",
   "metadata": {},
   "source": [
    "### 課題2.0（回答例）\n",
    "\n",
    "このDataFrame(df)に格納されている一番最初の顧客の名前は何ですか？\n",
    "\n",
    "回答は一つのstr値を返します。"
   ]
  },
  {
   "cell_type": "code",
   "execution_count": null,
   "metadata": {},
   "outputs": [],
   "source": [
    "# 課題の回答は関数（引数無し）の中に全て書いてください。\n",
    "def answer_zero():\n",
    "    #　どのようなフォーマットで回答すべきか問題文に従ってください。\n",
    "    df = make_df()\n",
    "    ans = df.loc[0,'name']\n",
    "    return ans\n",
    "\n",
    "# 回答を確認するためには、次のような１行で回答を記入した関数を呼び出すことで確認できます。\n",
    "answer_zero()"
   ]
  },
  {
   "cell_type": "markdown",
   "metadata": {},
   "source": [
    "次のcellを実行して回答を確認してください。"
   ]
  },
  {
   "cell_type": "code",
   "execution_count": null,
   "metadata": {},
   "outputs": [],
   "source": [
    "print(answer_zero()=='Max')"
   ]
  },
  {
   "attachments": {},
   "cell_type": "markdown",
   "metadata": {},
   "source": [
    "### 課題2.1\n",
    "\n",
    "DataFrame(df)の`date`列をdatetime型に変換し、日付の新しい順（descending）にソートしてください。\n",
    "\n",
    "回答は1つのSeriesを返します。"
   ]
  },
  {
   "cell_type": "code",
   "execution_count": null,
   "metadata": {},
   "outputs": [],
   "source": [
    "def answer_one():\n",
    "    df = make_df()\n",
    "    df['date'] = pd.to_datetime(df['date'])\n",
    "    ans = df['date'].sort_values(ascending=False)\n",
    "    return ans "
   ]
  },
  {
   "cell_type": "markdown",
   "metadata": {},
   "source": [
    "次のセルを実行して回答を確認してください"
   ]
  },
  {
   "cell_type": "code",
   "execution_count": null,
   "metadata": {
    "scrolled": true
   },
   "outputs": [],
   "source": [
    "import datetime\n",
    "print(answer_one().iloc[0] == datetime.datetime(2019,7,4))\n",
    "print(answer_one().iloc[4] == datetime.datetime(2018,10,3))\n",
    "print(answer_one().iloc[9] == datetime.datetime(2015,12,30))"
   ]
  },
  {
   "attachments": {},
   "cell_type": "markdown",
   "metadata": {},
   "source": [
    "### 課題2.2\n",
    "\n",
    "`df`のなかで最も受注回数が多い顧客は誰ですか？\n",
    "\n",
    "回答は1つのstr型の値を返します。"
   ]
  },
  {
   "cell_type": "code",
   "execution_count": null,
   "metadata": {},
   "outputs": [],
   "source": [
    "def answer_two():\n",
    "    df = make_df()\n",
    "    ...\n",
    "    return \"YOUR ANSWER\""
   ]
  },
  {
   "cell_type": "markdown",
   "metadata": {},
   "source": [
    "次のセルを実行して回答を確認してください"
   ]
  },
  {
   "cell_type": "code",
   "execution_count": null,
   "metadata": {
    "scrolled": true
   },
   "outputs": [],
   "source": [
    "print(answer_two() == 'Bob')"
   ]
  },
  {
   "attachments": {},
   "cell_type": "markdown",
   "metadata": {},
   "source": [
    "### 課題2.3\n",
    "\n",
    "`df`のなかで顧客ごとの受注支払額総額を総額が高い順に示してください。\n",
    "\n",
    "回答は1つのSeriesを返します。返すSeriesのindexは顧客の名前(`name`)としてください。"
   ]
  },
  {
   "cell_type": "code",
   "execution_count": null,
   "metadata": {},
   "outputs": [],
   "source": [
    "def answer_three():\n",
    "    df = make_df()\n",
    "    ...\n",
    "    return \"YOUR ANSWER\""
   ]
  },
  {
   "cell_type": "code",
   "execution_count": null,
   "metadata": {
    "scrolled": true
   },
   "outputs": [],
   "source": [
    "answer_three()"
   ]
  },
  {
   "cell_type": "markdown",
   "metadata": {},
   "source": [
    "次のセルを実行して回答を確認してください"
   ]
  },
  {
   "cell_type": "code",
   "execution_count": null,
   "metadata": {
    "scrolled": false
   },
   "outputs": [],
   "source": [
    "print(answer_three()[0] == 320400)\n",
    "print(answer_three().index[0] == \"Bob\")\n",
    "print(answer_three()[-1] == 3000)\n",
    "print(answer_three().index[-1] == \"Jacob\")"
   ]
  },
  {
   "attachments": {},
   "cell_type": "markdown",
   "metadata": {},
   "source": [
    "### 課題2.4\n",
    "\n",
    "`df`のうち修理の受注のみを示すDataFrameを`df_fix`として作ってください。`df_fix`は受注の日付の古い順(昇順、ascending)に並び替えてください。\n",
    "\n",
    "回答は1つのDataFrame(5行、7列)を返します。"
   ]
  },
  {
   "cell_type": "code",
   "execution_count": null,
   "metadata": {},
   "outputs": [],
   "source": [
    "def answer_four():\n",
    "    df = make_df()\n",
    "    ...\n",
    "    return df_fix "
   ]
  },
  {
   "cell_type": "code",
   "execution_count": null,
   "metadata": {
    "scrolled": false
   },
   "outputs": [],
   "source": [
    "answer_four()"
   ]
  },
  {
   "cell_type": "markdown",
   "metadata": {},
   "source": [
    "次のセルを実行して回答を確認してください"
   ]
  },
  {
   "cell_type": "code",
   "execution_count": null,
   "metadata": {
    "scrolled": false
   },
   "outputs": [],
   "source": [
    "import datetime\n",
    "print(answer_four().shape == (5,7))\n",
    "print(answer_four().iloc[0]['date'] == datetime.datetime(2015,12,30))\n",
    "print(answer_four().iloc[-1]['date'] == datetime.datetime(2019,5,3))\n",
    "print(answer_four().iloc[1]['name'] == 'William')"
   ]
  },
  {
   "attachments": {},
   "cell_type": "markdown",
   "metadata": {},
   "source": [
    "\n",
    "### 課題2.5\n",
    "\n",
    "`df`のうち修理の受注のみを示すDataFrameをdf_fixを用いて、性別での受注件数を示す棒グラフを作成してください。\n",
    "\n",
    "回答は1つの棒グラフを表示します。"
   ]
  },
  {
   "cell_type": "code",
   "execution_count": null,
   "metadata": {},
   "outputs": [],
   "source": [
    "import matplotlib\n",
    "% matplotlib inline\n",
    "\n",
    "def answer_five():\n",
    "    df_fix = answer_four()\n",
    "    \n",
    "    ...\n",
    "    \n",
    "    plt.show()"
   ]
  },
  {
   "cell_type": "markdown",
   "metadata": {},
   "source": [
    "次のcellを実行して回答を表示させてください"
   ]
  },
  {
   "cell_type": "code",
   "execution_count": null,
   "metadata": {
    "scrolled": true
   },
   "outputs": [],
   "source": [
    "answer_five()"
   ]
  },
  {
   "attachments": {},
   "cell_type": "markdown",
   "metadata": {},
   "source": [
    "### 課題2.6\n",
    "\n",
    "`df`に新しいcolumnとして`year`を追加してください。`year`は受注が何年にあったかを示します。例えば`date`（受注日付）が`2015-12-1`の場合の`year`は`2015`となります。\n",
    "\n",
    "`df`は`id`の降順(descending)に並び替え、columnは`[['id', 'name','gender','date','year','laptop','fix','price']]`の順に表示されるようにしてください。\n",
    "\n",
    "回答は1つのDataFrame(10行、8列)を返します。"
   ]
  },
  {
   "cell_type": "code",
   "execution_count": null,
   "metadata": {},
   "outputs": [],
   "source": [
    "def answer_six():\n",
    "    df = make_df()\n",
    "    \n",
    "    ...\n",
    "    \n",
    "    return \"YOUR ANSWER\""
   ]
  },
  {
   "cell_type": "markdown",
   "metadata": {},
   "source": [
    "次のcellを実行して回答を表示させてください"
   ]
  },
  {
   "cell_type": "code",
   "execution_count": null,
   "metadata": {
    "scrolled": true
   },
   "outputs": [],
   "source": [
    "answer_six()"
   ]
  },
  {
   "attachments": {},
   "cell_type": "markdown",
   "metadata": {},
   "source": [
    "### 課題2.7\n",
    "\n",
    "`df`に新しいcolumnとして`year`を追加してください。`year`は受注が何年にあったかを示します。例えば`date`（受注日付）が`2015-12-1`の場合の`year`は`2015`となります。\n",
    "\n",
    "`df`は`id`の降順(descending)に並び替え、columnは`[['id', 'name','gender','date','year','laptop','fix','price']]`の順に表示されるようにしてください。\n",
    "\n",
    "回答は1つのDataFrame(10行、8列)を返します。"
   ]
  },
  {
   "cell_type": "code",
   "execution_count": null,
   "metadata": {},
   "outputs": [],
   "source": [
    "def answer_seven():\n",
    "    df = make_df()\n",
    "    \n",
    "    ...\n",
    "    \n",
    "    return \"YOUR ANSWER\""
   ]
  },
  {
   "cell_type": "markdown",
   "metadata": {},
   "source": [
    "次のcellを実行して回答を表示させてください"
   ]
  },
  {
   "cell_type": "code",
   "execution_count": null,
   "metadata": {
    "scrolled": true
   },
   "outputs": [],
   "source": [
    "answer_seven()"
   ]
  },
  {
   "cell_type": "markdown",
   "metadata": {},
   "source": [
    "### 課題2.8\n",
    "\n",
    "年別の受注総額を示すSeriesを作り、年の昇順（ascending）で並び替えてください。\n",
    "\n",
    "回答は1つのSeriesを返します。"
   ]
  },
  {
   "cell_type": "code",
   "execution_count": null,
   "metadata": {},
   "outputs": [],
   "source": [
    "def answer_eight():\n",
    "    df = answer_six()\n",
    "    \n",
    "    ...\n",
    "    \n",
    "    return \"YOUR ANSWER\""
   ]
  },
  {
   "cell_type": "markdown",
   "metadata": {},
   "source": [
    "次のcellを実行して回答を表示させてください"
   ]
  },
  {
   "cell_type": "code",
   "execution_count": null,
   "metadata": {
    "scrolled": true
   },
   "outputs": [],
   "source": [
    "answer_eight()"
   ]
  },
  {
   "cell_type": "markdown",
   "metadata": {},
   "source": [
    "### 課題2.9\n",
    "\n",
    "matplotlibを用いて年別の受注総額を示す棒グラフを作成し表示させてください。\n",
    "回答は一つの棒グラフを表示させます。"
   ]
  },
  {
   "cell_type": "code",
   "execution_count": null,
   "metadata": {},
   "outputs": [],
   "source": [
    "import matplotlib.pyplot as plt\n",
    "% matplotlib inline\n",
    "\n",
    "def answer_nine():\n",
    "    \n",
    "    ...\n",
    "    \n",
    "    plt.show()\n",
    "    "
   ]
  },
  {
   "cell_type": "markdown",
   "metadata": {},
   "source": [
    "次のcellを実行して回答を表示させてください"
   ]
  },
  {
   "cell_type": "code",
   "execution_count": null,
   "metadata": {
    "scrolled": false
   },
   "outputs": [],
   "source": [
    "answer_nine()"
   ]
  },
  {
   "cell_type": "markdown",
   "metadata": {},
   "source": [
    "### 課題2.10\n",
    "\n",
    "ユーザーに入力してもらった単語を示したDataFrame `TEXT`を考えます。\n",
    "`TEXT`のcolumn`word`のクリーニングを行って返してください。具体的には、文字列の前後の空白の消去、句読点の記号（#@?!）の消去、全て単語を大文字から始まり残りは小文字になるようにしてください。なお、単語を大文字から始まり残りを小文字にするためには`title()`を使うことが出来ます。\n",
    "\n",
    "回答は一つのSeriesを返します。"
   ]
  },
  {
   "cell_type": "code",
   "execution_count": null,
   "metadata": {},
   "outputs": [],
   "source": [
    "def make_TEXT():\n",
    "    TEXT = pd.DataFrame({'id':range(100, 110),\n",
    "                         'text':['  America   ', 'japan', 'kOrea', 'England?', '@China', 'FrancE', \n",
    "                                 'germany??', 'iNdia', '   Philipines##', 'new zealand']})\n",
    "    return TEXT"
   ]
  },
  {
   "cell_type": "code",
   "execution_count": null,
   "metadata": {},
   "outputs": [],
   "source": [
    "def ans_ten():\n",
    "    \n",
    "    TEXT = make_TEXT()\n",
    "    \n",
    "    ...\n",
    "    \n",
    "    return \"YOUR ANSWER\"              "
   ]
  },
  {
   "cell_type": "markdown",
   "metadata": {},
   "source": [
    "次のcellを実行して回答を表示させてください"
   ]
  },
  {
   "cell_type": "code",
   "execution_count": null,
   "metadata": {},
   "outputs": [],
   "source": [
    "ans_ten()"
   ]
  }
 ],
 "metadata": {
  "kernelspec": {
   "display_name": "Python 3",
   "language": "python",
   "name": "python3"
  },
  "language_info": {
   "codemirror_mode": {
    "name": "ipython",
    "version": 3
   },
   "file_extension": ".py",
   "mimetype": "text/x-python",
   "name": "python",
   "nbconvert_exporter": "python",
   "pygments_lexer": "ipython3",
   "version": "3.7.6"
  }
 },
 "nbformat": 4,
 "nbformat_minor": 2
}
