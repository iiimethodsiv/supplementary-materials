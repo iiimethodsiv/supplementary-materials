{
 "cells": [
  {
   "attachments": {},
   "cell_type": "markdown",
   "metadata": {
    "id": "uKO6zKys2Izp"
   },
   "source": [
    "# Pythonのライブラリ・パッケージ\n",
    "\n",
    "ここではテーブルデータを扱う上でよく使うライブラリやパッケージを紹介します。\n",
    "\n",
    "```{note}\n",
    "Pythonで組込関数以外のライブラリやパッケージを使用する場合には、必ず使う前に`import`する必要があります。\n",
    "* 例えば、`math`というライブラリを使う場合は、`import math` を実行してからではないと使うことができません。\n",
    "* `import`はNotebookごとに行ってください。\n",
    "* ライブラリごとにどのようにimportすべきか慣例があり、そのような慣例に従うことが通例となっています。\n",
    "    * 例えば、後述する`pandas`は`pd`として読み込むことが慣例となっています。具体的には、`import pandas as pd`とします。\n",
    "```\n",
    "\n",
    "ここではデータ分析でよく用いる代表的なライブラリであるNumPy, pandas (次ページ), matplotlib（次々ページ）を取り上げます。"
   ]
  },
  {
   "cell_type": "code",
   "execution_count": null,
   "metadata": {},
   "outputs": [],
   "source": []
  },
  {
   "attachments": {},
   "cell_type": "markdown",
   "metadata": {
    "id": "GCGquTm42Izp"
   },
   "source": [
    "## NumPy\n",
    "\n",
    "NumpyはNumerical Pythonの略称。行列計算など数値計算で最も基本となるパッケージのひとつです。ここではテーブルデータの探索的分析の基礎部分に必要な箇所に絞って紹介します。"
   ]
  },
  {
   "cell_type": "code",
   "execution_count": null,
   "metadata": {
    "id": "X1qPeNFy2Izq"
   },
   "outputs": [],
   "source": [
    "import numpy as np # NumPyは`np`としてimportすることが慣例となっています。"
   ]
  },
  {
   "cell_type": "code",
   "execution_count": null,
   "metadata": {
    "id": "pCC7Y1yA2Izq",
    "outputId": "dae601bd-c545-4fc3-eb85-883242a95579"
   },
   "outputs": [
    {
     "name": "stdout",
     "output_type": "stream",
     "text": [
      "[1 2 3 4]\n"
     ]
    }
   ],
   "source": [
    "data = np.array([1, 2, 3, 4])\n",
    "print(data)"
   ]
  },
  {
   "cell_type": "markdown",
   "metadata": {
    "id": "6piNts852Izq"
   },
   "source": [
    "リスト型のように見えますが、type()関数で確認するとndarray型であることが確認できます。"
   ]
  },
  {
   "cell_type": "code",
   "execution_count": null,
   "metadata": {
    "id": "1fX3oURa2Izr",
    "outputId": "f3b4bdf2-ad18-4b14-d340-0eea69771a2b"
   },
   "outputs": [
    {
     "name": "stdout",
     "output_type": "stream",
     "text": [
      "False\n",
      "<class 'numpy.ndarray'>\n",
      "True\n",
      "<class 'list'>\n"
     ]
    }
   ],
   "source": [
    "print(type(data) == list)\n",
    "print(type(data))\n",
    "print(type([1,2,3,4]) == list)\n",
    "print(type([1,2,3,4]))"
   ]
  },
  {
   "cell_type": "markdown",
   "metadata": {
    "id": "0nM20qx12Izr"
   },
   "source": [
    "もちろん、リスト型へ相互変換もできます。"
   ]
  },
  {
   "cell_type": "code",
   "execution_count": null,
   "metadata": {
    "id": "lWMVEc8u2Izr",
    "outputId": "c5c59c3f-82f0-4b24-e5a2-529a2c801f19"
   },
   "outputs": [
    {
     "data": {
      "text/plain": [
       "[1, 2, 3, 4]"
      ]
     },
     "execution_count": 10,
     "metadata": {},
     "output_type": "execute_result"
    }
   ],
   "source": [
    "list(data)"
   ]
  },
  {
   "cell_type": "markdown",
   "metadata": {
    "id": "e9QS4Brz2Izr"
   },
   "source": [
    "NumPyは多次元配列を扱う上で便利です。"
   ]
  },
  {
   "cell_type": "code",
   "execution_count": null,
   "metadata": {
    "id": "uDRMflHI2Izs"
   },
   "outputs": [],
   "source": [
    "data = np.array([[0.1, 0.98, 0.28],\n",
    "                 [0.548, 0.47, 0.65]])"
   ]
  },
  {
   "cell_type": "code",
   "execution_count": null,
   "metadata": {
    "id": "mEVmHZ272Izs",
    "outputId": "599b223c-4e2d-4be9-dc3a-29ba2bd90658",
    "scrolled": true
   },
   "outputs": [
    {
     "data": {
      "text/plain": [
       "array([[0.1  , 0.98 , 0.28 ],\n",
       "       [0.548, 0.47 , 0.65 ]])"
      ]
     },
     "execution_count": 12,
     "metadata": {},
     "output_type": "execute_result"
    }
   ],
   "source": [
    "data"
   ]
  },
  {
   "cell_type": "markdown",
   "metadata": {
    "id": "z323v2En2Izs"
   },
   "source": [
    "欠損値は`np.nan`で扱われることが多いです。\n",
    "\n",
    "`NaN`は`Not a Number`（非数）を意味します。"
   ]
  },
  {
   "cell_type": "code",
   "execution_count": null,
   "metadata": {
    "id": "u3HnT-uH2Izs",
    "outputId": "84adaed1-f704-469f-e122-0b970095319c"
   },
   "outputs": [
    {
     "name": "stdout",
     "output_type": "stream",
     "text": [
      "[[0.1     nan 0.28 ]\n",
      " [0.548 0.47  0.65 ]]\n"
     ]
    }
   ],
   "source": [
    "data1 = np.array([[0.1, np.nan, 0.28],\n",
    "                 [0.548, 0.47, 0.65]])\n",
    "print(data1)"
   ]
  },
  {
   "cell_type": "markdown",
   "metadata": {
    "id": "ROG1CyqZ2Izs"
   },
   "source": [
    "欠損値の確認は`np.isnan`を使えます。"
   ]
  },
  {
   "cell_type": "code",
   "execution_count": null,
   "metadata": {
    "id": "6B5qlooh2Izt",
    "outputId": "0a136f56-f1ad-4b30-fff6-db25debc435b",
    "scrolled": true
   },
   "outputs": [
    {
     "data": {
      "text/plain": [
       "array([[False,  True, False],\n",
       "       [False, False, False]])"
      ]
     },
     "execution_count": 14,
     "metadata": {},
     "output_type": "execute_result"
    }
   ],
   "source": [
    "np.isnan(data1)"
   ]
  },
  {
   "cell_type": "markdown",
   "metadata": {
    "id": "GU5wjzcp2Izt"
   },
   "source": [
    "モジュール`math`を使っても確認できます。 "
   ]
  },
  {
   "cell_type": "code",
   "execution_count": null,
   "metadata": {
    "id": "yx8uH-_G2Izt",
    "outputId": "4ed0980f-80f5-4fc4-97f5-af8a7dad0d4c"
   },
   "outputs": [
    {
     "data": {
      "text/plain": [
       "True"
      ]
     },
     "execution_count": 15,
     "metadata": {},
     "output_type": "execute_result"
    }
   ],
   "source": [
    "import math\n",
    "math.isnan(data1[0,1])"
   ]
  },
  {
   "attachments": {},
   "cell_type": "markdown",
   "metadata": {
    "id": "Qu6mRqc12Izt"
   },
   "source": [
    "```{warning}\n",
    "NaNは自分との比較はFalseになります（Not a Number（非数）のため）。\n",
    "\n",
    "* 詳しくはこちらの[NumPyのドキュメント](https://numpy.org/doc/stable/user/misc.html)をご覧ください。\n",
    "\n",
    "例えば、`==`でNaNを確認しようとすると、想定と異なる結果が得られます（次のセル参照）。\n",
    "```"
   ]
  },
  {
   "cell_type": "code",
   "execution_count": null,
   "metadata": {
    "id": "8NqN0bnv2Izt",
    "outputId": "e2614a9e-ebca-491c-ddad-08ba605fed40"
   },
   "outputs": [
    {
     "data": {
      "text/plain": [
       "False"
      ]
     },
     "execution_count": 16,
     "metadata": {},
     "output_type": "execute_result"
    }
   ],
   "source": [
    "data1[0,1] == np.nan"
   ]
  },
  {
   "cell_type": "markdown",
   "metadata": {},
   "source": [
    "### NumPy ndarrayの加減乗除"
   ]
  },
  {
   "cell_type": "code",
   "execution_count": null,
   "metadata": {},
   "outputs": [],
   "source": [
    "data = np.array([[0.1, 0.98, 0.28],\n",
    "                 [0.548, 0.47, 0.65]])"
   ]
  },
  {
   "cell_type": "code",
   "execution_count": null,
   "metadata": {},
   "outputs": [
    {
     "data": {
      "text/plain": [
       "array([[1.  , 9.8 , 2.8 ],\n",
       "       [5.48, 4.7 , 6.5 ]])"
      ]
     },
     "metadata": {},
     "output_type": "display_data"
    }
   ],
   "source": [
    "data*10"
   ]
  },
  {
   "cell_type": "code",
   "execution_count": null,
   "metadata": {},
   "outputs": [
    {
     "data": {
      "text/plain": [
       "array([[0.2  , 1.96 , 0.56 ],\n",
       "       [1.096, 0.94 , 1.3  ]])"
      ]
     },
     "metadata": {},
     "output_type": "display_data"
    }
   ],
   "source": [
    "data+data "
   ]
  },
  {
   "attachments": {},
   "cell_type": "markdown",
   "metadata": {},
   "source": [
    "### Reshape"
   ]
  },
  {
   "cell_type": "code",
   "execution_count": null,
   "metadata": {},
   "outputs": [
    {
     "data": {
      "text/plain": [
       "array([0.1  , 0.98 , 0.28 , 0.548, 0.47 , 0.65 ])"
      ]
     },
     "metadata": {},
     "output_type": "display_data"
    }
   ],
   "source": [
    "data.reshape(6)"
   ]
  },
  {
   "cell_type": "code",
   "execution_count": null,
   "metadata": {},
   "outputs": [
    {
     "data": {
      "text/plain": [
       "array([[0.1  , 0.98 , 0.28 ],\n",
       "       [0.548, 0.47 , 0.65 ]])"
      ]
     },
     "metadata": {},
     "output_type": "display_data"
    }
   ],
   "source": [
    "data"
   ]
  },
  {
   "attachments": {},
   "cell_type": "markdown",
   "metadata": {},
   "source": [
    "### Slice\n",
    "\n",
    "Day1で紹介したスライス、スライスの開始位置から終了位置のほか、何個おきに抽出するかも指定できます。`[start:stop:step]`\n",
    "\n",
    "次のセルの例の場合最初から最後までの値を２つおきに抽出しています。"
   ]
  },
  {
   "cell_type": "code",
   "execution_count": null,
   "metadata": {},
   "outputs": [
    {
     "data": {
      "text/plain": [
       "array([0.1 , 0.28, 0.47])"
      ]
     },
     "metadata": {},
     "output_type": "display_data"
    }
   ],
   "source": [
    "data.reshape(6)[::2]"
   ]
  },
  {
   "attachments": {},
   "cell_type": "markdown",
   "metadata": {},
   "source": [
    "次のセルの例の場合2番目から4番目の要素まで２つおきに抽出します。"
   ]
  },
  {
   "cell_type": "code",
   "execution_count": null,
   "metadata": {},
   "outputs": [
    {
     "data": {
      "text/plain": [
       "array([0.28, 0.47])"
      ]
     },
     "metadata": {},
     "output_type": "display_data"
    }
   ],
   "source": [
    "data.reshape(6)[2:5:2]"
   ]
  },
  {
   "cell_type": "markdown",
   "metadata": {},
   "source": [
    "2次元のスライスも基本的には一次元の場合と同様に行えます。"
   ]
  },
  {
   "cell_type": "code",
   "execution_count": null,
   "metadata": {},
   "outputs": [
    {
     "data": {
      "text/plain": [
       "array([[0.47, 0.65]])"
      ]
     },
     "metadata": {},
     "output_type": "display_data"
    }
   ],
   "source": [
    "data[1:,1:]"
   ]
  },
  {
   "cell_type": "markdown",
   "metadata": {},
   "source": [
    "### 転置行列"
   ]
  },
  {
   "cell_type": "code",
   "execution_count": null,
   "metadata": {},
   "outputs": [
    {
     "data": {
      "text/plain": [
       "array([[0.1  , 0.548],\n",
       "       [0.98 , 0.47 ],\n",
       "       [0.28 , 0.65 ]])"
      ]
     },
     "metadata": {},
     "output_type": "display_data"
    }
   ],
   "source": [
    "data.T"
   ]
  },
  {
   "cell_type": "markdown",
   "metadata": {},
   "source": [
    "### 内積 $X^TX$ の計算"
   ]
  },
  {
   "cell_type": "code",
   "execution_count": null,
   "metadata": {},
   "outputs": [
    {
     "data": {
      "text/plain": [
       "array([[0.310304, 0.35556 , 0.3842  ],\n",
       "       [0.35556 , 1.1813  , 0.5799  ],\n",
       "       [0.3842  , 0.5799  , 0.5009  ]])"
      ]
     },
     "metadata": {},
     "output_type": "display_data"
    }
   ],
   "source": [
    "np.dot(data.T, data)"
   ]
  },
  {
   "cell_type": "markdown",
   "metadata": {},
   "source": [
    "### 次元数の確認"
   ]
  },
  {
   "cell_type": "code",
   "execution_count": null,
   "metadata": {},
   "outputs": [
    {
     "data": {
      "text/plain": [
       "(2, 3)"
      ]
     },
     "metadata": {},
     "output_type": "display_data"
    }
   ],
   "source": [
    "data.shape"
   ]
  },
  {
   "cell_type": "markdown",
   "metadata": {},
   "source": [
    "### 要素が1や0の配列を生成"
   ]
  },
  {
   "cell_type": "code",
   "execution_count": null,
   "metadata": {},
   "outputs": [
    {
     "data": {
      "text/plain": [
       "array([0., 0., 0., 0., 0., 0., 0., 0., 0., 0.])"
      ]
     },
     "metadata": {},
     "output_type": "display_data"
    }
   ],
   "source": [
    "np.zeros(10)"
   ]
  },
  {
   "cell_type": "code",
   "execution_count": null,
   "metadata": {},
   "outputs": [
    {
     "data": {
      "text/plain": [
       "array([[0., 0., 0.],\n",
       "       [0., 0., 0.]])"
      ]
     },
     "metadata": {},
     "output_type": "display_data"
    }
   ],
   "source": [
    "np.zeros((2,3))"
   ]
  },
  {
   "cell_type": "code",
   "execution_count": null,
   "metadata": {},
   "outputs": [
    {
     "data": {
      "text/plain": [
       "array([[1., 1., 1.],\n",
       "       [1., 1., 1.]])"
      ]
     },
     "metadata": {},
     "output_type": "display_data"
    }
   ],
   "source": [
    "np.ones((2,3))"
   ]
  }
 ],
 "metadata": {
  "colab": {
   "name": "Day2_0_Libraries.ipynb",
   "provenance": []
  },
  "kernelspec": {
   "display_name": "Python 3 (ipykernel)",
   "language": "python",
   "name": "python3"
  },
  "language_info": {
   "codemirror_mode": {
    "name": "ipython",
    "version": 3
   },
   "file_extension": ".py",
   "mimetype": "text/x-python",
   "name": "python",
   "nbconvert_exporter": "python",
   "pygments_lexer": "ipython3",
   "version": "3.10.9"
  }
 },
 "nbformat": 4,
 "nbformat_minor": 4
}
