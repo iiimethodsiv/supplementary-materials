{
 "cells": [
  {
   "attachments": {},
   "cell_type": "markdown",
   "metadata": {
    "id": "pGX0ynKY2Izu"
   },
   "source": [
    "# pandas 2"
   ]
  },
  {
   "attachments": {},
   "cell_type": "markdown",
   "metadata": {
    "id": "4SePG-wn2Izx"
   },
   "source": [
    "## 条件をつけて行や列を抽出する方法\n",
    "\n",
    "`loc`は行の名前（ラベル）や列の名前、条件を指定して抽出するために用いることができます。\n",
    "\n",
    "`iloc`は行や列の番号を指定して抽出することができます。\n",
    "\n",
    "```{note}\n",
    "loc iloc の違い \n",
    "\n",
    "[参考ページ](https://pandas.pydata.org/pandas-docs/stable/user_guide/indexing.html)\n",
    "\n",
    "- ilocは基本的に場所を示す整数（0からテーブルの長さ-1まで）で指定することができます。またTrue/Falseでの条件指定もできます。\n",
    "- locは基本的には場所の名前（label）やで指定することができます。またTrue/Falseでの条件指定もできます。\n",
    "```"
   ]
  },
  {
   "cell_type": "code",
   "execution_count": null,
   "metadata": {},
   "outputs": [],
   "source": [
    "import pandas as pd\n",
    "import numpy as np"
   ]
  },
  {
   "cell_type": "code",
   "execution_count": null,
   "metadata": {},
   "outputs": [],
   "source": [
    "df = pd.DataFrame({'price':[100, 40, 300, np.nan , 500, 1000, 300, 400, 240, 3000], \n",
    "                   'num': [5, 2, 1, 0, 4, 200, 7, 19, 20, 100],\n",
    "                   'datetime': pd.date_range('20180601', periods=10, freq= '627H') })"
   ]
  },
  {
   "attachments": {},
   "cell_type": "markdown",
   "metadata": {},
   "source": [
    "priceが100より大きい行のみ抽出します。"
   ]
  },
  {
   "cell_type": "code",
   "execution_count": null,
   "metadata": {
    "executionInfo": {
     "elapsed": 17,
     "status": "aborted",
     "timestamp": 1656663646869,
     "user": {
      "displayName": "Yuya Shibuya",
      "userId": "13278923316285788453"
     },
     "user_tz": -540
    },
    "id": "phPTdb8M2Izy"
   },
   "outputs": [],
   "source": [
    "\n",
    "df.loc[df['price']>100]"
   ]
  },
  {
   "attachments": {},
   "cell_type": "markdown",
   "metadata": {},
   "source": [
    "priceが300以上の'price'列のみ抽出します。"
   ]
  },
  {
   "cell_type": "code",
   "execution_count": null,
   "metadata": {
    "executionInfo": {
     "elapsed": 18,
     "status": "aborted",
     "timestamp": 1656663646870,
     "user": {
      "displayName": "Yuya Shibuya",
      "userId": "13278923316285788453"
     },
     "user_tz": -540
    },
    "id": "wiVEX2fm2Izy"
   },
   "outputs": [],
   "source": [
    "df.loc[df['price']>=300, 'price']"
   ]
  },
  {
   "attachments": {},
   "cell_type": "markdown",
   "metadata": {},
   "source": [
    "複数の条件を指定することもできます。`&`で`AND`条件を指定できます"
   ]
  },
  {
   "cell_type": "code",
   "execution_count": null,
   "metadata": {
    "executionInfo": {
     "elapsed": 18,
     "status": "aborted",
     "timestamp": 1656663646870,
     "user": {
      "displayName": "Yuya Shibuya",
      "userId": "13278923316285788453"
     },
     "user_tz": -540
    },
    "id": "M83B7ePw2Izy"
   },
   "outputs": [],
   "source": [
    "df.loc[(df['price']>100)&(df['datetime']>'2018-11-01')]"
   ]
  },
  {
   "attachments": {},
   "cell_type": "markdown",
   "metadata": {},
   "source": [
    "複数の条件をOrで指定することもできます。Orは`|`で示します。"
   ]
  },
  {
   "cell_type": "code",
   "execution_count": null,
   "metadata": {
    "executionInfo": {
     "elapsed": 17,
     "status": "aborted",
     "timestamp": 1656663646870,
     "user": {
      "displayName": "Yuya Shibuya",
      "userId": "13278923316285788453"
     },
     "user_tz": -540
    },
    "id": "2GNl1br12Izy"
   },
   "outputs": [],
   "source": [
    "df.loc[(df['price']>100) | (df['datetime']>'2018-11-01')]"
   ]
  },
  {
   "attachments": {},
   "cell_type": "markdown",
   "metadata": {},
   "source": [
    "次に行や列の番号で抽出する場合です。この場合は、ilocが使えます。"
   ]
  },
  {
   "cell_type": "code",
   "execution_count": null,
   "metadata": {
    "executionInfo": {
     "elapsed": 17,
     "status": "aborted",
     "timestamp": 1656663646870,
     "user": {
      "displayName": "Yuya Shibuya",
      "userId": "13278923316285788453"
     },
     "user_tz": -540
    },
    "id": "Lz4CUnGX2Izy"
   },
   "outputs": [],
   "source": [
    "df.iloc[:5, 1]"
   ]
  },
  {
   "cell_type": "code",
   "execution_count": null,
   "metadata": {},
   "outputs": [
    {
     "data": {
      "text/plain": [
       "price                       NaN\n",
       "num                           0\n",
       "datetime    2018-08-18 09:00:00\n",
       "Name: 3, dtype: object"
      ]
     },
     "metadata": {},
     "output_type": "display_data"
    }
   ],
   "source": [
    "df.iloc[2,:] #2行目のデータを指定"
   ]
  },
  {
   "cell_type": "code",
   "execution_count": null,
   "metadata": {},
   "outputs": [
    {
     "data": {
      "text/plain": [
       "price                       300\n",
       "num                           1\n",
       "datetime    2018-07-23 06:00:00\n",
       "Name: 2, dtype: object"
      ]
     },
     "metadata": {},
     "output_type": "display_data"
    }
   ],
   "source": [
    "df.loc[2,:] #indexの名前（ラベル）が2のものを抽出"
   ]
  },
  {
   "attachments": {},
   "cell_type": "markdown",
   "metadata": {
    "id": "0-io3WS62Izz"
   },
   "source": [
    "### 一意な値の集合\n",
    "\n",
    "列の中にあるユニークな値（重複がない値）を確認したい場合は`unique()`で確認できます。\n",
    "次のDataFrame`fruit`に何種類のフルーツに関するデータがあるか確認します。"
   ]
  },
  {
   "cell_type": "code",
   "execution_count": null,
   "metadata": {
    "executionInfo": {
     "elapsed": 18,
     "status": "aborted",
     "timestamp": 1656663646871,
     "user": {
      "displayName": "Yuya Shibuya",
      "userId": "13278923316285788453"
     },
     "user_tz": -540
    },
    "id": "ZJE7zoTv2Izz"
   },
   "outputs": [],
   "source": [
    "fruit = pd.DataFrame({'category': ['banana','orange','apple','apple','orange','orange','apple','apple','apple','banana'],\n",
    "                      \"num_sell\" : [100, 40, 30, 30, 40, 100, np.nan, 40, 1, 6],\n",
    "                      \"price\" : [100, 130, 80, 150, 70, 75, np.nan, 90, 190, 110],})\n",
    "fruit"
   ]
  },
  {
   "cell_type": "code",
   "execution_count": null,
   "metadata": {
    "executionInfo": {
     "elapsed": 18,
     "status": "aborted",
     "timestamp": 1656663646871,
     "user": {
      "displayName": "Yuya Shibuya",
      "userId": "13278923316285788453"
     },
     "user_tz": -540
    },
    "id": "ist2ZKTp2Izz"
   },
   "outputs": [],
   "source": [
    "print(fruit['category'].unique())\n",
    "print(len(fruit['category'].unique()))"
   ]
  },
  {
   "attachments": {},
   "cell_type": "markdown",
   "metadata": {
    "id": "lKGgHCC-2Izz"
   },
   "source": [
    "一意な値がそれぞれ何個出現しているかを確認するためには、`value_counts()`が便利です。"
   ]
  },
  {
   "cell_type": "code",
   "execution_count": null,
   "metadata": {
    "executionInfo": {
     "elapsed": 18,
     "status": "aborted",
     "timestamp": 1656663646871,
     "user": {
      "displayName": "Yuya Shibuya",
      "userId": "13278923316285788453"
     },
     "user_tz": -540
    },
    "id": "Ph0iFwRm2Izz"
   },
   "outputs": [],
   "source": [
    "fruit['category'].value_counts()"
   ]
  },
  {
   "cell_type": "code",
   "execution_count": null,
   "metadata": {},
   "outputs": [
    {
     "data": {
      "text/plain": [
       "pandas.core.series.Series"
      ]
     },
     "metadata": {},
     "output_type": "display_data"
    }
   ],
   "source": [
    "type(fruit['category'].value_counts()) #value_counts()はSeriesを返しています"
   ]
  },
  {
   "attachments": {},
   "cell_type": "markdown",
   "metadata": {
    "id": "nMiSUW-g2Izz"
   },
   "source": [
    "### 欠損値の確認　\n",
    "\n",
    "欠損値の扱いや要約統計量に関する扱いなどは後で改めて詳しく紹介する予定です。"
   ]
  },
  {
   "cell_type": "code",
   "execution_count": null,
   "metadata": {
    "executionInfo": {
     "elapsed": 17,
     "status": "aborted",
     "timestamp": 1656663646871,
     "user": {
      "displayName": "Yuya Shibuya",
      "userId": "13278923316285788453"
     },
     "user_tz": -540
    },
    "id": "UZ5udA9D2Iz0"
   },
   "outputs": [],
   "source": [
    "fruit.isnull().sum()"
   ]
  },
  {
   "attachments": {},
   "cell_type": "markdown",
   "metadata": {
    "id": "8q-e8eqQ2Iz0"
   },
   "source": [
    "### 要約統計量\n",
    "\n",
    "要約統計量は`describe`を用いることで一括で確認できます。"
   ]
  },
  {
   "cell_type": "code",
   "execution_count": null,
   "metadata": {
    "executionInfo": {
     "elapsed": 18,
     "status": "aborted",
     "timestamp": 1656663646872,
     "user": {
      "displayName": "Yuya Shibuya",
      "userId": "13278923316285788453"
     },
     "user_tz": -540
    },
    "id": "zq4n6QiR2Iz0"
   },
   "outputs": [],
   "source": [
    "fruit.describe()"
   ]
  },
  {
   "attachments": {},
   "cell_type": "markdown",
   "metadata": {
    "id": "Sqo45gY52Iz0"
   },
   "source": [
    "### Dataframeを値に応じてソートする"
   ]
  },
  {
   "attachments": {},
   "cell_type": "markdown",
   "metadata": {},
   "source": [
    "`sort_values`を用いて行をソートします。`by`でどの列の値でソートするかを指定します。\n",
    "\n",
    "defaultではascending（昇順）でソートします。"
   ]
  },
  {
   "cell_type": "code",
   "execution_count": null,
   "metadata": {
    "executionInfo": {
     "elapsed": 17,
     "status": "aborted",
     "timestamp": 1656663646872,
     "user": {
      "displayName": "Yuya Shibuya",
      "userId": "13278923316285788453"
     },
     "user_tz": -540
    },
    "id": "EuNHYd-M2Iz0"
   },
   "outputs": [],
   "source": [
    "fruit.sort_values(by = ['num_sell']) "
   ]
  },
  {
   "attachments": {},
   "cell_type": "markdown",
   "metadata": {},
   "source": [
    "降順（descending）で表示する場合は、ascending=Falseにします。"
   ]
  },
  {
   "cell_type": "code",
   "execution_count": null,
   "metadata": {
    "executionInfo": {
     "elapsed": 17,
     "status": "aborted",
     "timestamp": 1656663646872,
     "user": {
      "displayName": "Yuya Shibuya",
      "userId": "13278923316285788453"
     },
     "user_tz": -540
    },
    "id": "OpYfZ7jr2Iz0"
   },
   "outputs": [],
   "source": [
    "fruit.sort_values(by = ['num_sell'], ascending = False) "
   ]
  },
  {
   "attachments": {},
   "cell_type": "markdown",
   "metadata": {},
   "source": [
    "複数の列でソートも可能です。"
   ]
  },
  {
   "cell_type": "code",
   "execution_count": null,
   "metadata": {
    "executionInfo": {
     "elapsed": 18,
     "status": "aborted",
     "timestamp": 1656663646873,
     "user": {
      "displayName": "Yuya Shibuya",
      "userId": "13278923316285788453"
     },
     "user_tz": -540
    },
    "id": "16HH6pSA2Iz0"
   },
   "outputs": [],
   "source": [
    "fruit.sort_values(by = ['category','price',], ascending = False) "
   ]
  },
  {
   "attachments": {},
   "cell_type": "markdown",
   "metadata": {
    "id": "15aCmCiA2Iz1"
   },
   "source": [
    "### 要素の削除"
   ]
  },
  {
   "attachments": {},
   "cell_type": "markdown",
   "metadata": {},
   "source": [
    "dropは列や行を指定して削除するメソッドです。\n",
    "\n",
    "dropだけでは元のDataFrameは変わりません。\n",
    "`df = df.drop(0)` のように元のDataFrameに再代入するか、`drop`の引数に`inplace =True（defaultはFalse）`を与えると元のDataFrameの指定した行が削除されます。\n",
    "\n",
    "その他の動作など詳しくは[pandasのドキュメント](https://pandas.pydata.org/pandas-docs/stable/reference/api/pandas.DataFrame.drop.html)を参照してください。"
   ]
  },
  {
   "attachments": {},
   "cell_type": "markdown",
   "metadata": {},
   "source": [
    "行の削除を`drop`を用いて行ってみます。"
   ]
  },
  {
   "cell_type": "code",
   "execution_count": null,
   "metadata": {
    "executionInfo": {
     "elapsed": 18,
     "status": "aborted",
     "timestamp": 1656663646873,
     "user": {
      "displayName": "Yuya Shibuya",
      "userId": "13278923316285788453"
     },
     "user_tz": -540
    },
    "id": "7tNgl_t62Iz1"
   },
   "outputs": [],
   "source": [
    "\n",
    "fruit.drop(3)"
   ]
  },
  {
   "attachments": {},
   "cell_type": "markdown",
   "metadata": {},
   "source": [
    "なお、上の１行だけではfruitそれ自体は変りません。次のようにfruitに代入するとfruit自体の0行目が削除されます"
   ]
  },
  {
   "cell_type": "code",
   "execution_count": null,
   "metadata": {},
   "outputs": [],
   "source": [
    "fruit = fruit.drop(0)"
   ]
  },
  {
   "attachments": {},
   "cell_type": "markdown",
   "metadata": {},
   "source": [
    "列の削除は同様に`drop`を用いて削除する列名を指定し、`axis`を`1`とします"
   ]
  },
  {
   "cell_type": "code",
   "execution_count": null,
   "metadata": {
    "executionInfo": {
     "elapsed": 18,
     "status": "aborted",
     "timestamp": 1656663646873,
     "user": {
      "displayName": "Yuya Shibuya",
      "userId": "13278923316285788453"
     },
     "user_tz": -540
    },
    "id": "07sWhnaX2Iz1"
   },
   "outputs": [],
   "source": [
    "fruit.drop(['num_sell'],axis=1)"
   ]
  },
  {
   "attachments": {},
   "cell_type": "markdown",
   "metadata": {},
   "source": [
    "上の１行だけではfruitそれ自体は変りません。fruitに代入するとfruit自体の0行目が削除されます"
   ]
  },
  {
   "cell_type": "code",
   "execution_count": null,
   "metadata": {},
   "outputs": [],
   "source": [
    "fruit = fruit.drop(['num_sell'],axis=1)"
   ]
  },
  {
   "attachments": {},
   "cell_type": "markdown",
   "metadata": {
    "id": "i6uMg6WT2Iz1"
   },
   "source": [
    "### グループごとの集計などを確認する方法\n",
    "\n",
    "- `groupby`を用いるとかん単位ぐるーぷごとの集計や計算などが行えます。\n",
    "- `groupby`と一緒に使えるファンクションとして、sum(), mean(), size()などがあります。自分で任意の関数を作成することもできます。\n",
    "- 詳細は[pandasのドキュメント](http://pandas.pydata.org/pandas-docs/stable/user_guide/groupby.html)を確認してください。"
   ]
  },
  {
   "cell_type": "code",
   "execution_count": null,
   "metadata": {
    "executionInfo": {
     "elapsed": 17,
     "status": "aborted",
     "timestamp": 1656663646873,
     "user": {
      "displayName": "Yuya Shibuya",
      "userId": "13278923316285788453"
     },
     "user_tz": -540
    },
    "id": "SZ2sRJMj2Iz1"
   },
   "outputs": [],
   "source": [
    "fruit.groupby(['category']).sum() #Category別の合計販売個数"
   ]
  },
  {
   "cell_type": "code",
   "execution_count": null,
   "metadata": {
    "executionInfo": {
     "elapsed": 18,
     "status": "aborted",
     "timestamp": 1656663646874,
     "user": {
      "displayName": "Yuya Shibuya",
      "userId": "13278923316285788453"
     },
     "user_tz": -540
    },
    "id": "8DafRv3O2Iz1"
   },
   "outputs": [],
   "source": [
    "fruit.groupby(['category']).mean() #Category別の平均販売個数"
   ]
  },
  {
   "cell_type": "code",
   "execution_count": null,
   "metadata": {},
   "outputs": [
    {
     "data": {
      "text/html": [
       "<div>\n",
       "<style scoped>\n",
       "    .dataframe tbody tr th:only-of-type {\n",
       "        vertical-align: middle;\n",
       "    }\n",
       "\n",
       "    .dataframe tbody tr th {\n",
       "        vertical-align: top;\n",
       "    }\n",
       "\n",
       "    .dataframe thead th {\n",
       "        text-align: right;\n",
       "    }\n",
       "</style>\n",
       "<table border=\"1\" class=\"dataframe\">\n",
       "  <thead>\n",
       "    <tr style=\"text-align: right;\">\n",
       "      <th></th>\n",
       "      <th>price</th>\n",
       "      <th>num</th>\n",
       "      <th>datetime</th>\n",
       "    </tr>\n",
       "  </thead>\n",
       "  <tbody>\n",
       "    <tr>\n",
       "      <th>6</th>\n",
       "      <td>300.0</td>\n",
       "      <td>7</td>\n",
       "      <td>2018-11-04 18:00:00</td>\n",
       "    </tr>\n",
       "    <tr>\n",
       "      <th>7</th>\n",
       "      <td>400.0</td>\n",
       "      <td>19</td>\n",
       "      <td>2018-11-30 21:00:00</td>\n",
       "    </tr>\n",
       "    <tr>\n",
       "      <th>8</th>\n",
       "      <td>240.0</td>\n",
       "      <td>20</td>\n",
       "      <td>2018-12-27 00:00:00</td>\n",
       "    </tr>\n",
       "    <tr>\n",
       "      <th>9</th>\n",
       "      <td>3000.0</td>\n",
       "      <td>100</td>\n",
       "      <td>2019-01-22 03:00:00</td>\n",
       "    </tr>\n",
       "  </tbody>\n",
       "</table>\n",
       "</div>"
      ],
      "text/plain": [
       "    price  num            datetime\n",
       "6   300.0    7 2018-11-04 18:00:00\n",
       "7   400.0   19 2018-11-30 21:00:00\n",
       "8   240.0   20 2018-12-27 00:00:00\n",
       "9  3000.0  100 2019-01-22 03:00:00"
      ]
     },
     "metadata": {},
     "output_type": "display_data"
    }
   ],
   "source": [
    "# 複数の条件を指定することもできます。\n",
    "df.loc[(df['price']>100) & (df['datetime']>'2018-11-01')]"
   ]
  },
  {
   "cell_type": "code",
   "execution_count": null,
   "metadata": {},
   "outputs": [
    {
     "data": {
      "text/html": [
       "<div>\n",
       "<style scoped>\n",
       "    .dataframe tbody tr th:only-of-type {\n",
       "        vertical-align: middle;\n",
       "    }\n",
       "\n",
       "    .dataframe tbody tr th {\n",
       "        vertical-align: top;\n",
       "    }\n",
       "\n",
       "    .dataframe thead th {\n",
       "        text-align: right;\n",
       "    }\n",
       "</style>\n",
       "<table border=\"1\" class=\"dataframe\">\n",
       "  <thead>\n",
       "    <tr style=\"text-align: right;\">\n",
       "      <th></th>\n",
       "      <th>price</th>\n",
       "      <th>num</th>\n",
       "      <th>datetime</th>\n",
       "    </tr>\n",
       "  </thead>\n",
       "  <tbody>\n",
       "    <tr>\n",
       "      <th>2</th>\n",
       "      <td>300.0</td>\n",
       "      <td>1</td>\n",
       "      <td>2018-07-23 06:00:00</td>\n",
       "    </tr>\n",
       "    <tr>\n",
       "      <th>4</th>\n",
       "      <td>500.0</td>\n",
       "      <td>4</td>\n",
       "      <td>2018-09-13 12:00:00</td>\n",
       "    </tr>\n",
       "    <tr>\n",
       "      <th>5</th>\n",
       "      <td>1000.0</td>\n",
       "      <td>200</td>\n",
       "      <td>2018-10-09 15:00:00</td>\n",
       "    </tr>\n",
       "    <tr>\n",
       "      <th>6</th>\n",
       "      <td>300.0</td>\n",
       "      <td>7</td>\n",
       "      <td>2018-11-04 18:00:00</td>\n",
       "    </tr>\n",
       "    <tr>\n",
       "      <th>7</th>\n",
       "      <td>400.0</td>\n",
       "      <td>19</td>\n",
       "      <td>2018-11-30 21:00:00</td>\n",
       "    </tr>\n",
       "    <tr>\n",
       "      <th>8</th>\n",
       "      <td>240.0</td>\n",
       "      <td>20</td>\n",
       "      <td>2018-12-27 00:00:00</td>\n",
       "    </tr>\n",
       "    <tr>\n",
       "      <th>9</th>\n",
       "      <td>3000.0</td>\n",
       "      <td>100</td>\n",
       "      <td>2019-01-22 03:00:00</td>\n",
       "    </tr>\n",
       "  </tbody>\n",
       "</table>\n",
       "</div>"
      ],
      "text/plain": [
       "    price  num            datetime\n",
       "2   300.0    1 2018-07-23 06:00:00\n",
       "4   500.0    4 2018-09-13 12:00:00\n",
       "5  1000.0  200 2018-10-09 15:00:00\n",
       "6   300.0    7 2018-11-04 18:00:00\n",
       "7   400.0   19 2018-11-30 21:00:00\n",
       "8   240.0   20 2018-12-27 00:00:00\n",
       "9  3000.0  100 2019-01-22 03:00:00"
      ]
     },
     "metadata": {},
     "output_type": "display_data"
    }
   ],
   "source": [
    "# 複数の条件をOrで指定することもできます。Orは`|`で示します。\n",
    "df.loc[(df['price']>100) | (df['datetime']>'2018-11-01')]"
   ]
  }
 ],
 "metadata": {
  "colab": {
   "name": "Day2_0_Libraries.ipynb",
   "provenance": []
  },
  "kernelspec": {
   "display_name": "Python 3 (ipykernel)",
   "language": "python",
   "name": "python3"
  },
  "language_info": {
   "codemirror_mode": {
    "name": "ipython",
    "version": 3
   },
   "file_extension": ".py",
   "mimetype": "text/x-python",
   "name": "python",
   "nbconvert_exporter": "python",
   "pygments_lexer": "ipython3",
   "version": "3.10.9"
  }
 },
 "nbformat": 4,
 "nbformat_minor": 4
}
