{
 "cells": [
  {
   "attachments": {},
   "cell_type": "markdown",
   "id": "f2b11b5e-d796-4f8c-b6d0-c948f68ce5a8",
   "metadata": {
    "id": "f2b11b5e-d796-4f8c-b6d0-c948f68ce5a8"
   },
   "source": [
    "# 演習・交通手段分類（機械学習）"
   ]
  },
  {
   "attachments": {},
   "cell_type": "markdown",
   "id": "154c420b-5784-4f94-8b6d-42387cddbcb8",
   "metadata": {
    "id": "154c420b-5784-4f94-8b6d-42387cddbcb8"
   },
   "source": [
    "## 教師あり"
   ]
  },
  {
   "attachments": {},
   "cell_type": "markdown",
   "id": "c3f98b05-36ce-4b75-a4ad-627f88bc3f0d",
   "metadata": {
    "id": "c3f98b05-36ce-4b75-a4ad-627f88bc3f0d"
   },
   "source": [
    "### 分類"
   ]
  },
  {
   "attachments": {},
   "cell_type": "markdown",
   "id": "2c82ab82-9038-4878-8f38-7b49337670a1",
   "metadata": {
    "id": "2c82ab82-9038-4878-8f38-7b49337670a1"
   },
   "source": [
    "交通手段をいくつかの特徴で分類します。"
   ]
  },
  {
   "cell_type": "code",
   "execution_count": 2,
   "id": "3cea352a-c3d7-4dee-9a85-12f1e43a7e69",
   "metadata": {
    "executionInfo": {
     "elapsed": 1999,
     "status": "ok",
     "timestamp": 1684727762616,
     "user": {
      "displayName": "Yuya Shibuya",
      "userId": "13278923316285788453"
     },
     "user_tz": -540
    },
    "id": "3cea352a-c3d7-4dee-9a85-12f1e43a7e69"
   },
   "outputs": [],
   "source": [
    "import geopandas as gpd\n",
    "from sklearn.cluster import KMeans\n",
    "from sklearn.decomposition import PCA\n",
    "from sklearn.linear_model import LogisticRegression\n",
    "from sklearn.model_selection import train_test_split\n",
    "from sklearn.metrics import accuracy_score, confusion_matrix, classification_report\n",
    "from sklearn.preprocessing import StandardScaler\n",
    "from sklearn.tree import DecisionTreeClassifier\n",
    "from sklearn import svm\n",
    "from sklearn import tree\n",
    "import pandas as pd\n",
    "import numpy as np\n",
    "import matplotlib.pyplot as plt"
   ]
  },
  {
   "cell_type": "code",
   "execution_count": 4,
   "id": "100288f1-9104-45fa-b31b-a3f707a36877",
   "metadata": {
    "colab": {
     "base_uri": "https://localhost:8080/",
     "height": 238
    },
    "executionInfo": {
     "elapsed": 4935,
     "status": "ok",
     "timestamp": 1684727769721,
     "user": {
      "displayName": "Yuya Shibuya",
      "userId": "13278923316285788453"
     },
     "user_tz": -540
    },
    "id": "100288f1-9104-45fa-b31b-a3f707a36877",
    "outputId": "aa2952eb-0693-4083-be74-815d4c86a193"
   },
   "outputs": [
    {
     "data": {
      "text/html": [
       "\n",
       "  <div id=\"df-3cdc2b44-33d6-4c68-a7cd-9b7117ec6065\">\n",
       "    <div class=\"colab-df-container\">\n",
       "      <div>\n",
       "<style scoped>\n",
       "    .dataframe tbody tr th:only-of-type {\n",
       "        vertical-align: middle;\n",
       "    }\n",
       "\n",
       "    .dataframe tbody tr th {\n",
       "        vertical-align: top;\n",
       "    }\n",
       "\n",
       "    .dataframe thead th {\n",
       "        text-align: right;\n",
       "    }\n",
       "</style>\n",
       "<table border=\"1\" class=\"dataframe\">\n",
       "  <thead>\n",
       "    <tr style=\"text-align: right;\">\n",
       "      <th></th>\n",
       "      <th>distance</th>\n",
       "      <th>speed</th>\n",
       "      <th>accel</th>\n",
       "      <th>angle</th>\n",
       "      <th>angular_velocity</th>\n",
       "      <th>trans_mode</th>\n",
       "    </tr>\n",
       "    <tr>\n",
       "      <th>trans_trip</th>\n",
       "      <th></th>\n",
       "      <th></th>\n",
       "      <th></th>\n",
       "      <th></th>\n",
       "      <th></th>\n",
       "      <th></th>\n",
       "    </tr>\n",
       "  </thead>\n",
       "  <tbody>\n",
       "    <tr>\n",
       "      <th>1.0</th>\n",
       "      <td>0.920653</td>\n",
       "      <td>55.720618</td>\n",
       "      <td>-0.014007</td>\n",
       "      <td>68.982383</td>\n",
       "      <td>0.354393</td>\n",
       "      <td>train</td>\n",
       "    </tr>\n",
       "    <tr>\n",
       "      <th>2.0</th>\n",
       "      <td>1.082321</td>\n",
       "      <td>65.670647</td>\n",
       "      <td>-0.001027</td>\n",
       "      <td>116.581851</td>\n",
       "      <td>0.568180</td>\n",
       "      <td>train</td>\n",
       "    </tr>\n",
       "    <tr>\n",
       "      <th>3.0</th>\n",
       "      <td>1.339320</td>\n",
       "      <td>74.683147</td>\n",
       "      <td>-0.003409</td>\n",
       "      <td>215.717754</td>\n",
       "      <td>0.480407</td>\n",
       "      <td>train</td>\n",
       "    </tr>\n",
       "    <tr>\n",
       "      <th>4.0</th>\n",
       "      <td>3.513432</td>\n",
       "      <td>173.776717</td>\n",
       "      <td>0.233277</td>\n",
       "      <td>174.470829</td>\n",
       "      <td>0.283810</td>\n",
       "      <td>train</td>\n",
       "    </tr>\n",
       "    <tr>\n",
       "      <th>5.0</th>\n",
       "      <td>4.282399</td>\n",
       "      <td>68.448484</td>\n",
       "      <td>-0.025508</td>\n",
       "      <td>150.209730</td>\n",
       "      <td>0.176290</td>\n",
       "      <td>train</td>\n",
       "    </tr>\n",
       "  </tbody>\n",
       "</table>\n",
       "</div>\n",
       "      <button class=\"colab-df-convert\" onclick=\"convertToInteractive('df-3cdc2b44-33d6-4c68-a7cd-9b7117ec6065')\"\n",
       "              title=\"Convert this dataframe to an interactive table.\"\n",
       "              style=\"display:none;\">\n",
       "        \n",
       "  <svg xmlns=\"http://www.w3.org/2000/svg\" height=\"24px\"viewBox=\"0 0 24 24\"\n",
       "       width=\"24px\">\n",
       "    <path d=\"M0 0h24v24H0V0z\" fill=\"none\"/>\n",
       "    <path d=\"M18.56 5.44l.94 2.06.94-2.06 2.06-.94-2.06-.94-.94-2.06-.94 2.06-2.06.94zm-11 1L8.5 8.5l.94-2.06 2.06-.94-2.06-.94L8.5 2.5l-.94 2.06-2.06.94zm10 10l.94 2.06.94-2.06 2.06-.94-2.06-.94-.94-2.06-.94 2.06-2.06.94z\"/><path d=\"M17.41 7.96l-1.37-1.37c-.4-.4-.92-.59-1.43-.59-.52 0-1.04.2-1.43.59L10.3 9.45l-7.72 7.72c-.78.78-.78 2.05 0 2.83L4 21.41c.39.39.9.59 1.41.59.51 0 1.02-.2 1.41-.59l7.78-7.78 2.81-2.81c.8-.78.8-2.07 0-2.86zM5.41 20L4 18.59l7.72-7.72 1.47 1.35L5.41 20z\"/>\n",
       "  </svg>\n",
       "      </button>\n",
       "      \n",
       "  <style>\n",
       "    .colab-df-container {\n",
       "      display:flex;\n",
       "      flex-wrap:wrap;\n",
       "      gap: 12px;\n",
       "    }\n",
       "\n",
       "    .colab-df-convert {\n",
       "      background-color: #E8F0FE;\n",
       "      border: none;\n",
       "      border-radius: 50%;\n",
       "      cursor: pointer;\n",
       "      display: none;\n",
       "      fill: #1967D2;\n",
       "      height: 32px;\n",
       "      padding: 0 0 0 0;\n",
       "      width: 32px;\n",
       "    }\n",
       "\n",
       "    .colab-df-convert:hover {\n",
       "      background-color: #E2EBFA;\n",
       "      box-shadow: 0px 1px 2px rgba(60, 64, 67, 0.3), 0px 1px 3px 1px rgba(60, 64, 67, 0.15);\n",
       "      fill: #174EA6;\n",
       "    }\n",
       "\n",
       "    [theme=dark] .colab-df-convert {\n",
       "      background-color: #3B4455;\n",
       "      fill: #D2E3FC;\n",
       "    }\n",
       "\n",
       "    [theme=dark] .colab-df-convert:hover {\n",
       "      background-color: #434B5C;\n",
       "      box-shadow: 0px 1px 3px 1px rgba(0, 0, 0, 0.15);\n",
       "      filter: drop-shadow(0px 1px 2px rgba(0, 0, 0, 0.3));\n",
       "      fill: #FFFFFF;\n",
       "    }\n",
       "  </style>\n",
       "\n",
       "      <script>\n",
       "        const buttonEl =\n",
       "          document.querySelector('#df-3cdc2b44-33d6-4c68-a7cd-9b7117ec6065 button.colab-df-convert');\n",
       "        buttonEl.style.display =\n",
       "          google.colab.kernel.accessAllowed ? 'block' : 'none';\n",
       "\n",
       "        async function convertToInteractive(key) {\n",
       "          const element = document.querySelector('#df-3cdc2b44-33d6-4c68-a7cd-9b7117ec6065');\n",
       "          const dataTable =\n",
       "            await google.colab.kernel.invokeFunction('convertToInteractive',\n",
       "                                                     [key], {});\n",
       "          if (!dataTable) return;\n",
       "\n",
       "          const docLinkHtml = 'Like what you see? Visit the ' +\n",
       "            '<a target=\"_blank\" href=https://colab.research.google.com/notebooks/data_table.ipynb>data table notebook</a>'\n",
       "            + ' to learn more about interactive tables.';\n",
       "          element.innerHTML = '';\n",
       "          dataTable['output_type'] = 'display_data';\n",
       "          await google.colab.output.renderOutput(dataTable, element);\n",
       "          const docLink = document.createElement('div');\n",
       "          docLink.innerHTML = docLinkHtml;\n",
       "          element.appendChild(docLink);\n",
       "        }\n",
       "      </script>\n",
       "    </div>\n",
       "  </div>\n",
       "  "
      ],
      "text/plain": [
       "            distance       speed     accel       angle  angular_velocity  \\\n",
       "trans_trip                                                                 \n",
       "1.0         0.920653   55.720618 -0.014007   68.982383          0.354393   \n",
       "2.0         1.082321   65.670647 -0.001027  116.581851          0.568180   \n",
       "3.0         1.339320   74.683147 -0.003409  215.717754          0.480407   \n",
       "4.0         3.513432  173.776717  0.233277  174.470829          0.283810   \n",
       "5.0         4.282399   68.448484 -0.025508  150.209730          0.176290   \n",
       "\n",
       "           trans_mode  \n",
       "trans_trip             \n",
       "1.0             train  \n",
       "2.0             train  \n",
       "3.0             train  \n",
       "4.0             train  \n",
       "5.0             train  "
      ]
     },
     "execution_count": 4,
     "metadata": {},
     "output_type": "execute_result"
    }
   ],
   "source": [
    "# PLEASE REPLACE THE BELOW PATH WITH YOUR OWN\n",
    "df = pd.read_csv('./traj_010_labeled_with_features.csv', index_col=0)\n",
    "# create dataframe holding features per trip\n",
    "# in this notebook, we focus on the features' mean scores per trip\n",
    "df = df.groupby('trans_trip').agg({\n",
    "    'distance': np.mean,\n",
    "    'speed': np.mean,\n",
    "    'accel': np.mean,\n",
    "    'angle':np.mean,\n",
    "    'angular_velocity':np.mean,\n",
    "    'trans_mode':lambda x: pd.unique(x)[0],\n",
    "})\n",
    "df.head()"
   ]
  },
  {
   "cell_type": "code",
   "execution_count": 5,
   "id": "5c5b97fb-fa65-4cdb-968e-f1b6fa116ff8",
   "metadata": {
    "executionInfo": {
     "elapsed": 25,
     "status": "ok",
     "timestamp": 1684727769722,
     "user": {
      "displayName": "Yuya Shibuya",
      "userId": "13278923316285788453"
     },
     "user_tz": -540
    },
    "id": "5c5b97fb-fa65-4cdb-968e-f1b6fa116ff8"
   },
   "outputs": [],
   "source": [
    "# drop rows holding np.nan\n",
    "df.dropna(inplace = True)"
   ]
  },
  {
   "cell_type": "code",
   "execution_count": 6,
   "id": "f0c0b5b6-35b3-4bfb-8364-31223290f423",
   "metadata": {
    "colab": {
     "base_uri": "https://localhost:8080/",
     "height": 300
    },
    "executionInfo": {
     "elapsed": 23,
     "status": "ok",
     "timestamp": 1684727769722,
     "user": {
      "displayName": "Yuya Shibuya",
      "userId": "13278923316285788453"
     },
     "user_tz": -540
    },
    "id": "f0c0b5b6-35b3-4bfb-8364-31223290f423",
    "outputId": "6eb26b30-ec5a-4b1d-9eb5-0823972d04ed"
   },
   "outputs": [
    {
     "data": {
      "text/html": [
       "\n",
       "  <div id=\"df-378d62dc-bce8-486a-a768-6789d4c66a32\">\n",
       "    <div class=\"colab-df-container\">\n",
       "      <div>\n",
       "<style scoped>\n",
       "    .dataframe tbody tr th:only-of-type {\n",
       "        vertical-align: middle;\n",
       "    }\n",
       "\n",
       "    .dataframe tbody tr th {\n",
       "        vertical-align: top;\n",
       "    }\n",
       "\n",
       "    .dataframe thead th {\n",
       "        text-align: right;\n",
       "    }\n",
       "</style>\n",
       "<table border=\"1\" class=\"dataframe\">\n",
       "  <thead>\n",
       "    <tr style=\"text-align: right;\">\n",
       "      <th></th>\n",
       "      <th>distance</th>\n",
       "      <th>speed</th>\n",
       "      <th>accel</th>\n",
       "      <th>angle</th>\n",
       "      <th>angular_velocity</th>\n",
       "    </tr>\n",
       "  </thead>\n",
       "  <tbody>\n",
       "    <tr>\n",
       "      <th>count</th>\n",
       "      <td>428.000000</td>\n",
       "      <td>428.000000</td>\n",
       "      <td>428.000000</td>\n",
       "      <td>428.000000</td>\n",
       "      <td>428.000000</td>\n",
       "    </tr>\n",
       "    <tr>\n",
       "      <th>mean</th>\n",
       "      <td>0.081362</td>\n",
       "      <td>39.136603</td>\n",
       "      <td>-0.068544</td>\n",
       "      <td>171.572185</td>\n",
       "      <td>24.004009</td>\n",
       "    </tr>\n",
       "    <tr>\n",
       "      <th>std</th>\n",
       "      <td>0.329114</td>\n",
       "      <td>38.591674</td>\n",
       "      <td>0.115817</td>\n",
       "      <td>64.819410</td>\n",
       "      <td>24.533810</td>\n",
       "    </tr>\n",
       "    <tr>\n",
       "      <th>min</th>\n",
       "      <td>0.001203</td>\n",
       "      <td>1.925925</td>\n",
       "      <td>-1.116834</td>\n",
       "      <td>5.303116</td>\n",
       "      <td>0.176290</td>\n",
       "    </tr>\n",
       "    <tr>\n",
       "      <th>25%</th>\n",
       "      <td>0.002057</td>\n",
       "      <td>6.276831</td>\n",
       "      <td>-0.108822</td>\n",
       "      <td>128.523012</td>\n",
       "      <td>2.852289</td>\n",
       "    </tr>\n",
       "    <tr>\n",
       "      <th>50%</th>\n",
       "      <td>0.009352</td>\n",
       "      <td>27.671732</td>\n",
       "      <td>-0.045742</td>\n",
       "      <td>173.816135</td>\n",
       "      <td>18.066445</td>\n",
       "    </tr>\n",
       "    <tr>\n",
       "      <th>75%</th>\n",
       "      <td>0.020917</td>\n",
       "      <td>53.299781</td>\n",
       "      <td>-0.006693</td>\n",
       "      <td>218.588914</td>\n",
       "      <td>35.412731</td>\n",
       "    </tr>\n",
       "    <tr>\n",
       "      <th>max</th>\n",
       "      <td>4.282399</td>\n",
       "      <td>175.182973</td>\n",
       "      <td>0.298885</td>\n",
       "      <td>329.530934</td>\n",
       "      <td>114.471672</td>\n",
       "    </tr>\n",
       "  </tbody>\n",
       "</table>\n",
       "</div>\n",
       "      <button class=\"colab-df-convert\" onclick=\"convertToInteractive('df-378d62dc-bce8-486a-a768-6789d4c66a32')\"\n",
       "              title=\"Convert this dataframe to an interactive table.\"\n",
       "              style=\"display:none;\">\n",
       "        \n",
       "  <svg xmlns=\"http://www.w3.org/2000/svg\" height=\"24px\"viewBox=\"0 0 24 24\"\n",
       "       width=\"24px\">\n",
       "    <path d=\"M0 0h24v24H0V0z\" fill=\"none\"/>\n",
       "    <path d=\"M18.56 5.44l.94 2.06.94-2.06 2.06-.94-2.06-.94-.94-2.06-.94 2.06-2.06.94zm-11 1L8.5 8.5l.94-2.06 2.06-.94-2.06-.94L8.5 2.5l-.94 2.06-2.06.94zm10 10l.94 2.06.94-2.06 2.06-.94-2.06-.94-.94-2.06-.94 2.06-2.06.94z\"/><path d=\"M17.41 7.96l-1.37-1.37c-.4-.4-.92-.59-1.43-.59-.52 0-1.04.2-1.43.59L10.3 9.45l-7.72 7.72c-.78.78-.78 2.05 0 2.83L4 21.41c.39.39.9.59 1.41.59.51 0 1.02-.2 1.41-.59l7.78-7.78 2.81-2.81c.8-.78.8-2.07 0-2.86zM5.41 20L4 18.59l7.72-7.72 1.47 1.35L5.41 20z\"/>\n",
       "  </svg>\n",
       "      </button>\n",
       "      \n",
       "  <style>\n",
       "    .colab-df-container {\n",
       "      display:flex;\n",
       "      flex-wrap:wrap;\n",
       "      gap: 12px;\n",
       "    }\n",
       "\n",
       "    .colab-df-convert {\n",
       "      background-color: #E8F0FE;\n",
       "      border: none;\n",
       "      border-radius: 50%;\n",
       "      cursor: pointer;\n",
       "      display: none;\n",
       "      fill: #1967D2;\n",
       "      height: 32px;\n",
       "      padding: 0 0 0 0;\n",
       "      width: 32px;\n",
       "    }\n",
       "\n",
       "    .colab-df-convert:hover {\n",
       "      background-color: #E2EBFA;\n",
       "      box-shadow: 0px 1px 2px rgba(60, 64, 67, 0.3), 0px 1px 3px 1px rgba(60, 64, 67, 0.15);\n",
       "      fill: #174EA6;\n",
       "    }\n",
       "\n",
       "    [theme=dark] .colab-df-convert {\n",
       "      background-color: #3B4455;\n",
       "      fill: #D2E3FC;\n",
       "    }\n",
       "\n",
       "    [theme=dark] .colab-df-convert:hover {\n",
       "      background-color: #434B5C;\n",
       "      box-shadow: 0px 1px 3px 1px rgba(0, 0, 0, 0.15);\n",
       "      filter: drop-shadow(0px 1px 2px rgba(0, 0, 0, 0.3));\n",
       "      fill: #FFFFFF;\n",
       "    }\n",
       "  </style>\n",
       "\n",
       "      <script>\n",
       "        const buttonEl =\n",
       "          document.querySelector('#df-378d62dc-bce8-486a-a768-6789d4c66a32 button.colab-df-convert');\n",
       "        buttonEl.style.display =\n",
       "          google.colab.kernel.accessAllowed ? 'block' : 'none';\n",
       "\n",
       "        async function convertToInteractive(key) {\n",
       "          const element = document.querySelector('#df-378d62dc-bce8-486a-a768-6789d4c66a32');\n",
       "          const dataTable =\n",
       "            await google.colab.kernel.invokeFunction('convertToInteractive',\n",
       "                                                     [key], {});\n",
       "          if (!dataTable) return;\n",
       "\n",
       "          const docLinkHtml = 'Like what you see? Visit the ' +\n",
       "            '<a target=\"_blank\" href=https://colab.research.google.com/notebooks/data_table.ipynb>data table notebook</a>'\n",
       "            + ' to learn more about interactive tables.';\n",
       "          element.innerHTML = '';\n",
       "          dataTable['output_type'] = 'display_data';\n",
       "          await google.colab.output.renderOutput(dataTable, element);\n",
       "          const docLink = document.createElement('div');\n",
       "          docLink.innerHTML = docLinkHtml;\n",
       "          element.appendChild(docLink);\n",
       "        }\n",
       "      </script>\n",
       "    </div>\n",
       "  </div>\n",
       "  "
      ],
      "text/plain": [
       "         distance       speed       accel       angle  angular_velocity\n",
       "count  428.000000  428.000000  428.000000  428.000000        428.000000\n",
       "mean     0.081362   39.136603   -0.068544  171.572185         24.004009\n",
       "std      0.329114   38.591674    0.115817   64.819410         24.533810\n",
       "min      0.001203    1.925925   -1.116834    5.303116          0.176290\n",
       "25%      0.002057    6.276831   -0.108822  128.523012          2.852289\n",
       "50%      0.009352   27.671732   -0.045742  173.816135         18.066445\n",
       "75%      0.020917   53.299781   -0.006693  218.588914         35.412731\n",
       "max      4.282399  175.182973    0.298885  329.530934        114.471672"
      ]
     },
     "execution_count": 6,
     "metadata": {},
     "output_type": "execute_result"
    }
   ],
   "source": [
    "df.describe()"
   ]
  },
  {
   "cell_type": "code",
   "execution_count": 7,
   "id": "0d8249b5-8c35-4be6-a4e7-782231cbd7ce",
   "metadata": {
    "colab": {
     "base_uri": "https://localhost:8080/"
    },
    "executionInfo": {
     "elapsed": 22,
     "status": "ok",
     "timestamp": 1684727769722,
     "user": {
      "displayName": "Yuya Shibuya",
      "userId": "13278923316285788453"
     },
     "user_tz": -540
    },
    "id": "0d8249b5-8c35-4be6-a4e7-782231cbd7ce",
    "outputId": "1d1959c0-2f2c-4327-c8f3-681685339233"
   },
   "outputs": [
    {
     "data": {
      "text/plain": [
       "walk      152\n",
       "train      99\n",
       "taxi       96\n",
       "subway     47\n",
       "bus        34\n",
       "Name: trans_mode, dtype: int64"
      ]
     },
     "execution_count": 7,
     "metadata": {},
     "output_type": "execute_result"
    }
   ],
   "source": [
    "# Let's check the counts of the target categorical values in the dataset\n",
    "df.trans_mode.value_counts()"
   ]
  },
  {
   "attachments": {},
   "cell_type": "markdown",
   "id": "f8a775a4-1dbd-42f8-96f9-a68d39f5cca9",
   "metadata": {
    "id": "f8a775a4-1dbd-42f8-96f9-a68d39f5cca9"
   },
   "source": [
    "In this notebook, we merge several labels and use three labels: vehicle(car/taxi/bus), walk, and train(train/subway)."
   ]
  },
  {
   "cell_type": "code",
   "execution_count": 8,
   "id": "d8d320df-2f29-4832-b156-5be06713eab4",
   "metadata": {
    "colab": {
     "base_uri": "https://localhost:8080/"
    },
    "executionInfo": {
     "elapsed": 19,
     "status": "ok",
     "timestamp": 1684727769722,
     "user": {
      "displayName": "Yuya Shibuya",
      "userId": "13278923316285788453"
     },
     "user_tz": -540
    },
    "id": "d8d320df-2f29-4832-b156-5be06713eab4",
    "outputId": "1bf9b424-d5fd-4ebc-ae9d-b2afdf19333b"
   },
   "outputs": [
    {
     "data": {
      "text/plain": [
       "walk       152\n",
       "train      146\n",
       "vehicle    130\n",
       "Name: trans_mode, dtype: int64"
      ]
     },
     "execution_count": 8,
     "metadata": {},
     "output_type": "execute_result"
    }
   ],
   "source": [
    "# create a dictionary holding new labels as values and corresponding old labels as keys\n",
    "trans_mode_map = {'bus':'vehicle', 'car':'vehicle','taxi':'vehicle','subway':'train', 'walk':'walk','train':'train'}\n",
    "# map the above dictionary to the current labels and replace them with the three labels\n",
    "df['trans_mode'] = df.trans_mode.map(trans_mode_map)\n",
    "# count each labels\n",
    "df.trans_mode.value_counts()"
   ]
  },
  {
   "cell_type": "code",
   "execution_count": 9,
   "id": "b311aed8-bfcd-4dde-918c-40f4a327e334",
   "metadata": {
    "executionInfo": {
     "elapsed": 17,
     "status": "ok",
     "timestamp": 1684727769723,
     "user": {
      "displayName": "Yuya Shibuya",
      "userId": "13278923316285788453"
     },
     "user_tz": -540
    },
    "id": "b311aed8-bfcd-4dde-918c-40f4a327e334"
   },
   "outputs": [],
   "source": [
    "### implementation of some basic classificaition models"
   ]
  },
  {
   "attachments": {},
   "cell_type": "markdown",
   "id": "0993f3f9-6c35-4227-b95b-b2b72a0cb5a9",
   "metadata": {
    "id": "0993f3f9-6c35-4227-b95b-b2b72a0cb5a9"
   },
   "source": [
    "create `X` holding features to be used in models and `y` holding labels to be predicted."
   ]
  },
  {
   "cell_type": "code",
   "execution_count": 10,
   "id": "b6490be1-a748-4dae-98f8-f8febd7d9a87",
   "metadata": {
    "executionInfo": {
     "elapsed": 17,
     "status": "ok",
     "timestamp": 1684727769723,
     "user": {
      "displayName": "Yuya Shibuya",
      "userId": "13278923316285788453"
     },
     "user_tz": -540
    },
    "id": "b6490be1-a748-4dae-98f8-f8febd7d9a87"
   },
   "outputs": [],
   "source": [
    "X = df[['speed','accel','angular_velocity']]\n",
    "y = df['trans_mode']"
   ]
  },
  {
   "cell_type": "code",
   "execution_count": 11,
   "id": "dcdb4c7a-5b6c-4221-9472-c57ff3519e69",
   "metadata": {
    "colab": {
     "base_uri": "https://localhost:8080/",
     "height": 143
    },
    "executionInfo": {
     "elapsed": 17,
     "status": "ok",
     "timestamp": 1684727769723,
     "user": {
      "displayName": "Yuya Shibuya",
      "userId": "13278923316285788453"
     },
     "user_tz": -540
    },
    "id": "dcdb4c7a-5b6c-4221-9472-c57ff3519e69",
    "outputId": "6094b5aa-fb53-4ad1-cb3f-2a7fd51b9730"
   },
   "outputs": [
    {
     "data": {
      "text/html": [
       "\n",
       "  <div id=\"df-b6e6c6a3-eebc-48aa-a453-cb3e0259d648\">\n",
       "    <div class=\"colab-df-container\">\n",
       "      <div>\n",
       "<style scoped>\n",
       "    .dataframe tbody tr th:only-of-type {\n",
       "        vertical-align: middle;\n",
       "    }\n",
       "\n",
       "    .dataframe tbody tr th {\n",
       "        vertical-align: top;\n",
       "    }\n",
       "\n",
       "    .dataframe thead th {\n",
       "        text-align: right;\n",
       "    }\n",
       "</style>\n",
       "<table border=\"1\" class=\"dataframe\">\n",
       "  <thead>\n",
       "    <tr style=\"text-align: right;\">\n",
       "      <th></th>\n",
       "      <th>speed</th>\n",
       "      <th>accel</th>\n",
       "      <th>angular_velocity</th>\n",
       "    </tr>\n",
       "  </thead>\n",
       "  <tbody>\n",
       "    <tr>\n",
       "      <th>speed</th>\n",
       "      <td>1.000000</td>\n",
       "      <td>0.159520</td>\n",
       "      <td>-0.530622</td>\n",
       "    </tr>\n",
       "    <tr>\n",
       "      <th>accel</th>\n",
       "      <td>0.159520</td>\n",
       "      <td>1.000000</td>\n",
       "      <td>-0.068022</td>\n",
       "    </tr>\n",
       "    <tr>\n",
       "      <th>angular_velocity</th>\n",
       "      <td>-0.530622</td>\n",
       "      <td>-0.068022</td>\n",
       "      <td>1.000000</td>\n",
       "    </tr>\n",
       "  </tbody>\n",
       "</table>\n",
       "</div>\n",
       "      <button class=\"colab-df-convert\" onclick=\"convertToInteractive('df-b6e6c6a3-eebc-48aa-a453-cb3e0259d648')\"\n",
       "              title=\"Convert this dataframe to an interactive table.\"\n",
       "              style=\"display:none;\">\n",
       "        \n",
       "  <svg xmlns=\"http://www.w3.org/2000/svg\" height=\"24px\"viewBox=\"0 0 24 24\"\n",
       "       width=\"24px\">\n",
       "    <path d=\"M0 0h24v24H0V0z\" fill=\"none\"/>\n",
       "    <path d=\"M18.56 5.44l.94 2.06.94-2.06 2.06-.94-2.06-.94-.94-2.06-.94 2.06-2.06.94zm-11 1L8.5 8.5l.94-2.06 2.06-.94-2.06-.94L8.5 2.5l-.94 2.06-2.06.94zm10 10l.94 2.06.94-2.06 2.06-.94-2.06-.94-.94-2.06-.94 2.06-2.06.94z\"/><path d=\"M17.41 7.96l-1.37-1.37c-.4-.4-.92-.59-1.43-.59-.52 0-1.04.2-1.43.59L10.3 9.45l-7.72 7.72c-.78.78-.78 2.05 0 2.83L4 21.41c.39.39.9.59 1.41.59.51 0 1.02-.2 1.41-.59l7.78-7.78 2.81-2.81c.8-.78.8-2.07 0-2.86zM5.41 20L4 18.59l7.72-7.72 1.47 1.35L5.41 20z\"/>\n",
       "  </svg>\n",
       "      </button>\n",
       "      \n",
       "  <style>\n",
       "    .colab-df-container {\n",
       "      display:flex;\n",
       "      flex-wrap:wrap;\n",
       "      gap: 12px;\n",
       "    }\n",
       "\n",
       "    .colab-df-convert {\n",
       "      background-color: #E8F0FE;\n",
       "      border: none;\n",
       "      border-radius: 50%;\n",
       "      cursor: pointer;\n",
       "      display: none;\n",
       "      fill: #1967D2;\n",
       "      height: 32px;\n",
       "      padding: 0 0 0 0;\n",
       "      width: 32px;\n",
       "    }\n",
       "\n",
       "    .colab-df-convert:hover {\n",
       "      background-color: #E2EBFA;\n",
       "      box-shadow: 0px 1px 2px rgba(60, 64, 67, 0.3), 0px 1px 3px 1px rgba(60, 64, 67, 0.15);\n",
       "      fill: #174EA6;\n",
       "    }\n",
       "\n",
       "    [theme=dark] .colab-df-convert {\n",
       "      background-color: #3B4455;\n",
       "      fill: #D2E3FC;\n",
       "    }\n",
       "\n",
       "    [theme=dark] .colab-df-convert:hover {\n",
       "      background-color: #434B5C;\n",
       "      box-shadow: 0px 1px 3px 1px rgba(0, 0, 0, 0.15);\n",
       "      filter: drop-shadow(0px 1px 2px rgba(0, 0, 0, 0.3));\n",
       "      fill: #FFFFFF;\n",
       "    }\n",
       "  </style>\n",
       "\n",
       "      <script>\n",
       "        const buttonEl =\n",
       "          document.querySelector('#df-b6e6c6a3-eebc-48aa-a453-cb3e0259d648 button.colab-df-convert');\n",
       "        buttonEl.style.display =\n",
       "          google.colab.kernel.accessAllowed ? 'block' : 'none';\n",
       "\n",
       "        async function convertToInteractive(key) {\n",
       "          const element = document.querySelector('#df-b6e6c6a3-eebc-48aa-a453-cb3e0259d648');\n",
       "          const dataTable =\n",
       "            await google.colab.kernel.invokeFunction('convertToInteractive',\n",
       "                                                     [key], {});\n",
       "          if (!dataTable) return;\n",
       "\n",
       "          const docLinkHtml = 'Like what you see? Visit the ' +\n",
       "            '<a target=\"_blank\" href=https://colab.research.google.com/notebooks/data_table.ipynb>data table notebook</a>'\n",
       "            + ' to learn more about interactive tables.';\n",
       "          element.innerHTML = '';\n",
       "          dataTable['output_type'] = 'display_data';\n",
       "          await google.colab.output.renderOutput(dataTable, element);\n",
       "          const docLink = document.createElement('div');\n",
       "          docLink.innerHTML = docLinkHtml;\n",
       "          element.appendChild(docLink);\n",
       "        }\n",
       "      </script>\n",
       "    </div>\n",
       "  </div>\n",
       "  "
      ],
      "text/plain": [
       "                     speed     accel  angular_velocity\n",
       "speed             1.000000  0.159520         -0.530622\n",
       "accel             0.159520  1.000000         -0.068022\n",
       "angular_velocity -0.530622 -0.068022          1.000000"
      ]
     },
     "execution_count": 11,
     "metadata": {},
     "output_type": "execute_result"
    }
   ],
   "source": [
    "# check correlations between features\n",
    "X.corr()"
   ]
  },
  {
   "cell_type": "code",
   "execution_count": 12,
   "id": "c7a059dc-b1de-4cb8-b1ce-4976e3c61525",
   "metadata": {
    "colab": {
     "base_uri": "https://localhost:8080/"
    },
    "executionInfo": {
     "elapsed": 16,
     "status": "ok",
     "timestamp": 1684727769723,
     "user": {
      "displayName": "Yuya Shibuya",
      "userId": "13278923316285788453"
     },
     "user_tz": -540
    },
    "id": "c7a059dc-b1de-4cb8-b1ce-4976e3c61525",
    "outputId": "1c4d5cc3-4d60-4570-8d0a-50be332426f6"
   },
   "outputs": [
    {
     "data": {
      "text/plain": [
       "((428, 3), (428,))"
      ]
     },
     "execution_count": 12,
     "metadata": {},
     "output_type": "execute_result"
    }
   ],
   "source": [
    "# check the sizes of X and y\n",
    "X.shape, y.shape"
   ]
  },
  {
   "cell_type": "code",
   "execution_count": 13,
   "id": "d893c5b8-6330-4540-8514-f49ce1c601ab",
   "metadata": {
    "executionInfo": {
     "elapsed": 14,
     "status": "ok",
     "timestamp": 1684727769723,
     "user": {
      "displayName": "Yuya Shibuya",
      "userId": "13278923316285788453"
     },
     "user_tz": -540
    },
    "id": "d893c5b8-6330-4540-8514-f49ce1c601ab"
   },
   "outputs": [],
   "source": [
    "# Split into training and validation data.\n",
    "X_train, X_test, y_train, y_test = train_test_split(X, y, test_size=0.3, random_state=1, stratify=y)"
   ]
  },
  {
   "attachments": {},
   "cell_type": "markdown",
   "id": "6eea2bcc-1874-463d-832e-0c6514f33335",
   "metadata": {
    "id": "6eea2bcc-1874-463d-832e-0c6514f33335"
   },
   "source": [
    "Run several classification models to estimate transportation mode (vehicle, train, and walk)\n",
    "\n",
    "In this notebook, we run `logistic regression`, `SVM(support vector machines)`, and `Decision Tree` as examples. \n",
    "To understand how each model works, please check the documents below and other machine learning introductory materials.\n",
    "\n",
    "logistic regression: https://scikit-learn.org/stable/modules/linear_model.html#logistic-regression\n",
    "\n",
    "SVM: https://scikit-learn.org/stable/modules/svm.html#support-vector-machines\n",
    "\n",
    "Decision Tree: https://scikit-learn.org/stable/modules/tree.html#decision-trees"
   ]
  },
  {
   "cell_type": "code",
   "execution_count": 14,
   "id": "7e857a1e-2976-432b-9494-afb9d2a8e60a",
   "metadata": {
    "colab": {
     "base_uri": "https://localhost:8080/",
     "height": 491
    },
    "executionInfo": {
     "elapsed": 593,
     "status": "ok",
     "timestamp": 1684727770302,
     "user": {
      "displayName": "Yuya Shibuya",
      "userId": "13278923316285788453"
     },
     "user_tz": -540
    },
    "id": "7e857a1e-2976-432b-9494-afb9d2a8e60a",
    "outputId": "808c3bd2-98cc-4765-d384-4de69d8cc2a9"
   },
   "outputs": [
    {
     "name": "stdout",
     "output_type": "stream",
     "text": [
      "accuracy score (w/ training data): 0.9130434782608695\n",
      "accuracy score (w/ validation data): 0.9069767441860465\n",
      "              precision    recall  f1-score   support\n",
      "\n",
      "       train       0.92      0.80      0.85        44\n",
      "     vehicle       0.80      0.92      0.86        39\n",
      "        walk       1.00      1.00      1.00        46\n",
      "\n",
      "    accuracy                           0.91       129\n",
      "   macro avg       0.91      0.91      0.90       129\n",
      "weighted avg       0.91      0.91      0.91       129\n",
      "\n"
     ]
    },
    {
     "name": "stderr",
     "output_type": "stream",
     "text": [
      "/usr/local/lib/python3.10/dist-packages/sklearn/linear_model/_logistic.py:458: ConvergenceWarning: lbfgs failed to converge (status=1):\n",
      "STOP: TOTAL NO. of ITERATIONS REACHED LIMIT.\n",
      "\n",
      "Increase the number of iterations (max_iter) or scale the data as shown in:\n",
      "    https://scikit-learn.org/stable/modules/preprocessing.html\n",
      "Please also refer to the documentation for alternative solver options:\n",
      "    https://scikit-learn.org/stable/modules/linear_model.html#logistic-regression\n",
      "  n_iter_i = _check_optimize_result(\n"
     ]
    },
    {
     "data": {
      "text/html": [
       "\n",
       "  <div id=\"df-1fb51577-e288-46d4-97ba-440cc8792e07\">\n",
       "    <div class=\"colab-df-container\">\n",
       "      <div>\n",
       "<style scoped>\n",
       "    .dataframe tbody tr th:only-of-type {\n",
       "        vertical-align: middle;\n",
       "    }\n",
       "\n",
       "    .dataframe tbody tr th {\n",
       "        vertical-align: top;\n",
       "    }\n",
       "\n",
       "    .dataframe thead th {\n",
       "        text-align: right;\n",
       "    }\n",
       "</style>\n",
       "<table border=\"1\" class=\"dataframe\">\n",
       "  <thead>\n",
       "    <tr style=\"text-align: right;\">\n",
       "      <th></th>\n",
       "      <th>train</th>\n",
       "      <th>vehicle</th>\n",
       "      <th>walk</th>\n",
       "    </tr>\n",
       "  </thead>\n",
       "  <tbody>\n",
       "    <tr>\n",
       "      <th>train</th>\n",
       "      <td>35</td>\n",
       "      <td>9</td>\n",
       "      <td>0</td>\n",
       "    </tr>\n",
       "    <tr>\n",
       "      <th>vehicle</th>\n",
       "      <td>3</td>\n",
       "      <td>36</td>\n",
       "      <td>0</td>\n",
       "    </tr>\n",
       "    <tr>\n",
       "      <th>walk</th>\n",
       "      <td>0</td>\n",
       "      <td>0</td>\n",
       "      <td>46</td>\n",
       "    </tr>\n",
       "  </tbody>\n",
       "</table>\n",
       "</div>\n",
       "      <button class=\"colab-df-convert\" onclick=\"convertToInteractive('df-1fb51577-e288-46d4-97ba-440cc8792e07')\"\n",
       "              title=\"Convert this dataframe to an interactive table.\"\n",
       "              style=\"display:none;\">\n",
       "        \n",
       "  <svg xmlns=\"http://www.w3.org/2000/svg\" height=\"24px\"viewBox=\"0 0 24 24\"\n",
       "       width=\"24px\">\n",
       "    <path d=\"M0 0h24v24H0V0z\" fill=\"none\"/>\n",
       "    <path d=\"M18.56 5.44l.94 2.06.94-2.06 2.06-.94-2.06-.94-.94-2.06-.94 2.06-2.06.94zm-11 1L8.5 8.5l.94-2.06 2.06-.94-2.06-.94L8.5 2.5l-.94 2.06-2.06.94zm10 10l.94 2.06.94-2.06 2.06-.94-2.06-.94-.94-2.06-.94 2.06-2.06.94z\"/><path d=\"M17.41 7.96l-1.37-1.37c-.4-.4-.92-.59-1.43-.59-.52 0-1.04.2-1.43.59L10.3 9.45l-7.72 7.72c-.78.78-.78 2.05 0 2.83L4 21.41c.39.39.9.59 1.41.59.51 0 1.02-.2 1.41-.59l7.78-7.78 2.81-2.81c.8-.78.8-2.07 0-2.86zM5.41 20L4 18.59l7.72-7.72 1.47 1.35L5.41 20z\"/>\n",
       "  </svg>\n",
       "      </button>\n",
       "      \n",
       "  <style>\n",
       "    .colab-df-container {\n",
       "      display:flex;\n",
       "      flex-wrap:wrap;\n",
       "      gap: 12px;\n",
       "    }\n",
       "\n",
       "    .colab-df-convert {\n",
       "      background-color: #E8F0FE;\n",
       "      border: none;\n",
       "      border-radius: 50%;\n",
       "      cursor: pointer;\n",
       "      display: none;\n",
       "      fill: #1967D2;\n",
       "      height: 32px;\n",
       "      padding: 0 0 0 0;\n",
       "      width: 32px;\n",
       "    }\n",
       "\n",
       "    .colab-df-convert:hover {\n",
       "      background-color: #E2EBFA;\n",
       "      box-shadow: 0px 1px 2px rgba(60, 64, 67, 0.3), 0px 1px 3px 1px rgba(60, 64, 67, 0.15);\n",
       "      fill: #174EA6;\n",
       "    }\n",
       "\n",
       "    [theme=dark] .colab-df-convert {\n",
       "      background-color: #3B4455;\n",
       "      fill: #D2E3FC;\n",
       "    }\n",
       "\n",
       "    [theme=dark] .colab-df-convert:hover {\n",
       "      background-color: #434B5C;\n",
       "      box-shadow: 0px 1px 3px 1px rgba(0, 0, 0, 0.15);\n",
       "      filter: drop-shadow(0px 1px 2px rgba(0, 0, 0, 0.3));\n",
       "      fill: #FFFFFF;\n",
       "    }\n",
       "  </style>\n",
       "\n",
       "      <script>\n",
       "        const buttonEl =\n",
       "          document.querySelector('#df-1fb51577-e288-46d4-97ba-440cc8792e07 button.colab-df-convert');\n",
       "        buttonEl.style.display =\n",
       "          google.colab.kernel.accessAllowed ? 'block' : 'none';\n",
       "\n",
       "        async function convertToInteractive(key) {\n",
       "          const element = document.querySelector('#df-1fb51577-e288-46d4-97ba-440cc8792e07');\n",
       "          const dataTable =\n",
       "            await google.colab.kernel.invokeFunction('convertToInteractive',\n",
       "                                                     [key], {});\n",
       "          if (!dataTable) return;\n",
       "\n",
       "          const docLinkHtml = 'Like what you see? Visit the ' +\n",
       "            '<a target=\"_blank\" href=https://colab.research.google.com/notebooks/data_table.ipynb>data table notebook</a>'\n",
       "            + ' to learn more about interactive tables.';\n",
       "          element.innerHTML = '';\n",
       "          dataTable['output_type'] = 'display_data';\n",
       "          await google.colab.output.renderOutput(dataTable, element);\n",
       "          const docLink = document.createElement('div');\n",
       "          docLink.innerHTML = docLinkHtml;\n",
       "          element.appendChild(docLink);\n",
       "        }\n",
       "      </script>\n",
       "    </div>\n",
       "  </div>\n",
       "  "
      ],
      "text/plain": [
       "         train  vehicle  walk\n",
       "train       35        9     0\n",
       "vehicle      3       36     0\n",
       "walk         0        0    46"
      ]
     },
     "execution_count": 14,
     "metadata": {},
     "output_type": "execute_result"
    }
   ],
   "source": [
    "# Logistic regression models (one-vs-rest)\n",
    "lg_model=LogisticRegression()\n",
    "lg_model.fit(X_train, y_train) # Fitting models to training data\n",
    "lg_y_predicted=lg_model.predict(X_test) # Predicting labels with test data.\n",
    "# Assessment of prediction accuracy\n",
    "print('accuracy score (w/ training data): {}'.format(lg_model.score(X_train, y_train)))\n",
    "# Assessment of prediction accuracy\n",
    "print('accuracy score (w/ validation data): {}'.format(lg_model.score(X_test, y_test)))\n",
    "print(classification_report(y_test, lg_y_predicted))\n",
    "# print out confusion matrix\n",
    "pd.DataFrame(confusion_matrix(y_test, lg_y_predicted), \n",
    "             columns = ['train','vehicle','walk'], \n",
    "             index=['train','vehicle','walk'])"
   ]
  },
  {
   "attachments": {},
   "cell_type": "markdown",
   "id": "64448d5e-7fc5-4685-98f7-b77a1fcc42f8",
   "metadata": {
    "id": "64448d5e-7fc5-4685-98f7-b77a1fcc42f8"
   },
   "source": [
    "In the above cell, we printed out the accuracy score within training data and those within validation data.\n",
    "\n",
    "Also, we printed out the classification reports that hold more information, including precision, recall, and f1-score.\n",
    "\n",
    "* $\\texttt{accuracy}(y, \\hat{y}) = \\frac{1}{n_\\text{samples}} \\sum_{i=0}^{n_\\text{samples}-1} 1(\\hat{y}_i = y_i)$\n",
    "* $\\texttt{precision} = tp / (tp + fp)$ where tp is tp (true positive) is the correct result and fp (false positive) is an unexpected result\n",
    "* $\\texttt{recall} =  tp / (tp + fn)$ where fn (false negative) is missing result\n",
    "* $\\texttt{f1-score} = 2 * (precision * recall) / (precision + recall)$\n",
    "\n",
    "With the confusion matrix, we can easily check which label are misclassified to which."
   ]
  },
  {
   "cell_type": "code",
   "execution_count": 15,
   "id": "685748f0-8a41-49d5-ba4d-f74c0a5db012",
   "metadata": {
    "colab": {
     "base_uri": "https://localhost:8080/",
     "height": 352
    },
    "executionInfo": {
     "elapsed": 17,
     "status": "ok",
     "timestamp": 1684727770303,
     "user": {
      "displayName": "Yuya Shibuya",
      "userId": "13278923316285788453"
     },
     "user_tz": -540
    },
    "id": "685748f0-8a41-49d5-ba4d-f74c0a5db012",
    "outputId": "d9ac9f47-8e79-4c29-a56e-bd80e819827a"
   },
   "outputs": [
    {
     "name": "stdout",
     "output_type": "stream",
     "text": [
      "accuracy score (w/ training data):  0.919732441471572\n",
      "accuracy score (w/ validation data):  0.875968992248062\n",
      "              precision    recall  f1-score   support\n",
      "\n",
      "       train       0.92      0.82      0.87        44\n",
      "     vehicle       0.79      0.79      0.79        39\n",
      "        walk       0.90      1.00      0.95        46\n",
      "\n",
      "    accuracy                           0.88       129\n",
      "   macro avg       0.87      0.87      0.87       129\n",
      "weighted avg       0.88      0.88      0.87       129\n",
      "\n"
     ]
    },
    {
     "data": {
      "text/html": [
       "\n",
       "  <div id=\"df-d298800d-f93d-4f93-8737-556f79d98ed2\">\n",
       "    <div class=\"colab-df-container\">\n",
       "      <div>\n",
       "<style scoped>\n",
       "    .dataframe tbody tr th:only-of-type {\n",
       "        vertical-align: middle;\n",
       "    }\n",
       "\n",
       "    .dataframe tbody tr th {\n",
       "        vertical-align: top;\n",
       "    }\n",
       "\n",
       "    .dataframe thead th {\n",
       "        text-align: right;\n",
       "    }\n",
       "</style>\n",
       "<table border=\"1\" class=\"dataframe\">\n",
       "  <thead>\n",
       "    <tr style=\"text-align: right;\">\n",
       "      <th></th>\n",
       "      <th>train</th>\n",
       "      <th>vehicle</th>\n",
       "      <th>walk</th>\n",
       "    </tr>\n",
       "  </thead>\n",
       "  <tbody>\n",
       "    <tr>\n",
       "      <th>train</th>\n",
       "      <td>36</td>\n",
       "      <td>8</td>\n",
       "      <td>0</td>\n",
       "    </tr>\n",
       "    <tr>\n",
       "      <th>vehicle</th>\n",
       "      <td>3</td>\n",
       "      <td>31</td>\n",
       "      <td>5</td>\n",
       "    </tr>\n",
       "    <tr>\n",
       "      <th>walk</th>\n",
       "      <td>0</td>\n",
       "      <td>0</td>\n",
       "      <td>46</td>\n",
       "    </tr>\n",
       "  </tbody>\n",
       "</table>\n",
       "</div>\n",
       "      <button class=\"colab-df-convert\" onclick=\"convertToInteractive('df-d298800d-f93d-4f93-8737-556f79d98ed2')\"\n",
       "              title=\"Convert this dataframe to an interactive table.\"\n",
       "              style=\"display:none;\">\n",
       "        \n",
       "  <svg xmlns=\"http://www.w3.org/2000/svg\" height=\"24px\"viewBox=\"0 0 24 24\"\n",
       "       width=\"24px\">\n",
       "    <path d=\"M0 0h24v24H0V0z\" fill=\"none\"/>\n",
       "    <path d=\"M18.56 5.44l.94 2.06.94-2.06 2.06-.94-2.06-.94-.94-2.06-.94 2.06-2.06.94zm-11 1L8.5 8.5l.94-2.06 2.06-.94-2.06-.94L8.5 2.5l-.94 2.06-2.06.94zm10 10l.94 2.06.94-2.06 2.06-.94-2.06-.94-.94-2.06-.94 2.06-2.06.94z\"/><path d=\"M17.41 7.96l-1.37-1.37c-.4-.4-.92-.59-1.43-.59-.52 0-1.04.2-1.43.59L10.3 9.45l-7.72 7.72c-.78.78-.78 2.05 0 2.83L4 21.41c.39.39.9.59 1.41.59.51 0 1.02-.2 1.41-.59l7.78-7.78 2.81-2.81c.8-.78.8-2.07 0-2.86zM5.41 20L4 18.59l7.72-7.72 1.47 1.35L5.41 20z\"/>\n",
       "  </svg>\n",
       "      </button>\n",
       "      \n",
       "  <style>\n",
       "    .colab-df-container {\n",
       "      display:flex;\n",
       "      flex-wrap:wrap;\n",
       "      gap: 12px;\n",
       "    }\n",
       "\n",
       "    .colab-df-convert {\n",
       "      background-color: #E8F0FE;\n",
       "      border: none;\n",
       "      border-radius: 50%;\n",
       "      cursor: pointer;\n",
       "      display: none;\n",
       "      fill: #1967D2;\n",
       "      height: 32px;\n",
       "      padding: 0 0 0 0;\n",
       "      width: 32px;\n",
       "    }\n",
       "\n",
       "    .colab-df-convert:hover {\n",
       "      background-color: #E2EBFA;\n",
       "      box-shadow: 0px 1px 2px rgba(60, 64, 67, 0.3), 0px 1px 3px 1px rgba(60, 64, 67, 0.15);\n",
       "      fill: #174EA6;\n",
       "    }\n",
       "\n",
       "    [theme=dark] .colab-df-convert {\n",
       "      background-color: #3B4455;\n",
       "      fill: #D2E3FC;\n",
       "    }\n",
       "\n",
       "    [theme=dark] .colab-df-convert:hover {\n",
       "      background-color: #434B5C;\n",
       "      box-shadow: 0px 1px 3px 1px rgba(0, 0, 0, 0.15);\n",
       "      filter: drop-shadow(0px 1px 2px rgba(0, 0, 0, 0.3));\n",
       "      fill: #FFFFFF;\n",
       "    }\n",
       "  </style>\n",
       "\n",
       "      <script>\n",
       "        const buttonEl =\n",
       "          document.querySelector('#df-d298800d-f93d-4f93-8737-556f79d98ed2 button.colab-df-convert');\n",
       "        buttonEl.style.display =\n",
       "          google.colab.kernel.accessAllowed ? 'block' : 'none';\n",
       "\n",
       "        async function convertToInteractive(key) {\n",
       "          const element = document.querySelector('#df-d298800d-f93d-4f93-8737-556f79d98ed2');\n",
       "          const dataTable =\n",
       "            await google.colab.kernel.invokeFunction('convertToInteractive',\n",
       "                                                     [key], {});\n",
       "          if (!dataTable) return;\n",
       "\n",
       "          const docLinkHtml = 'Like what you see? Visit the ' +\n",
       "            '<a target=\"_blank\" href=https://colab.research.google.com/notebooks/data_table.ipynb>data table notebook</a>'\n",
       "            + ' to learn more about interactive tables.';\n",
       "          element.innerHTML = '';\n",
       "          dataTable['output_type'] = 'display_data';\n",
       "          await google.colab.output.renderOutput(dataTable, element);\n",
       "          const docLink = document.createElement('div');\n",
       "          docLink.innerHTML = docLinkHtml;\n",
       "          element.appendChild(docLink);\n",
       "        }\n",
       "      </script>\n",
       "    </div>\n",
       "  </div>\n",
       "  "
      ],
      "text/plain": [
       "         train  vehicle  walk\n",
       "train       36        8     0\n",
       "vehicle      3       31     5\n",
       "walk         0        0    46"
      ]
     },
     "execution_count": 15,
     "metadata": {},
     "output_type": "execute_result"
    }
   ],
   "source": [
    "# Support Vector Machine (SVM)\n",
    "svm_clf = svm.SVC()\n",
    "svm_clf.fit(X_train, y_train) \n",
    "svm_y_predicted=svm_clf.predict(X_test) # Predicting labels with test data.\n",
    "print(\"accuracy score (w/ training data): \", svm_clf.score(X_train, y_train)) \n",
    "print(\"accuracy score (w/ validation data): \", svm_clf.score(X_test, y_test)) \n",
    "print(classification_report(y_test, svm_y_predicted))\n",
    "# print out confusion matrix\n",
    "pd.DataFrame(confusion_matrix(y_test, svm_y_predicted), \n",
    "             columns = ['train','vehicle','walk'], \n",
    "             index=['train','vehicle','walk'])"
   ]
  },
  {
   "cell_type": "code",
   "execution_count": 16,
   "id": "46957626-013d-41ed-ad5b-45ce1cd391ff",
   "metadata": {
    "colab": {
     "base_uri": "https://localhost:8080/",
     "height": 352
    },
    "executionInfo": {
     "elapsed": 15,
     "status": "ok",
     "timestamp": 1684727770303,
     "user": {
      "displayName": "Yuya Shibuya",
      "userId": "13278923316285788453"
     },
     "user_tz": -540
    },
    "id": "46957626-013d-41ed-ad5b-45ce1cd391ff",
    "outputId": "227687a1-87a5-4045-ca5e-53b780e7bc3c"
   },
   "outputs": [
    {
     "name": "stdout",
     "output_type": "stream",
     "text": [
      "accuracy score (w/ training data):  0.9431438127090301\n",
      "accuracy score (w/ validation data):  0.9302325581395349\n",
      "              precision    recall  f1-score   support\n",
      "\n",
      "       train       0.89      0.91      0.90        44\n",
      "     vehicle       0.89      0.87      0.88        39\n",
      "        walk       1.00      1.00      1.00        46\n",
      "\n",
      "    accuracy                           0.93       129\n",
      "   macro avg       0.93      0.93      0.93       129\n",
      "weighted avg       0.93      0.93      0.93       129\n",
      "\n"
     ]
    },
    {
     "data": {
      "text/html": [
       "\n",
       "  <div id=\"df-d979ae4e-bd33-4935-8202-2e61705ff1f5\">\n",
       "    <div class=\"colab-df-container\">\n",
       "      <div>\n",
       "<style scoped>\n",
       "    .dataframe tbody tr th:only-of-type {\n",
       "        vertical-align: middle;\n",
       "    }\n",
       "\n",
       "    .dataframe tbody tr th {\n",
       "        vertical-align: top;\n",
       "    }\n",
       "\n",
       "    .dataframe thead th {\n",
       "        text-align: right;\n",
       "    }\n",
       "</style>\n",
       "<table border=\"1\" class=\"dataframe\">\n",
       "  <thead>\n",
       "    <tr style=\"text-align: right;\">\n",
       "      <th></th>\n",
       "      <th>train</th>\n",
       "      <th>vehicle</th>\n",
       "      <th>walk</th>\n",
       "    </tr>\n",
       "  </thead>\n",
       "  <tbody>\n",
       "    <tr>\n",
       "      <th>train</th>\n",
       "      <td>40</td>\n",
       "      <td>4</td>\n",
       "      <td>0</td>\n",
       "    </tr>\n",
       "    <tr>\n",
       "      <th>vehicle</th>\n",
       "      <td>5</td>\n",
       "      <td>34</td>\n",
       "      <td>0</td>\n",
       "    </tr>\n",
       "    <tr>\n",
       "      <th>walk</th>\n",
       "      <td>0</td>\n",
       "      <td>0</td>\n",
       "      <td>46</td>\n",
       "    </tr>\n",
       "  </tbody>\n",
       "</table>\n",
       "</div>\n",
       "      <button class=\"colab-df-convert\" onclick=\"convertToInteractive('df-d979ae4e-bd33-4935-8202-2e61705ff1f5')\"\n",
       "              title=\"Convert this dataframe to an interactive table.\"\n",
       "              style=\"display:none;\">\n",
       "        \n",
       "  <svg xmlns=\"http://www.w3.org/2000/svg\" height=\"24px\"viewBox=\"0 0 24 24\"\n",
       "       width=\"24px\">\n",
       "    <path d=\"M0 0h24v24H0V0z\" fill=\"none\"/>\n",
       "    <path d=\"M18.56 5.44l.94 2.06.94-2.06 2.06-.94-2.06-.94-.94-2.06-.94 2.06-2.06.94zm-11 1L8.5 8.5l.94-2.06 2.06-.94-2.06-.94L8.5 2.5l-.94 2.06-2.06.94zm10 10l.94 2.06.94-2.06 2.06-.94-2.06-.94-.94-2.06-.94 2.06-2.06.94z\"/><path d=\"M17.41 7.96l-1.37-1.37c-.4-.4-.92-.59-1.43-.59-.52 0-1.04.2-1.43.59L10.3 9.45l-7.72 7.72c-.78.78-.78 2.05 0 2.83L4 21.41c.39.39.9.59 1.41.59.51 0 1.02-.2 1.41-.59l7.78-7.78 2.81-2.81c.8-.78.8-2.07 0-2.86zM5.41 20L4 18.59l7.72-7.72 1.47 1.35L5.41 20z\"/>\n",
       "  </svg>\n",
       "      </button>\n",
       "      \n",
       "  <style>\n",
       "    .colab-df-container {\n",
       "      display:flex;\n",
       "      flex-wrap:wrap;\n",
       "      gap: 12px;\n",
       "    }\n",
       "\n",
       "    .colab-df-convert {\n",
       "      background-color: #E8F0FE;\n",
       "      border: none;\n",
       "      border-radius: 50%;\n",
       "      cursor: pointer;\n",
       "      display: none;\n",
       "      fill: #1967D2;\n",
       "      height: 32px;\n",
       "      padding: 0 0 0 0;\n",
       "      width: 32px;\n",
       "    }\n",
       "\n",
       "    .colab-df-convert:hover {\n",
       "      background-color: #E2EBFA;\n",
       "      box-shadow: 0px 1px 2px rgba(60, 64, 67, 0.3), 0px 1px 3px 1px rgba(60, 64, 67, 0.15);\n",
       "      fill: #174EA6;\n",
       "    }\n",
       "\n",
       "    [theme=dark] .colab-df-convert {\n",
       "      background-color: #3B4455;\n",
       "      fill: #D2E3FC;\n",
       "    }\n",
       "\n",
       "    [theme=dark] .colab-df-convert:hover {\n",
       "      background-color: #434B5C;\n",
       "      box-shadow: 0px 1px 3px 1px rgba(0, 0, 0, 0.15);\n",
       "      filter: drop-shadow(0px 1px 2px rgba(0, 0, 0, 0.3));\n",
       "      fill: #FFFFFF;\n",
       "    }\n",
       "  </style>\n",
       "\n",
       "      <script>\n",
       "        const buttonEl =\n",
       "          document.querySelector('#df-d979ae4e-bd33-4935-8202-2e61705ff1f5 button.colab-df-convert');\n",
       "        buttonEl.style.display =\n",
       "          google.colab.kernel.accessAllowed ? 'block' : 'none';\n",
       "\n",
       "        async function convertToInteractive(key) {\n",
       "          const element = document.querySelector('#df-d979ae4e-bd33-4935-8202-2e61705ff1f5');\n",
       "          const dataTable =\n",
       "            await google.colab.kernel.invokeFunction('convertToInteractive',\n",
       "                                                     [key], {});\n",
       "          if (!dataTable) return;\n",
       "\n",
       "          const docLinkHtml = 'Like what you see? Visit the ' +\n",
       "            '<a target=\"_blank\" href=https://colab.research.google.com/notebooks/data_table.ipynb>data table notebook</a>'\n",
       "            + ' to learn more about interactive tables.';\n",
       "          element.innerHTML = '';\n",
       "          dataTable['output_type'] = 'display_data';\n",
       "          await google.colab.output.renderOutput(dataTable, element);\n",
       "          const docLink = document.createElement('div');\n",
       "          docLink.innerHTML = docLinkHtml;\n",
       "          element.appendChild(docLink);\n",
       "        }\n",
       "      </script>\n",
       "    </div>\n",
       "  </div>\n",
       "  "
      ],
      "text/plain": [
       "         train  vehicle  walk\n",
       "train       40        4     0\n",
       "vehicle      5       34     0\n",
       "walk         0        0    46"
      ]
     },
     "execution_count": 16,
     "metadata": {},
     "output_type": "execute_result"
    }
   ],
   "source": [
    "# Decision Tree Classifier\n",
    "tree_clf = DecisionTreeClassifier(random_state=0, max_depth=3)\n",
    "tree_clf.fit(X_train, y_train) \n",
    "tree_y_predicted=tree_clf.predict(X_test)\n",
    "print(\"accuracy score (w/ training data): \", tree_clf.score(X_train, y_train)) \n",
    "print(\"accuracy score (w/ validation data): \",tree_clf.score(X_test, y_test))\n",
    "print(classification_report(y_test, tree_y_predicted))\n",
    "# print out confusion matrix\n",
    "pd.DataFrame(confusion_matrix(y_test, tree_y_predicted), \n",
    "             columns = ['train','vehicle','walk'], \n",
    "             index=['train','vehicle','walk'])"
   ]
  },
  {
   "attachments": {},
   "cell_type": "markdown",
   "id": "cb5791cf-7388-49ab-9c8a-86678b727a6e",
   "metadata": {
    "id": "cb5791cf-7388-49ab-9c8a-86678b727a6e"
   },
   "source": [
    "Let's visualize how the tree classifes our data"
   ]
  },
  {
   "cell_type": "code",
   "execution_count": 17,
   "id": "2a5542e1-d331-4e36-b8d0-768eef880317",
   "metadata": {
    "colab": {
     "base_uri": "https://localhost:8080/",
     "height": 422
    },
    "executionInfo": {
     "elapsed": 2761,
     "status": "ok",
     "timestamp": 1684727773051,
     "user": {
      "displayName": "Yuya Shibuya",
      "userId": "13278923316285788453"
     },
     "user_tz": -540
    },
    "id": "2a5542e1-d331-4e36-b8d0-768eef880317",
    "outputId": "eb72c780-12d9-4cdd-9305-a26d8e1e3ae4"
   },
   "outputs": [
    {
     "data": {
      "image/png": "[encoded data removed]",
      "text/plain": [
       "<Figure size 1000x500 with 1 Axes>"
      ]
     },
     "metadata": {},
     "output_type": "display_data"
    }
   ],
   "source": [
    "fig, ax = plt.subplots(figsize=(10, 5))\n",
    "tree.plot_tree(\n",
    "    tree_clf, ax = ax, fontsize=8, \n",
    "    feature_names= X.columns,  \n",
    "    class_names= y.unique(), \n",
    "    filled=True,\n",
    "    rounded=True,\n",
    ")\n",
    "plt.show()"
   ]
  },
  {
   "attachments": {},
   "cell_type": "markdown",
   "id": "2185d5d8-cca4-4c8d-9e16-27ef3fde257e",
   "metadata": {
    "id": "2185d5d8-cca4-4c8d-9e16-27ef3fde257e",
    "tags": []
   },
   "source": [
    "## 教師なし\n",
    "\n",
    "ここでは`K-means`と`PCA`を用います\n",
    "\n",
    "* K-means: https://scikit-learn.org/stable/modules/clustering.html#k-means\n",
    "* PCA: https://scikit-learn.org/stable/modules/decomposition.html#pca\n"
   ]
  },
  {
   "attachments": {},
   "cell_type": "markdown",
   "id": "72f0f28d-0454-4d68-a313-dc889a54a135",
   "metadata": {
    "id": "72f0f28d-0454-4d68-a313-dc889a54a135"
   },
   "source": [
    "### K-means"
   ]
  },
  {
   "attachments": {},
   "cell_type": "markdown",
   "id": "8ae6a92c-77a3-49bb-9a76-7f998bc6bdd9",
   "metadata": {
    "id": "8ae6a92c-77a3-49bb-9a76-7f998bc6bdd9"
   },
   "source": [
    "ここでは、特徴量 `angular_velocity` と `speed` を用いて、K-means を用いてクラスタリングを行います。\n",
    "K-meansでは、クラスタの数を指定する必要があるので、ここでは2つのクラスタを生成します。"
   ]
  },
  {
   "cell_type": "code",
   "execution_count": 18,
   "id": "f95c7da0-3464-4c01-a375-926f1974afba",
   "metadata": {
    "colab": {
     "base_uri": "https://localhost:8080/"
    },
    "executionInfo": {
     "elapsed": 400,
     "status": "ok",
     "timestamp": 1684727773438,
     "user": {
      "displayName": "Yuya Shibuya",
      "userId": "13278923316285788453"
     },
     "user_tz": -540
    },
    "id": "f95c7da0-3464-4c01-a375-926f1974afba",
    "outputId": "971f5fcd-bbf7-4497-95d1-286d168b3779"
   },
   "outputs": [
    {
     "name": "stderr",
     "output_type": "stream",
     "text": [
      "/usr/local/lib/python3.10/dist-packages/sklearn/cluster/_kmeans.py:870: FutureWarning: The default value of `n_init` will change from 10 to 'auto' in 1.4. Set the value of `n_init` explicitly to suppress the warning\n",
      "  warnings.warn(\n"
     ]
    }
   ],
   "source": [
    "X_kmeans = df[['angular_velocity', 'speed']]\n",
    "model = KMeans(n_clusters=3) # with n_clusters specifying the number of clusters\n",
    "model.fit(X_kmeans) # fitting the data\n",
    "y_km=model.predict(X_kmeans) # predict clusters"
   ]
  },
  {
   "attachments": {},
   "cell_type": "markdown",
   "id": "70767db5-f2ab-4923-9bdd-7c0c6671d87d",
   "metadata": {
    "id": "70767db5-f2ab-4923-9bdd-7c0c6671d87d"
   },
   "source": [
    "正解データとクラスタリングの結果を比較してみます"
   ]
  },
  {
   "cell_type": "code",
   "execution_count": 19,
   "id": "75dd2162-560f-4c92-a406-4baa0ee3ca1f",
   "metadata": {
    "colab": {
     "base_uri": "https://localhost:8080/",
     "height": 333
    },
    "executionInfo": {
     "elapsed": 902,
     "status": "ok",
     "timestamp": 1684727774337,
     "user": {
      "displayName": "Yuya Shibuya",
      "userId": "13278923316285788453"
     },
     "user_tz": -540
    },
    "id": "75dd2162-560f-4c92-a406-4baa0ee3ca1f",
    "outputId": "9573f719-5f5c-4683-b81c-54d29d6242cc"
   },
   "outputs": [
    {
     "data": {
      "image/png": "[encoded data removed]",
      "text/plain": [
       "<Figure size 800x300 with 2 Axes>"
      ]
     },
     "metadata": {},
     "output_type": "display_data"
    }
   ],
   "source": [
    "y = df['trans_mode']\n",
    "y_colors = y.map({'train':'navy', 'vehicle':'turquoise', 'walk':'darkorange'}) \n",
    "fig, axs = plt.subplots(1, 2, figsize=(8, 3))\n",
    "for i, ax in enumerate(axs):\n",
    "    ax.scatter(df['angular_velocity'], df['speed'], c = [y_km, y_colors][i])\n",
    "    ax.set_xlabel('angle rate')\n",
    "    ax.set_ylabel('speed')\n",
    "    ax.set_title(['K-means clustering', 'Ground truth class'][i])\n",
    "plt.show()"
   ]
  },
  {
   "attachments": {},
   "cell_type": "markdown",
   "id": "c8d1d528-0eb7-435e-b282-b65f0ff717fb",
   "metadata": {
    "id": "c8d1d528-0eb7-435e-b282-b65f0ff717fb"
   },
   "source": [
    "2つの特徴量しか用いていないこともあり、K-meanではあまりうまく分類ができていないですが、それでも大まかな傾向は捉えているようです。"
   ]
  },
  {
   "attachments": {},
   "cell_type": "markdown",
   "id": "d6a03ea7-907c-4ce7-b887-048b7fe91fe4",
   "metadata": {
    "id": "d6a03ea7-907c-4ce7-b887-048b7fe91fe4"
   },
   "source": [
    "#### PCA (Principal Component Analysis)"
   ]
  },
  {
   "attachments": {},
   "cell_type": "markdown",
   "id": "33803666-1e67-4702-8418-4bba644adcb5",
   "metadata": {
    "id": "33803666-1e67-4702-8418-4bba644adcb5"
   },
   "source": [
    "高次元データの次元削減のために用いられることが多いです。\n",
    "ここでは、GPS軌跡データの5つの特徴量をPCAを用いて2次元に縮小します。"
   ]
  },
  {
   "cell_type": "code",
   "execution_count": 20,
   "id": "033533da-982e-4810-b4f2-9803c1bfa13b",
   "metadata": {
    "executionInfo": {
     "elapsed": 21,
     "status": "ok",
     "timestamp": 1684727774337,
     "user": {
      "displayName": "Yuya Shibuya",
      "userId": "13278923316285788453"
     },
     "user_tz": -540
    },
    "id": "033533da-982e-4810-b4f2-9803c1bfa13b"
   },
   "outputs": [],
   "source": [
    "X_pca = df[['distance','speed','accel','angle','angular_velocity']]\n",
    "y = df['trans_mode']"
   ]
  },
  {
   "cell_type": "code",
   "execution_count": 21,
   "id": "0c15a132-8b40-4f4e-be50-59558ccd62e5",
   "metadata": {
    "executionInfo": {
     "elapsed": 21,
     "status": "ok",
     "timestamp": 1684727774337,
     "user": {
      "displayName": "Yuya Shibuya",
      "userId": "13278923316285788453"
     },
     "user_tz": -540
    },
    "id": "0c15a132-8b40-4f4e-be50-59558ccd62e5"
   },
   "outputs": [],
   "source": [
    "X_pca = StandardScaler().fit_transform(X_pca)"
   ]
  },
  {
   "cell_type": "code",
   "execution_count": 22,
   "id": "7b4ad696-eea0-49b7-b60b-c1f0f049d65c",
   "metadata": {
    "executionInfo": {
     "elapsed": 20,
     "status": "ok",
     "timestamp": 1684727774337,
     "user": {
      "displayName": "Yuya Shibuya",
      "userId": "13278923316285788453"
     },
     "user_tz": -540
    },
    "id": "7b4ad696-eea0-49b7-b60b-c1f0f049d65c"
   },
   "outputs": [],
   "source": [
    "pca = PCA(n_components=2)\n",
    "X_pca_res = pca.fit_transform(X_pca)"
   ]
  },
  {
   "cell_type": "code",
   "execution_count": 25,
   "id": "b20d21ab-517f-45a1-a253-48db5a7d917c",
   "metadata": {
    "colab": {
     "base_uri": "https://localhost:8080/"
    },
    "executionInfo": {
     "elapsed": 10,
     "status": "ok",
     "timestamp": 1684727774338,
     "user": {
      "displayName": "Yuya Shibuya",
      "userId": "13278923316285788453"
     },
     "user_tz": -540
    },
    "id": "b20d21ab-517f-45a1-a253-48db5a7d917c",
    "outputId": "09b5205c-3742-408f-9b75-d86a09eaf69c"
   },
   "outputs": [
    {
     "name": "stdout",
     "output_type": "stream",
     "text": [
      "[0.36113444 0.2130784 ]\n"
     ]
    }
   ],
   "source": [
    "print(pca.explained_variance_ratio_)"
   ]
  },
  {
   "attachments": {},
   "cell_type": "markdown",
   "id": "e2773708-f408-4514-9866-04c7c0a89f0a",
   "metadata": {
    "id": "e2773708-f408-4514-9866-04c7c0a89f0a"
   },
   "source": [
    "第1主成分と第2主成分をプロットします。"
   ]
  },
  {
   "cell_type": "code",
   "execution_count": 26,
   "id": "e3329d52-8a84-4e71-b9e2-9f94ecda9be7",
   "metadata": {
    "colab": {
     "base_uri": "https://localhost:8080/",
     "height": 452
    },
    "executionInfo": {
     "elapsed": 1213,
     "status": "ok",
     "timestamp": 1684727775544,
     "user": {
      "displayName": "Yuya Shibuya",
      "userId": "13278923316285788453"
     },
     "user_tz": -540
    },
    "id": "e3329d52-8a84-4e71-b9e2-9f94ecda9be7",
    "outputId": "93d18a83-932b-460e-ab14-34755a5f92b1",
    "tags": []
   },
   "outputs": [
    {
     "data": {
      "image/png": "[encoded data removed]",
      "text/plain": [
       "<Figure size 640x480 with 1 Axes>"
      ]
     },
     "metadata": {},
     "output_type": "display_data"
    }
   ],
   "source": [
    "colors = ['navy', 'turquoise', 'darkorange']\n",
    "target_names =  y.unique()\n",
    "for color, target_name in zip(colors, target_names):\n",
    "    plt.scatter(X_pca_res[y == target_name, 0], X_pca_res[y == target_name, 1], color=color, alpha=.8, label=target_name)\n",
    "plt.legend(loc='best', shadow=False, scatterpoints=1, frameon=False)\n",
    "plt.title('PCA of GPS dataset')\n",
    "plt.show()"
   ]
  },
  {
   "cell_type": "code",
   "execution_count": 26,
   "id": "bb41f234-431e-4bd5-a53d-13904b9a39c1",
   "metadata": {
    "executionInfo": {
     "elapsed": 10,
     "status": "ok",
     "timestamp": 1684727775544,
     "user": {
      "displayName": "Yuya Shibuya",
      "userId": "13278923316285788453"
     },
     "user_tz": -540
    },
    "id": "bb41f234-431e-4bd5-a53d-13904b9a39c1"
   },
   "outputs": [],
   "source": []
  }
 ],
 "metadata": {
  "colab": {
   "provenance": []
  },
  "kernelspec": {
   "display_name": "Python 3 (ipykernel)",
   "language": "python",
   "name": "python3"
  },
  "language_info": {
   "codemirror_mode": {
    "name": "ipython",
    "version": 3
   },
   "file_extension": ".py",
   "mimetype": "text/x-python",
   "name": "python",
   "nbconvert_exporter": "python",
   "pygments_lexer": "ipython3",
   "version": "3.8.16"
  }
 },
 "nbformat": 4,
 "nbformat_minor": 5
}
