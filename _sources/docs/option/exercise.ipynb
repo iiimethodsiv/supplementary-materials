{
 "cells": [
  {
   "attachments": {},
   "cell_type": "markdown",
   "metadata": {},
   "source": [
    "# 課題\n",
    "\n"
   ]
  },
  {
   "attachments": {},
   "cell_type": "markdown",
   "metadata": {},
   "source": [
    "\n",
    "## 課題1\n",
    "ここからはYahoo! FINANCEの株価データを用いて相関関係の可視化を行います。\n",
    "\n",
    "\n",
    "収集する株価データの期間は3ヶ月以上で任意に期間をセットしてください。\n",
    "またどの銘柄のデータを収集するかも任意でセットしてください。\n",
    "銘柄の名前は[Yahoo! finance](https://finance.yahoo.com/)などで調べることができます。"
   ]
  },
  {
   "cell_type": "code",
   "execution_count": null,
   "metadata": {
    "scrolled": true
   },
   "outputs": [],
   "source": [
    "import numpy as np\n",
    "import pandas as pd\n",
    "from datetime import datetime\n",
    "import yfinance as yf\n",
    "from pandas_datareader import data as pdr"
   ]
  },
  {
   "cell_type": "code",
   "execution_count": null,
   "metadata": {
    "scrolled": true
   },
   "outputs": [],
   "source": [
    "def make_df():\n",
    "    \n",
    "    end = datetime(2019,3,1) #任意の値を設定してください\n",
    "    start =  datetime(2018,3,1) #任意の値を設定してください 株価が存在しない日付にするとエラーになる場合があります。\n",
    "\n",
    "    yf.pdr_override()\n",
    "    \n",
    "    companies = [] #任意の値を設定してください\n",
    "    # 例：　GOOG: google, TSLA: Tesla, Inc., F: Ford Motor Company, Cisco Systems, Inc.\n",
    "    \n",
    "    dfs = []\n",
    "    for company in companies:\n",
    "        globals()[company] = pdr.get_data_yahoo(tickers=company, start=start, end=end)\n",
    "        dfs.append(globals()[company] )\n",
    "    \n",
    "    item = 'Adj Close' # 'Adj Close', 'Open', 'High', 'Low', 'Volume' から任意の値を設定してください\n",
    "    \n",
    "    df = pd.DataFrame()\n",
    "    i=0\n",
    "    for df_i in dfs:\n",
    "        df = pd.concat([df,pd.DataFrame({companies[i]:df_i[item]})],axis=1)\n",
    "        i += 1\n",
    "    return df"
   ]
  },
  {
   "cell_type": "code",
   "execution_count": null,
   "metadata": {
    "scrolled": true
   },
   "outputs": [],
   "source": [
    "df = make_df()"
   ]
  },
  {
   "cell_type": "markdown",
   "metadata": {},
   "source": [
    "`df`に関して以下の問いに答えてください。"
   ]
  },
  {
   "attachments": {},
   "cell_type": "markdown",
   "metadata": {},
   "source": [
    "### 課題1.0（回答例）\n",
    "このDataFrame(df)は何行ありますか？\n",
    "\n",
    "一つのint型の値を返します。"
   ]
  },
  {
   "cell_type": "code",
   "execution_count": null,
   "metadata": {
    "scrolled": true
   },
   "outputs": [],
   "source": [
    "# 課題の回答は関数（引数無し）の中に全て書いてください。\n",
    "def answer_zero():\n",
    "    #　どのようなフォーマットで回答すべきか問題文に従ってください。\n",
    "    ans = df.shape[0]\n",
    "    return int(ans)\n",
    "\n",
    "# 回答を確認するためには、次のような１行で回答を記入した関数を呼び出すことで確認できます。\n",
    "answer_zero()"
   ]
  },
  {
   "attachments": {},
   "cell_type": "markdown",
   "metadata": {},
   "source": [
    "### 課題1.1\n",
    "DataFrame(df)に格納した変数のうち２つの変数（銘柄）を選び相関係数を示してください。"
   ]
  },
  {
   "cell_type": "code",
   "execution_count": null,
   "metadata": {
    "scrolled": true
   },
   "outputs": [],
   "source": [
    "def answer_one():\n",
    "    \n",
    "    \n",
    "    return \"YOUR ANSWER\""
   ]
  },
  {
   "cell_type": "markdown",
   "metadata": {},
   "source": [
    "次のセルを実行して回答を示してください"
   ]
  },
  {
   "cell_type": "code",
   "execution_count": null,
   "metadata": {
    "scrolled": true
   },
   "outputs": [],
   "source": [
    "answer_one()"
   ]
  },
  {
   "attachments": {},
   "cell_type": "markdown",
   "metadata": {},
   "source": [
    "### 課題1.2\n",
    "\n",
    "DataFrame(df)に格納した変数（銘柄）全ての相関行列を示してください。\n",
    "\n",
    "\n",
    "1つのDataFrame型の値を返します。"
   ]
  },
  {
   "cell_type": "code",
   "execution_count": null,
   "metadata": {
    "scrolled": true
   },
   "outputs": [],
   "source": [
    "def answer_two():\n",
    "    \n",
    "     \n",
    "    \n",
    "    return \"YOUR ANSWER\""
   ]
  },
  {
   "cell_type": "markdown",
   "metadata": {},
   "source": [
    "次のセルを実行して回答を示してください。"
   ]
  },
  {
   "cell_type": "code",
   "execution_count": null,
   "metadata": {
    "scrolled": true
   },
   "outputs": [],
   "source": [
    "answer_two()"
   ]
  },
  {
   "attachments": {},
   "cell_type": "markdown",
   "metadata": {},
   "source": [
    "### 課題1.3\n",
    "\n",
    "DataFrame(df)に格納した変数のうち２つの変数（銘柄）を選び散布図を描いてください。\n",
    "\n",
    "回答は1つの散布図を示します。"
   ]
  },
  {
   "cell_type": "code",
   "execution_count": null,
   "metadata": {
    "scrolled": true
   },
   "outputs": [],
   "source": [
    "import matplotlib.pyplot as plt\n",
    "import seaborn as sns\n",
    "%matplotlib inline\n",
    "\n",
    "def answer_three():\n",
    "    \n",
    "    \n",
    "    \n",
    "    plt.show()"
   ]
  },
  {
   "cell_type": "markdown",
   "metadata": {},
   "source": [
    "次のセルを実行して回答を表示させてください。"
   ]
  },
  {
   "cell_type": "code",
   "execution_count": null,
   "metadata": {
    "scrolled": true
   },
   "outputs": [],
   "source": [
    "answer_three()"
   ]
  },
  {
   "attachments": {},
   "cell_type": "markdown",
   "metadata": {},
   "source": [
    "### 課題1.4\n",
    "課題1.1から課題1.4までで確認した`df`に関する相関関係について、確認できた事項をできる限り多く列挙してください。"
   ]
  },
  {
   "cell_type": "markdown",
   "metadata": {},
   "source": [
    "次のセルに回答を記入してください。"
   ]
  },
  {
   "cell_type": "code",
   "execution_count": null,
   "metadata": {
    "scrolled": true
   },
   "outputs": [],
   "source": [
    "\n",
    "'''\n",
    "\n",
    "-　(例)　A社とB社の出来高には弱い負の相関関係がある\n",
    "\n",
    "-　\n",
    "\n",
    "-　\n",
    "\n",
    "-　\n",
    "\n",
    "- \n",
    "\n",
    "'''"
   ]
  }
 ],
 "metadata": {
  "kernelspec": {
   "display_name": "Python 3 (ipykernel)",
   "language": "python",
   "name": "python3"
  },
  "language_info": {
   "codemirror_mode": {
    "name": "ipython",
    "version": 3
   },
   "file_extension": ".py",
   "mimetype": "text/x-python",
   "name": "python",
   "nbconvert_exporter": "python",
   "pygments_lexer": "ipython3",
   "version": "3.8.16"
  }
 },
 "nbformat": 4,
 "nbformat_minor": 4
}
