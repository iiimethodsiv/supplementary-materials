{
 "cells": [
  {
   "attachments": {},
   "cell_type": "markdown",
   "metadata": {
    "id": "gsxpcSPew7NE"
   },
   "source": [
    "\n",
    "# 演習・交通手段分類（データ準備）\n",
    "\n",
    "GPSの軌跡データを用いたデータ分析を行います。\n",
    "このNotebookでは、GPSの軌跡データを探索して、各トリップの交通モードのデータの準備を行います。\n",
    "次のNotebookではデータの特徴を確認し、その後生成した特徴量を用いて機械学習で交通手段を推定します。\n",
    "\n",
    "ここは、一般に公開されているGPS軌跡データセットである[Geolife](https://www.microsoft.com/en-us/research/publication/geolife-gps-trajectory-dataset-user-guide/)を使用します。Geolifeデータセットは、182人のユーザーから5年以上（2007年4月から2012年8月まで）にわたって北京やその他の地域で収集したGPS軌跡データで構成されています。このデータセットのGPS軌跡は、タイムスタンプを押した点の列で表され、各点には緯度、経度、高度の情報が含まれています。\n",
    "\n",
    "このデータセットは比較的大きいので、今回と以下のノートブックでは、ある1人のユーザーの軌跡データのみを使用します。"
   ]
  },
  {
   "attachments": {},
   "cell_type": "markdown",
   "metadata": {
    "colab": {
     "base_uri": "https://localhost:8080/"
    },
    "executionInfo": {
     "elapsed": 6423,
     "status": "ok",
     "timestamp": 1684712985399,
     "user": {
      "displayName": "Yuya Shibuya",
      "userId": "13278923316285788453"
     },
     "user_tz": -540
    },
    "id": "2vBg4-XyDOeH",
    "outputId": "33ead73b-79e0-4a0e-8831-088f310e13ab"
   },
   "source": [
    "もしも`geopandas`のインストールが済んでいない場合は、TerminalnなどCLIを開いて、`pip install geopandas`で`geopandas`をインストールしておいてください"
   ]
  },
  {
   "cell_type": "code",
   "execution_count": 1,
   "metadata": {
    "executionInfo": {
     "elapsed": 1551,
     "status": "ok",
     "timestamp": 1684712986944,
     "user": {
      "displayName": "Yuya Shibuya",
      "userId": "13278923316285788453"
     },
     "user_tz": -540
    },
    "id": "WLegn05HlL8c"
   },
   "outputs": [],
   "source": [
    "# import necessary packages\n",
    "import geopandas as gpd\n",
    "import os\n",
    "import pandas as pd\n",
    "import numpy as np\n",
    "import shapely"
   ]
  },
  {
   "attachments": {},
   "cell_type": "markdown",
   "metadata": {
    "id": "4hxlJtGX1bfx"
   },
   "source": [
    "## データの読み込みとデータの準備\n",
    "\n",
    "データは、以下のリンクからZipファイルをダウンロード・解凍して、このノートブックと同じ場所へ保存してください。\n",
    "別の場所に保存した場合は、以下のセルでデータへのPATHを変更してから実行してください。\n",
    "\n",
    "ここでは、ある1人のユーザー（ユーザーコード：010）のみを使用することにします。"
   ]
  },
  {
   "cell_type": "code",
   "execution_count": 2,
   "metadata": {
    "executionInfo": {
     "elapsed": 4022,
     "status": "ok",
     "timestamp": 1684712992941,
     "user": {
      "displayName": "Yuya Shibuya",
      "userId": "13278923316285788453"
     },
     "user_tz": -540
    },
    "id": "hJ_a1TXFmPdy"
   },
   "outputs": [],
   "source": [
    "user = '010'\n",
    "# PLEASE REPLACE THE BELOW PATH IF NECESSARY \n",
    "path = f\"./Geolife Trajectories 1.3/Data/{user}/Trajectory\"\n",
    "\n",
    "# List all the files in the target path\n",
    "files = os.listdir(path)\n",
    "\n",
    "# Definine column names\n",
    "column_name = ['latitude','longitude','height','days_total','date','time']\n",
    "\n",
    "# Iterate through the files in the folder and read it individually.\n",
    "df_lst = []\n",
    "for f in files:\n",
    "    if f.endswith('plt'):\n",
    "        fpath = os.path.join(path, f)\n",
    "        df = pd.read_csv(fpath, skiprows=6, usecols=[0,1,3,4,5,6], names= column_name)\n",
    "        df = df.assign(record_dt = lambda x: pd.to_datetime(x['date'] + ' ' + x['time']), user = user)\n",
    "        df_lst.append(df)\n",
    "# Concat all read files into one DataFrame.\n",
    "traj_df = pd.concat(df_lst)"
   ]
  },
  {
   "cell_type": "code",
   "execution_count": 3,
   "metadata": {
    "colab": {
     "base_uri": "https://localhost:8080/",
     "height": 143
    },
    "executionInfo": {
     "elapsed": 28,
     "status": "ok",
     "timestamp": 1684712992953,
     "user": {
      "displayName": "Yuya Shibuya",
      "userId": "13278923316285788453"
     },
     "user_tz": -540
    },
    "id": "ISTYcFyomixp",
    "outputId": "b4185503-cb98-40aa-8f56-3ab66a86fac8"
   },
   "outputs": [
    {
     "data": {
      "text/html": [
       "<div>\n",
       "<style scoped>\n",
       "    .dataframe tbody tr th:only-of-type {\n",
       "        vertical-align: middle;\n",
       "    }\n",
       "\n",
       "    .dataframe tbody tr th {\n",
       "        vertical-align: top;\n",
       "    }\n",
       "\n",
       "    .dataframe thead th {\n",
       "        text-align: right;\n",
       "    }\n",
       "</style>\n",
       "<table border=\"1\" class=\"dataframe\">\n",
       "  <thead>\n",
       "    <tr style=\"text-align: right;\">\n",
       "      <th></th>\n",
       "      <th>latitude</th>\n",
       "      <th>longitude</th>\n",
       "      <th>height</th>\n",
       "      <th>days_total</th>\n",
       "      <th>date</th>\n",
       "      <th>time</th>\n",
       "      <th>record_dt</th>\n",
       "      <th>user</th>\n",
       "    </tr>\n",
       "  </thead>\n",
       "  <tbody>\n",
       "    <tr>\n",
       "      <th>0</th>\n",
       "      <td>39.138159</td>\n",
       "      <td>117.217108</td>\n",
       "      <td>-36</td>\n",
       "      <td>39805.961748</td>\n",
       "      <td>2008-12-23</td>\n",
       "      <td>23:04:55</td>\n",
       "      <td>2008-12-23 23:04:55</td>\n",
       "      <td>010</td>\n",
       "    </tr>\n",
       "    <tr>\n",
       "      <th>1</th>\n",
       "      <td>39.138196</td>\n",
       "      <td>117.217068</td>\n",
       "      <td>-72</td>\n",
       "      <td>39805.961759</td>\n",
       "      <td>2008-12-23</td>\n",
       "      <td>23:04:56</td>\n",
       "      <td>2008-12-23 23:04:56</td>\n",
       "      <td>010</td>\n",
       "    </tr>\n",
       "    <tr>\n",
       "      <th>2</th>\n",
       "      <td>39.138268</td>\n",
       "      <td>117.217034</td>\n",
       "      <td>-59</td>\n",
       "      <td>39805.961771</td>\n",
       "      <td>2008-12-23</td>\n",
       "      <td>23:04:57</td>\n",
       "      <td>2008-12-23 23:04:57</td>\n",
       "      <td>010</td>\n",
       "    </tr>\n",
       "  </tbody>\n",
       "</table>\n",
       "</div>"
      ],
      "text/plain": [
       "    latitude   longitude  height    days_total        date      time  \\\n",
       "0  39.138159  117.217108     -36  39805.961748  2008-12-23  23:04:55   \n",
       "1  39.138196  117.217068     -72  39805.961759  2008-12-23  23:04:56   \n",
       "2  39.138268  117.217034     -59  39805.961771  2008-12-23  23:04:57   \n",
       "\n",
       "            record_dt user  \n",
       "0 2008-12-23 23:04:55  010  \n",
       "1 2008-12-23 23:04:56  010  \n",
       "2 2008-12-23 23:04:57  010  "
      ]
     },
     "execution_count": 3,
     "metadata": {},
     "output_type": "execute_result"
    }
   ],
   "source": [
    "# Print out the head rows\n",
    "traj_df.head(3)"
   ]
  },
  {
   "cell_type": "code",
   "execution_count": 4,
   "metadata": {
    "colab": {
     "base_uri": "https://localhost:8080/"
    },
    "executionInfo": {
     "elapsed": 23,
     "status": "ok",
     "timestamp": 1684712992953,
     "user": {
      "displayName": "Yuya Shibuya",
      "userId": "13278923316285788453"
     },
     "user_tz": -540
    },
    "id": "DdM7Gw68rjiT",
    "outputId": "35b26416-7cf1-45a5-cb29-74a506e33667"
   },
   "outputs": [
    {
     "data": {
      "text/plain": [
       "(935576, 8)"
      ]
     },
     "execution_count": 4,
     "metadata": {},
     "output_type": "execute_result"
    }
   ],
   "source": [
    "# check lenght of rows and columns\n",
    "traj_df.shape"
   ]
  },
  {
   "cell_type": "code",
   "execution_count": 5,
   "metadata": {
    "executionInfo": {
     "elapsed": 452,
     "status": "ok",
     "timestamp": 1684712993387,
     "user": {
      "displayName": "Yuya Shibuya",
      "userId": "13278923316285788453"
     },
     "user_tz": -540
    },
    "id": "npg55qSWmlTF"
   },
   "outputs": [],
   "source": [
    "# import another data containing transport mode labels (ground truth)\n",
    "file_path = '/'.join(path.split('/')[:-1]) + \"/labels.txt\"\n",
    "trip_trans = pd.read_csv(file_path, sep=\"\\t\")\n",
    "# convert pandas datetime format (for ease of converting time to sec, and other formats)\n",
    "trip_trans['Start Time'] = pd.to_datetime(trip_trans['Start Time'])\n",
    "trip_trans['End Time'] = pd.to_datetime(trip_trans['End Time'])"
   ]
  },
  {
   "cell_type": "code",
   "execution_count": 6,
   "metadata": {
    "colab": {
     "base_uri": "https://localhost:8080/",
     "height": 143
    },
    "executionInfo": {
     "elapsed": 12,
     "status": "ok",
     "timestamp": 1684712993388,
     "user": {
      "displayName": "Yuya Shibuya",
      "userId": "13278923316285788453"
     },
     "user_tz": -540
    },
    "id": "Qodr1StAstqU",
    "outputId": "9fcdd41a-5b24-4df0-de12-6c25effc5d20"
   },
   "outputs": [
    {
     "data": {
      "text/html": [
       "<div>\n",
       "<style scoped>\n",
       "    .dataframe tbody tr th:only-of-type {\n",
       "        vertical-align: middle;\n",
       "    }\n",
       "\n",
       "    .dataframe tbody tr th {\n",
       "        vertical-align: top;\n",
       "    }\n",
       "\n",
       "    .dataframe thead th {\n",
       "        text-align: right;\n",
       "    }\n",
       "</style>\n",
       "<table border=\"1\" class=\"dataframe\">\n",
       "  <thead>\n",
       "    <tr style=\"text-align: right;\">\n",
       "      <th></th>\n",
       "      <th>Start Time</th>\n",
       "      <th>End Time</th>\n",
       "      <th>Transportation Mode</th>\n",
       "    </tr>\n",
       "  </thead>\n",
       "  <tbody>\n",
       "    <tr>\n",
       "      <th>0</th>\n",
       "      <td>2007-06-26 11:32:29</td>\n",
       "      <td>2007-06-26 11:40:29</td>\n",
       "      <td>bus</td>\n",
       "    </tr>\n",
       "    <tr>\n",
       "      <th>1</th>\n",
       "      <td>2008-03-28 14:52:54</td>\n",
       "      <td>2008-03-28 15:59:59</td>\n",
       "      <td>train</td>\n",
       "    </tr>\n",
       "    <tr>\n",
       "      <th>2</th>\n",
       "      <td>2008-03-28 16:00:00</td>\n",
       "      <td>2008-03-28 22:02:00</td>\n",
       "      <td>train</td>\n",
       "    </tr>\n",
       "  </tbody>\n",
       "</table>\n",
       "</div>"
      ],
      "text/plain": [
       "           Start Time            End Time Transportation Mode\n",
       "0 2007-06-26 11:32:29 2007-06-26 11:40:29                 bus\n",
       "1 2008-03-28 14:52:54 2008-03-28 15:59:59               train\n",
       "2 2008-03-28 16:00:00 2008-03-28 22:02:00               train"
      ]
     },
     "execution_count": 6,
     "metadata": {},
     "output_type": "execute_result"
    }
   ],
   "source": [
    "# print out the head rows\n",
    "trip_trans.head(3)"
   ]
  },
  {
   "cell_type": "code",
   "execution_count": 7,
   "metadata": {
    "executionInfo": {
     "elapsed": 9,
     "status": "ok",
     "timestamp": 1684712993388,
     "user": {
      "displayName": "Yuya Shibuya",
      "userId": "13278923316285788453"
     },
     "user_tz": -540
    },
    "id": "IquWY2iNt5xN"
   },
   "outputs": [],
   "source": [
    "def get_trans_trip(record_dt, ref_df=trip_trans):\n",
    "    \"\"\" function to provide transportation mode labels based on the record times\n",
    "    \"\"\"\n",
    "    time_fit = (record_dt >= ref_df['Start Time']) & (record_dt <= ref_df['End Time'])\n",
    "    nmatch = time_fit.sum()\n",
    "    if nmatch == 0:\n",
    "        t_idx = None\n",
    "    else:\n",
    "        if nmatch > 1:\n",
    "            print ('More than one mode match!')\n",
    "        t_idx = ref_df.loc[time_fit].iloc[0].name\n",
    "    return t_idx"
   ]
  },
  {
   "cell_type": "code",
   "execution_count": 8,
   "metadata": {
    "executionInfo": {
     "elapsed": 810747,
     "status": "ok",
     "timestamp": 1684713804126,
     "user": {
      "displayName": "Yuya Shibuya",
      "userId": "13278923316285788453"
     },
     "user_tz": -540
    },
    "id": "wWlVFJBWtI4O"
   },
   "outputs": [],
   "source": [
    "# map transportation mode to the trajectory dataframe\n",
    "traj_df['trans_trip'] = traj_df['record_dt'].map(get_trans_trip)\n",
    "# exclude the rows not holding any transportation mode information\n",
    "has_trip = ~(traj_df.trans_trip.isnull())\n",
    "# map transporation mode information\n",
    "traj_df['trans_mode'] = np.nan\n",
    "traj_df.loc[has_trip,'trans_mode'] = traj_df.loc[has_trip]['trans_trip'].apply(lambda x: trip_trans.loc[x,'Transportation Mode'])"
   ]
  },
  {
   "cell_type": "code",
   "execution_count": 9,
   "metadata": {
    "colab": {
     "base_uri": "https://localhost:8080/"
    },
    "executionInfo": {
     "elapsed": 425,
     "status": "ok",
     "timestamp": 1684713804546,
     "user": {
      "displayName": "Yuya Shibuya",
      "userId": "13278923316285788453"
     },
     "user_tz": -540
    },
    "id": "r_CiVn5hAb5c",
    "outputId": "e0e6737b-598b-4661-ea74-db947b997c39"
   },
   "outputs": [
    {
     "name": "stdout",
     "output_type": "stream",
     "text": [
      "N of rows with transportation mode information:\t534,140\n",
      "N of rows without transportation mode information:\t401,436\n"
     ]
    }
   ],
   "source": [
    "print(\"N of rows with transportation mode information:\\t{:,}\".format(\n",
    "    traj_df[~traj_df.trans_trip.isnull()].shape[0]))\n",
    "print(\"N of rows without transportation mode information:\\t{:,}\".format(\n",
    "    traj_df[traj_df.trans_trip.isnull()].shape[0]))"
   ]
  },
  {
   "cell_type": "code",
   "execution_count": 10,
   "metadata": {
    "executionInfo": {
     "elapsed": 9035,
     "status": "ok",
     "timestamp": 1684713813579,
     "user": {
      "displayName": "Yuya Shibuya",
      "userId": "13278923316285788453"
     },
     "user_tz": -540
    },
    "id": "lTZlPuH5LC2L"
   },
   "outputs": [],
   "source": [
    "# save files as csv\n",
    "# PLEASE REPLACE THE BELOW PATH TO YOUR OWN PATH\n",
    "traj_df.to_csv(f'./traj_{user}_labeled.csv')"
   ]
  },
  {
   "cell_type": "code",
   "execution_count": null,
   "metadata": {
    "executionInfo": {
     "elapsed": 22,
     "status": "ok",
     "timestamp": 1684713813580,
     "user": {
      "displayName": "Yuya Shibuya",
      "userId": "13278923316285788453"
     },
     "user_tz": -540
    },
    "id": "YittLm2P93Qx"
   },
   "outputs": [],
   "source": []
  }
 ],
 "metadata": {
  "colab": {
   "provenance": []
  },
  "kernelspec": {
   "display_name": "Python 3 (ipykernel)",
   "language": "python",
   "name": "python3"
  },
  "language_info": {
   "codemirror_mode": {
    "name": "ipython",
    "version": 3
   },
   "file_extension": ".py",
   "mimetype": "text/x-python",
   "name": "python",
   "nbconvert_exporter": "python",
   "pygments_lexer": "ipython3",
   "version": "3.8.16"
  }
 },
 "nbformat": 4,
 "nbformat_minor": 4
}
