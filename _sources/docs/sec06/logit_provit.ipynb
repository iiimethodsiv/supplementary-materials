{
 "cells": [
  {
   "attachments": {},
   "cell_type": "markdown",
   "id": "9440f443-a257-40ae-a0b0-592e0de9b76a",
   "metadata": {},
   "source": [
    "# 離散選択モデル\n",
    "\n",
    "ここまでの推定モデルでは連続変数が被説明変数になっていました。\n",
    "しかし、データの種類でみたように、離散変数や質的変数を被説明変数としたい場合もあると思います。\n",
    "例えば次のような例です。\n",
    "\n",
    "* 候補者を採用するかどうか\n",
    "* 労働市場に参入するかどうか\n",
    "* 顧客は商品を購入するか\n",
    "\n",
    "これらは、意思決定や選択、保有するかしないか、適用するかしないか、当てはまるか当てはまらないかのの2つの値しか取りません。\n",
    "0か1しかとらないと表現することができます。\n",
    "\n",
    "$$y=\\begin{cases}0, & \\text{if} & \\text{no}\\\\\n",
    "                    1, & \\text{if} & \\text{yes} \\\\\n",
    "                    \\end{cases}$$\n",
    "\n",
    "被説明変数$y$が2値の場合推定したいのは$y=1$となる確率です。\n",
    "\n",
    "$$p=pr[y=1|x]=F(x'\\beta)$$\n",
    "\n",
    "$F(x'\\beta)$は線形回帰、ロジット、プロビットのいずれかの関数の形をとります。\n",
    "ただし、2値しかとらない被説明変数の推定式を線型確率モデルで最小二乗法で推定すると、予測値が0より小さいあるいは1より大きな推定値を取ることがあり確率として解釈できないなどの問題があります。\n",
    "\n",
    "この問題に対処するためには線型モデルではなくて、非線形モデルであるプロビットモデル（Probit Model）とロジットモデル(probit Model)がよく用いられます。これは分布関数をもとに被説明変数と説明変数の非線形な関係を捉え、予測値が0から1の間の値をとり、よって被説明変数が１となる確率を予測することできるようになります。\n",
    "\n",
    "プロビットモデルは正規分布関数を用いていて、ロジットモデルはロジスティック分布関数を用いていますが、いずれの関数の形状も似ているため推定結果も近似することが多いです。\n",
    "\n",
    "プロビットモデルやロジットモデルの推定には最尤法（Maximum Likelihood: ML）が用いられます。\n",
    "最小二乗法では誤差の二乗和を最小化していましたが、最尤法は尤度（likelihood）を最大化します。\n",
    "尤度関数Lは、\n",
    "\n",
    "$$L=Pr(Y_1)\\times Pr(Y_2) \\times Pr(Y_3) \\times ...$$\n",
    "\n",
    "ただし、\n",
    "\n",
    "$$Pr(Y_i) = \\begin{cases} Pr(Y_i=1)=F(a+bX_i) & , & \\text{if} & Y_i =1 \\\\\n",
    "            Pr(Y_i=0)=1-Pr(Y_i=1)=1-F(a+bX_i) & , & \\text{if} & Y_i =0 \\end{cases}$$"
   ]
  },
  {
   "attachments": {},
   "cell_type": "markdown",
   "id": "93e7dc84-c0a5-46e0-913a-70514550e8ad",
   "metadata": {},
   "source": [
    "推定した係数の解釈は注意が必要です。\n",
    "\n",
    "* xの増加は、y=1の可能性を増加／減少させる（その結果の可能性を高くする／低くする）。言い換えれば、x の増加は 1 の結果をより可能性の高いものにしたり、低いものにしたりする。\n",
    "* ただし係数の符号は解釈できますが、大きさは解釈できません。モデルによって係数の尺度が異なるため、係数を用いて大きさを解釈することはできません。\n",
    "\n",
    "このため、プロビット・ロジットモデルによる推定に当たっては<b>限界効果（marginal effects）</b>も確認することがほとんどです。\n",
    "\n",
    "限界効用は説明変数$X$を１単位変化させた時の$y=1$の確率の変化を表します。\n",
    "プロビット・ロジットモデルの限界効果は、\n",
    "<!-- $\\frac{\\delta p}{\\delta x_j}=F'(x'\\beta)\\beta_j$ -->\n",
    "ロジットモデルの限界効果は、\n",
    "$\\frac{\\delta p}{\\delta x_j}= \\Lambda(x'\\beta)[1-\\Lambda(x'\\beta)]\\beta=\\frac{e^{x'\\beta}}{(1+e^{x'\\beta})^2}\\beta_j$\n",
    "プロビットモデルの限界効果は、$\\frac{\\delta p}{\\delta x_j} = \\phi(x'\\beta)\\beta_j$\n",
    "となります。\n",
    "限界効果は$x$に依存するので、特定の$x$の値（一般的には平均値）での限界効果を推定します。\n",
    "係数と限界効果は同じ符号となります。\n"
   ]
  },
  {
   "attachments": {},
   "cell_type": "markdown",
   "id": "5f6b9dd8-9364-4091-99ff-bc538faf9686",
   "metadata": {},
   "source": [
    "## 限界効果の推定\n",
    "* 平均値における限界効果(Marginal effects at the mean)\n",
    "\n",
    "    * 標本内の平均的な観測値（e.g., 平均的な人）の限界効果$\\frac{\\delta p}{\\delta x_j}=F'(\\bar{x}'\\beta)\\beta_j$を求めます。\n",
    "\n",
    "* 限界効果の平均値(Average marginal effects)\n",
    "    * 個々の限界効果の平均：　$\\frac{\\delta p}{\\delta x_j}=\\frac{\\sum{F'(x'\\beta)}}{n}\\beta_j$\n",
    "    * こちらの方が上の限界効果よりは良い\n",
    "    \n",
    "限界効果の解釈：\n",
    "* $x$が増加すると、$y=1$ となる確率が増加（減少）することを、パーセントで表した限界効果です。\n",
    "* ダミー変数の場合、限界効果は基準(ベース)（$x=0$）との比較で表します\n",
    "* 連続変数の場合、限界効果は$x$の1単位の変化で表します。 \n",
    "* 限界効果の符号と大きさの両方を解釈します。\n",
    "* プロビットモデルとロジットモデルでは、ほとんど同じ限界効果が得られます。"
   ]
  },
  {
   "attachments": {},
   "cell_type": "markdown",
   "id": "0b6636c1-d404-4c6a-b45a-a640dd3cbac6",
   "metadata": {},
   "source": [
    "## ロジットモデルにおけるオッズ比（Odds ratio）\n",
    "* オッズ比（odds ratio/relative risk）は、$p/(1-p)$で$y=0$となる確率に対する$y=1$となる確率を測定します\n",
    "\n",
    "$$p=\\frac{exp(x'\\beta)}{1+exp(x'\\beta)}$$\n",
    "$$\\frac{p}{1-p}=exp(x'\\beta)$$\n",
    "$$ln\\frac{p}{1-p}=x'\\beta$$\n",
    "* オッズ比が2であれば$y=1$である確率は$y=0$である確率の2倍と解釈できます。"
   ]
  },
  {
   "cell_type": "code",
   "execution_count": 156,
   "id": "f9a33e58-4594-4cb0-a3d2-d1f35c2db24a",
   "metadata": {},
   "outputs": [],
   "source": [
    "from scipy.stats import logistic, norm, chi2\n",
    "import numpy as np\n",
    "import matplotlib.pyplot as plt\n",
    "import pandas as pd\n",
    "import statsmodels.api as sm\n",
    "import statsmodels.formula.api as smf\n",
    "%matplotlib inline"
   ]
  },
  {
   "attachments": {},
   "cell_type": "markdown",
   "id": "7094c9f6-64d8-491d-87f5-b89926ad5874",
   "metadata": {},
   "source": [
    "## Logitモデル\n",
    "\n",
    "Logit modelはシグモイド関数\n",
    "\n",
    "$$P_i=\\frac{1}{1+e^{-(\\beta_1+\\beta_2 X_i)}}$$\n",
    "\n",
    "を仮定します。どんな形の関数か見てみましょう。"
   ]
  },
  {
   "cell_type": "code",
   "execution_count": 18,
   "id": "969c5634-273f-468d-9949-ecfde910af92",
   "metadata": {},
   "outputs": [
    {
     "data": {
      "image/png": "[encoded data removed]",
      "text/plain": [
       "<Figure size 640x480 with 1 Axes>"
      ]
     },
     "metadata": {},
     "output_type": "display_data"
    }
   ],
   "source": [
    "beta1, beta2 = 2, 3\n",
    "X = np.linspace(-3, 2)\n",
    "P = 1 / (1 + np.exp(-beta1-beta2*X))\n",
    "plt.hlines(xmin=-3, xmax=2, y = 0, color = 'red')\n",
    "plt.hlines(xmin=-3, xmax=2, y = 1, color = 'red')\n",
    "plt.plot(X, P, color='k')\n",
    "plt.title(r'$P = 1 / (1 + e^{-Z})$')\n",
    "plt.grid()\n",
    "plt.show()"
   ]
  },
  {
   "attachments": {},
   "cell_type": "markdown",
   "id": "71d8395a-2584-480a-becd-85fdd4570ca6",
   "metadata": {},
   "source": [
    "上の図で確認できるように$P_i$の値は0から1となり確率を扱いたい場合に便利です。"
   ]
  },
  {
   "attachments": {},
   "cell_type": "markdown",
   "id": "a2eafa21-6045-4f31-b094-6258f8befee4",
   "metadata": {},
   "source": [
    "以下、例として、ポルトガルの銀行が行った電話によるダイレクトマーケティングに関して、顧客がマーケティングの結果定期預金に申し込むかどうかを被説明変数とします。\n",
    "\n",
    "***データを次のリンクからダウンロードして、ZIPを解凍した後、`bank.csv`をこのJupyterNotebookと同じフォルダに移動させてください。***\n",
    "[https://archive.ics.uci.edu/ml/machine-learning-databases/00222/bank.zip](https://archive.ics.uci.edu/ml/machine-learning-databases/00222/bank.zip)から\n"
   ]
  },
  {
   "cell_type": "code",
   "execution_count": 140,
   "id": "2468930c-afec-48b3-be43-ca886de4d1af",
   "metadata": {},
   "outputs": [
    {
     "data": {
      "text/html": [
       "<div>\n",
       "<style scoped>\n",
       "    .dataframe tbody tr th:only-of-type {\n",
       "        vertical-align: middle;\n",
       "    }\n",
       "\n",
       "    .dataframe tbody tr th {\n",
       "        vertical-align: top;\n",
       "    }\n",
       "\n",
       "    .dataframe thead th {\n",
       "        text-align: right;\n",
       "    }\n",
       "</style>\n",
       "<table border=\"1\" class=\"dataframe\">\n",
       "  <thead>\n",
       "    <tr style=\"text-align: right;\">\n",
       "      <th></th>\n",
       "      <th>age</th>\n",
       "      <th>job</th>\n",
       "      <th>marital</th>\n",
       "      <th>education</th>\n",
       "      <th>default</th>\n",
       "      <th>balance</th>\n",
       "      <th>housing</th>\n",
       "      <th>loan</th>\n",
       "      <th>contact</th>\n",
       "      <th>day</th>\n",
       "      <th>month</th>\n",
       "      <th>duration</th>\n",
       "      <th>campaign</th>\n",
       "      <th>pdays</th>\n",
       "      <th>previous</th>\n",
       "      <th>poutcome</th>\n",
       "      <th>y</th>\n",
       "    </tr>\n",
       "  </thead>\n",
       "  <tbody>\n",
       "    <tr>\n",
       "      <th>0</th>\n",
       "      <td>30</td>\n",
       "      <td>unemployed</td>\n",
       "      <td>married</td>\n",
       "      <td>primary</td>\n",
       "      <td>no</td>\n",
       "      <td>1787</td>\n",
       "      <td>no</td>\n",
       "      <td>no</td>\n",
       "      <td>cellular</td>\n",
       "      <td>19</td>\n",
       "      <td>oct</td>\n",
       "      <td>79</td>\n",
       "      <td>1</td>\n",
       "      <td>-1</td>\n",
       "      <td>0</td>\n",
       "      <td>unknown</td>\n",
       "      <td>no</td>\n",
       "    </tr>\n",
       "    <tr>\n",
       "      <th>1</th>\n",
       "      <td>33</td>\n",
       "      <td>services</td>\n",
       "      <td>married</td>\n",
       "      <td>secondary</td>\n",
       "      <td>no</td>\n",
       "      <td>4789</td>\n",
       "      <td>yes</td>\n",
       "      <td>yes</td>\n",
       "      <td>cellular</td>\n",
       "      <td>11</td>\n",
       "      <td>may</td>\n",
       "      <td>220</td>\n",
       "      <td>1</td>\n",
       "      <td>339</td>\n",
       "      <td>4</td>\n",
       "      <td>failure</td>\n",
       "      <td>no</td>\n",
       "    </tr>\n",
       "    <tr>\n",
       "      <th>2</th>\n",
       "      <td>35</td>\n",
       "      <td>management</td>\n",
       "      <td>single</td>\n",
       "      <td>tertiary</td>\n",
       "      <td>no</td>\n",
       "      <td>1350</td>\n",
       "      <td>yes</td>\n",
       "      <td>no</td>\n",
       "      <td>cellular</td>\n",
       "      <td>16</td>\n",
       "      <td>apr</td>\n",
       "      <td>185</td>\n",
       "      <td>1</td>\n",
       "      <td>330</td>\n",
       "      <td>1</td>\n",
       "      <td>failure</td>\n",
       "      <td>no</td>\n",
       "    </tr>\n",
       "    <tr>\n",
       "      <th>3</th>\n",
       "      <td>30</td>\n",
       "      <td>management</td>\n",
       "      <td>married</td>\n",
       "      <td>tertiary</td>\n",
       "      <td>no</td>\n",
       "      <td>1476</td>\n",
       "      <td>yes</td>\n",
       "      <td>yes</td>\n",
       "      <td>unknown</td>\n",
       "      <td>3</td>\n",
       "      <td>jun</td>\n",
       "      <td>199</td>\n",
       "      <td>4</td>\n",
       "      <td>-1</td>\n",
       "      <td>0</td>\n",
       "      <td>unknown</td>\n",
       "      <td>no</td>\n",
       "    </tr>\n",
       "    <tr>\n",
       "      <th>4</th>\n",
       "      <td>59</td>\n",
       "      <td>blue-collar</td>\n",
       "      <td>married</td>\n",
       "      <td>secondary</td>\n",
       "      <td>no</td>\n",
       "      <td>0</td>\n",
       "      <td>yes</td>\n",
       "      <td>no</td>\n",
       "      <td>unknown</td>\n",
       "      <td>5</td>\n",
       "      <td>may</td>\n",
       "      <td>226</td>\n",
       "      <td>1</td>\n",
       "      <td>-1</td>\n",
       "      <td>0</td>\n",
       "      <td>unknown</td>\n",
       "      <td>no</td>\n",
       "    </tr>\n",
       "  </tbody>\n",
       "</table>\n",
       "</div>"
      ],
      "text/plain": [
       "   age          job  marital  education default  balance housing loan  \\\n",
       "0   30   unemployed  married    primary      no     1787      no   no   \n",
       "1   33     services  married  secondary      no     4789     yes  yes   \n",
       "2   35   management   single   tertiary      no     1350     yes   no   \n",
       "3   30   management  married   tertiary      no     1476     yes  yes   \n",
       "4   59  blue-collar  married  secondary      no        0     yes   no   \n",
       "\n",
       "    contact  day month  duration  campaign  pdays  previous poutcome   y  \n",
       "0  cellular   19   oct        79         1     -1         0  unknown  no  \n",
       "1  cellular   11   may       220         1    339         4  failure  no  \n",
       "2  cellular   16   apr       185         1    330         1  failure  no  \n",
       "3   unknown    3   jun       199         4     -1         0  unknown  no  \n",
       "4   unknown    5   may       226         1     -1         0  unknown  no  "
      ]
     },
     "execution_count": 140,
     "metadata": {},
     "output_type": "execute_result"
    }
   ],
   "source": [
    "bank = pd.read_csv('./bank.csv', index_col=None, sep=';')\n",
    "bank.head()"
   ]
  },
  {
   "cell_type": "code",
   "execution_count": 141,
   "id": "0aebdf8c-e0c6-4e16-bcda-d659172649af",
   "metadata": {},
   "outputs": [],
   "source": [
    "# `y`列のデータを`yes`であれば1、その他は0を持つダミー変数に変換します。\n",
    "y_dict = {'no':0, 'yes':1}\n",
    "bank.y = bank.y.map(y_dict)"
   ]
  },
  {
   "cell_type": "code",
   "execution_count": 142,
   "id": "86d7b963-3deb-4543-9ab4-bf8c455f503a",
   "metadata": {},
   "outputs": [
    {
     "name": "stderr",
     "output_type": "stream",
     "text": [
      "/var/folders/x2/7ss5kcb12n1gtlpc8p2mtjtw0000gn/T/ipykernel_79405/1523853054.py:2: FutureWarning: The default value of numeric_only in DataFrame.corr is deprecated. In a future version, it will default to False. Select only valid columns or specify the value of numeric_only to silence this warning.\n",
      "  bank.corr()\n"
     ]
    },
    {
     "data": {
      "text/html": [
       "<div>\n",
       "<style scoped>\n",
       "    .dataframe tbody tr th:only-of-type {\n",
       "        vertical-align: middle;\n",
       "    }\n",
       "\n",
       "    .dataframe tbody tr th {\n",
       "        vertical-align: top;\n",
       "    }\n",
       "\n",
       "    .dataframe thead th {\n",
       "        text-align: right;\n",
       "    }\n",
       "</style>\n",
       "<table border=\"1\" class=\"dataframe\">\n",
       "  <thead>\n",
       "    <tr style=\"text-align: right;\">\n",
       "      <th></th>\n",
       "      <th>age</th>\n",
       "      <th>balance</th>\n",
       "      <th>day</th>\n",
       "      <th>duration</th>\n",
       "      <th>campaign</th>\n",
       "      <th>pdays</th>\n",
       "      <th>previous</th>\n",
       "      <th>y</th>\n",
       "    </tr>\n",
       "  </thead>\n",
       "  <tbody>\n",
       "    <tr>\n",
       "      <th>age</th>\n",
       "      <td>1.000000</td>\n",
       "      <td>0.083820</td>\n",
       "      <td>-0.017853</td>\n",
       "      <td>-0.002367</td>\n",
       "      <td>-0.005148</td>\n",
       "      <td>-0.008894</td>\n",
       "      <td>-0.003511</td>\n",
       "      <td>0.045092</td>\n",
       "    </tr>\n",
       "    <tr>\n",
       "      <th>balance</th>\n",
       "      <td>0.083820</td>\n",
       "      <td>1.000000</td>\n",
       "      <td>-0.008677</td>\n",
       "      <td>-0.015950</td>\n",
       "      <td>-0.009976</td>\n",
       "      <td>0.009437</td>\n",
       "      <td>0.026196</td>\n",
       "      <td>0.017905</td>\n",
       "    </tr>\n",
       "    <tr>\n",
       "      <th>day</th>\n",
       "      <td>-0.017853</td>\n",
       "      <td>-0.008677</td>\n",
       "      <td>1.000000</td>\n",
       "      <td>-0.024629</td>\n",
       "      <td>0.160706</td>\n",
       "      <td>-0.094352</td>\n",
       "      <td>-0.059114</td>\n",
       "      <td>-0.011244</td>\n",
       "    </tr>\n",
       "    <tr>\n",
       "      <th>duration</th>\n",
       "      <td>-0.002367</td>\n",
       "      <td>-0.015950</td>\n",
       "      <td>-0.024629</td>\n",
       "      <td>1.000000</td>\n",
       "      <td>-0.068382</td>\n",
       "      <td>0.010380</td>\n",
       "      <td>0.018080</td>\n",
       "      <td>0.401118</td>\n",
       "    </tr>\n",
       "    <tr>\n",
       "      <th>campaign</th>\n",
       "      <td>-0.005148</td>\n",
       "      <td>-0.009976</td>\n",
       "      <td>0.160706</td>\n",
       "      <td>-0.068382</td>\n",
       "      <td>1.000000</td>\n",
       "      <td>-0.093137</td>\n",
       "      <td>-0.067833</td>\n",
       "      <td>-0.061147</td>\n",
       "    </tr>\n",
       "    <tr>\n",
       "      <th>pdays</th>\n",
       "      <td>-0.008894</td>\n",
       "      <td>0.009437</td>\n",
       "      <td>-0.094352</td>\n",
       "      <td>0.010380</td>\n",
       "      <td>-0.093137</td>\n",
       "      <td>1.000000</td>\n",
       "      <td>0.577562</td>\n",
       "      <td>0.104087</td>\n",
       "    </tr>\n",
       "    <tr>\n",
       "      <th>previous</th>\n",
       "      <td>-0.003511</td>\n",
       "      <td>0.026196</td>\n",
       "      <td>-0.059114</td>\n",
       "      <td>0.018080</td>\n",
       "      <td>-0.067833</td>\n",
       "      <td>0.577562</td>\n",
       "      <td>1.000000</td>\n",
       "      <td>0.116714</td>\n",
       "    </tr>\n",
       "    <tr>\n",
       "      <th>y</th>\n",
       "      <td>0.045092</td>\n",
       "      <td>0.017905</td>\n",
       "      <td>-0.011244</td>\n",
       "      <td>0.401118</td>\n",
       "      <td>-0.061147</td>\n",
       "      <td>0.104087</td>\n",
       "      <td>0.116714</td>\n",
       "      <td>1.000000</td>\n",
       "    </tr>\n",
       "  </tbody>\n",
       "</table>\n",
       "</div>"
      ],
      "text/plain": [
       "               age   balance       day  duration  campaign     pdays  \\\n",
       "age       1.000000  0.083820 -0.017853 -0.002367 -0.005148 -0.008894   \n",
       "balance   0.083820  1.000000 -0.008677 -0.015950 -0.009976  0.009437   \n",
       "day      -0.017853 -0.008677  1.000000 -0.024629  0.160706 -0.094352   \n",
       "duration -0.002367 -0.015950 -0.024629  1.000000 -0.068382  0.010380   \n",
       "campaign -0.005148 -0.009976  0.160706 -0.068382  1.000000 -0.093137   \n",
       "pdays    -0.008894  0.009437 -0.094352  0.010380 -0.093137  1.000000   \n",
       "previous -0.003511  0.026196 -0.059114  0.018080 -0.067833  0.577562   \n",
       "y         0.045092  0.017905 -0.011244  0.401118 -0.061147  0.104087   \n",
       "\n",
       "          previous         y  \n",
       "age      -0.003511  0.045092  \n",
       "balance   0.026196  0.017905  \n",
       "day      -0.059114 -0.011244  \n",
       "duration  0.018080  0.401118  \n",
       "campaign -0.067833 -0.061147  \n",
       "pdays     0.577562  0.104087  \n",
       "previous  1.000000  0.116714  \n",
       "y         0.116714  1.000000  "
      ]
     },
     "execution_count": 142,
     "metadata": {},
     "output_type": "execute_result"
    }
   ],
   "source": [
    "# 数値データの変数間の相関を確認\n",
    "bank.corr(numeric_only=True)"
   ]
  },
  {
   "attachments": {},
   "cell_type": "markdown",
   "id": "d77a3426-98a7-4184-a96c-c07dfe934137",
   "metadata": {},
   "source": [
    "各行に顧客ごとの属性などのデータが格納されていて、\n",
    "列`y`に顧客が定期預金に申し込んだかどうか（被説明変数）があります。\n",
    "\n",
    "その他の列のデータの詳細は[こちら](https://archive.ics.uci.edu/ml/datasets/bank+marketing#)をみてください。\n",
    "\n",
    "定期預金に申し込んだかどうかが、キャンペーン中の顧客へのコンタクト回数`campaign`や、キャンペーン前の顧客へのコンタクト数`previous`、顧客との最終コンタクトからの経過日`pdays`などでどれだけ説明できるかをみてみます。"
   ]
  },
  {
   "cell_type": "code",
   "execution_count": 148,
   "id": "79d359f7-803c-4744-bf5f-7fe329eb2ad7",
   "metadata": {},
   "outputs": [
    {
     "data": {
      "text/plain": [
       "management       969\n",
       "blue-collar      946\n",
       "technician       768\n",
       "admin.           478\n",
       "services         417\n",
       "retired          230\n",
       "self-employed    183\n",
       "entrepreneur     168\n",
       "unemployed       128\n",
       "housemaid        112\n",
       "student           84\n",
       "unknown           38\n",
       "Name: job, dtype: int64"
      ]
     },
     "execution_count": 148,
     "metadata": {},
     "output_type": "execute_result"
    }
   ],
   "source": [
    "bank.job.value_counts()"
   ]
  },
  {
   "attachments": {},
   "cell_type": "markdown",
   "id": "3169b129-d159-49c9-bb21-20ac2a8c97c6",
   "metadata": {},
   "source": [
    "`statsmodels`では`C()`でダミー変数を自動生成するので、`var`を`C(var)`とします。"
   ]
  },
  {
   "cell_type": "code",
   "execution_count": 150,
   "id": "6acfb286-e32b-46d7-a8e7-bca7919da876",
   "metadata": {},
   "outputs": [
    {
     "name": "stdout",
     "output_type": "stream",
     "text": [
      "                 Generalized Linear Model Regression Results                  \n",
      "==============================================================================\n",
      "Dep. Variable:                      y   No. Observations:                 4521\n",
      "Model:                            GLM   Df Residuals:                     4505\n",
      "Model Family:                Binomial   Df Model:                           15\n",
      "Link Function:                  Logit   Scale:                          1.0000\n",
      "Method:                          IRLS   Log-Likelihood:                -1278.6\n",
      "Date:                Wed, 05 Apr 2023   Deviance:                       2557.2\n",
      "Time:                        14:15:35   Pearson chi2:                 5.97e+03\n",
      "No. Iterations:                     6   Pseudo R-squ. (CS):             0.1385\n",
      "Covariance Type:            nonrobust                                         \n",
      "===========================================================================================\n",
      "                              coef    std err          z      P>|z|      [0.025      0.975]\n",
      "-------------------------------------------------------------------------------------------\n",
      "Intercept                  -3.2976      0.291    -11.316      0.000      -3.869      -2.726\n",
      "C(job)[T.blue-collar]      -0.8797      0.211     -4.161      0.000      -1.294      -0.465\n",
      "C(job)[T.entrepreneur]     -0.6181      0.345     -1.792      0.073      -1.294       0.058\n",
      "C(job)[T.housemaid]        -0.2348      0.363     -0.647      0.518      -0.946       0.477\n",
      "C(job)[T.management]        0.0720      0.188      0.382      0.702      -0.297       0.441\n",
      "C(job)[T.retired]           0.6651      0.267      2.491      0.013       0.142       1.189\n",
      "C(job)[T.self-employed]    -0.2304      0.313     -0.736      0.462      -0.844       0.383\n",
      "C(job)[T.services]         -0.4789      0.246     -1.945      0.052      -0.961       0.004\n",
      "C(job)[T.student]           0.9324      0.331      2.814      0.005       0.283       1.582\n",
      "C(job)[T.technician]       -0.1628      0.202     -0.805      0.421      -0.559       0.234\n",
      "C(job)[T.unemployed]       -0.5331      0.372     -1.435      0.151      -1.261       0.195\n",
      "C(job)[T.unknown]           0.6354      0.496      1.281      0.200      -0.337       1.607\n",
      "age                         0.0048      0.006      0.831      0.406      -0.006       0.016\n",
      "duration                    0.0038      0.000     20.827      0.000       0.003       0.004\n",
      "campaign                   -0.0874      0.026     -3.359      0.001      -0.138      -0.036\n",
      "pdays                       0.0029      0.000      6.631      0.000       0.002       0.004\n",
      "===========================================================================================\n"
     ]
    }
   ],
   "source": [
    "formula = 'y ~ 1 + age + duration + campaign + pdays + C(job)'\n",
    "logit_mod = sm.GLM.from_formula(formula, data = bank, family=sm.families.Binomial())\n",
    "logit_res = logit_mod.fit()\n",
    "print(logit_res.summary())"
   ]
  },
  {
   "attachments": {},
   "cell_type": "markdown",
   "id": "2adde0e2-2c31-42d2-beed-c0ff923a193f",
   "metadata": {},
   "source": [
    "結果を確認すると`C(job)`のうち、`admin.`が自動的にベースとして、式から外れていることがわかります。"
   ]
  },
  {
   "attachments": {},
   "cell_type": "markdown",
   "id": "fda561c8-5039-4883-89f0-3ab1fdde6e60",
   "metadata": {},
   "source": [
    "### 平均限界効果（Average Partial Effects）\n",
    "`statsmodels`では`get_margeff()`を使うことで平均限界効果求めることができます\n",
    "\n",
    "引数として`at='overall'`(default)を指定すると平均限界効果が、`at='mean'`を指定すると平均での限界効果を算出できます。\n",
    "デフォルトが`at='overall'`なので何も指定しないと平均限界効果になります。"
   ]
  },
  {
   "cell_type": "code",
   "execution_count": 158,
   "id": "abea297b-79f7-40b8-a848-5cfbaf6513fc",
   "metadata": {},
   "outputs": [
    {
     "name": "stdout",
     "output_type": "stream",
     "text": [
      "Optimization terminated successfully.\n",
      "         Current function value: 0.282812\n",
      "         Iterations 7\n",
      "        Logit Marginal Effects       \n",
      "=====================================\n",
      "Dep. Variable:                      y\n",
      "Method:                          dydx\n",
      "At:                           overall\n",
      "===========================================================================================\n",
      "                             dy/dx    std err          z      P>|z|      [0.025      0.975]\n",
      "-------------------------------------------------------------------------------------------\n",
      "C(job)[T.blue-collar]      -0.0708      0.017     -4.159      0.000      -0.104      -0.037\n",
      "C(job)[T.entrepreneur]     -0.0497      0.028     -1.792      0.073      -0.104       0.005\n",
      "C(job)[T.housemaid]        -0.0189      0.029     -0.647      0.518      -0.076       0.038\n",
      "C(job)[T.management]        0.0058      0.015      0.382      0.702      -0.024       0.035\n",
      "C(job)[T.retired]           0.0535      0.021      2.491      0.013       0.011       0.096\n",
      "C(job)[T.self-employed]    -0.0185      0.025     -0.736      0.462      -0.068       0.031\n",
      "C(job)[T.services]         -0.0385      0.020     -1.945      0.052      -0.077       0.000\n",
      "C(job)[T.student]           0.0750      0.027      2.815      0.005       0.023       0.127\n",
      "C(job)[T.technician]       -0.0131      0.016     -0.805      0.421      -0.045       0.019\n",
      "C(job)[T.unemployed]       -0.0429      0.030     -1.435      0.151      -0.101       0.016\n",
      "C(job)[T.unknown]           0.0511      0.040      1.281      0.200      -0.027       0.129\n",
      "age                         0.0004      0.000      0.831      0.406      -0.001       0.001\n",
      "duration                    0.0003   1.35e-05     22.407      0.000       0.000       0.000\n",
      "campaign                   -0.0070      0.002     -3.352      0.001      -0.011      -0.003\n",
      "pdays                       0.0002   3.46e-05      6.649      0.000       0.000       0.000\n",
      "===========================================================================================\n"
     ]
    }
   ],
   "source": [
    "formula = 'y ~ 1 + age + duration + campaign + pdays + C(job)'\n",
    "logit_mod = smf.logit(formula, data= bank)\n",
    "logit_res = logit_mod.fit()\n",
    "print(logit_res.get_margeff(at='overall').summary())"
   ]
  },
  {
   "attachments": {},
   "cell_type": "markdown",
   "id": "58d3f4d6",
   "metadata": {},
   "source": [
    "### オッズ比（Odds Ratio）\n",
    "\n",
    "続いてオッズ比も求めましょう。"
   ]
  },
  {
   "cell_type": "code",
   "execution_count": 159,
   "id": "289d74df-86f5-4294-8a2f-ccf959e1aef3",
   "metadata": {},
   "outputs": [
    {
     "name": "stdout",
     "output_type": "stream",
     "text": [
      "                               5%       95%  Odds Ratio\n",
      "Intercept                0.020886  0.065453    0.036973\n",
      "C(job)[T.blue-collar]    0.274134  0.627926    0.414892\n",
      "C(job)[T.entrepreneur]   0.274153  1.059587    0.538970\n",
      "C(job)[T.housemaid]      0.388218  1.610664    0.790752\n",
      "C(job)[T.management]     0.743142  1.553980    1.074629\n",
      "C(job)[T.retired]        1.152212  3.282224    1.944690\n",
      "C(job)[T.self-employed]  0.430151  1.466488    0.794236\n",
      "C(job)[T.services]       0.382347  1.003625    0.619462\n",
      "C(job)[T.student]        1.326953  4.864616    2.540692\n",
      "C(job)[T.technician]     0.571728  1.263080    0.849787\n",
      "C(job)[T.unemployed]     0.283287  1.215402    0.586777\n",
      "C(job)[T.unknown]        0.714213  4.989650    1.887769\n",
      "age                      0.993554  1.016117    1.004772\n",
      "duration                 1.003421  1.004133    1.003777\n",
      "campaign                 0.870762  0.964264    0.916321\n",
      "pdays                    1.002018  1.003715    1.002866\n"
     ]
    }
   ],
   "source": [
    "\n",
    "params = logit_res.params\n",
    "conf = logit_res.conf_int()\n",
    "conf['Odds Ratio'] = params\n",
    "conf.columns = ['2.5%', '97.5%', 'Odds Ratio']\n",
    "conf = np.exp(conf)\n",
    "# interceptを除外します\n",
    "conf = conf.drop('Intercept')\n",
    "print(conf)"
   ]
  },
  {
   "attachments": {},
   "cell_type": "markdown",
   "id": "470622a4",
   "metadata": {},
   "source": [
    "わかりやすさのためオッズ比を可視化します。"
   ]
  },
  {
   "cell_type": "code",
   "execution_count": null,
   "id": "ea91ba7f",
   "metadata": {},
   "outputs": [],
   "source": [
    "fig, ax = plt.subplots(figsize=(3, 5))\n",
    "ax.hlines(y=conf.index, xmin=conf['2.5%'], xmax=conf['97.5%'], color = 'grey')\n",
    "ax.scatter(x=conf['Odds Ratio'], y=conf.index, marker='o', edgecolors='b', color='None', s=5)\n",
    "# 1以上か以下をわかりやすくするため1のラインを引きます\n",
    "ax.vlines(x=1, ymin=0, ymax=len(conf), color='r', linestyles='--')\n",
    "ax.set_xlabel('Odds Ratio')\n",
    "plt.show()"
   ]
  },
  {
   "attachments": {},
   "cell_type": "markdown",
   "id": "0ff82c57-0d9b-45d5-afd4-7001bd0257b8",
   "metadata": {},
   "source": [
    "## プロビットモデル（Probit model）\n",
    "\n",
    "プロビットモデルはロジットモデルとよく似ています。Pythonではロジットモデルと同様に`statsmodels`などで求めることができます。\n"
   ]
  },
  {
   "cell_type": "code",
   "execution_count": null,
   "id": "789ae835",
   "metadata": {},
   "outputs": [],
   "source": [
    "formula = 'y ~ age + duration + campaign + pdays + C(job)'\n",
    "probit_mod = sm.Probit.from_formula(formula=formula, data=bank)\n",
    "probit_res = probit_mod.fit()\n",
    "print(probit_res.summary())"
   ]
  },
  {
   "attachments": {},
   "cell_type": "markdown",
   "id": "5df287cf",
   "metadata": {},
   "source": [
    "得られた結果をロジットモデルと比べてみましょう。\n",
    "\n",
    "限界効果を推定します。"
   ]
  },
  {
   "cell_type": "code",
   "execution_count": null,
   "id": "b04a0463",
   "metadata": {},
   "outputs": [],
   "source": [
    "probit_margeff = probit_res.get_margeff('overall')\n",
    "print(probit_margeff.summary())"
   ]
  }
 ],
 "metadata": {
  "kernelspec": {
   "display_name": "Python 3 (ipykernel)",
   "language": "python",
   "name": "python3"
  },
  "language_info": {
   "codemirror_mode": {
    "name": "ipython",
    "version": 3
   },
   "file_extension": ".py",
   "mimetype": "text/x-python",
   "name": "python",
   "nbconvert_exporter": "python",
   "pygments_lexer": "ipython3",
   "version": "3.8.16"
  }
 },
 "nbformat": 4,
 "nbformat_minor": 5
}
