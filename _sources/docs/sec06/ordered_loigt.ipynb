{
 "cells": [
  {
   "attachments": {},
   "cell_type": "markdown",
   "metadata": {},
   "source": [
    "# 順序ロジットモデル\n",
    "\n",
    "前節までのロジットモデルやプロビットモデルでは被説明変数が2つの値から1つを選ぶケースを扱っていました。ここでは、被説明変数が3つ以上の値から一つを選ぶ離散選択モデルを扱います。具体的には、順序ロジットモデル（orderd logit model、本頁）と多項ロジットモデル（multinomial logit model、次頁）を取り上げます。\n",
    "\n",
    "**順序ロジットモデル（ordered logt model）**\n",
    "順序ロジットモデルは、被説明変数が取りうる値が3つ以上、かつ、それらに何らかの順序がある場合に適用します。\n",
    "\n",
    "\n",
    "```{note}\n",
    "順序ロジスティック回帰で扱う例としては、「優れている、どちらとも言えない、劣っている」の中から1つを選ぶ場合や、公共交通機関を利用する頻度が「ほぼ毎日、週5日程度、週２-3日程度、週1日程度、ほぼない」から1つを選ぶ場合などが該当します。\n",
    "\n",
    "<b>例1</b>：ある研究で、個々人がスマートフォンで位置情報を取得されることについてどのような意識を持っているかを調べています。個々人位置情報が収集されることに抵抗があるかどうか「とても当てはまる」、「どちらかというと当てはまる」、「どちらでもない」、「どちらかというと当てはまらない」、「全く当てはまらない」という5つの選択肢から選んでもらうことにしました。どのような属性（学歴・就業状況・年齢など）を持つ人ほど、その意識に当てはまりやすいのかを推定します。ここで、分析に当たっては5つの選択肢の間の「距離」が等しくないと考えます。\n",
    "```\n",
    "\n",
    "-----\n",
    "\n",
    "ここでは、UCLAのページ(https://stats.oarc.ucla.edu/r/dae/ordinal-logistic-regression/)で公開されている順序ロジスティック回帰の説明を参考にPythonで分析をしてみましょう。\n",
    "\n",
    "分析例として扱うのは、大学院への進学の意思決定与える影響要因の調査です。大学3年生に、大学院に出願する可能性は低いか、やや高いか、非常に高いかを尋ねたサンプルデータを用います。この例では、被説明変数変数には3つのカテゴリーがあり、説明変数としては親の教育状況、学部が公立か私立か、現在のGPAに関するデータなどがあります。"
   ]
  },
  {
   "cell_type": "code",
   "execution_count": null,
   "metadata": {},
   "outputs": [],
   "source": [
    "import numpy as np\n",
    "import matplotlib.pyplot as plt\n",
    "import pandas as pd\n",
    "from statsmodels.miscmodels.ordinal_model import OrderedModel\n",
    "\n",
    "%matplotlib inline"
   ]
  },
  {
   "attachments": {},
   "cell_type": "markdown",
   "metadata": {},
   "source": [
    "まずはデータをダウンロードして最初の３行を表示させてみましょう。"
   ]
  },
  {
   "cell_type": "code",
   "execution_count": null,
   "metadata": {},
   "outputs": [],
   "source": [
    "url = \"https://stats.idre.ucla.edu/stat/data/ologit.dta\"\n",
    "data_student = pd.read_stata(url)"
   ]
  },
  {
   "cell_type": "code",
   "execution_count": null,
   "metadata": {},
   "outputs": [],
   "source": [
    "data_student.head(3)"
   ]
  },
  {
   "attachments": {},
   "cell_type": "markdown",
   "metadata": {},
   "source": [
    "各行に調査に回答した大学生のデータが収録されています。`apply`列に、大学院への進学について「可能性が低い」「やや高い」「非常に高い」という回答結果が入っています。また、以下の変数が確認できます。\n",
    "* `pared`: 少なくとも片方の親が大学院の学位を持っているかどうかを示す0/1の変数\n",
    "* `public`: 学部が公立であれば1、私立であれば0とするダミー変数\n",
    "* `gpa`: 学生の成績平均で0から4の間の値をとる\n",
    "\n",
    "以下、`pared`, `public`, `gpa`を説明変数、`apply`を被説明変数とする順序ロジットモデルを考えます。"
   ]
  },
  {
   "cell_type": "code",
   "execution_count": null,
   "metadata": {},
   "outputs": [],
   "source": [
    "data_student.dtypes"
   ]
  },
  {
   "attachments": {},
   "cell_type": "markdown",
   "metadata": {},
   "source": [
    "`pared`が`category`というタイプとなっていることがわかります。\n",
    "\n",
    "```{seealso}\n",
    "`pandas`でのカテゴリ変数の扱いについては次のページを確認してください。\n",
    "https://pandas.pydata.org/docs/user_guide/categorical.html\n",
    "```"
   ]
  },
  {
   "attachments": {},
   "cell_type": "markdown",
   "metadata": {},
   "source": [
    "被説明変数`apply`の3つのカテゴリごとにGPAの値が`gpa`どのように分布しているのかを確認します"
   ]
  },
  {
   "cell_type": "code",
   "execution_count": null,
   "metadata": {},
   "outputs": [],
   "source": [
    "fontsize = 10\n",
    "fig, ax = plt.subplots(figsize=(5,3))\n",
    "target_cat = data_student['apply'].unique()\n",
    "data = [data_student.loc[data_student['apply'].isin([x]),'gpa'] for x in target_cat]\n",
    "ax.boxplot(data, \n",
    "            labels = target_cat,\n",
    "            meanprops = {\"marker\": \"^\",\n",
    "             \"markerfacecolor\": \"red\",\n",
    "             \"markeredgecolor\": \"red\",\n",
    "             \"markersize\": \"8\"},\n",
    "            showmeans=True)\n",
    "ax.set_title('Box plot of average GPA', fontsize=fontsize)\n",
    "ax.set_xticklabels(ax.get_xticklabels(), fontsize=fontsize)\n",
    "ax.grid()\n",
    "plt.show()"
   ]
  },
  {
   "attachments": {},
   "cell_type": "markdown",
   "metadata": {},
   "source": [
    "ヒストグラムでも同じデータを可視化で確認してみます"
   ]
  },
  {
   "cell_type": "code",
   "execution_count": null,
   "metadata": {},
   "outputs": [],
   "source": [
    "fontsize = 10\n",
    "fig, ax = plt.subplots(figsize=(5,3))\n",
    "ax.hist(data, label=target_cat, alpha = 0.9, color = ['#fdae61','#abdda4','#2b83ba'])\n",
    "ax.legend(frameon=False, fontsize=fontsize)\n",
    "ax.set_title(\"Histogram of average GPA\", fontsize=fontsize)\n",
    "plt.show()"
   ]
  },
  {
   "attachments": {},
   "cell_type": "markdown",
   "metadata": {},
   "source": [
    "少なくとも片方の親が大学院の学位を持っているかどうか`pared`と学部が公立であるかどうか`public`によって、大学院への進学意思はどのように変わるのかも平均値と標準偏差から概観します・"
   ]
  },
  {
   "cell_type": "code",
   "execution_count": null,
   "metadata": {},
   "outputs": [],
   "source": [
    "data_student.groupby(['apply'])[['public','pared']].agg(['mean', 'std'])"
   ]
  },
  {
   "attachments": {},
   "cell_type": "markdown",
   "metadata": {},
   "source": [
    "$Y_i^*$は潜在変数で、観測された順序変数$Y$が何に等しいかを決定します。潜在変数$Y^*$はいくつかの閾値$m_j$を持っていて、観測された変数$Y$の値は、特定の閾値を超えたかどうかに依存します。例えば、$j=5$では、順序ロジットモデルは以下のような式となります。\n",
    "\n",
    " $$Y_i = \\begin{cases}\n",
    "        5 & \\text{if} & m_5<Y_i^*\\\\\n",
    "        4 & \\text{if} & m_4<Y_i^*\\leq m_5\\\\\n",
    "        3 & \\text{if} & m_3<Y_i^*\\leq m_4 & \\text{where } & Y^*_i=a+bX_i+u_i\\\\\n",
    "        2 & \\text{if} & m_2<Y_i^*\\leq m_3\\\\\n",
    "        1 & \\text{if} & Y_i^* \\leq m_2\\\\\n",
    "        \\end{cases}$$\n",
    "\n",
    "$m_j$はカットオフ（cut-off）と呼ばれ、m_jより大きいか小さかでYが特定の値を取る確率を求めます。\n",
    "\n",
    "`statsmodels`を用いて推定します。\n",
    " "
   ]
  },
  {
   "cell_type": "code",
   "execution_count": null,
   "metadata": {},
   "outputs": [],
   "source": [
    "mod_logit = OrderedModel(data_student['apply'],\n",
    "                        data_student[['pared', 'public', 'gpa']],\n",
    "                        distr='logit')\n",
    "\n",
    "res_logit = mod_logit.fit(method='bfgs')\n",
    "print(res_logit.summary())"
   ]
  },
  {
   "attachments": {},
   "cell_type": "markdown",
   "metadata": {},
   "source": [
    "上の結果で「unlikely/somewhat likely」と「somewhat likely/very likely」はカットポイントと呼ばれる切片で、3つのグループを生成するために潜在変数がどこで切断されるかを示しています。一般的にこれらの結果は結果の解釈に用いません。"
   ]
  },
  {
   "attachments": {},
   "cell_type": "markdown",
   "metadata": {},
   "source": [
    "オッズ比も求めます。"
   ]
  },
  {
   "cell_type": "code",
   "execution_count": null,
   "metadata": {},
   "outputs": [],
   "source": [
    "params = res_logit.params\n",
    "conf = res_logit.conf_int()\n",
    "conf['Odds Ratio'] = params\n",
    "conf.columns = ['2.5%', '97.5%', 'Odds Ratio']\n",
    "print(np.exp(conf))"
   ]
  },
  {
   "attachments": {},
   "cell_type": "markdown",
   "metadata": {},
   "source": [
    "Formulaを書く方法でもOKです。"
   ]
  },
  {
   "cell_type": "code",
   "execution_count": null,
   "metadata": {},
   "outputs": [],
   "source": [
    "modf_logit = OrderedModel.from_formula(\"apply ~ 1 + pared + public + gpa\", data_student,\n",
    "                                      distr='logit')\n",
    "resf_logit = modf_logit.fit(method='bfgs')\n",
    "print(resf_logit.summary())"
   ]
  }
 ],
 "metadata": {
  "language_info": {
   "name": "python"
  },
  "orig_nbformat": 4
 },
 "nbformat": 4,
 "nbformat_minor": 2
}
